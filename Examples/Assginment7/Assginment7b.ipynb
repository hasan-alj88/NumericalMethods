{
 "cells": [
  {
   "metadata": {},
   "cell_type": "markdown",
   "source": [
    "# 25.1\n",
    "Solve the following initial value problem over interval form $t \\in [0,2]$ where $y(0)=0$\n",
    "\n",
    "$$ \\frac{dy}{dt} = yt^2 - 1.1y $$\n",
    "\n",
    "- Analytically\n",
    "- Euler method with h=0.5 and 0.25\n",
    "- Midpoint method with h=0.5\n",
    "- 4th order RK method with h=0.5"
   ],
   "id": "b7ad83781748d036"
  },
  {
   "metadata": {
    "ExecuteTime": {
     "end_time": "2025-05-09T07:59:24.162515Z",
     "start_time": "2025-05-09T07:59:23.395417Z"
    }
   },
   "cell_type": "code",
   "source": [
    "import numpy as np\n",
    "import pandas as pd\n",
    "\n",
    "from ODE.RungeKutta.RKEulerMethod import RKEulerMethod\n",
    "from ODE.RungeKutta.RKHeunMethod import RKHeunMethod\n",
    "from ODE.RungeKutta.RKMidpointMethod import RKMidpointMethod\n",
    "from ODE.RungeKutta.RKRalstonMethod import RKRalstonMethod\n",
    "from ODE.RungeKutta.RungeKutta4 import RungeKutta4\n",
    "from matplotlib import pyplot as plt\n",
    "\n",
    "q251_data = dict(\n",
    "    dy_dt = lambda y,t: y*t**2 - 1.1*y,\n",
    "    y0 = 1,\n",
    "    t_min = 0,\n",
    "    t_max = 2,\n",
    ")"
   ],
   "id": "50c4f78e02d1da7e",
   "outputs": [],
   "execution_count": 1
  },
  {
   "metadata": {},
   "cell_type": "markdown",
   "source": [
    "## Analytically\n",
    "\n",
    "$$ \\frac{dy}{dt} = yt^2 - 1.1y $$\n",
    "$$ \\frac{dy}{dt} = y(t^2 - 1.1) $$\n",
    "$$ \\frac{dy}{dt} \\frac{1}{y} = t^2 - 1.1 $$\n",
    "$$ \\int \\frac{1}{y} dy = \\int t^2 - 1.1 dt$$\n",
    "$$ \\ln y = \\frac{t^3}{3} - 1.1 t + C $$\n",
    "$$ y = e^{ \\frac{t^3}{3} - 1.1 t + C} $$\n",
    "$$ y = A e^{ \\frac{t^3}{3} - 1.1 t} $$\n",
    "$$ y(0) = 1 = A e^0 \\implies A=1 $$\n",
    "$$ y(t) = e^{ \\frac{t^3}{3} - 1.1 t} $$"
   ],
   "id": "e114d30cb0f7927"
  },
  {
   "metadata": {
    "ExecuteTime": {
     "end_time": "2025-05-09T07:59:24.170117Z",
     "start_time": "2025-05-09T07:59:24.166060Z"
    }
   },
   "cell_type": "code",
   "source": [
    "ans251_y = lambda t: np.exp(t**3/3 - 1.1*t)\n",
    "\n",
    "ans251_a = pd.DataFrame(\n",
    "    data=dict(\n",
    "        t=np.linspace(q251_data.get('t_min'), q251_data.get('t_max'), 100),\n",
    "    )\n",
    ")\n",
    "ans251_a['y'] = ans251_y(ans251_a['t'])"
   ],
   "id": "28f6bc07bc527478",
   "outputs": [],
   "execution_count": 2
  },
  {
   "metadata": {},
   "cell_type": "markdown",
   "source": "## Euler method with h=0.5 and 0.25",
   "id": "aa653270ebb09c91"
  },
  {
   "cell_type": "code",
   "id": "initial_id",
   "metadata": {
    "collapsed": true,
    "ExecuteTime": {
     "end_time": "2025-05-09T07:59:24.258998Z",
     "start_time": "2025-05-09T07:59:24.248985Z"
    }
   },
   "source": [
    "solver_251b_1 = RKEulerMethod(\n",
    "    derivative_function = q251_data.get('dy_dt'),\n",
    "    t0=q251_data.get('t_min'),\n",
    "    t_final=q251_data.get('t_max'),\n",
    "    y0=q251_data.get('y0'),\n",
    "    h=0.5,\n",
    ")\n",
    "ans251_b_1 = solver_251b_1.run()"
   ],
   "outputs": [
    {
     "name": "stdout",
     "output_type": "stream",
     "text": [
      "2025-05-09 10:59:24,250 - RKEulerMethod - INFO - Numerical.py:run:124 - Starting RKEulerMethod\n",
      "2025-05-09 10:59:24,251 - RKEulerMethod - INFO - Numerical.py:initialize:70 - Initial state:{'y': 1, 't': 0, 'dy_dt': -1.1}\n",
      "2025-05-09 10:59:24,252 - RKEulerMethod - INFO - Numerical.py:run:129 - Iteration 1 completed\n",
      "Stop condition [StopIfGreaterThan: Stop when 't' >= 1.5 for 1 iterations] NOT met: Variable t:0 < 1.5 (diff: -1.5)\n",
      "2025-05-09 10:59:24,252 - RKEulerMethod - INFO - Numerical.py:run:134 - State: \n",
      "{'t': 0.5, 'y': np.float64(0.44999999999999996), 'dy_dt': np.float64(-0.3825)}\n",
      "\n",
      "2025-05-09 10:59:24,254 - RKEulerMethod - INFO - Numerical.py:run:129 - Iteration 2 completed\n",
      "Stop condition [StopIfGreaterThan: Stop when 't' >= 1.5 for 1 iterations] NOT met: Variable t:0.5 < 1.5 (diff: -1)\n",
      "2025-05-09 10:59:24,254 - RKEulerMethod - INFO - Numerical.py:run:134 - State: \n",
      "{'t': 1.0, 'y': np.float64(0.2587499999999999), 'dy_dt': np.float64(-0.025875000000000037)}\n",
      "\n",
      "2025-05-09 10:59:24,255 - RKEulerMethod - INFO - Numerical.py:run:129 - Iteration 3 completed\n",
      "Stop condition [StopIfGreaterThan: Stop when 't' >= 1.5 for 1 iterations] NOT met: Variable t:1 < 1.5 (diff: -0.5)\n",
      "2025-05-09 10:59:24,255 - RKEulerMethod - INFO - Numerical.py:run:134 - State: \n",
      "{'t': 1.5, 'y': np.float64(0.2458124999999999), 'dy_dt': np.float64(0.2826843749999998)}\n",
      "\n",
      "2025-05-09 10:59:24,256 - RKEulerMethod - INFO - Numerical.py:run:129 - Stop condition [StopIfGreaterThan: Stop when 't' >= 1.5 for 1 iterations] MET    : Variable t:1.5 >= threshold 1.5 for 1 iterations\n",
      "2025-05-09 10:59:24,257 - RKEulerMethod - INFO - Numerical.py:run:134 - State: \n",
      "{'t': 2.0, 'y': np.float64(0.3871546874999998), 'dy_dt': np.float64(1.1227485937499995)}\n",
      "\n"
     ]
    }
   ],
   "execution_count": 3
  },
  {
   "metadata": {
    "ExecuteTime": {
     "end_time": "2025-05-09T07:59:24.305201Z",
     "start_time": "2025-05-09T07:59:24.296633Z"
    }
   },
   "cell_type": "code",
   "source": "ans251_b_1",
   "id": "dbfcbc9d8ca37212",
   "outputs": [
    {
     "data": {
      "text/plain": [
       "          y    t     dy_dt\n",
       "0  1.000000  0.0 -1.100000\n",
       "1  0.450000  0.5 -0.382500\n",
       "2  0.258750  1.0 -0.025875\n",
       "3  0.245812  1.5  0.282684\n",
       "4  0.387155  2.0  1.122749"
      ],
      "text/html": [
       "<div>\n",
       "<style scoped>\n",
       "    .dataframe tbody tr th:only-of-type {\n",
       "        vertical-align: middle;\n",
       "    }\n",
       "\n",
       "    .dataframe tbody tr th {\n",
       "        vertical-align: top;\n",
       "    }\n",
       "\n",
       "    .dataframe thead th {\n",
       "        text-align: right;\n",
       "    }\n",
       "</style>\n",
       "<table border=\"1\" class=\"dataframe\">\n",
       "  <thead>\n",
       "    <tr style=\"text-align: right;\">\n",
       "      <th></th>\n",
       "      <th>y</th>\n",
       "      <th>t</th>\n",
       "      <th>dy_dt</th>\n",
       "    </tr>\n",
       "  </thead>\n",
       "  <tbody>\n",
       "    <tr>\n",
       "      <th>0</th>\n",
       "      <td>1.000000</td>\n",
       "      <td>0.0</td>\n",
       "      <td>-1.100000</td>\n",
       "    </tr>\n",
       "    <tr>\n",
       "      <th>1</th>\n",
       "      <td>0.450000</td>\n",
       "      <td>0.5</td>\n",
       "      <td>-0.382500</td>\n",
       "    </tr>\n",
       "    <tr>\n",
       "      <th>2</th>\n",
       "      <td>0.258750</td>\n",
       "      <td>1.0</td>\n",
       "      <td>-0.025875</td>\n",
       "    </tr>\n",
       "    <tr>\n",
       "      <th>3</th>\n",
       "      <td>0.245812</td>\n",
       "      <td>1.5</td>\n",
       "      <td>0.282684</td>\n",
       "    </tr>\n",
       "    <tr>\n",
       "      <th>4</th>\n",
       "      <td>0.387155</td>\n",
       "      <td>2.0</td>\n",
       "      <td>1.122749</td>\n",
       "    </tr>\n",
       "  </tbody>\n",
       "</table>\n",
       "</div>"
      ]
     },
     "execution_count": 4,
     "metadata": {},
     "output_type": "execute_result"
    }
   ],
   "execution_count": 4
  },
  {
   "metadata": {
    "ExecuteTime": {
     "end_time": "2025-05-09T07:59:24.387749Z",
     "start_time": "2025-05-09T07:59:24.372580Z"
    }
   },
   "cell_type": "code",
   "source": [
    "## Euler method with h=0.5 and 0.25\n",
    "solver_251b_2 = RKEulerMethod(\n",
    "    derivative_function=q251_data.get('dy_dt'),\n",
    "    t0=q251_data.get('t_min'),\n",
    "    t_final=q251_data.get('t_max'),\n",
    "    y0=q251_data.get('y0'),\n",
    "    h=0.25,\n",
    ")\n",
    "ans251_b_2 = solver_251b_2.run()"
   ],
   "id": "6d6eed17ec3dfc54",
   "outputs": [
    {
     "name": "stdout",
     "output_type": "stream",
     "text": [
      "2025-05-09 10:59:24,374 - RKEulerMethod - INFO - Numerical.py:run:124 - Starting RKEulerMethod\n",
      "2025-05-09 10:59:24,375 - RKEulerMethod - INFO - Numerical.py:initialize:70 - Initial state:{'y': 1, 't': 0, 'dy_dt': -1.1}\n",
      "2025-05-09 10:59:24,376 - RKEulerMethod - INFO - Numerical.py:run:129 - Iteration 1 completed\n",
      "Stop condition [StopIfGreaterThan: Stop when 't' >= 1.75 for 1 iterations] NOT met: Variable t:0 < 1.75 (diff: -1.75)\n",
      "2025-05-09 10:59:24,376 - RKEulerMethod - INFO - Numerical.py:run:134 - State: \n",
      "{'t': 0.25, 'y': np.float64(0.725), 'dy_dt': np.float64(-0.7521875)}\n",
      "\n",
      "2025-05-09 10:59:24,377 - RKEulerMethod - INFO - Numerical.py:run:129 - Iteration 2 completed\n",
      "Stop condition [StopIfGreaterThan: Stop when 't' >= 1.75 for 1 iterations] NOT met: Variable t:0.25 < 1.75 (diff: -1.5)\n",
      "2025-05-09 10:59:24,377 - RKEulerMethod - INFO - Numerical.py:run:134 - State: \n",
      "{'t': 0.5, 'y': np.float64(0.5369531249999999), 'dy_dt': np.float64(-0.45641015625)}\n",
      "\n",
      "2025-05-09 10:59:24,378 - RKEulerMethod - INFO - Numerical.py:run:129 - Iteration 3 completed\n",
      "Stop condition [StopIfGreaterThan: Stop when 't' >= 1.75 for 1 iterations] NOT met: Variable t:0.5 < 1.75 (diff: -1.25)\n",
      "2025-05-09 10:59:24,379 - RKEulerMethod - INFO - Numerical.py:run:134 - State: \n",
      "{'t': 0.75, 'y': np.float64(0.4228505859374999), 'dy_dt': np.float64(-0.22728218994140625)}\n",
      "\n",
      "2025-05-09 10:59:24,380 - RKEulerMethod - INFO - Numerical.py:run:129 - Iteration 4 completed\n",
      "Stop condition [StopIfGreaterThan: Stop when 't' >= 1.75 for 1 iterations] NOT met: Variable t:0.75 < 1.75 (diff: -1)\n",
      "2025-05-09 10:59:24,380 - RKEulerMethod - INFO - Numerical.py:run:134 - State: \n",
      "{'t': 1.0, 'y': np.float64(0.3660300384521483), 'dy_dt': np.float64(-0.036603003845214865)}\n",
      "\n",
      "2025-05-09 10:59:24,381 - RKEulerMethod - INFO - Numerical.py:run:129 - Iteration 5 completed\n",
      "Stop condition [StopIfGreaterThan: Stop when 't' >= 1.75 for 1 iterations] NOT met: Variable t:1 < 1.75 (diff: -0.75)\n",
      "2025-05-09 10:59:24,381 - RKEulerMethod - INFO - Numerical.py:run:134 - State: \n",
      "{'t': 1.25, 'y': np.float64(0.35687928749084463), 'dy_dt': np.float64(0.1650566704645156)}\n",
      "\n",
      "2025-05-09 10:59:24,382 - RKEulerMethod - INFO - Numerical.py:run:129 - Iteration 6 completed\n",
      "Stop condition [StopIfGreaterThan: Stop when 't' >= 1.75 for 1 iterations] NOT met: Variable t:1.25 < 1.75 (diff: -0.5)\n",
      "2025-05-09 10:59:24,382 - RKEulerMethod - INFO - Numerical.py:run:134 - State: \n",
      "{'t': 1.5, 'y': np.float64(0.3981434551069735), 'dy_dt': np.float64(0.4578649733730195)}\n",
      "\n",
      "2025-05-09 10:59:24,383 - RKEulerMethod - INFO - Numerical.py:run:129 - Iteration 7 completed\n",
      "Stop condition [StopIfGreaterThan: Stop when 't' >= 1.75 for 1 iterations] NOT met: Variable t:1.5 < 1.75 (diff: -0.25)\n",
      "2025-05-09 10:59:24,384 - RKEulerMethod - INFO - Numerical.py:run:134 - State: \n",
      "{'t': 1.75, 'y': np.float64(0.5126096984502284), 'dy_dt': np.float64(1.005996533208573)}\n",
      "\n",
      "2025-05-09 10:59:24,385 - RKEulerMethod - INFO - Numerical.py:run:129 - Stop condition [StopIfGreaterThan: Stop when 't' >= 1.75 for 1 iterations] MET    : Variable t:1.75 >= threshold 1.75 for 1 iterations\n",
      "2025-05-09 10:59:24,386 - RKEulerMethod - INFO - Numerical.py:run:134 - State: \n",
      "{'t': 2.0, 'y': np.float64(0.7641088317523717), 'dy_dt': np.float64(2.2159156120818775)}\n",
      "\n"
     ]
    }
   ],
   "execution_count": 5
  },
  {
   "metadata": {
    "ExecuteTime": {
     "end_time": "2025-05-09T07:59:24.429496Z",
     "start_time": "2025-05-09T07:59:24.422419Z"
    }
   },
   "cell_type": "code",
   "source": "ans251_b_2",
   "id": "1e0503b69eac792c",
   "outputs": [
    {
     "data": {
      "text/plain": [
       "          y     t     dy_dt\n",
       "0  1.000000  0.00 -1.100000\n",
       "1  0.725000  0.25 -0.752188\n",
       "2  0.536953  0.50 -0.456410\n",
       "3  0.422851  0.75 -0.227282\n",
       "4  0.366030  1.00 -0.036603\n",
       "5  0.356879  1.25  0.165057\n",
       "6  0.398143  1.50  0.457865\n",
       "7  0.512610  1.75  1.005997\n",
       "8  0.764109  2.00  2.215916"
      ],
      "text/html": [
       "<div>\n",
       "<style scoped>\n",
       "    .dataframe tbody tr th:only-of-type {\n",
       "        vertical-align: middle;\n",
       "    }\n",
       "\n",
       "    .dataframe tbody tr th {\n",
       "        vertical-align: top;\n",
       "    }\n",
       "\n",
       "    .dataframe thead th {\n",
       "        text-align: right;\n",
       "    }\n",
       "</style>\n",
       "<table border=\"1\" class=\"dataframe\">\n",
       "  <thead>\n",
       "    <tr style=\"text-align: right;\">\n",
       "      <th></th>\n",
       "      <th>y</th>\n",
       "      <th>t</th>\n",
       "      <th>dy_dt</th>\n",
       "    </tr>\n",
       "  </thead>\n",
       "  <tbody>\n",
       "    <tr>\n",
       "      <th>0</th>\n",
       "      <td>1.000000</td>\n",
       "      <td>0.00</td>\n",
       "      <td>-1.100000</td>\n",
       "    </tr>\n",
       "    <tr>\n",
       "      <th>1</th>\n",
       "      <td>0.725000</td>\n",
       "      <td>0.25</td>\n",
       "      <td>-0.752188</td>\n",
       "    </tr>\n",
       "    <tr>\n",
       "      <th>2</th>\n",
       "      <td>0.536953</td>\n",
       "      <td>0.50</td>\n",
       "      <td>-0.456410</td>\n",
       "    </tr>\n",
       "    <tr>\n",
       "      <th>3</th>\n",
       "      <td>0.422851</td>\n",
       "      <td>0.75</td>\n",
       "      <td>-0.227282</td>\n",
       "    </tr>\n",
       "    <tr>\n",
       "      <th>4</th>\n",
       "      <td>0.366030</td>\n",
       "      <td>1.00</td>\n",
       "      <td>-0.036603</td>\n",
       "    </tr>\n",
       "    <tr>\n",
       "      <th>5</th>\n",
       "      <td>0.356879</td>\n",
       "      <td>1.25</td>\n",
       "      <td>0.165057</td>\n",
       "    </tr>\n",
       "    <tr>\n",
       "      <th>6</th>\n",
       "      <td>0.398143</td>\n",
       "      <td>1.50</td>\n",
       "      <td>0.457865</td>\n",
       "    </tr>\n",
       "    <tr>\n",
       "      <th>7</th>\n",
       "      <td>0.512610</td>\n",
       "      <td>1.75</td>\n",
       "      <td>1.005997</td>\n",
       "    </tr>\n",
       "    <tr>\n",
       "      <th>8</th>\n",
       "      <td>0.764109</td>\n",
       "      <td>2.00</td>\n",
       "      <td>2.215916</td>\n",
       "    </tr>\n",
       "  </tbody>\n",
       "</table>\n",
       "</div>"
      ]
     },
     "execution_count": 6,
     "metadata": {},
     "output_type": "execute_result"
    }
   ],
   "execution_count": 6
  },
  {
   "metadata": {},
   "cell_type": "markdown",
   "source": "## Midpoint method with h=0.5",
   "id": "664e0fedba230156"
  },
  {
   "metadata": {
    "ExecuteTime": {
     "end_time": "2025-05-09T07:59:24.542586Z",
     "start_time": "2025-05-09T07:59:24.507555Z"
    }
   },
   "cell_type": "code",
   "source": [
    "solver_251c = RKMidpointMethod(\n",
    "    derivative_function=q251_data.get('dy_dt'),\n",
    "    t0=q251_data.get('t_min'),\n",
    "    t_final=q251_data.get('t_max'),\n",
    "    y0=q251_data.get('y0'),\n",
    "    h=0.5,\n",
    ")\n",
    "ans251_c = solver_251c.run()"
   ],
   "id": "1c82acd6a80ba7b",
   "outputs": [
    {
     "name": "stdout",
     "output_type": "stream",
     "text": [
      "2025-05-09 10:59:24,509 - RKMidpointMethod - INFO - Numerical.py:run:124 - Starting RKMidpointMethod\n",
      "2025-05-09 10:59:24,510 - RKMidpointMethod - INFO - Numerical.py:initialize:70 - Initial state:{'y': 1, 't': 0, 'dy_dt': -1.1}\n",
      "2025-05-09 10:59:24,512 - RKMidpointMethod - INFO - Numerical.py:run:129 - Iteration 1 completed\n",
      "Stop condition [StopIfGreaterThan: Stop when 't' >= 1.5 for 1 iterations] NOT met: Variable t:0 < 1.5 (diff: -1.5)\n",
      "2025-05-09 10:59:24,533 - RKMidpointMethod - INFO - Numerical.py:run:134 - State: \n",
      "{'t': 0.5, 'y': np.float64(0.62390625), 'dy_dt': np.float64(-0.5303203125)}\n",
      "\n",
      "2025-05-09 10:59:24,534 - RKMidpointMethod - INFO - Numerical.py:run:129 - Iteration 2 completed\n",
      "Stop condition [StopIfGreaterThan: Stop when 't' >= 1.5 for 1 iterations] NOT met: Variable t:0.5 < 1.5 (diff: -1)\n",
      "2025-05-09 10:59:24,535 - RKMidpointMethod - INFO - Numerical.py:run:134 - State: \n",
      "{'t': 1.0, 'y': np.float64(0.49186234130859374), 'dy_dt': np.float64(-0.04918623413085943)}\n",
      "\n",
      "2025-05-09 10:59:24,536 - RKMidpointMethod - INFO - Numerical.py:run:129 - Iteration 3 completed\n",
      "Stop condition [StopIfGreaterThan: Stop when 't' >= 1.5 for 1 iterations] NOT met: Variable t:1 < 1.5 (diff: -0.5)\n",
      "2025-05-09 10:59:24,537 - RKMidpointMethod - INFO - Numerical.py:run:134 - State: \n",
      "{'t': 1.5, 'y': np.float64(0.6027619285755157), 'dy_dt': np.float64(0.6931762178618431)}\n",
      "\n",
      "2025-05-09 10:59:24,538 - RKMidpointMethod - INFO - Numerical.py:run:129 - Stop condition [StopIfGreaterThan: Stop when 't' >= 1.5 for 1 iterations] MET    : Variable t:1.5 >= threshold 1.5 for 1 iterations\n",
      "2025-05-09 10:59:24,539 - RKMidpointMethod - INFO - Numerical.py:run:134 - State: \n",
      "{'t': 2.0, 'y': np.float64(1.3642668619344738), 'dy_dt': np.float64(3.9563738996099738)}\n",
      "\n"
     ]
    }
   ],
   "execution_count": 7
  },
  {
   "metadata": {
    "ExecuteTime": {
     "end_time": "2025-05-09T07:59:24.668356Z",
     "start_time": "2025-05-09T07:59:24.662113Z"
    }
   },
   "cell_type": "code",
   "source": "ans251_c",
   "id": "8a78e9398c2ba9f3",
   "outputs": [
    {
     "data": {
      "text/plain": [
       "          y    t     dy_dt\n",
       "0  1.000000  0.0 -1.100000\n",
       "1  0.623906  0.5 -0.530320\n",
       "2  0.491862  1.0 -0.049186\n",
       "3  0.602762  1.5  0.693176\n",
       "4  1.364267  2.0  3.956374"
      ],
      "text/html": [
       "<div>\n",
       "<style scoped>\n",
       "    .dataframe tbody tr th:only-of-type {\n",
       "        vertical-align: middle;\n",
       "    }\n",
       "\n",
       "    .dataframe tbody tr th {\n",
       "        vertical-align: top;\n",
       "    }\n",
       "\n",
       "    .dataframe thead th {\n",
       "        text-align: right;\n",
       "    }\n",
       "</style>\n",
       "<table border=\"1\" class=\"dataframe\">\n",
       "  <thead>\n",
       "    <tr style=\"text-align: right;\">\n",
       "      <th></th>\n",
       "      <th>y</th>\n",
       "      <th>t</th>\n",
       "      <th>dy_dt</th>\n",
       "    </tr>\n",
       "  </thead>\n",
       "  <tbody>\n",
       "    <tr>\n",
       "      <th>0</th>\n",
       "      <td>1.000000</td>\n",
       "      <td>0.0</td>\n",
       "      <td>-1.100000</td>\n",
       "    </tr>\n",
       "    <tr>\n",
       "      <th>1</th>\n",
       "      <td>0.623906</td>\n",
       "      <td>0.5</td>\n",
       "      <td>-0.530320</td>\n",
       "    </tr>\n",
       "    <tr>\n",
       "      <th>2</th>\n",
       "      <td>0.491862</td>\n",
       "      <td>1.0</td>\n",
       "      <td>-0.049186</td>\n",
       "    </tr>\n",
       "    <tr>\n",
       "      <th>3</th>\n",
       "      <td>0.602762</td>\n",
       "      <td>1.5</td>\n",
       "      <td>0.693176</td>\n",
       "    </tr>\n",
       "    <tr>\n",
       "      <th>4</th>\n",
       "      <td>1.364267</td>\n",
       "      <td>2.0</td>\n",
       "      <td>3.956374</td>\n",
       "    </tr>\n",
       "  </tbody>\n",
       "</table>\n",
       "</div>"
      ]
     },
     "execution_count": 8,
     "metadata": {},
     "output_type": "execute_result"
    }
   ],
   "execution_count": 8
  },
  {
   "metadata": {},
   "cell_type": "markdown",
   "source": "## 4th order RK method with h=0.5",
   "id": "7e53e4daf02edf2f"
  },
  {
   "metadata": {
    "ExecuteTime": {
     "end_time": "2025-05-09T07:59:24.798088Z",
     "start_time": "2025-05-09T07:59:24.776669Z"
    }
   },
   "cell_type": "code",
   "source": [
    "solver_251d = RungeKutta4(\n",
    "    derivative_function=q251_data.get('dy_dt'),\n",
    "    t0=q251_data.get('t_min'),\n",
    "    t_final=q251_data.get('t_max'),\n",
    "    y0=q251_data.get('y0'),\n",
    "    h=0.5,\n",
    ")\n",
    "\n",
    "ans251_d = solver_251d.run()"
   ],
   "id": "df1ea1b8ac793ed5",
   "outputs": [
    {
     "name": "stdout",
     "output_type": "stream",
     "text": [
      "2025-05-09 10:59:24,779 - RungeKutta4 - INFO - Numerical.py:run:124 - Starting RungeKutta4\n",
      "2025-05-09 10:59:24,781 - RungeKutta4 - INFO - Numerical.py:initialize:70 - Initial state:{'y': 1, 't': 0, 'dy_dt': -1.1}\n",
      "2025-05-09 10:59:24,783 - RungeKutta4 - INFO - Numerical.py:run:129 - Iteration 1 completed\n",
      "Stop condition [StopIfGreaterThan: Stop when 't' >= 1.5 for 1 iterations] NOT met: Variable t:0 < 1.5 (diff: -1.5)\n",
      "2025-05-09 10:59:24,786 - RungeKutta4 - INFO - Numerical.py:run:134 - State: \n",
      "{'t': 0.5, 'y': 0.6015702372233073, 'dy_dt': -0.5113347016398112}\n",
      "\n",
      "2025-05-09 10:59:24,787 - RungeKutta4 - INFO - Numerical.py:run:129 - Iteration 2 completed\n",
      "Stop condition [StopIfGreaterThan: Stop when 't' >= 1.5 for 1 iterations] NOT met: Variable t:0.5 < 1.5 (diff: -1)\n",
      "2025-05-09 10:59:24,789 - RungeKutta4 - INFO - Numerical.py:run:134 - State: \n",
      "{'t': 1.0, 'y': 0.46452378509080733, 'dy_dt': -0.04645237850908074}\n",
      "\n",
      "2025-05-09 10:59:24,791 - RungeKutta4 - INFO - Numerical.py:run:129 - Iteration 3 completed\n",
      "Stop condition [StopIfGreaterThan: Stop when 't' >= 1.5 for 1 iterations] NOT met: Variable t:1 < 1.5 (diff: -0.5)\n",
      "2025-05-09 10:59:24,792 - RungeKutta4 - INFO - Numerical.py:run:134 - State: \n",
      "{'t': 1.5, 'y': 0.5913802795456276, 'dy_dt': 0.6800873214774716}\n",
      "\n",
      "2025-05-09 10:59:24,794 - RungeKutta4 - INFO - Numerical.py:run:129 - Stop condition [StopIfGreaterThan: Stop when 't' >= 1.5 for 1 iterations] MET    : Variable t:1.5 >= threshold 1.5 for 1 iterations\n",
      "2025-05-09 10:59:24,795 - RungeKutta4 - INFO - Numerical.py:run:134 - State: \n",
      "{'t': 2.0, 'y': 1.5844521043366455, 'dy_dt': 4.594911102576272}\n",
      "\n"
     ]
    }
   ],
   "execution_count": 9
  },
  {
   "metadata": {
    "ExecuteTime": {
     "end_time": "2025-05-09T07:59:24.898245Z",
     "start_time": "2025-05-09T07:59:24.892751Z"
    }
   },
   "cell_type": "code",
   "source": "ans251_d",
   "id": "9362ee06952780d4",
   "outputs": [
    {
     "data": {
      "text/plain": [
       "          y    t     dy_dt\n",
       "0  1.000000  0.0 -1.100000\n",
       "1  0.601570  0.5 -0.511335\n",
       "2  0.464524  1.0 -0.046452\n",
       "3  0.591380  1.5  0.680087\n",
       "4  1.584452  2.0  4.594911"
      ],
      "text/html": [
       "<div>\n",
       "<style scoped>\n",
       "    .dataframe tbody tr th:only-of-type {\n",
       "        vertical-align: middle;\n",
       "    }\n",
       "\n",
       "    .dataframe tbody tr th {\n",
       "        vertical-align: top;\n",
       "    }\n",
       "\n",
       "    .dataframe thead th {\n",
       "        text-align: right;\n",
       "    }\n",
       "</style>\n",
       "<table border=\"1\" class=\"dataframe\">\n",
       "  <thead>\n",
       "    <tr style=\"text-align: right;\">\n",
       "      <th></th>\n",
       "      <th>y</th>\n",
       "      <th>t</th>\n",
       "      <th>dy_dt</th>\n",
       "    </tr>\n",
       "  </thead>\n",
       "  <tbody>\n",
       "    <tr>\n",
       "      <th>0</th>\n",
       "      <td>1.000000</td>\n",
       "      <td>0.0</td>\n",
       "      <td>-1.100000</td>\n",
       "    </tr>\n",
       "    <tr>\n",
       "      <th>1</th>\n",
       "      <td>0.601570</td>\n",
       "      <td>0.5</td>\n",
       "      <td>-0.511335</td>\n",
       "    </tr>\n",
       "    <tr>\n",
       "      <th>2</th>\n",
       "      <td>0.464524</td>\n",
       "      <td>1.0</td>\n",
       "      <td>-0.046452</td>\n",
       "    </tr>\n",
       "    <tr>\n",
       "      <th>3</th>\n",
       "      <td>0.591380</td>\n",
       "      <td>1.5</td>\n",
       "      <td>0.680087</td>\n",
       "    </tr>\n",
       "    <tr>\n",
       "      <th>4</th>\n",
       "      <td>1.584452</td>\n",
       "      <td>2.0</td>\n",
       "      <td>4.594911</td>\n",
       "    </tr>\n",
       "  </tbody>\n",
       "</table>\n",
       "</div>"
      ]
     },
     "execution_count": 10,
     "metadata": {},
     "output_type": "execute_result"
    }
   ],
   "execution_count": 10
  },
  {
   "metadata": {},
   "cell_type": "markdown",
   "source": "## plot all togather",
   "id": "ec98631b3ba23a20"
  },
  {
   "metadata": {
    "ExecuteTime": {
     "end_time": "2025-05-09T07:59:26.026915Z",
     "start_time": "2025-05-09T07:59:25.039413Z"
    }
   },
   "cell_type": "code",
   "source": [
    "plt.figure(figsize=(10, 10))\n",
    "plt.plot(ans251_a['t'], ans251_a['y'], label='Analytical solution', color='black')\n",
    "\n",
    "plt.plot(ans251_b_1['t'], ans251_b_1['y'], label='Euler method h=0.5', color='blue', linestyle=':')\n",
    "plt.scatter(ans251_b_1['t'], ans251_b_1['y'], color='blue', marker='o')\n",
    "\n",
    "plt.plot(ans251_b_2['t'], ans251_b_2['y'], label='Euler method h=0.25', color='green', linestyle=':')\n",
    "plt.scatter(ans251_b_2['t'], ans251_b_2['y'], color='green', marker='o')\n",
    "\n",
    "plt.plot(ans251_c['t'], ans251_c['y'], label='Midpoint method h=0.5', color='orange', linestyle=':')\n",
    "plt.scatter(ans251_c['t'], ans251_c['y'], color='orange', marker='o')\n",
    "\n",
    "plt.plot(ans251_d['t'], ans251_d['y'], label='4th order RK method h=0.5', color='purple', linestyle=':')\n",
    "plt.scatter(ans251_d['t'], ans251_d['y'], color='purple', marker='o')\n",
    "\n",
    "plt.legend()\n",
    "plt.xlabel('t')\n",
    "plt.ylabel('y')\n",
    "plt.grid()\n",
    "plt.savefig('251.png')\n",
    "plt.title(r'Solutions for $\\frac{dy}{dt} = yt^2 - 1.1y$')\n",
    "plt.show()"
   ],
   "id": "287302f3b0a8300c",
   "outputs": [
    {
     "data": {
      "text/plain": [
       "<Figure size 1000x1000 with 1 Axes>"
      ],
      "image/png": "[encoded data removed]"
     },
     "metadata": {},
     "output_type": "display_data"
    }
   ],
   "execution_count": 11
  },
  {
   "metadata": {},
   "cell_type": "markdown",
   "source": [
    "# 25.2\n",
    "Solve the following initial value problem over interval form $x \\in [0,1]$ where $y(0)=0$ , $h=0.25$\n",
    "\n",
    "$$ \\frac{dy}{dt} = (1+4t)\\sqrt{y} $$\n",
    "\n",
    "- Analytically\n",
    "- Euler method\n",
    "- Heun's method\n",
    "- Rastoln method\n",
    "- 4th order RK method with h=0.5"
   ],
   "id": "d2cda9064aee68fe"
  },
  {
   "metadata": {
    "ExecuteTime": {
     "end_time": "2025-05-09T07:59:26.082131Z",
     "start_time": "2025-05-09T07:59:26.079474Z"
    }
   },
   "cell_type": "code",
   "source": [
    "q252_data = dict(\n",
    "    dy_dt = lambda y,t: (1/2*t + t**2 + 1)**2,\n",
    "    y0 = 1,\n",
    "    t_min = 0,\n",
    "    t_max = 1,\n",
    "    h = 0.25,\n",
    ")"
   ],
   "id": "4e00dadbb2d5a3b1",
   "outputs": [],
   "execution_count": 12
  },
  {
   "metadata": {},
   "cell_type": "markdown",
   "source": [
    "## Analytically\n",
    "\n",
    "$$ \\frac{dy}{dt} = (1+4t)\\sqrt{y} $$\n",
    "$$ \\frac{dy}{dt} \\frac{1}{\\sqrt{y}} = 1+4t $$\n",
    "$$ \\int \\frac{1}{\\sqrt{y}} dy = \\int 1+4t dt $$\n",
    "$$ \\int y^{-\\frac{1}{2}} dy = \\int 1+4t dt $$\n",
    "$$ -2 \\sqrt{y} = t + 4 \\frac{t^2}{2} + C $$\n",
    "$$ -2 \\sqrt{y} = t + 2t^2 + C $$\n",
    "$$ \\sqrt{y} = -\\frac{1}{2} t - t^2 - C $$\n",
    "$$ y = (\\frac{1}{2} t + t^2 + C)^2 $$\n",
    "$$ y(0) = 1 = (C)^2 \\implies C= 1 $$\n",
    "$$ y(t) = (\\frac{1}{2} t + t^2 + 1)^2 $$"
   ],
   "id": "8cacd8d12566382d"
  },
  {
   "metadata": {
    "ExecuteTime": {
     "end_time": "2025-05-09T07:59:26.154733Z",
     "start_time": "2025-05-09T07:59:26.121217Z"
    }
   },
   "cell_type": "code",
   "source": [
    "ans252_y = lambda t: (1/2*t + t**2 + 1)**2\n",
    "ans252_a = pd.DataFrame(\n",
    "    data=dict(\n",
    "        t=np.linspace(q252_data.get('t_min'), q252_data.get('t_max'), 100),\n",
    "    )\n",
    ")\n",
    "ans252_a['y'] = ans251_y(ans252_a['t'])"
   ],
   "id": "3d26f596154335a3",
   "outputs": [],
   "execution_count": 13
  },
  {
   "metadata": {},
   "cell_type": "markdown",
   "source": "## Euler method",
   "id": "dec131a293adecc8"
  },
  {
   "metadata": {
    "ExecuteTime": {
     "end_time": "2025-05-09T07:59:26.181724Z",
     "start_time": "2025-05-09T07:59:26.166769Z"
    }
   },
   "cell_type": "code",
   "source": [
    "solver_252b = RKEulerMethod(\n",
    "    derivative_function=q251_data.get('dy_dt'),\n",
    "    t0=q252_data.get('t_min'),\n",
    "    t_final=q252_data.get('t_max'),\n",
    "    y0=q252_data.get('y0'),\n",
    "    h=q252_data.get('h')\n",
    ")\n",
    "\n",
    "ans_252b = solver_252b.run()"
   ],
   "id": "78f5812cdcd4a12b",
   "outputs": [
    {
     "name": "stdout",
     "output_type": "stream",
     "text": [
      "2025-05-09 10:59:26,168 - RKEulerMethod - INFO - Numerical.py:run:124 - Starting RKEulerMethod\n",
      "2025-05-09 10:59:26,169 - RKEulerMethod - INFO - Numerical.py:initialize:70 - Initial state:{'y': 1, 't': 0, 'dy_dt': -1.1}\n",
      "2025-05-09 10:59:26,173 - RKEulerMethod - INFO - Numerical.py:run:129 - Iteration 1 completed\n",
      "Stop condition [StopIfGreaterThan: Stop when 't' >= 0.75 for 1 iterations] NOT met: Variable t:0 < 0.75 (diff: -0.75)\n",
      "2025-05-09 10:59:26,174 - RKEulerMethod - INFO - Numerical.py:run:134 - State: \n",
      "{'t': 0.25, 'y': np.float64(0.725), 'dy_dt': np.float64(-0.7521875)}\n",
      "\n",
      "2025-05-09 10:59:26,175 - RKEulerMethod - INFO - Numerical.py:run:129 - Iteration 2 completed\n",
      "Stop condition [StopIfGreaterThan: Stop when 't' >= 0.75 for 1 iterations] NOT met: Variable t:0.25 < 0.75 (diff: -0.5)\n",
      "2025-05-09 10:59:26,176 - RKEulerMethod - INFO - Numerical.py:run:134 - State: \n",
      "{'t': 0.5, 'y': np.float64(0.5369531249999999), 'dy_dt': np.float64(-0.45641015625)}\n",
      "\n",
      "2025-05-09 10:59:26,177 - RKEulerMethod - INFO - Numerical.py:run:129 - Iteration 3 completed\n",
      "Stop condition [StopIfGreaterThan: Stop when 't' >= 0.75 for 1 iterations] NOT met: Variable t:0.5 < 0.75 (diff: -0.25)\n",
      "2025-05-09 10:59:26,178 - RKEulerMethod - INFO - Numerical.py:run:134 - State: \n",
      "{'t': 0.75, 'y': np.float64(0.4228505859374999), 'dy_dt': np.float64(-0.22728218994140625)}\n",
      "\n",
      "2025-05-09 10:59:26,179 - RKEulerMethod - INFO - Numerical.py:run:129 - Stop condition [StopIfGreaterThan: Stop when 't' >= 0.75 for 1 iterations] MET    : Variable t:0.75 >= threshold 0.75 for 1 iterations\n",
      "2025-05-09 10:59:26,180 - RKEulerMethod - INFO - Numerical.py:run:134 - State: \n",
      "{'t': 1.0, 'y': np.float64(0.3660300384521483), 'dy_dt': np.float64(-0.036603003845214865)}\n",
      "\n"
     ]
    }
   ],
   "execution_count": 14
  },
  {
   "metadata": {
    "ExecuteTime": {
     "end_time": "2025-05-09T07:59:26.219971Z",
     "start_time": "2025-05-09T07:59:26.213929Z"
    }
   },
   "cell_type": "code",
   "source": "ans_252b",
   "id": "52a2033bdeb26708",
   "outputs": [
    {
     "data": {
      "text/plain": [
       "          y     t     dy_dt\n",
       "0  1.000000  0.00 -1.100000\n",
       "1  0.725000  0.25 -0.752188\n",
       "2  0.536953  0.50 -0.456410\n",
       "3  0.422851  0.75 -0.227282\n",
       "4  0.366030  1.00 -0.036603"
      ],
      "text/html": [
       "<div>\n",
       "<style scoped>\n",
       "    .dataframe tbody tr th:only-of-type {\n",
       "        vertical-align: middle;\n",
       "    }\n",
       "\n",
       "    .dataframe tbody tr th {\n",
       "        vertical-align: top;\n",
       "    }\n",
       "\n",
       "    .dataframe thead th {\n",
       "        text-align: right;\n",
       "    }\n",
       "</style>\n",
       "<table border=\"1\" class=\"dataframe\">\n",
       "  <thead>\n",
       "    <tr style=\"text-align: right;\">\n",
       "      <th></th>\n",
       "      <th>y</th>\n",
       "      <th>t</th>\n",
       "      <th>dy_dt</th>\n",
       "    </tr>\n",
       "  </thead>\n",
       "  <tbody>\n",
       "    <tr>\n",
       "      <th>0</th>\n",
       "      <td>1.000000</td>\n",
       "      <td>0.00</td>\n",
       "      <td>-1.100000</td>\n",
       "    </tr>\n",
       "    <tr>\n",
       "      <th>1</th>\n",
       "      <td>0.725000</td>\n",
       "      <td>0.25</td>\n",
       "      <td>-0.752188</td>\n",
       "    </tr>\n",
       "    <tr>\n",
       "      <th>2</th>\n",
       "      <td>0.536953</td>\n",
       "      <td>0.50</td>\n",
       "      <td>-0.456410</td>\n",
       "    </tr>\n",
       "    <tr>\n",
       "      <th>3</th>\n",
       "      <td>0.422851</td>\n",
       "      <td>0.75</td>\n",
       "      <td>-0.227282</td>\n",
       "    </tr>\n",
       "    <tr>\n",
       "      <th>4</th>\n",
       "      <td>0.366030</td>\n",
       "      <td>1.00</td>\n",
       "      <td>-0.036603</td>\n",
       "    </tr>\n",
       "  </tbody>\n",
       "</table>\n",
       "</div>"
      ]
     },
     "execution_count": 15,
     "metadata": {},
     "output_type": "execute_result"
    }
   ],
   "execution_count": 15
  },
  {
   "metadata": {},
   "cell_type": "markdown",
   "source": "## Heun's method",
   "id": "df82977ff72e6fb2"
  },
  {
   "metadata": {
    "ExecuteTime": {
     "end_time": "2025-05-09T07:59:26.297721Z",
     "start_time": "2025-05-09T07:59:26.286203Z"
    }
   },
   "cell_type": "code",
   "source": [
    "solver_252c = RKHeunMethod(\n",
    "    derivative_function=q251_data.get('dy_dt'),\n",
    "    t0=q252_data.get('t_min'),\n",
    "    t_final=q252_data.get('t_max'),\n",
    "    y0=q252_data.get('y0'),\n",
    "    h=q252_data.get('h')\n",
    ")\n",
    "ans_252c = solver_252c.run()"
   ],
   "id": "61e013307c6bf2da",
   "outputs": [
    {
     "name": "stdout",
     "output_type": "stream",
     "text": [
      "2025-05-09 10:59:26,287 - RKHeunMethod - INFO - Numerical.py:run:124 - Starting RKHeunMethod\n",
      "2025-05-09 10:59:26,288 - RKHeunMethod - INFO - Numerical.py:initialize:70 - Initial state:{'y': 1, 't': 0, 'dy_dt': -1.1}\n",
      "2025-05-09 10:59:26,289 - RKHeunMethod - INFO - Numerical.py:run:129 - Iteration 1 completed\n",
      "Stop condition [StopIfGreaterThan: Stop when 't' >= 0.75 for 1 iterations] NOT met: Variable t:0 < 0.75 (diff: -0.75)\n",
      "2025-05-09 10:59:26,290 - RKHeunMethod - INFO - Numerical.py:run:134 - State: \n",
      "{'t': 0.25, 'y': 0.7684765625, 'dy_dt': -0.7972944335937501}\n",
      "\n",
      "2025-05-09 10:59:26,291 - RKHeunMethod - INFO - Numerical.py:run:129 - Iteration 2 completed\n",
      "Stop condition [StopIfGreaterThan: Stop when 't' >= 0.75 for 1 iterations] NOT met: Variable t:0.25 < 0.75 (diff: -0.5)\n",
      "2025-05-09 10:59:26,292 - RKHeunMethod - INFO - Numerical.py:run:134 - State: \n",
      "{'t': 0.5, 'y': 0.6083422569274902, 'dy_dt': -0.5170909183883667}\n",
      "\n",
      "2025-05-09 10:59:26,293 - RKHeunMethod - INFO - Numerical.py:run:129 - Iteration 3 completed\n",
      "Stop condition [StopIfGreaterThan: Stop when 't' >= 0.75 for 1 iterations] NOT met: Variable t:0.5 < 0.75 (diff: -0.25)\n",
      "2025-05-09 10:59:26,294 - RKHeunMethod - INFO - Numerical.py:run:134 - State: \n",
      "{'t': 0.75, 'y': 0.5115184082614332, 'dy_dt': -0.27494114444052037}\n",
      "\n",
      "2025-05-09 10:59:26,295 - RKHeunMethod - INFO - Numerical.py:run:129 - Stop condition [StopIfGreaterThan: Stop when 't' >= 0.75 for 1 iterations] MET    : Variable t:0.75 >= threshold 0.75 for 1 iterations\n",
      "2025-05-09 10:59:26,295 - RKHeunMethod - INFO - Numerical.py:run:134 - State: \n",
      "{'t': 1.0, 'y': 0.4716159761794769, 'dy_dt': -0.04716159761794769}\n",
      "\n"
     ]
    }
   ],
   "execution_count": 16
  },
  {
   "metadata": {
    "ExecuteTime": {
     "end_time": "2025-05-09T07:59:26.342918Z",
     "start_time": "2025-05-09T07:59:26.335033Z"
    }
   },
   "cell_type": "code",
   "source": "ans_252c",
   "id": "58af23653562794",
   "outputs": [
    {
     "data": {
      "text/plain": [
       "          y     t     dy_dt\n",
       "0  1.000000  0.00 -1.100000\n",
       "1  0.768477  0.25 -0.797294\n",
       "2  0.608342  0.50 -0.517091\n",
       "3  0.511518  0.75 -0.274941\n",
       "4  0.471616  1.00 -0.047162"
      ],
      "text/html": [
       "<div>\n",
       "<style scoped>\n",
       "    .dataframe tbody tr th:only-of-type {\n",
       "        vertical-align: middle;\n",
       "    }\n",
       "\n",
       "    .dataframe tbody tr th {\n",
       "        vertical-align: top;\n",
       "    }\n",
       "\n",
       "    .dataframe thead th {\n",
       "        text-align: right;\n",
       "    }\n",
       "</style>\n",
       "<table border=\"1\" class=\"dataframe\">\n",
       "  <thead>\n",
       "    <tr style=\"text-align: right;\">\n",
       "      <th></th>\n",
       "      <th>y</th>\n",
       "      <th>t</th>\n",
       "      <th>dy_dt</th>\n",
       "    </tr>\n",
       "  </thead>\n",
       "  <tbody>\n",
       "    <tr>\n",
       "      <th>0</th>\n",
       "      <td>1.000000</td>\n",
       "      <td>0.00</td>\n",
       "      <td>-1.100000</td>\n",
       "    </tr>\n",
       "    <tr>\n",
       "      <th>1</th>\n",
       "      <td>0.768477</td>\n",
       "      <td>0.25</td>\n",
       "      <td>-0.797294</td>\n",
       "    </tr>\n",
       "    <tr>\n",
       "      <th>2</th>\n",
       "      <td>0.608342</td>\n",
       "      <td>0.50</td>\n",
       "      <td>-0.517091</td>\n",
       "    </tr>\n",
       "    <tr>\n",
       "      <th>3</th>\n",
       "      <td>0.511518</td>\n",
       "      <td>0.75</td>\n",
       "      <td>-0.274941</td>\n",
       "    </tr>\n",
       "    <tr>\n",
       "      <th>4</th>\n",
       "      <td>0.471616</td>\n",
       "      <td>1.00</td>\n",
       "      <td>-0.047162</td>\n",
       "    </tr>\n",
       "  </tbody>\n",
       "</table>\n",
       "</div>"
      ]
     },
     "execution_count": 17,
     "metadata": {},
     "output_type": "execute_result"
    }
   ],
   "execution_count": 17
  },
  {
   "metadata": {},
   "cell_type": "markdown",
   "source": "## Ralston's method",
   "id": "d08d4768ae1e2b61"
  },
  {
   "metadata": {
    "ExecuteTime": {
     "end_time": "2025-05-09T07:59:26.400127Z",
     "start_time": "2025-05-09T07:59:26.380928Z"
    }
   },
   "cell_type": "code",
   "source": [
    "solver_252d = RKRalstonMethod(\n",
    "    derivative_function=q251_data.get('dy_dt'),\n",
    "    t0=q252_data.get('t_min'),\n",
    "    t_final=q252_data.get('t_max'),\n",
    "    y0=q252_data.get('y0'),\n",
    "    h=q252_data.get('h')\n",
    ")\n",
    "\n",
    "ans_252d = solver_252d.run()"
   ],
   "id": "4318f021816dd7c",
   "outputs": [
    {
     "name": "stdout",
     "output_type": "stream",
     "text": [
      "2025-05-09 10:59:26,383 - RKRalstonMethod - INFO - Numerical.py:run:124 - Starting RKRalstonMethod\n",
      "2025-05-09 10:59:26,384 - RKRalstonMethod - INFO - Numerical.py:initialize:70 - Initial state:{'y': 1, 't': 0, 'dy_dt': -1.1}\n",
      "2025-05-09 10:59:26,386 - RKRalstonMethod - INFO - Numerical.py:run:129 - Iteration 1 completed\n",
      "Stop condition [StopIfGreaterThan: Stop when 't' >= 0.75 for 1 iterations] NOT met: Variable t:0 < 0.75 (diff: -0.75)\n",
      "2025-05-09 10:59:26,387 - RKRalstonMethod - INFO - Numerical.py:run:134 - State: \n",
      "{'t': 0.25, 'y': 0.7670659722222222, 'dy_dt': -0.7958309461805556}\n",
      "\n",
      "2025-05-09 10:59:26,390 - RKRalstonMethod - INFO - Numerical.py:run:129 - Iteration 2 completed\n",
      "Stop condition [StopIfGreaterThan: Stop when 't' >= 0.75 for 1 iterations] NOT met: Variable t:0.25 < 0.75 (diff: -0.5)\n",
      "2025-05-09 10:59:26,392 - RKRalstonMethod - INFO - Numerical.py:run:134 - State: \n",
      "{'t': 0.5, 'y': 0.6071278063267836, 'dy_dt': -0.5160586353777661}\n",
      "\n",
      "2025-05-09 10:59:26,393 - RKRalstonMethod - INFO - Numerical.py:run:129 - Iteration 3 completed\n",
      "Stop condition [StopIfGreaterThan: Stop when 't' >= 0.75 for 1 iterations] NOT met: Variable t:0.5 < 0.75 (diff: -0.25)\n",
      "2025-05-09 10:59:26,395 - RKRalstonMethod - INFO - Numerical.py:run:134 - State: \n",
      "{'t': 0.75, 'y': 0.5108200499655368, 'dy_dt': -0.27456577685647604}\n",
      "\n",
      "2025-05-09 10:59:26,396 - RKRalstonMethod - INFO - Numerical.py:run:129 - Stop condition [StopIfGreaterThan: Stop when 't' >= 0.75 for 1 iterations] MET    : Variable t:0.75 >= threshold 0.75 for 1 iterations\n",
      "2025-05-09 10:59:26,397 - RKRalstonMethod - INFO - Numerical.py:run:134 - State: \n",
      "{'t': 1.0, 'y': 0.471012280240602, 'dy_dt': -0.04710122802406019}\n",
      "\n"
     ]
    }
   ],
   "execution_count": 18
  },
  {
   "metadata": {
    "ExecuteTime": {
     "end_time": "2025-05-09T07:59:26.536277Z",
     "start_time": "2025-05-09T07:59:26.530445Z"
    }
   },
   "cell_type": "code",
   "source": "ans_252d",
   "id": "eeace66d5bc70fb5",
   "outputs": [
    {
     "data": {
      "text/plain": [
       "          y     t     dy_dt\n",
       "0  1.000000  0.00 -1.100000\n",
       "1  0.767066  0.25 -0.795831\n",
       "2  0.607128  0.50 -0.516059\n",
       "3  0.510820  0.75 -0.274566\n",
       "4  0.471012  1.00 -0.047101"
      ],
      "text/html": [
       "<div>\n",
       "<style scoped>\n",
       "    .dataframe tbody tr th:only-of-type {\n",
       "        vertical-align: middle;\n",
       "    }\n",
       "\n",
       "    .dataframe tbody tr th {\n",
       "        vertical-align: top;\n",
       "    }\n",
       "\n",
       "    .dataframe thead th {\n",
       "        text-align: right;\n",
       "    }\n",
       "</style>\n",
       "<table border=\"1\" class=\"dataframe\">\n",
       "  <thead>\n",
       "    <tr style=\"text-align: right;\">\n",
       "      <th></th>\n",
       "      <th>y</th>\n",
       "      <th>t</th>\n",
       "      <th>dy_dt</th>\n",
       "    </tr>\n",
       "  </thead>\n",
       "  <tbody>\n",
       "    <tr>\n",
       "      <th>0</th>\n",
       "      <td>1.000000</td>\n",
       "      <td>0.00</td>\n",
       "      <td>-1.100000</td>\n",
       "    </tr>\n",
       "    <tr>\n",
       "      <th>1</th>\n",
       "      <td>0.767066</td>\n",
       "      <td>0.25</td>\n",
       "      <td>-0.795831</td>\n",
       "    </tr>\n",
       "    <tr>\n",
       "      <th>2</th>\n",
       "      <td>0.607128</td>\n",
       "      <td>0.50</td>\n",
       "      <td>-0.516059</td>\n",
       "    </tr>\n",
       "    <tr>\n",
       "      <th>3</th>\n",
       "      <td>0.510820</td>\n",
       "      <td>0.75</td>\n",
       "      <td>-0.274566</td>\n",
       "    </tr>\n",
       "    <tr>\n",
       "      <th>4</th>\n",
       "      <td>0.471012</td>\n",
       "      <td>1.00</td>\n",
       "      <td>-0.047101</td>\n",
       "    </tr>\n",
       "  </tbody>\n",
       "</table>\n",
       "</div>"
      ]
     },
     "execution_count": 19,
     "metadata": {},
     "output_type": "execute_result"
    }
   ],
   "execution_count": 19
  },
  {
   "metadata": {},
   "cell_type": "markdown",
   "source": "## 4th Order RK",
   "id": "39d2f561ee386d68"
  },
  {
   "metadata": {
    "ExecuteTime": {
     "end_time": "2025-05-09T07:59:26.594785Z",
     "start_time": "2025-05-09T07:59:26.574357Z"
    }
   },
   "cell_type": "code",
   "source": [
    "solver_252e = RungeKutta4(\n",
    "    derivative_function=q251_data.get('dy_dt'),\n",
    "    t0=q252_data.get('t_min'),\n",
    "    t_final=q252_data.get('t_max'),\n",
    "    y0=q252_data.get('y0'),\n",
    "    h=q252_data.get('h')\n",
    ")\n",
    "ans_252e = solver_252e.run()"
   ],
   "id": "83b2c64d2192f22c",
   "outputs": [
    {
     "name": "stdout",
     "output_type": "stream",
     "text": [
      "2025-05-09 10:59:26,576 - RungeKutta4 - INFO - Numerical.py:run:124 - Starting RungeKutta4\n",
      "2025-05-09 10:59:26,578 - RungeKutta4 - INFO - Numerical.py:initialize:70 - Initial state:{'y': 1, 't': 0, 'dy_dt': -1.1}\n",
      "2025-05-09 10:59:26,579 - RungeKutta4 - INFO - Numerical.py:run:129 - Iteration 1 completed\n",
      "Stop condition [StopIfGreaterThan: Stop when 't' >= 0.75 for 1 iterations] NOT met: Variable t:0 < 0.75 (diff: -0.75)\n",
      "2025-05-09 10:59:26,582 - RungeKutta4 - INFO - Numerical.py:run:134 - State: \n",
      "{'t': 0.25, 'y': 0.7635469927330811, 'dy_dt': -0.7921800049605717}\n",
      "\n",
      "2025-05-09 10:59:26,583 - RungeKutta4 - INFO - Numerical.py:run:129 - Iteration 2 completed\n",
      "Stop condition [StopIfGreaterThan: Stop when 't' >= 0.75 for 1 iterations] NOT met: Variable t:0.25 < 0.75 (diff: -0.5)\n",
      "2025-05-09 10:59:26,586 - RungeKutta4 - INFO - Numerical.py:run:134 - State: \n",
      "{'t': 0.5, 'y': 0.6015059857908641, 'dy_dt': -0.5112800879222346}\n",
      "\n",
      "2025-05-09 10:59:26,587 - RungeKutta4 - INFO - Numerical.py:run:129 - Iteration 3 completed\n",
      "Stop condition [StopIfGreaterThan: Stop when 't' >= 0.75 for 1 iterations] NOT met: Variable t:0.5 < 0.75 (diff: -0.25)\n",
      "2025-05-09 10:59:26,590 - RungeKutta4 - INFO - Numerical.py:run:134 - State: \n",
      "{'t': 0.75, 'y': 0.504411559924858, 'dy_dt': -0.27112121345961127}\n",
      "\n",
      "2025-05-09 10:59:26,591 - RungeKutta4 - INFO - Numerical.py:run:129 - Stop condition [StopIfGreaterThan: Stop when 't' >= 0.75 for 1 iterations] MET    : Variable t:0.75 >= threshold 0.75 for 1 iterations\n",
      "2025-05-09 10:59:26,592 - RungeKutta4 - INFO - Numerical.py:run:134 - State: \n",
      "{'t': 1.0, 'y': 0.46456386116602383, 'dy_dt': -0.046456386116602466}\n",
      "\n"
     ]
    }
   ],
   "execution_count": 20
  },
  {
   "metadata": {
    "ExecuteTime": {
     "end_time": "2025-05-09T07:59:26.694747Z",
     "start_time": "2025-05-09T07:59:26.686604Z"
    }
   },
   "cell_type": "code",
   "source": "ans_252e",
   "id": "21feacc61bdd8561",
   "outputs": [
    {
     "data": {
      "text/plain": [
       "          y     t     dy_dt\n",
       "0  1.000000  0.00 -1.100000\n",
       "1  0.763547  0.25 -0.792180\n",
       "2  0.601506  0.50 -0.511280\n",
       "3  0.504412  0.75 -0.271121\n",
       "4  0.464564  1.00 -0.046456"
      ],
      "text/html": [
       "<div>\n",
       "<style scoped>\n",
       "    .dataframe tbody tr th:only-of-type {\n",
       "        vertical-align: middle;\n",
       "    }\n",
       "\n",
       "    .dataframe tbody tr th {\n",
       "        vertical-align: top;\n",
       "    }\n",
       "\n",
       "    .dataframe thead th {\n",
       "        text-align: right;\n",
       "    }\n",
       "</style>\n",
       "<table border=\"1\" class=\"dataframe\">\n",
       "  <thead>\n",
       "    <tr style=\"text-align: right;\">\n",
       "      <th></th>\n",
       "      <th>y</th>\n",
       "      <th>t</th>\n",
       "      <th>dy_dt</th>\n",
       "    </tr>\n",
       "  </thead>\n",
       "  <tbody>\n",
       "    <tr>\n",
       "      <th>0</th>\n",
       "      <td>1.000000</td>\n",
       "      <td>0.00</td>\n",
       "      <td>-1.100000</td>\n",
       "    </tr>\n",
       "    <tr>\n",
       "      <th>1</th>\n",
       "      <td>0.763547</td>\n",
       "      <td>0.25</td>\n",
       "      <td>-0.792180</td>\n",
       "    </tr>\n",
       "    <tr>\n",
       "      <th>2</th>\n",
       "      <td>0.601506</td>\n",
       "      <td>0.50</td>\n",
       "      <td>-0.511280</td>\n",
       "    </tr>\n",
       "    <tr>\n",
       "      <th>3</th>\n",
       "      <td>0.504412</td>\n",
       "      <td>0.75</td>\n",
       "      <td>-0.271121</td>\n",
       "    </tr>\n",
       "    <tr>\n",
       "      <th>4</th>\n",
       "      <td>0.464564</td>\n",
       "      <td>1.00</td>\n",
       "      <td>-0.046456</td>\n",
       "    </tr>\n",
       "  </tbody>\n",
       "</table>\n",
       "</div>"
      ]
     },
     "execution_count": 21,
     "metadata": {},
     "output_type": "execute_result"
    }
   ],
   "execution_count": 21
  },
  {
   "metadata": {},
   "cell_type": "markdown",
   "source": "## plot all togather",
   "id": "b77b16bf9a85578b"
  },
  {
   "metadata": {
    "ExecuteTime": {
     "end_time": "2025-05-09T07:59:27.179397Z",
     "start_time": "2025-05-09T07:59:26.818361Z"
    }
   },
   "cell_type": "code",
   "source": [
    "plt.figure(figsize=(10, 10))\n",
    "plt.plot(ans252_a['t'], ans252_a['y'], label='Analytical solution', color='black')\n",
    "\n",
    "plt.plot(ans_252b['t'], ans_252b['y'], label='Euler method', color='blue', linestyle=':')\n",
    "plt.scatter(ans_252b['t'], ans_252b['y'], color='blue', marker='o')\n",
    "\n",
    "plt.plot(ans_252c['t'], ans_252c['y'], label='Heun\\'s method', color='green', linestyle=':')\n",
    "plt.scatter(ans_252c['t'], ans_252c['y'], color='green', marker='o')\n",
    "\n",
    "plt.plot(ans_252d['t'], ans_252d['y'], label='Ralston\\'s method', color='orange', linestyle=':')\n",
    "plt.scatter(ans_252d['t'], ans_252d['y'], color='orange', marker='o')\n",
    "\n",
    "plt.plot(ans_252e['t'], ans_252e['y'], label='4th order RK method', color='purple', linestyle=':')\n",
    "plt.scatter(ans_252e['t'], ans_252e['y'], color='purple', marker='o')\n",
    "\n",
    "plt.legend()\n",
    "plt.title(r'Solutions for $\\frac{dy}{dt} = (1+4t)\\sqrt{y}$')\n",
    "plt.xlabel('t')\n",
    "plt.ylabel('y')\n",
    "plt.grid()\n",
    "plt.savefig('252.png')\n",
    "plt.show()"
   ],
   "id": "f7185222c88a4d6b",
   "outputs": [
    {
     "data": {
      "text/plain": [
       "<Figure size 1000x1000 with 1 Axes>"
      ],
      "image/png": "[encoded data removed]"
     },
     "metadata": {},
     "output_type": "display_data"
    }
   ],
   "execution_count": 22
  },
  {
   "metadata": {
    "ExecuteTime": {
     "end_time": "2025-05-09T07:59:27.263439Z",
     "start_time": "2025-05-09T07:59:27.260876Z"
    }
   },
   "cell_type": "code",
   "source": "",
   "id": "412ebe0bb80b601f",
   "outputs": [],
   "execution_count": null
  }
 ],
 "metadata": {
  "kernelspec": {
   "display_name": "Python 3",
   "language": "python",
   "name": "python3"
  },
  "language_info": {
   "codemirror_mode": {
    "name": "ipython",
    "version": 2
   },
   "file_extension": ".py",
   "mimetype": "text/x-python",
   "name": "python",
   "nbconvert_exporter": "python",
   "pygments_lexer": "ipython2",
   "version": "2.7.6"
  }
 },
 "nbformat": 4,
 "nbformat_minor": 5
}
