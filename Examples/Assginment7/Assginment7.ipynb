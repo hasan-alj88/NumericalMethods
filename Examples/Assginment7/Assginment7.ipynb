{
 "cells": [
  {
   "cell_type": "markdown",
   "id": "9fd1d9cb64259b8a",
   "metadata": {},
   "source": [
    "# Assginment 7\n",
    "\n",
    "Hasan AlJamea - 202012499\n",
    "\n",
    "\n"
   ]
  },
  {
   "cell_type": "markdown",
   "id": "27f95f56214ed9d8",
   "metadata": {},
   "source": [
    "## Utility functions"
   ]
  },
  {
   "cell_type": "code",
   "execution_count": 1,
   "id": "737c9cfc08d957b3",
   "metadata": {
    "ExecuteTime": {
     "end_time": "2025-05-03T17:49:23.805497Z",
     "start_time": "2025-05-03T17:49:23.504927Z"
    }
   },
   "outputs": [],
   "source": [
    "from typing import List, Tuple\n",
    "\n",
    "# !pip install sympy numpy pandas matplotlib seaborn -q\n",
    "import numpy as np\n",
    "import pandas as pd\n",
    "import sympy as sp\n",
    "import matplotlib.pyplot as plt\n",
    "import seaborn as sns\n",
    "from itertools import product\n",
    "from IPython.core.display import Math, Markdown\n",
    "\n",
    "def display_grid(grid: np.ndarray, title:str='')->None:\n",
    "    plt.figure(figsize=(8, 8))\n",
    "    heatmap = sns.heatmap(grid,\n",
    "                      annot=True,  # Add annotations\n",
    "                      fmt=\".2f\",   # Format annotations to 2 decimal places\n",
    "                      cmap=\"Reds\",  # Color map\n",
    "                      linewidths=.5,  # Add lines between cells\n",
    "                      cbar_kws={'label': 'Values'})  # Customize colorbar\n",
    "    heatmap.set_title(title)\n",
    "    heatmap.set_xlabel('x')\n",
    "    heatmap.set_ylabel('y')\n",
    "    heatmap.invert_yaxis()\n",
    "    plt.tight_layout()\n",
    "    plt.show()\n",
    "\n",
    "def display_grid_str(grid):\n",
    "    return '\\n'.join('\\t'.join(str(cell) for cell in row) for row in grid[::-1])\n",
    "\n",
    "def relative_error(*,old_values: pd.Series, new_values: pd.Series) -> float:\n",
    "    if not old_values[old_values==0].empty:\n",
    "        return 100\n",
    "    diff = old_values - new_values\n",
    "    rel_error = diff.abs() * 100 / old_values.abs()\n",
    "    return round(rel_error.max(), 3)\n",
    "\n",
    "def liebmann(\n",
    "        t_init:pd.Series,    # initial condition\n",
    "        df_eqs:pd.Series,    # linear equations\n",
    "        lambda_r:float=1 ,   # relaxation factor\n",
    "        relative_error_threshold:float=1,\n",
    "        max_iterations:int=50,\n",
    ")->pd.DataFrame:\n",
    "    t_old = t_init.copy()\n",
    "    iterations = pd.DataFrame(columns=list(t_init.index) + ['rel_error'])\n",
    "    iterations.loc[0] = pd.Series({**t_old.to_dict(), 'rel_error': 100})\n",
    "    for it in range(1,max_iterations+1):\n",
    "        # calculate formulas\n",
    "        t_calculated = df_eqs.apply(lambda _: _.subs(t_old.copy().to_dict()).evalf())\n",
    "        # apply relaxation factor\n",
    "        t_new = lambda_r * t_calculated + (1- lambda_r) * t_old\n",
    "        rel = relative_error(old_values=t_old,new_values=t_new)\n",
    "        iterations.loc[it] = pd.Series({**t_new.to_dict(), 'rel_error': rel})\n",
    "        if rel < relative_error_threshold:\n",
    "            break\n",
    "        t_old = t_new\n",
    "    return iterations\n",
    "\n",
    "\n",
    "def heat_flux_2d(\n",
    "        grid:np.ndarray,\n",
    "        kp:float,\n",
    "        dx:float,\n",
    "        upper_boundary:List[float]=None,\n",
    "        left_boundary:List[float]=None,\n",
    "        right_boundary:List[float]=None,\n",
    "        bottom_boundary:List[float]=None,\n",
    ")->dict[str,np.ndarray]:\n",
    "    qx = np.zeros_like(grid)\n",
    "    qy = np.zeros_like(grid)\n",
    "    q = np.zeros_like(grid)\n",
    "    theta = np.zeros_like(grid)\n",
    "    m,n = grid.shape\n",
    "    for i,j in product(range(1,grid.shape[0]-1), repeat=2):\n",
    "        t_up = grid[i+1,j] if i<m-2 else (upper_boundary[j] or grid[m-2,j])\n",
    "        t_down = grid[i-1,j] if i>0 else (bottom_boundary[j] or grid[1,j])\n",
    "        t_left = grid[i,j-1] if j>0 else (left_boundary[i] or grid[i,1])\n",
    "        t_right = grid[i,j+1] if j<n-2 else (right_boundary[i] or grid[i,n-2])\n",
    "\n",
    "        qx[i,j] = -kp * (t_up - t_down) / dx\n",
    "        qy[i,j] = -kp * (t_right - t_left) / dx\n",
    "\n",
    "        q[i,j] = np.sqrt(qx[i,j]**2 + qy[i,j]**2)\n",
    "        theta[i,j] = np.arctan2(qy[i,j], qx[i,j])\n",
    "    return dict(\n",
    "        qx=qx,\n",
    "        qy=qy,\n",
    "        q=q,\n",
    "        theta=theta,\n",
    "    )\n",
    "\n",
    "def plot_vector_field(x_component, y_component, title=\"Vector Field\"):\n",
    "    # Verify input dimensions\n",
    "    if x_component.shape != y_component.shape:\n",
    "        raise ValueError(\"x_component and y_component must have the same shape\")\n",
    "\n",
    "    # Create a grid of points\n",
    "    rows, cols = x_component.shape\n",
    "    Y, X = np.mgrid[:rows, :cols]\n",
    "    magnitude = np.sqrt(x_component**2 + y_component**2)\n",
    "\n",
    "    fig, ax = plt.subplots(figsize=(10,8))\n",
    "\n",
    "    # Plot the vector field\n",
    "    quiv = ax.quiver(X, Y, x_component, y_component, magnitude,\n",
    "                    cmap=plt.cm.viridis,\n",
    "                    scale_units='xy',\n",
    "                    angles='xy')\n",
    "    plt.colorbar(quiv, ax=ax, label='Magnitude')\n",
    "    ax.invert_yaxis()\n",
    "    ax.grid(True)\n",
    "    ax.set_title(title)\n",
    "    ax.set_xlim(-0.5, cols-0.5)\n",
    "    ax.set_ylim(-0.5, rows-0.5)\n",
    "    ax.set_aspect('equal')\n",
    "    return fig, ax"
   ]
  },
  {
   "cell_type": "markdown",
   "id": "58d59485aab9227a",
   "metadata": {},
   "source": [
    "## 29.1\n",
    "\n",
    "Use Liebmann’s method to solve for the temperature of the square heated plate in Fig. 29.4, but with the upper boundary condition increased to $150^\\circ C$ and the left boundary insulated. Use a relaxation factor of 1.2 and iterate to es $\\varepsilon_s = 1\\%$."
   ]
  },
  {
   "cell_type": "code",
   "execution_count": 2,
   "id": "initial_id",
   "metadata": {
    "ExecuteTime": {
     "end_time": "2025-05-03T17:49:23.812466Z",
     "start_time": "2025-05-03T17:49:23.809215Z"
    }
   },
   "outputs": [],
   "source": [
    "p29_1_data = dict(\n",
    "    r=1.2, # relaxation factor\n",
    "    rel_error=1, #percentage %\n",
    "    upper_boundary=150,\n",
    "    right_boundary=50,\n",
    "    bottom_boundary=0,\n",
    ")"
   ]
  },
  {
   "cell_type": "markdown",
   "id": "b59ab3b2377be2fd",
   "metadata": {},
   "source": [
    "Let $T_{i,j}$ be the temperature on location $(i,j)$.\n",
    "\n",
    "\n",
    "Left boundary condition is  insulated (zero-flux) which means no change in temperature, thus:\n",
    "$$\n",
    "T_{0,j} = T_{2,j} \\forall j \\in [1,3]\n",
    "$$\n",
    "The rest of boundary conditions are fixed as follows:\n",
    "$$\n",
    "\\begin{align}\n",
    "    T_{i,4} &= 150 &\\text{ Top boundary}\\\\\n",
    "    T_{i,0} &= 0 &\\text{ Bottom boundary}\\\\\n",
    "    T_{4,j} &= 50 &\\text{ Right boundary}\\\\\n",
    "\\end{align}\n",
    "$$\n",
    "The Unknowns are $T_{i,j} \\forall i \\in [1,3], j \\in [1,3]$ totaling of 9 unknowns."
   ]
  },
  {
   "cell_type": "code",
   "execution_count": 3,
   "id": "f7fa59639900795",
   "metadata": {
    "ExecuteTime": {
     "end_time": "2025-05-03T17:49:23.899127Z",
     "start_time": "2025-05-03T17:49:23.895241Z"
    }
   },
   "outputs": [
    {
     "name": "stdout",
     "output_type": "stream",
     "text": [
      "P29.1 - Temperatures Grid layout:\n",
      "\t150\t150\t150\t\n",
      "t32\tt31\tt32\tt33\t50\n",
      "t22\tt21\tt22\tt23\t50\n",
      "t12\tt11\tt12\tt13\t50\n",
      "\t0.0\t0.0\t0.0\t\n"
     ]
    }
   ],
   "source": [
    "grid_t_291 = np.zeros((5, 5)).tolist()\n",
    "grid_t_291[0][0] = grid_t_291[4][0] = grid_t_291[0][4] = grid_t_291[4][4] = ''\n",
    "\n",
    "for i,j in product(range(1,5-1), repeat=2):\n",
    "    grid_t_291[i][j] = sp.symbols(f't{i}{j}')\n",
    "\n",
    "# boundary conditions\n",
    "for k in range(1,4):\n",
    "    # Upper boundary\n",
    "    grid_t_291[4][k] = p29_1_data['upper_boundary']\n",
    "    # right boundary\n",
    "    grid_t_291[k][4] = p29_1_data['right_boundary']\n",
    "    # bottom boundary\n",
    "    grid_t_291[k][0] = p29_1_data['bottom_boundary']\n",
    "    # insulated left boundary\n",
    "    grid_t_291[k][0] = grid_t_291[k][2]\n",
    "print('P29.1 - Temperatures Grid layout:')\n",
    "print(display_grid_str(grid_t_291))"
   ]
  },
  {
   "cell_type": "markdown",
   "id": "d523d77bda9694e4",
   "metadata": {},
   "source": [
    " Liebmann's method formula:\n",
    "$$T_{i,j} = \\frac{T_{i+1,j}+T_{i-1,j}+T_{i,j+1}+T_{i,j-1}}{4}$$\n"
   ]
  },
  {
   "cell_type": "code",
   "execution_count": 4,
   "id": "e9a7257aed6ab574",
   "metadata": {
    "ExecuteTime": {
     "end_time": "2025-05-03T17:49:23.995357Z",
     "start_time": "2025-05-03T17:49:23.943072Z"
    }
   },
   "outputs": [
    {
     "data": {
      "text/latex": [
       "$\\displaystyle t_{1,1}(t^{old}_{i,j})=\\frac{t_{12}}{2} + \\frac{t_{21}}{4}$"
      ],
      "text/plain": [
       "<IPython.core.display.Math object>"
      ]
     },
     "metadata": {},
     "output_type": "display_data"
    },
    {
     "data": {
      "text/latex": [
       "$\\displaystyle t_{1,2}(t^{old}_{i,j})=\\frac{t_{11}}{4} + \\frac{t_{13}}{4} + \\frac{t_{22}}{4}$"
      ],
      "text/plain": [
       "<IPython.core.display.Math object>"
      ]
     },
     "metadata": {},
     "output_type": "display_data"
    },
    {
     "data": {
      "text/latex": [
       "$\\displaystyle t_{1,3}(t^{old}_{i,j})=\\frac{t_{12}}{4} + \\frac{t_{23}}{4} + \\frac{25}{2}$"
      ],
      "text/plain": [
       "<IPython.core.display.Math object>"
      ]
     },
     "metadata": {},
     "output_type": "display_data"
    },
    {
     "data": {
      "text/latex": [
       "$\\displaystyle t_{2,1}(t^{old}_{i,j})=\\frac{t_{11}}{4} + \\frac{t_{22}}{2} + \\frac{t_{31}}{4}$"
      ],
      "text/plain": [
       "<IPython.core.display.Math object>"
      ]
     },
     "metadata": {},
     "output_type": "display_data"
    },
    {
     "data": {
      "text/latex": [
       "$\\displaystyle t_{2,2}(t^{old}_{i,j})=\\frac{t_{12}}{4} + \\frac{t_{21}}{4} + \\frac{t_{23}}{4} + \\frac{t_{32}}{4}$"
      ],
      "text/plain": [
       "<IPython.core.display.Math object>"
      ]
     },
     "metadata": {},
     "output_type": "display_data"
    },
    {
     "data": {
      "text/latex": [
       "$\\displaystyle t_{2,3}(t^{old}_{i,j})=\\frac{t_{13}}{4} + \\frac{t_{22}}{4} + \\frac{t_{33}}{4} + \\frac{25}{2}$"
      ],
      "text/plain": [
       "<IPython.core.display.Math object>"
      ]
     },
     "metadata": {},
     "output_type": "display_data"
    },
    {
     "data": {
      "text/latex": [
       "$\\displaystyle t_{3,1}(t^{old}_{i,j})=\\frac{t_{21}}{4} + \\frac{t_{32}}{2} + \\frac{75}{2}$"
      ],
      "text/plain": [
       "<IPython.core.display.Math object>"
      ]
     },
     "metadata": {},
     "output_type": "display_data"
    },
    {
     "data": {
      "text/latex": [
       "$\\displaystyle t_{3,2}(t^{old}_{i,j})=\\frac{t_{22}}{4} + \\frac{t_{31}}{4} + \\frac{t_{33}}{4} + \\frac{75}{2}$"
      ],
      "text/plain": [
       "<IPython.core.display.Math object>"
      ]
     },
     "metadata": {},
     "output_type": "display_data"
    },
    {
     "data": {
      "text/latex": [
       "$\\displaystyle t_{3,3}(t^{old}_{i,j})=\\frac{t_{23}}{4} + \\frac{t_{32}}{4} + 50$"
      ],
      "text/plain": [
       "<IPython.core.display.Math object>"
      ]
     },
     "metadata": {},
     "output_type": "display_data"
    }
   ],
   "source": [
    "p291_eqs = pd.Series()\n",
    "for i,j in product(range(1,4), repeat=2):\n",
    "    p291_eqs[f't{i}{j}'] = (grid_t_291[i+1][j] + grid_t_291[i-1][j]+ grid_t_291[i][j+1] + grid_t_291[i][j-1])* sp.Rational(1,4)\n",
    "    display(Math(f't_{{{i},{j}}}(t^{{old}}_{{i,j}})={sp.latex(p291_eqs[f't{i}{j}'])}'))"
   ]
  },
  {
   "cell_type": "code",
   "execution_count": 5,
   "id": "43b5d69345e008c",
   "metadata": {
    "ExecuteTime": {
     "end_time": "2025-05-03T17:49:25.107744Z",
     "start_time": "2025-05-03T17:49:24.031745Z"
    }
   },
   "outputs": [
    {
     "data": {
      "text/markdown": [
       "p29.1 ] liebmann method with relaxation factor 1.2 and relative error 1%:"
      ],
      "text/plain": [
       "<IPython.core.display.Markdown object>"
      ]
     },
     "metadata": {},
     "output_type": "display_data"
    },
    {
     "data": {
      "text/markdown": [
       "|    |         t11 |         t12 |        t13 |        t21 |        t22 |        t23 |        t31 |        t32 |        t33 |   rel_error |\n",
       "|---:|------------:|------------:|-----------:|-----------:|-----------:|-----------:|-----------:|-----------:|-----------:|------------:|\n",
       "|  0 |    0        |    0        |    0       |    0       |    0       |    0       |    0       |    0       |    0       |     100     |\n",
       "|  1 |    0        |    0        |   15       |    0       |    0       |   15       |   45       |   45       |   60       |     100     |\n",
       "|  2 |    0        |    4.5      |   16.5     |   13.5     |   18       |   34.5     |   63       |   67.5     |   66       |     100     |\n",
       "|  3 |    6.75     |    9.45     |   23.4     |   27       |   32.4     |   38.25    |   76.95    |   75.6     |   77.4     |     100     |\n",
       "|  4 |   12.42     |   16.875    |   24.63    |   39.15    |   38.61    |   47.31    |   83.07    |   85.905   |   78.675   |      84     |\n",
       "|  5 |   19.386    |   19.323    |   29.3295  |   43.983   |   49.05    |   48.1125  |   91.674   |   87.9255  |   84.2295  |      56.087 |\n",
       "|  6 |   20.9115   |   25.465    |   29.3647  |   53.9514  |   49.9932  |   54.1602  |   92.6154  |   94.9009  |   83.9655  |      31.786 |\n",
       "|  7 |   27.2821   |   24.9878   |   33.0146  |   53.2637  |   58.5446  |   53.165   |   99.6029  |   93.992   |   87.9252  |      30.465 |\n",
       "|  8 |   25.5154   |   30.6549   |   31.8429  |   62.5396  |   55.9136  |   58.2124  |   97.4538  |  100.023   |   86.5621  |      22.679 |\n",
       "|  9 |   32.0517   |   27.8506   |   35.2916  |   57.931   |   64.2463  |   55.6531  |  104.285   |   96.9742  |   90.1583  |      25.617 |\n",
       "| 10 |   27.6793   |   33.9068   |   32.9928  |   67.8627  |   58.6734  |   60.7782  |   99.7068  |  103.212   |   87.7565  |      21.745 |\n",
       "| 11 |   35.167    |   29.0223   |   36.8069  |   59.8473  |   67.9933  |   56.6712  |  107.345   |   98.1986  |   91.6458  |      27.051 |\n",
       "| 12 |   28.3342   |   36.1857   |   33.3467  |   71.58    |   59.5232  |   62.5996  |  100.404   |  105.455   |   88.1318  |      24.682 |\n",
       "| 13 |   37.5186   |   29.1241   |   37.9662  |   60.0195  |   70.8416  |   56.7806  |  109.666   |   98.3267  |   92.7901  |      32.415 |\n",
       "| 14 |   27.9766   |   38.0731   |   33.1781  |   74.6565  |   59.1069  |   64.1233  |  100.069   |  107.324   |   87.9742  |      30.727 |\n",
       "| 15 |   39.6455   |   28.4639   |   39.0233  |   58.9464  |   73.4317  |   56.2531  |  111.778   |   97.6801  |   93.8394  |      41.71  |\n",
       "| 16 |   26.8331   |   39.9374   |   32.6104  |   77.6967  |   57.7167  |   65.6377  |   98.9364  |  109.179   |   87.4121  |      40.309 |\n",
       "| 17 |   41.9048   |   27.1606   |   40.1504  |   56.8215  |   76.1918  |   55.1942  |  114.029   |   96.3838  |   94.9625  |      56.168 |\n",
       "| 18 |   24.9619   |   42.042    |   31.6764  |   81.1309  |   55.4297  |   67.3526  |   97.071   |  111.278   |   86.4809  |      54.79  |\n",
       "| 19 |   44.5721   |   25.212    |   41.4831  |   53.6415  |   79.4551  |   53.6056  |  116.692   |   94.4389  |   96.293   |      78.561 |\n",
       "| 20 |   22.3052   |   44.6107   |   30.3487  |   85.324   |   52.1784  |   69.4483  |   94.4174  |  113.844   |   85.1547  |      76.942 |\n",
       "| 21 |   47.9026   |   22.5275   |   43.148   |   49.259   |   83.5325  |   51.4149  |  120.02    |   91.7563  |   97.9568  |     114.759 |\n",
       "| 22 |   18.7137   |   47.8694   |   28.5531  |   90.6446  |   47.7808  |   72.1082  |   90.8274  |  117.102   |   83.36    |     112.493 |\n",
       "| 23 |   52.1723   |   18.9404   |   45.2827  |   43.4019  |   88.761   |   48.4865  |  124.289   |   88.1701  |  100.091   |     178.792 |\n",
       "| 24 |   13.9504   |   52.0767   |   26.1716  |   97.5145  |   41.9475  |   75.5431  |   86.0649  |  121.308   |   80.9788  |     174.95  |\n",
       "| 25 |   57.7103   |   14.2055   |   48.0516  |   35.6702  |   95.5433  |   44.6207  |  129.826   |   83.4357  |  102.86    |     313.683 |\n",
       "| 26 |    7.68228  |   57.5505   |   23.0375  |  106.453   |   34.271   |   80.0122  |   79.7972  |  126.782   |   77.845   |     305.128 |\n",
       "| 27 |   64.9297   |    7.98715  |   51.6613  |   25.5159  |  104.385   |   39.5436  |  137.045   |   77.2176  |  106.469   |     745.188 |\n",
       "| 28 |   -0.538892 |   64.6954   |   18.927   |  118.12    |   24.2023  |   85.8459  |   71.5763  |  133.926   |   73.7345  |     709.993 |\n",
       "| 29 |   74.3611   |   -0.161959 |   56.377   |   12.2085  |  115.936   |   32.89    |  146.477   |   69.0687  |  111.185   |   13898.9   |\n",
       "| 30 |  -11.3068   |   74.0346   |   13.543   |  133.371   |   11.0144  |   93.4713  |   60.8084  |  143.265   |   68.3506  |   45811.8   |\n",
       "| 31 |   86.6935   |  -10.8318   |   62.5432  |   -5.21513 |  131.04    |   24.1781  |  158.809   |   58.3989  |  117.351   |    1089.72  |\n",
       "| 32 |  -25.4023   |   86.2493   |    6.49528 |  153.318   |   -6.24892 |  103.445   |   46.713   |  155.48    |   61.3029  |    3039.86  |\n",
       "| 33 |  102.825    |  -24.7966   |   70.6091  |  -28.0197  |  150.797   |   12.7759  |  174.941   |   44.4341  |  125.417   |    2513.17  |\n",
       "| 34 |  -43.8489   |  102.229    |   -2.72805 |  179.412   |  -28.8414  |  116.492   |   28.2664  |  171.46    |   52.0796  |     811.81  |\n",
       "| 35 |  123.931    |  -43.0713   |   81.1618  |  -57.862   |  176.646   |   -2.14529 |  196.046   |   26.1595  |  135.97    |    3075.09  |\n",
       "| 36 |  -67.9875   |  123.136    |  -14.7973  |  213.553   |  -58.4049  |  133.562   |    4.12786 |  192.367   |   40.0104  |    6325.85  |\n",
       "| 37 |  151.545    |  -66.9841   |   94.9689  |  -96.9115  |  210.466   |  -21.67    |  223.66    |    2.24667 |  149.777   |    5318.32  |\n",
       "| 38 |  -99.5729   |  150.491    |  -30.59    |  258.224   |  -97.0889  |  155.898   |  -27.4575  |  219.722   |   24.2177  |    9679.89  |\n",
       "| 39 |  187.676    |  -98.2737   |  113.035   | -148.007   |  254.718   |  -47.2179  |  259.792   |  -29.0429  |  167.842   |    1046.16  |\n",
       "| 40 | -140.902    |  186.283    |  -51.2544  |  316.672   | -147.706   |  185.122   |  -68.7862  |  255.514   |    3.55331 |     979.78  |\n",
       "| 41 |  234.952    | -139.215    |  136.672   | -214.865   |  312.619   |  -80.6465  |  307.067   |  -69.9845  |  191.48    |    5288.78  |\n",
       "| 42 | -194.979    |  233.116    |  -78.293   |  393.15    | -213.937   |  223.361   | -122.864   |  302.347   |  -23.4854  |     532.02  |\n",
       "| 43 |  296.81     | -192.786    |  167.602   | -302.345   |  388.379   | -124.387   |  368.926   | -123.555   |  222.409   |    1047.01  |\n",
       "| 44 | -265.737    |  294.395    | -113.672   |  493.218   | -300.598   |  273.394   | -193.622   |  363.625   |  -58.8644  |     394.302 |\n",
       "| 45 |  377.749    | -262.881    |  208.071   | -416.81    |  487.509   | -181.619   |  449.865   | -193.65    |  262.879   |     546.583 |\n",
       "| 46 | -358.321    |  374.575    | -159.964   |  624.152   | -413.99    |  338.862   | -286.206   |  443.806   | -105.157   |     329.179 |\n",
       "| 47 |  483.655    | -354.598    |  261.024   | -566.583   |  617.216   | -256.506   |  555.77    | -285.367   |  315.832   |     400.344 |\n",
       "| 48 | -479.464    |  479.488    | -220.536   |  795.474   | -562.359   |  424.523   | -407.349   |  548.719   | -165.728   |     292.285 |\n",
       "| 49 |  622.228    | -474.605    |  330.31    | -762.554   |  786.933   | -354.491   |  694.343   | -405.375   |  385.118   |     332.379 |\n",
       "| 50 | -637.975    |  616.762    | -299.791   | 1019.64    | -756.494   |  536.607   | -565.86    |  685.993   | -244.983   |     269.225 |"
      ],
      "text/plain": [
       "<IPython.core.display.Markdown object>"
      ]
     },
     "metadata": {},
     "output_type": "display_data"
    }
   ],
   "source": [
    "# initial condition\n",
    "unknowns = [str(grid_t_291[i][j]) for i,j in product(range(1,4), repeat=2)]\n",
    "p291_t_old = pd.Series({k:0 for k in unknowns})\n",
    "# iterations\n",
    "p291_iterations= liebmann(\n",
    "    t_init=p291_t_old,\n",
    "    df_eqs=p291_eqs,\n",
    "    lambda_r=p29_1_data['r'],\n",
    "    relative_error_threshold=p29_1_data['rel_error'],\n",
    "    max_iterations=50,\n",
    ")\n",
    "display(Markdown(f'p29.1 ] liebmann method with relaxation factor {p29_1_data[\"r\"]} and relative error {p29_1_data[\"rel_error\"]}%:'))\n",
    "display(Markdown(p291_iterations.to_markdown()))"
   ]
  },
  {
   "cell_type": "markdown",
   "id": "d6d17a090a213f7b",
   "metadata": {},
   "source": [
    "The over relaxation is accusing numerial instability hence will attempt the calculation without relaxation factor"
   ]
  },
  {
   "cell_type": "code",
   "execution_count": 6,
   "id": "1eb5a3dc23809b55",
   "metadata": {
    "ExecuteTime": {
     "end_time": "2025-05-03T17:49:25.407701Z",
     "start_time": "2025-05-03T17:49:25.123340Z"
    }
   },
   "outputs": [
    {
     "data": {
      "text/markdown": [
       "p29.1 ] liebmann method with relaxation factor 1 and relative error 1%:"
      ],
      "text/plain": [
       "<IPython.core.display.Markdown object>"
      ]
     },
     "metadata": {},
     "output_type": "display_data"
    },
    {
     "data": {
      "text/markdown": [
       "|    |      t11 |      t12 |     t13 |     t21 |     t22 |     t23 |      t31 |      t32 |     t33 |   rel_error |\n",
       "|---:|---------:|---------:|--------:|--------:|--------:|--------:|---------:|---------:|--------:|------------:|\n",
       "|  0 |  0       |  0       |  0      |  0      |  0      |  0      |   0      |   0      |  0      |   100       |\n",
       "|  1 |  0       |  0       | 12.5    |  0      |  0      | 12.5    |  37.5    |  37.5    | 50      |   100       |\n",
       "|  2 |  0       |  3.125   | 15.625  |  9.375  | 12.5    | 28.125  |  56.25   |  59.375  | 62.5    |   100       |\n",
       "|  3 |  3.90625 |  7.03125 | 20.3125 | 20.3125 | 25      | 35.1562 |  69.5312 |  70.3125 | 71.875  |   100       |\n",
       "|  4 |  8.59375 | 12.3047  | 23.0469 | 30.8594 | 33.2031 | 41.7969 |  77.7344 |  79.1016 | 76.3672 |   120       |\n",
       "|  5 | 13.8672  | 16.2109  | 26.0254 | 38.1836 | 41.0156 | 45.6543 |  84.7656 |  84.3262 | 80.2246 |    61.364   |\n",
       "|  6 | 17.6514  | 20.2271  | 27.9663 | 45.166  | 46.0938 | 49.3164 |  89.209  |  89.0015 | 82.4951 |    27.289   |\n",
       "|  7 | 21.405   | 22.9279  | 29.8859 | 49.762  | 50.9277 | 51.6388 |  93.2922 |  91.9495 | 84.5795 |    21.266   |\n",
       "|  8 | 23.9044  | 25.5547  | 31.1417 | 54.1382 | 54.0695 | 53.8483 |  95.9152 |  94.6999 | 85.8971 |    11.677   |\n",
       "|  9 | 26.3119  | 27.2789  | 32.3507 | 56.9897 | 57.0602 | 55.2771 |  98.3845 |  96.4705 | 87.137  |    10.071   |\n",
       "| 10 | 27.8869  | 28.9307  | 33.139  | 59.7042 | 59.004  | 56.637  |  99.9826 |  98.1454 | 87.9369 |     6.05499 |\n",
       "| 11 | 29.3914  | 30.0075  | 33.8919 | 61.4694 | 60.8543 | 57.52   | 101.499  |  99.2309 | 88.6956 |     5.39502 |\n",
       "| 12 | 30.3711  | 31.0344  | 34.3819 | 63.1497 | 62.0569 | 58.3605 | 102.483  | 100.262  | 89.1877 |     3.422   |\n",
       "| 13 | 31.3046  | 31.7025  | 34.8487 | 64.2419 | 63.2017 | 58.9066 | 103.419  | 100.932  | 89.6557 |     3.07401 |\n",
       "| 14 | 31.9117  | 32.3388  | 35.1523 | 65.2816 | 63.9457 | 59.4265 | 104.026  | 101.569  | 89.9596 |     2.00699 |\n",
       "| 15 | 32.4898  | 32.7524  | 35.4413 | 65.9574 | 64.654  | 59.7644 | 104.605  | 101.983  | 90.2489 |     1.811   |\n",
       "| 16 | 32.8656  | 33.1463  | 35.6292 | 66.6007 | 65.1143 | 60.086  | 104.981  | 102.377  | 90.4368 |     1.202   |\n",
       "| 17 | 33.2233  | 33.4023  | 35.8081 | 67.0187 | 65.5525 | 60.2951 | 105.339  | 102.633  | 90.6157 |     1.088   |\n",
       "| 18 | 33.4558  | 33.646   | 35.9243 | 67.4167 | 65.8373 | 60.4941 | 105.571  | 102.877  | 90.732  |     0.72998 |"
      ],
      "text/plain": [
       "<IPython.core.display.Markdown object>"
      ]
     },
     "metadata": {},
     "output_type": "display_data"
    }
   ],
   "source": [
    "# initial condition\n",
    "unknowns = [str(grid_t_291[i][j]) for i,j in product(range(1,4), repeat=2)]\n",
    "p291_t_old = pd.Series({k:0 for k in unknowns})\n",
    "# liebmann with r=1\n",
    "p291_iterations_1= liebmann(\n",
    "    t_init=p291_t_old,\n",
    "    df_eqs=p291_eqs,\n",
    "    lambda_r=1,\n",
    "    relative_error_threshold=p29_1_data['rel_error'],\n",
    "    max_iterations=50,\n",
    ")\n",
    "display(Markdown(f'p29.1 ] liebmann method with relaxation factor {1} and relative error {p29_1_data[\"rel_error\"]}%:'))\n",
    "display(Markdown(p291_iterations_1.to_markdown()))"
   ]
  },
  {
   "cell_type": "code",
   "execution_count": 7,
   "id": "bb58595bd388b0d6",
   "metadata": {
    "ExecuteTime": {
     "end_time": "2025-05-03T17:49:25.674982Z",
     "start_time": "2025-05-03T17:49:25.433613Z"
    }
   },
   "outputs": [
    {
     "data": {
      "image/png": "[encoded data removed]",
      "text/plain": [
       "<Figure size 800x800 with 2 Axes>"
      ]
     },
     "metadata": {},
     "output_type": "display_data"
    }
   ],
   "source": [
    "p291_solutions = p291_iterations_1.loc[len(p291_iterations_1)-1,unknowns]\n",
    "p291_solution_grid = p291_solutions.values.reshape(3,3).astype(float)\n",
    "display_grid(p291_solution_grid)"
   ]
  },
  {
   "cell_type": "markdown",
   "id": "9e743f29f68e76c9",
   "metadata": {},
   "source": [
    "## 29.8\n",
    "With the exception of the boundary conditions, the plate in Fig. P29.8 has the exact same characteristics as the plate used in Examples 29.1 through 29.3. Simulate both the temperatures and fluxes for the plate.\n"
   ]
  },
  {
   "cell_type": "code",
   "execution_count": 8,
   "id": "d0bd1d01d64cc5c1",
   "metadata": {
    "ExecuteTime": {
     "end_time": "2025-05-03T17:49:25.697784Z",
     "start_time": "2025-05-03T17:49:25.694317Z"
    }
   },
   "outputs": [],
   "source": [
    "p298_data = dict(\n",
    "    upper_boundary=[0,25,50,75,100],\n",
    "    right_boundary=[0,25,50,75,100],\n",
    "    bottom_boundary=[None] * 5, # insulated\n",
    "    left_boundary=[None]*5,     # insulated\n",
    "    kp=0.49, #cal/(s cm C)\n",
    "    rel_error=1, #%\n",
    "    dx=10,\n",
    ")"
   ]
  },
  {
   "cell_type": "code",
   "execution_count": 9,
   "id": "dc47b560e974bc22",
   "metadata": {
    "ExecuteTime": {
     "end_time": "2025-05-03T17:49:25.751351Z",
     "start_time": "2025-05-03T17:49:25.745307Z"
    }
   },
   "outputs": [
    {
     "name": "stdout",
     "output_type": "stream",
     "text": [
      "P29.8 - Temperatures Grid layout:\n",
      "\t25\t50\t75\t100\n",
      "t32\tt31\tt32\tt33\t75\n",
      "t22\tt21\tt22\tt23\t50\n",
      "t12\tt11\tt12\tt13\t25\n",
      "\tt21\tt22\tt23\t\n"
     ]
    }
   ],
   "source": [
    "p298_grid_t = np.zeros((5, 5)).tolist()\n",
    "p298_grid_t[0][0] = p298_grid_t[4][0] = p298_grid_t[0][4] = ''\n",
    "p298_grid_t[4][4] = 100\n",
    "\n",
    "for i,j in product(range(1,5-1), repeat=2):\n",
    "    p298_grid_t[i][j] = sp.symbols(f't{i}{j}')\n",
    "\n",
    "for k in range(1,4):\n",
    "    # upper boundary\n",
    "    p298_grid_t[4][k] = p298_data.get('upper_boundary')[k] or p298_grid_t[2][k]\n",
    "    # bottom boundary\n",
    "    p298_grid_t[0][k] = p298_data.get('bottom_boundary')[k] or p298_grid_t[2][k]\n",
    "    # left boundary\n",
    "    p298_grid_t[k][0] = p298_data.get('bottom_boundary')[k] or p298_grid_t[k][2]\n",
    "    # right boundary\n",
    "    p298_grid_t[k][4] = p298_data.get('upper_boundary')[k] or p298_grid_t[k][2]\n",
    "\n",
    "print('P29.8 - Temperatures Grid layout:')\n",
    "print(display_grid_str(p298_grid_t))"
   ]
  },
  {
   "cell_type": "markdown",
   "id": "a5a72225a4a317a2",
   "metadata": {},
   "source": [
    " Liebmann's method formula:\n",
    "$$T_{i,j} = \\frac{T_{i+1,j}+T_{i-1,j}+T_{i,j+1}+T_{i,j-1}}{4}$$"
   ]
  },
  {
   "cell_type": "code",
   "execution_count": 10,
   "id": "28d6f5a0901038de",
   "metadata": {
    "ExecuteTime": {
     "end_time": "2025-05-03T17:49:25.835780Z",
     "start_time": "2025-05-03T17:49:25.800773Z"
    }
   },
   "outputs": [
    {
     "data": {
      "text/latex": [
       "$\\displaystyle t_{1,1}(t^{old}_{i,j})=\\frac{t_{12}}{2} + \\frac{t_{21}}{2}$"
      ],
      "text/plain": [
       "<IPython.core.display.Math object>"
      ]
     },
     "metadata": {},
     "output_type": "display_data"
    },
    {
     "data": {
      "text/latex": [
       "$\\displaystyle t_{1,2}(t^{old}_{i,j})=\\frac{t_{11}}{4} + \\frac{t_{13}}{4} + \\frac{t_{22}}{2}$"
      ],
      "text/plain": [
       "<IPython.core.display.Math object>"
      ]
     },
     "metadata": {},
     "output_type": "display_data"
    },
    {
     "data": {
      "text/latex": [
       "$\\displaystyle t_{1,3}(t^{old}_{i,j})=\\frac{t_{12}}{4} + \\frac{t_{23}}{2} + \\frac{25}{4}$"
      ],
      "text/plain": [
       "<IPython.core.display.Math object>"
      ]
     },
     "metadata": {},
     "output_type": "display_data"
    },
    {
     "data": {
      "text/latex": [
       "$\\displaystyle t_{2,1}(t^{old}_{i,j})=\\frac{t_{11}}{4} + \\frac{t_{22}}{2} + \\frac{t_{31}}{4}$"
      ],
      "text/plain": [
       "<IPython.core.display.Math object>"
      ]
     },
     "metadata": {},
     "output_type": "display_data"
    },
    {
     "data": {
      "text/latex": [
       "$\\displaystyle t_{2,2}(t^{old}_{i,j})=\\frac{t_{12}}{4} + \\frac{t_{21}}{4} + \\frac{t_{23}}{4} + \\frac{t_{32}}{4}$"
      ],
      "text/plain": [
       "<IPython.core.display.Math object>"
      ]
     },
     "metadata": {},
     "output_type": "display_data"
    },
    {
     "data": {
      "text/latex": [
       "$\\displaystyle t_{2,3}(t^{old}_{i,j})=\\frac{t_{13}}{4} + \\frac{t_{22}}{4} + \\frac{t_{33}}{4} + \\frac{25}{2}$"
      ],
      "text/plain": [
       "<IPython.core.display.Math object>"
      ]
     },
     "metadata": {},
     "output_type": "display_data"
    },
    {
     "data": {
      "text/latex": [
       "$\\displaystyle t_{3,1}(t^{old}_{i,j})=\\frac{t_{21}}{4} + \\frac{t_{32}}{2} + \\frac{25}{4}$"
      ],
      "text/plain": [
       "<IPython.core.display.Math object>"
      ]
     },
     "metadata": {},
     "output_type": "display_data"
    },
    {
     "data": {
      "text/latex": [
       "$\\displaystyle t_{3,2}(t^{old}_{i,j})=\\frac{t_{22}}{4} + \\frac{t_{31}}{4} + \\frac{t_{33}}{4} + \\frac{25}{2}$"
      ],
      "text/plain": [
       "<IPython.core.display.Math object>"
      ]
     },
     "metadata": {},
     "output_type": "display_data"
    },
    {
     "data": {
      "text/latex": [
       "$\\displaystyle t_{3,3}(t^{old}_{i,j})=\\frac{t_{23}}{4} + \\frac{t_{32}}{4} + \\frac{75}{2}$"
      ],
      "text/plain": [
       "<IPython.core.display.Math object>"
      ]
     },
     "metadata": {},
     "output_type": "display_data"
    }
   ],
   "source": [
    "p298_eqs = pd.Series()\n",
    "for i,j in product(range(1,4), repeat=2):\n",
    "    p298_eqs[f't{i}{j}'] = (p298_grid_t[i+1][j] + p298_grid_t[i-1][j]+ p298_grid_t[i][j+1] + p298_grid_t[i][j-1])* sp.Rational(1,4)\n",
    "    display(Math(f't_{{{i},{j}}}(t^{{old}}_{{i,j}})={sp.latex(p298_eqs[f't{i}{j}'])}'))"
   ]
  },
  {
   "cell_type": "code",
   "execution_count": 11,
   "id": "ffb9fb87093f5afc",
   "metadata": {
    "ExecuteTime": {
     "end_time": "2025-05-03T17:49:26.356231Z",
     "start_time": "2025-05-03T17:49:25.930771Z"
    }
   },
   "outputs": [
    {
     "data": {
      "text/markdown": [
       "p29.8 ] liebmann method with relaxation factor 1 and relative error 1%:"
      ],
      "text/plain": [
       "<IPython.core.display.Markdown object>"
      ]
     },
     "metadata": {},
     "output_type": "display_data"
    },
    {
     "data": {
      "text/markdown": [
       "|    |     t11 |     t12 |     t13 |     t21 |     t22 |     t23 |     t31 |     t32 |     t33 |   rel_error |\n",
       "|---:|--------:|--------:|--------:|--------:|--------:|--------:|--------:|--------:|--------:|------------:|\n",
       "|  0 |  0      |  0      |  0      |  0      |  0      |  0      |  0      |  0      |  0      |  100        |\n",
       "|  1 |  0      |  0      |  6.25   |  0      |  0      | 12.5    |  6.25   | 12.5    | 37.5    |  100        |\n",
       "|  2 |  0      |  1.5625 | 12.5    |  1.5625 |  6.25   | 23.4375 | 12.5    | 23.4375 | 43.75   |  100        |\n",
       "|  3 |  1.5625 |  6.25   | 18.3594 |  6.25   | 12.5    | 28.125  | 18.3594 | 28.125  | 49.2188 |  100        |\n",
       "|  4 |  6.25   | 11.2305 | 21.875  | 11.2305 | 17.1875 | 32.5195 | 21.875  | 32.5195 | 51.5625 |  300        |\n",
       "|  5 | 11.2305 | 15.625  | 25.3174 | 15.625  | 21.875  | 35.1562 | 25.3174 | 35.1562 | 53.7598 |   79.688    |\n",
       "|  6 | 15.625  | 20.0745 | 27.7344 | 20.0745 | 25.3906 | 37.738  | 27.7344 | 37.738  | 55.0781 |   39.13     |\n",
       "|  7 | 20.0745 | 23.5352 | 30.1376 | 23.5352 | 28.9062 | 39.5508 | 30.1376 | 39.5508 | 56.369  |   28.477    |\n",
       "|  8 | 23.5352 | 27.0061 | 31.9092 | 27.0061 | 31.543  | 41.3532 | 31.9092 | 41.3532 | 57.2754 |   17.239    |\n",
       "|  9 | 27.0061 | 29.6326 | 33.6782 | 29.6326 | 34.1797 | 42.6819 | 33.6782 | 42.6819 | 58.1766 |   14.748    |\n",
       "| 10 | 29.6326 | 32.2609 | 34.9991 | 32.2609 | 36.1572 | 44.0086 | 34.9991 | 44.0086 | 58.8409 |    9.72498  |\n",
       "| 11 | 32.2609 | 34.2365 | 36.3195 | 34.2365 | 38.1348 | 44.9993 | 36.3195 | 44.9993 | 59.5043 |    8.87     |\n",
       "| 12 | 34.2365 | 36.2125 | 37.3088 | 36.2125 | 39.6179 | 45.9897 | 37.3088 | 45.9897 | 59.9997 |    6.12402  |\n",
       "| 13 | 36.2125 | 37.6953 | 38.298  | 37.6953 | 41.1011 | 46.7316 | 38.298  | 46.7316 | 60.4948 |    5.77197  |\n",
       "| 14 | 37.6953 | 39.1781 | 39.0396 | 39.1781 | 42.2134 | 47.4735 | 39.0396 | 47.4735 | 60.8658 |    4.09497  |\n",
       "| 15 | 39.1781 | 40.2904 | 39.7813 | 40.2904 | 43.3258 | 48.0297 | 39.7813 | 48.0297 | 61.2367 |    3.93399  |\n",
       "| 16 | 40.2904 | 41.4028 | 40.3375 | 41.4028 | 44.1601 | 48.586  | 40.3375 | 48.586  | 61.5149 |    2.83899  |\n",
       "| 17 | 41.4028 | 42.237  | 40.8937 | 42.237  | 44.9944 | 49.0031 | 40.8937 | 49.0031 | 61.793  |    2.76099  |\n",
       "| 18 | 42.237  | 43.0713 | 41.3108 | 43.0713 | 45.6201 | 49.4202 | 41.3108 | 49.4202 | 62.0016 |    2.01501  |\n",
       "| 19 | 43.0713 | 43.697  | 41.7279 | 43.697  | 46.2458 | 49.7331 | 41.7279 | 49.7331 | 62.2101 |    1.97501  |\n",
       "| 20 | 43.697  | 44.3227 | 42.0408 | 44.3227 | 46.715  | 50.046  | 42.0408 | 50.046  | 62.3666 |    1.453    |\n",
       "| 21 | 44.3227 | 44.792  | 42.3537 | 44.792  | 47.1843 | 50.2806 | 42.3537 | 50.2806 | 62.523  |    1.43201  |\n",
       "| 22 | 44.792  | 45.2612 | 42.5883 | 45.2612 | 47.5363 | 50.5152 | 42.5883 | 50.5152 | 62.6403 |    1.05901  |\n",
       "| 23 | 45.2612 | 45.6132 | 42.8229 | 45.6132 | 47.8882 | 50.6912 | 42.8229 | 50.6912 | 62.7576 |    1.048    |\n",
       "| 24 | 45.6132 | 45.9652 | 42.9989 | 45.9652 | 48.1522 | 50.8672 | 42.9989 | 50.8672 | 62.8456 |    0.777954 |"
      ],
      "text/plain": [
       "<IPython.core.display.Markdown object>"
      ]
     },
     "metadata": {},
     "output_type": "display_data"
    }
   ],
   "source": [
    "unknowns = [str(grid_t_291[i][j]) for i,j in product(range(1,4), repeat=2)]\n",
    "p298_t_old = pd.Series({k:0 for k in unknowns})\n",
    "# iterations\n",
    "p291_iterations= liebmann(\n",
    "    t_init=p298_t_old,\n",
    "    df_eqs=p298_eqs,\n",
    "    lambda_r=1,\n",
    "    relative_error_threshold=p298_data['rel_error'],\n",
    "    max_iterations=50,\n",
    ")\n",
    "display(Markdown(f'p29.8 ] liebmann method with relaxation factor {1} and relative error {p298_data[\"rel_error\"]}%:'))\n",
    "display(Markdown(p291_iterations.to_markdown()))"
   ]
  },
  {
   "cell_type": "code",
   "execution_count": 12,
   "id": "90d7da04504506b2",
   "metadata": {
    "ExecuteTime": {
     "end_time": "2025-05-03T17:49:26.539012Z",
     "start_time": "2025-05-03T17:49:26.364153Z"
    }
   },
   "outputs": [
    {
     "data": {
      "image/png": "[encoded data removed]",
      "text/plain": [
       "<Figure size 800x800 with 2 Axes>"
      ]
     },
     "metadata": {},
     "output_type": "display_data"
    }
   ],
   "source": [
    "p298_grid1_ss = p291_iterations.loc[len(p291_iterations)-1,unknowns] # Heat steady state\n",
    "p298_grid1 = p298_grid1_ss.values.reshape(3,3).astype(float)\n",
    "display_grid(p298_grid1)"
   ]
  },
  {
   "cell_type": "markdown",
   "id": "4b3b02ae8298c567",
   "metadata": {},
   "source": [
    "Heat flux\n",
    "\n",
    "$$ q_x = -k' \\frac{T_{i+1,j}-T_{i-1,j}}{1 \\Delta x} $$\n",
    "$$ q_y = -k' \\frac{T_{i,j+1}-T_{i,j-1}}{1 \\Delta y} $$\n",
    "$$ q = \\sqrt{q_x^2+q_y^2} $$\n",
    "$$ \\theta = \\begin{cases}\n",
    "  \\tan^{-1}(\\frac{q_y}{q_x}) & \\text{, if } q_x\\leq0 \\\\\n",
    "  \\tan^{-1}(\\frac{q_y}{q_x})+\\pi & \\text{, if } q_x<0 \\\\\n",
    "\\end{cases}\n",
    "$$"
   ]
  },
  {
   "cell_type": "code",
   "execution_count": 13,
   "id": "afbd2baf60436750",
   "metadata": {
    "ExecuteTime": {
     "end_time": "2025-05-03T17:49:26.559430Z",
     "start_time": "2025-05-03T17:49:26.556542Z"
    }
   },
   "outputs": [],
   "source": [
    "p298_heat_flux = heat_flux_2d(\n",
    "    grid=p298_grid1,\n",
    "    kp=p298_data['kp'],\n",
    "    dx=p298_data['dx'],\n",
    "    upper_boundary=p298_data['upper_boundary'],\n",
    "    left_boundary=p298_data['left_boundary'],\n",
    "    right_boundary=p298_data['right_boundary'],\n",
    "    bottom_boundary=p298_data['bottom_boundary'],\n",
    ")"
   ]
  },
  {
   "cell_type": "code",
   "execution_count": 14,
   "id": "9345db3c71d4a434",
   "metadata": {
    "ExecuteTime": {
     "end_time": "2025-05-03T17:53:08.410370Z",
     "start_time": "2025-05-03T17:53:08.263889Z"
    }
   },
   "outputs": [
    {
     "data": {
      "image/png": "[encoded data removed]",
      "text/plain": [
       "<Figure size 1000x800 with 2 Axes>"
      ]
     },
     "metadata": {},
     "output_type": "display_data"
    }
   ],
   "source": [
    "plot_vector_field(\n",
    "    p298_heat_flux['qx'],\n",
    "    p298_heat_flux['qy'],\n",
    "    title='p29.8] Heat Flux',\n",
    ")\n",
    "plt.show()"
   ]
  },
  {
   "cell_type": "code",
   "execution_count": 15,
   "id": "c85669110ad89568",
   "metadata": {
    "ExecuteTime": {
     "end_time": "2025-05-03T18:00:05.527795Z",
     "start_time": "2025-05-03T18:00:05.523167Z"
    }
   },
   "outputs": [],
   "source": [
    "p291_heat_flux = heat_flux_2d(\n",
    "    grid=p291_solution_grid,\n",
    "    kp=p298_data['kp'],\n",
    "    dx=p298_data['dx'],\n",
    "    upper_boundary=[p29_1_data.get('upper_boundary')]*3,\n",
    "    left_boundary=[p29_1_data.get('left_boundary')]*3,\n",
    "    right_boundary=[p29_1_data.get('right_boundary')]*3,\n",
    "    bottom_boundary=[p29_1_data.get('bottom_boundary')]*3,\n",
    ")"
   ]
  },
  {
   "cell_type": "code",
   "execution_count": 16,
   "id": "5b94f51004aa2f0d",
   "metadata": {
    "ExecuteTime": {
     "end_time": "2025-05-03T18:00:28.467547Z",
     "start_time": "2025-05-03T18:00:28.336453Z"
    }
   },
   "outputs": [
    {
     "data": {
      "image/png": "[encoded data removed]",
      "text/plain": [
       "<Figure size 1000x800 with 2 Axes>"
      ]
     },
     "metadata": {},
     "output_type": "display_data"
    }
   ],
   "source": [
    "plot_vector_field(\n",
    "    p291_heat_flux['qx'],\n",
    "    p291_heat_flux['qy'],\n",
    "    title='p29.1] Heat Flux',\n",
    ")\n",
    "plt.show()"
   ]
  },
  {
   "cell_type": "markdown",
   "id": "772b1f5c6902410d",
   "metadata": {},
   "source": [
    "The boundary condition have effect on the heat flux where on 29.1 plate the constant fix heat boundary create heat flow to the isolated boundary. Whereas, in 29.8 plate the fix boundary have ascending heat which makes the heat flux draws to the direction of the constant increase of temperature."
   ]
  }
 ],
 "metadata": {
  "kernelspec": {
   "display_name": "Python 3 (ipykernel)",
   "language": "python",
   "name": "python3"
  },
  "language_info": {
   "codemirror_mode": {
    "name": "ipython",
    "version": 3
   },
   "file_extension": ".py",
   "mimetype": "text/x-python",
   "name": "python",
   "nbconvert_exporter": "python",
   "pygments_lexer": "ipython3",
   "version": "3.12.9"
  }
 },
 "nbformat": 4,
 "nbformat_minor": 5
}
