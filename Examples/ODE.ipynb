{
 "cells": [
  {
   "cell_type": "code",
   "id": "initial_id",
   "metadata": {
    "collapsed": true,
    "ExecuteTime": {
     "end_time": "2025-03-13T08:41:13.583504Z",
     "start_time": "2025-03-13T08:41:13.078451Z"
    }
   },
   "source": [
    "import pandas as pd\n",
    "import matplotlib.pyplot as plt\n",
    "from IPython.display import clear_output, Math, display\n",
    "\n",
    "import numpy as np"
   ],
   "outputs": [],
   "execution_count": 1
  },
  {
   "metadata": {
    "ExecuteTime": {
     "end_time": "2025-03-13T08:41:13.591501Z",
     "start_time": "2025-03-13T08:41:13.587936Z"
    }
   },
   "cell_type": "code",
   "source": [
    "def bungee_jumper_velocity(m, cd, t, g=9.8):\n",
    "    return np.sqrt(g * m / cd) * np.tanh(np.sqrt(g*cd/m) * t)\n",
    "\n",
    "def bungee_jumper_acceleration(m, cd, v, g=9.8):\n",
    "    return g - (cd * v ** 2 /m)\n",
    "\n",
    "data = dict(\n",
    "    m=68.1,\n",
    "    cd=0.25,\n",
    "    v0=0,\n",
    "    dt=2,\n",
    "    t0=0,\n",
    "    t_final=20,\n",
    ")\n",
    "\n",
    "acceleration = lambda t, y: bungee_jumper_acceleration(m=data['m'], cd=data['cd'], v=y, g=9.8)"
   ],
   "id": "ece23c5249873453",
   "outputs": [],
   "execution_count": 2
  },
  {
   "metadata": {},
   "cell_type": "markdown",
   "source": [
    "# Solve Analytically\n",
    "\n",
    "$$ \\frac{dv}{dt} = g - \\frac{C_d v^2}{m} $$\n",
    "$$ v(t) = \\sqrt{\\frac{m g}{C_d}} \\tanh{(\\sqrt{\\frac{g C_d}{m}} t)}  $$\n"
   ],
   "id": "136a5e32ffac8dc"
  },
  {
   "metadata": {
    "ExecuteTime": {
     "end_time": "2025-03-13T08:41:13.796554Z",
     "start_time": "2025-03-13T08:41:13.670837Z"
    }
   },
   "cell_type": "code",
   "source": [
    "analytical_df = pd.DataFrame(\n",
    "    data=dict(\n",
    "        t=np.arange(data['t0'], data['t_final'], data['dt'])\n",
    "    )\n",
    ")\n",
    "analytical_df['v'] = bungee_jumper_velocity(\n",
    "    m=data['m'], cd=data['cd'], t=analytical_df['t'], g=9.8)\n",
    "\n",
    "analytical_df.plot(x='t', y='v', linestyle='-')\n",
    "df_all = analytical_df.copy()\n",
    "df_all.rename(columns={'v': 'analytical'}, inplace=True)\n",
    "plt.grid()"
   ],
   "id": "8df71eb9b351a27f",
   "outputs": [
    {
     "data": {
      "text/plain": [
       "<Figure size 640x480 with 1 Axes>"
      ],
      "image/png": "[encoded data removed]"
     },
     "metadata": {},
     "output_type": "display_data"
    }
   ],
   "execution_count": 3
  },
  {
   "metadata": {
    "ExecuteTime": {
     "end_time": "2025-03-13T08:41:13.811952Z",
     "start_time": "2025-03-13T08:41:13.807654Z"
    }
   },
   "cell_type": "code",
   "source": [
    "def align_solver_data(solver_df, df, solver_name):\n",
    "    \"\"\"\n",
    "    Aligns time points between solver result and the collection dataframe,\n",
    "    then adds the solver's velocity data to the collection dataframe.\n",
    "\n",
    "    Parameters:\n",
    "    -----------\n",
    "    solver_df : pd.DataFrame\n",
    "        Result dataframe from the solver with 't' and 'v' columns\n",
    "    df : pd.DataFrame\n",
    "        Collection dataframe for velocity values from all solvers\n",
    "    solver_name : str\n",
    "        Name of the solver to use as column name\n",
    "\n",
    "    Returns:\n",
    "    --------\n",
    "    pd.DataFrame\n",
    "        Updated df_all dataframe with new solver data\n",
    "    \"\"\"\n",
    "    # Make sure we're not modifying the original dataframe\n",
    "    df = df.copy()\n",
    "\n",
    "    # Extract solver data with renamed column\n",
    "    solver_data = solver_df[['t', 'v']].copy()\n",
    "    solver_data = solver_data.rename(columns={'v': solver_name})\n",
    "\n",
    "    # Merge with existing collection dataframe\n",
    "    df = pd.merge(\n",
    "        df,\n",
    "        solver_data,\n",
    "        on='t',\n",
    "        how='outer'\n",
    "    )\n",
    "\n",
    "    return df\n",
    "\n",
    "\n",
    "def calculate_error(df, reference_col='analytical'):\n",
    "    \"\"\"\n",
    "    Calculates error for all solver columns in df compared to the reference column.\n",
    "\n",
    "    Parameters:\n",
    "    -----------\n",
    "    df : pd.DataFrame\n",
    "        Collection dataframe with velocity values from all solvers\n",
    "    reference_col : str\n",
    "        Name of the column to use as reference (typically the analytical solution)\n",
    "\n",
    "    Returns:\n",
    "    --------\n",
    "    pd.DataFrame\n",
    "        Error dataframe with columns for each solver's error\n",
    "    \"\"\"\n",
    "    # Create a new dataframe with only the time column\n",
    "    df_err = pd.DataFrame({'t': df['t']})\n",
    "\n",
    "    # Get all solver columns (excluding time and reference)\n",
    "    solver_cols = [col for col in df.columns if col != 't' and col != reference_col]\n",
    "\n",
    "    # Calculate errors for each solver\n",
    "    for solver in solver_cols:\n",
    "        df_err[solver] = (df[solver] - df[reference_col]).abs()\n",
    "\n",
    "    return df_err"
   ],
   "id": "509aeff7a9a282d5",
   "outputs": [],
   "execution_count": 4
  },
  {
   "metadata": {},
   "cell_type": "markdown",
   "source": "# Euler Method",
   "id": "d59400094f9776c3"
  },
  {
   "metadata": {
    "ExecuteTime": {
     "end_time": "2025-03-13T08:41:14.164347Z",
     "start_time": "2025-03-13T08:41:13.851177Z"
    }
   },
   "cell_type": "code",
   "source": [
    "from ODE.RungeKutta.RKEulerMethod import RKEulerMethod\n",
    "\n",
    "solver_euler = RKEulerMethod(\n",
    "    derivative_function=acceleration,\n",
    "    t0=data['t0'],\n",
    "    t_final=data['t_final'],\n",
    "    y0=data['v0'],\n",
    "    h=data['dt'],\n",
    "    y_label='v'\n",
    ")\n",
    "display(Math(r'\\text{Euler Method Butcher tableau}'))\n",
    "display(Math(solver_euler.butcher_tableau))"
   ],
   "id": "731c9f174ed6d0a1",
   "outputs": [
    {
     "data": {
      "text/plain": [
       "<IPython.core.display.Math object>"
      ],
      "text/latex": "$\\displaystyle \\text{Euler Method Butcher tableau}$"
     },
     "metadata": {},
     "output_type": "display_data"
    },
    {
     "data": {
      "text/plain": [
       "<IPython.core.display.Math object>"
      ],
      "text/latex": "$\\displaystyle \\begin{array}{c|c}\n\\mathtt{\\text{0}} & \\mathtt{\\text{1}} \\\\\n\\hline\n0 & 1 \\\\\n\\end{array}$"
     },
     "metadata": {},
     "output_type": "display_data"
    }
   ],
   "execution_count": 5
  },
  {
   "metadata": {},
   "cell_type": "code",
   "source": [
    "df_euler =solver_euler.run()\n",
    "clear_output()"
   ],
   "id": "b39c15d3d02a7bd7",
   "execution_count": 6,
   "outputs": []
  },
  {
   "metadata": {
    "ExecuteTime": {
     "end_time": "2025-03-13T08:41:14.263289Z",
     "start_time": "2025-03-13T08:41:14.233702Z"
    }
   },
   "cell_type": "code",
   "source": [
    "df_all = align_solver_data(\n",
    "    solver_name='euler',\n",
    "    solver_df=df_euler,\n",
    "    df=df_all\n",
    ")\n",
    "df_euler"
   ],
   "id": "40febd9def35f0b6",
   "outputs": [
    {
     "data": {
      "text/plain": [
       "             v   t     dy_dt\n",
       "0     0.000000   0  9.800000\n",
       "1    19.600000   2  9.785316\n",
       "2    39.170631   4  9.741263\n",
       "3    58.653157   6  9.667841\n",
       "4    77.988840   8  9.565051\n",
       "5    97.118943  10  9.432893\n",
       "6   115.984728  12  9.271366\n",
       "7   134.527460  14  9.080470\n",
       "8   152.688399  16  8.860206\n",
       "9   170.408811  18  8.610573\n",
       "10  187.629956  20  8.331571"
      ],
      "text/html": [
       "<div>\n",
       "<style scoped>\n",
       "    .dataframe tbody tr th:only-of-type {\n",
       "        vertical-align: middle;\n",
       "    }\n",
       "\n",
       "    .dataframe tbody tr th {\n",
       "        vertical-align: top;\n",
       "    }\n",
       "\n",
       "    .dataframe thead th {\n",
       "        text-align: right;\n",
       "    }\n",
       "</style>\n",
       "<table border=\"1\" class=\"dataframe\">\n",
       "  <thead>\n",
       "    <tr style=\"text-align: right;\">\n",
       "      <th></th>\n",
       "      <th>v</th>\n",
       "      <th>t</th>\n",
       "      <th>dy_dt</th>\n",
       "    </tr>\n",
       "  </thead>\n",
       "  <tbody>\n",
       "    <tr>\n",
       "      <th>0</th>\n",
       "      <td>0.000000</td>\n",
       "      <td>0</td>\n",
       "      <td>9.800000</td>\n",
       "    </tr>\n",
       "    <tr>\n",
       "      <th>1</th>\n",
       "      <td>19.600000</td>\n",
       "      <td>2</td>\n",
       "      <td>9.785316</td>\n",
       "    </tr>\n",
       "    <tr>\n",
       "      <th>2</th>\n",
       "      <td>39.170631</td>\n",
       "      <td>4</td>\n",
       "      <td>9.741263</td>\n",
       "    </tr>\n",
       "    <tr>\n",
       "      <th>3</th>\n",
       "      <td>58.653157</td>\n",
       "      <td>6</td>\n",
       "      <td>9.667841</td>\n",
       "    </tr>\n",
       "    <tr>\n",
       "      <th>4</th>\n",
       "      <td>77.988840</td>\n",
       "      <td>8</td>\n",
       "      <td>9.565051</td>\n",
       "    </tr>\n",
       "    <tr>\n",
       "      <th>5</th>\n",
       "      <td>97.118943</td>\n",
       "      <td>10</td>\n",
       "      <td>9.432893</td>\n",
       "    </tr>\n",
       "    <tr>\n",
       "      <th>6</th>\n",
       "      <td>115.984728</td>\n",
       "      <td>12</td>\n",
       "      <td>9.271366</td>\n",
       "    </tr>\n",
       "    <tr>\n",
       "      <th>7</th>\n",
       "      <td>134.527460</td>\n",
       "      <td>14</td>\n",
       "      <td>9.080470</td>\n",
       "    </tr>\n",
       "    <tr>\n",
       "      <th>8</th>\n",
       "      <td>152.688399</td>\n",
       "      <td>16</td>\n",
       "      <td>8.860206</td>\n",
       "    </tr>\n",
       "    <tr>\n",
       "      <th>9</th>\n",
       "      <td>170.408811</td>\n",
       "      <td>18</td>\n",
       "      <td>8.610573</td>\n",
       "    </tr>\n",
       "    <tr>\n",
       "      <th>10</th>\n",
       "      <td>187.629956</td>\n",
       "      <td>20</td>\n",
       "      <td>8.331571</td>\n",
       "    </tr>\n",
       "  </tbody>\n",
       "</table>\n",
       "</div>"
      ]
     },
     "execution_count": 7,
     "metadata": {},
     "output_type": "execute_result"
    }
   ],
   "execution_count": 7
  },
  {
   "metadata": {},
   "cell_type": "markdown",
   "source": "# HeunMethod",
   "id": "911e139d1ac8d11c"
  },
  {
   "metadata": {
    "ExecuteTime": {
     "end_time": "2025-03-13T08:41:14.346544Z",
     "start_time": "2025-03-13T08:41:14.340834Z"
    }
   },
   "cell_type": "code",
   "source": [
    "from ODE.RungeKutta.RKHeunMethod import RKHeunMethod\n",
    "solver_heun = RKHeunMethod(\n",
    "    derivative_function=acceleration,\n",
    "    t0=data['t0'],\n",
    "    t_final=data['t_final'],\n",
    "    y0=data['v0'],\n",
    "    h=data['dt'],\n",
    "    y_label='v'\n",
    ")\n",
    "display(Math(r'\\text{Heun Method Butcher tableau}'))\n",
    "display(Math(solver_heun.butcher_tableau))"
   ],
   "id": "d9e98552ef063416",
   "outputs": [
    {
     "data": {
      "text/plain": [
       "<IPython.core.display.Math object>"
      ],
      "text/latex": "$\\displaystyle \\text{Heun Method Butcher tableau}$"
     },
     "metadata": {},
     "output_type": "display_data"
    },
    {
     "data": {
      "text/plain": [
       "<IPython.core.display.Math object>"
      ],
      "text/latex": "$\\displaystyle \\begin{array}{c|cc}\n\\mathtt{\\text{0}} & \\mathtt{\\text{0}} & \\mathtt{\\text{0}} \\\\\n\\mathtt{\\text{1}} & \\mathtt{\\text{1}} & \\mathtt{\\text{0}} \\\\\n\\hline\n0 & 1/2 & 1/2 \\\\\n\\end{array}$"
     },
     "metadata": {},
     "output_type": "display_data"
    }
   ],
   "execution_count": 8
  },
  {
   "metadata": {},
   "cell_type": "code",
   "source": [
    "df_heun = solver_heun.run()\n",
    "clear_output()"
   ],
   "id": "50b612d014bf5c0f",
   "execution_count": 9,
   "outputs": []
  },
  {
   "metadata": {
    "ExecuteTime": {
     "end_time": "2025-03-13T08:41:14.489767Z",
     "start_time": "2025-03-13T08:41:14.482515Z"
    }
   },
   "cell_type": "code",
   "source": [
    "df_all = align_solver_data(\n",
    "    solver_name='heun',\n",
    "    solver_df=df_heun,\n",
    "    df=df_all\n",
    ")\n",
    "df_heun"
   ],
   "id": "a78ff23d06549fa1",
   "outputs": [
    {
     "data": {
      "text/plain": [
       "             v   t     dy_dt\n",
       "0     0.000000   0  9.800000\n",
       "1    19.585316   2  9.785316\n",
       "2    39.111894   4  9.741263\n",
       "3    58.520999   6  9.667841\n",
       "4    77.753891   8  9.565051\n",
       "5    96.751836  10  9.432893\n",
       "6   115.456094  12  9.271366\n",
       "7   133.807930  14  9.080470\n",
       "8   151.748605  16  8.860206\n",
       "9   169.219383  18  8.610573\n",
       "10  186.161527  20  8.331571"
      ],
      "text/html": [
       "<div>\n",
       "<style scoped>\n",
       "    .dataframe tbody tr th:only-of-type {\n",
       "        vertical-align: middle;\n",
       "    }\n",
       "\n",
       "    .dataframe tbody tr th {\n",
       "        vertical-align: top;\n",
       "    }\n",
       "\n",
       "    .dataframe thead th {\n",
       "        text-align: right;\n",
       "    }\n",
       "</style>\n",
       "<table border=\"1\" class=\"dataframe\">\n",
       "  <thead>\n",
       "    <tr style=\"text-align: right;\">\n",
       "      <th></th>\n",
       "      <th>v</th>\n",
       "      <th>t</th>\n",
       "      <th>dy_dt</th>\n",
       "    </tr>\n",
       "  </thead>\n",
       "  <tbody>\n",
       "    <tr>\n",
       "      <th>0</th>\n",
       "      <td>0.000000</td>\n",
       "      <td>0</td>\n",
       "      <td>9.800000</td>\n",
       "    </tr>\n",
       "    <tr>\n",
       "      <th>1</th>\n",
       "      <td>19.585316</td>\n",
       "      <td>2</td>\n",
       "      <td>9.785316</td>\n",
       "    </tr>\n",
       "    <tr>\n",
       "      <th>2</th>\n",
       "      <td>39.111894</td>\n",
       "      <td>4</td>\n",
       "      <td>9.741263</td>\n",
       "    </tr>\n",
       "    <tr>\n",
       "      <th>3</th>\n",
       "      <td>58.520999</td>\n",
       "      <td>6</td>\n",
       "      <td>9.667841</td>\n",
       "    </tr>\n",
       "    <tr>\n",
       "      <th>4</th>\n",
       "      <td>77.753891</td>\n",
       "      <td>8</td>\n",
       "      <td>9.565051</td>\n",
       "    </tr>\n",
       "    <tr>\n",
       "      <th>5</th>\n",
       "      <td>96.751836</td>\n",
       "      <td>10</td>\n",
       "      <td>9.432893</td>\n",
       "    </tr>\n",
       "    <tr>\n",
       "      <th>6</th>\n",
       "      <td>115.456094</td>\n",
       "      <td>12</td>\n",
       "      <td>9.271366</td>\n",
       "    </tr>\n",
       "    <tr>\n",
       "      <th>7</th>\n",
       "      <td>133.807930</td>\n",
       "      <td>14</td>\n",
       "      <td>9.080470</td>\n",
       "    </tr>\n",
       "    <tr>\n",
       "      <th>8</th>\n",
       "      <td>151.748605</td>\n",
       "      <td>16</td>\n",
       "      <td>8.860206</td>\n",
       "    </tr>\n",
       "    <tr>\n",
       "      <th>9</th>\n",
       "      <td>169.219383</td>\n",
       "      <td>18</td>\n",
       "      <td>8.610573</td>\n",
       "    </tr>\n",
       "    <tr>\n",
       "      <th>10</th>\n",
       "      <td>186.161527</td>\n",
       "      <td>20</td>\n",
       "      <td>8.331571</td>\n",
       "    </tr>\n",
       "  </tbody>\n",
       "</table>\n",
       "</div>"
      ]
     },
     "execution_count": 10,
     "metadata": {},
     "output_type": "execute_result"
    }
   ],
   "execution_count": 10
  },
  {
   "metadata": {},
   "cell_type": "markdown",
   "source": "# RungeKutta4",
   "id": "d124dc6be59decc8"
  },
  {
   "metadata": {
    "ExecuteTime": {
     "end_time": "2025-03-13T08:41:14.519414Z",
     "start_time": "2025-03-13T08:41:14.512462Z"
    }
   },
   "cell_type": "code",
   "source": [
    "from ODE.RungeKutta.RungeKutta4 import RungeKutta4\n",
    "\n",
    "solver_rk4 = RungeKutta4(\n",
    "    derivative_function=acceleration,\n",
    "    t0=data['t0'],\n",
    "    t_final=data['t_final'],\n",
    "    y0=data['v0'],\n",
    "    h=data['dt'],\n",
    "    y_label='v'\n",
    ")\n",
    "display(Math(r'\\text{Runge Kutta 4 Butcher tableau}'))\n",
    "display(Math(solver_rk4.butcher_tableau))"
   ],
   "id": "648a7816a9768f59",
   "outputs": [
    {
     "data": {
      "text/plain": [
       "<IPython.core.display.Math object>"
      ],
      "text/latex": "$\\displaystyle \\text{Runge Kutta 4 Butcher tableau}$"
     },
     "metadata": {},
     "output_type": "display_data"
    },
    {
     "data": {
      "text/plain": [
       "<IPython.core.display.Math object>"
      ],
      "text/latex": "$\\displaystyle \\begin{array}{c|cccc}\n0 & 0 & 0 & 0 & 0 \\\\\n\\frac{1}{2} & \\frac{1}{2} & 0 & 0 & 0 \\\\\n\\frac{1}{2} & 0 & \\frac{1}{2} & 0 & 0 \\\\\n1 & 0 & 0 & 1 & 0 \\\\\n\\hline\n0 & 1/6 & 1/3 & 1/3 & 1/6 \\\\\n\\end{array}$"
     },
     "metadata": {},
     "output_type": "display_data"
    }
   ],
   "execution_count": 11
  },
  {
   "metadata": {},
   "cell_type": "code",
   "source": [
    "df_rk4 = solver_rk4.run()\n",
    "clear_output()"
   ],
   "id": "95c3c9433ca56ff5",
   "execution_count": 12,
   "outputs": []
  },
  {
   "metadata": {
    "ExecuteTime": {
     "end_time": "2025-03-13T08:41:14.643554Z",
     "start_time": "2025-03-13T08:41:14.633100Z"
    }
   },
   "cell_type": "code",
   "source": [
    "df_all = align_solver_data(\n",
    "    solver_name='rk4',\n",
    "    solver_df=df_rk4,\n",
    "    df=df_all\n",
    ")\n",
    "df_rk4"
   ],
   "id": "a11420d76b80a4a2",
   "outputs": [
    {
     "data": {
      "text/plain": [
       "             v   t     dy_dt\n",
       "0     0.000000   0  9.800000\n",
       "1    19.590210   2  9.785316\n",
       "2    39.121684   4  9.741263\n",
       "3    58.535683   6  9.667841\n",
       "4    77.773470   8  9.565051\n",
       "5    96.776309  10  9.432893\n",
       "6   115.485463  12  9.271366\n",
       "7   133.842193  14  9.080470\n",
       "8   151.787763  16  8.860206\n",
       "9   169.263436  18  8.610573\n",
       "10  186.210475  20  8.331571"
      ],
      "text/html": [
       "<div>\n",
       "<style scoped>\n",
       "    .dataframe tbody tr th:only-of-type {\n",
       "        vertical-align: middle;\n",
       "    }\n",
       "\n",
       "    .dataframe tbody tr th {\n",
       "        vertical-align: top;\n",
       "    }\n",
       "\n",
       "    .dataframe thead th {\n",
       "        text-align: right;\n",
       "    }\n",
       "</style>\n",
       "<table border=\"1\" class=\"dataframe\">\n",
       "  <thead>\n",
       "    <tr style=\"text-align: right;\">\n",
       "      <th></th>\n",
       "      <th>v</th>\n",
       "      <th>t</th>\n",
       "      <th>dy_dt</th>\n",
       "    </tr>\n",
       "  </thead>\n",
       "  <tbody>\n",
       "    <tr>\n",
       "      <th>0</th>\n",
       "      <td>0.000000</td>\n",
       "      <td>0</td>\n",
       "      <td>9.800000</td>\n",
       "    </tr>\n",
       "    <tr>\n",
       "      <th>1</th>\n",
       "      <td>19.590210</td>\n",
       "      <td>2</td>\n",
       "      <td>9.785316</td>\n",
       "    </tr>\n",
       "    <tr>\n",
       "      <th>2</th>\n",
       "      <td>39.121684</td>\n",
       "      <td>4</td>\n",
       "      <td>9.741263</td>\n",
       "    </tr>\n",
       "    <tr>\n",
       "      <th>3</th>\n",
       "      <td>58.535683</td>\n",
       "      <td>6</td>\n",
       "      <td>9.667841</td>\n",
       "    </tr>\n",
       "    <tr>\n",
       "      <th>4</th>\n",
       "      <td>77.773470</td>\n",
       "      <td>8</td>\n",
       "      <td>9.565051</td>\n",
       "    </tr>\n",
       "    <tr>\n",
       "      <th>5</th>\n",
       "      <td>96.776309</td>\n",
       "      <td>10</td>\n",
       "      <td>9.432893</td>\n",
       "    </tr>\n",
       "    <tr>\n",
       "      <th>6</th>\n",
       "      <td>115.485463</td>\n",
       "      <td>12</td>\n",
       "      <td>9.271366</td>\n",
       "    </tr>\n",
       "    <tr>\n",
       "      <th>7</th>\n",
       "      <td>133.842193</td>\n",
       "      <td>14</td>\n",
       "      <td>9.080470</td>\n",
       "    </tr>\n",
       "    <tr>\n",
       "      <th>8</th>\n",
       "      <td>151.787763</td>\n",
       "      <td>16</td>\n",
       "      <td>8.860206</td>\n",
       "    </tr>\n",
       "    <tr>\n",
       "      <th>9</th>\n",
       "      <td>169.263436</td>\n",
       "      <td>18</td>\n",
       "      <td>8.610573</td>\n",
       "    </tr>\n",
       "    <tr>\n",
       "      <th>10</th>\n",
       "      <td>186.210475</td>\n",
       "      <td>20</td>\n",
       "      <td>8.331571</td>\n",
       "    </tr>\n",
       "  </tbody>\n",
       "</table>\n",
       "</div>"
      ]
     },
     "execution_count": 13,
     "metadata": {},
     "output_type": "execute_result"
    }
   ],
   "execution_count": 13
  },
  {
   "metadata": {
    "ExecuteTime": {
     "end_time": "2025-03-13T08:41:14.830146Z",
     "start_time": "2025-03-13T08:41:14.684456Z"
    }
   },
   "cell_type": "code",
   "source": [
    "df_error = calculate_error(df_all)\n",
    "df_error.plot(x='t', y=['euler', 'heun', 'rk4'])\n",
    "plt.grid()"
   ],
   "id": "edc6c297142b54c8",
   "outputs": [
    {
     "data": {
      "text/plain": [
       "<Figure size 640x480 with 1 Axes>"
      ],
      "image/png": "[encoded data removed]"
     },
     "metadata": {},
     "output_type": "display_data"
    }
   ],
   "execution_count": 14
  },
  {
   "metadata": {
    "ExecuteTime": {
     "end_time": "2025-03-13T08:41:15.045604Z",
     "start_time": "2025-03-13T08:41:14.903815Z"
    }
   },
   "cell_type": "code",
   "source": "df_all.plot(x='t', y=['analytical','euler', 'heun', 'rk4'])",
   "id": "ed2f61225dda42e4",
   "outputs": [
    {
     "data": {
      "text/plain": [
       "<Axes: xlabel='t'>"
      ]
     },
     "execution_count": 15,
     "metadata": {},
     "output_type": "execute_result"
    },
    {
     "data": {
      "text/plain": [
       "<Figure size 640x480 with 1 Axes>"
      ],
      "image/png": "[encoded data removed]"
     },
     "metadata": {},
     "output_type": "display_data"
    }
   ],
   "execution_count": 15
  },
  {
   "metadata": {
    "ExecuteTime": {
     "end_time": "2025-03-13T08:41:15.095042Z",
     "start_time": "2025-03-13T08:41:15.089219Z"
    }
   },
   "cell_type": "code",
   "source": "df_error",
   "id": "b7b0be794ddfb640",
   "outputs": [
    {
     "data": {
      "text/plain": [
       "     t       euler        heun         rk4\n",
       "0    0    0.000000    0.000000    0.000000\n",
       "1    2    0.889045    0.874361    0.879256\n",
       "2    4    6.087481    6.028744    6.038534\n",
       "3    6   16.608508   16.476349   16.491033\n",
       "4    8   31.062281   30.827333   30.846912\n",
       "5   10   47.727074   47.359966   47.384440\n",
       "6   12   65.395529   64.866895   64.896263\n",
       "7   14   83.367772   82.648242   82.682506\n",
       "8   16  101.259373  100.319578  100.358736\n",
       "9   18  118.853173  117.663746  117.707799\n",
       "10  20         NaN         NaN         NaN"
      ],
      "text/html": [
       "<div>\n",
       "<style scoped>\n",
       "    .dataframe tbody tr th:only-of-type {\n",
       "        vertical-align: middle;\n",
       "    }\n",
       "\n",
       "    .dataframe tbody tr th {\n",
       "        vertical-align: top;\n",
       "    }\n",
       "\n",
       "    .dataframe thead th {\n",
       "        text-align: right;\n",
       "    }\n",
       "</style>\n",
       "<table border=\"1\" class=\"dataframe\">\n",
       "  <thead>\n",
       "    <tr style=\"text-align: right;\">\n",
       "      <th></th>\n",
       "      <th>t</th>\n",
       "      <th>euler</th>\n",
       "      <th>heun</th>\n",
       "      <th>rk4</th>\n",
       "    </tr>\n",
       "  </thead>\n",
       "  <tbody>\n",
       "    <tr>\n",
       "      <th>0</th>\n",
       "      <td>0</td>\n",
       "      <td>0.000000</td>\n",
       "      <td>0.000000</td>\n",
       "      <td>0.000000</td>\n",
       "    </tr>\n",
       "    <tr>\n",
       "      <th>1</th>\n",
       "      <td>2</td>\n",
       "      <td>0.889045</td>\n",
       "      <td>0.874361</td>\n",
       "      <td>0.879256</td>\n",
       "    </tr>\n",
       "    <tr>\n",
       "      <th>2</th>\n",
       "      <td>4</td>\n",
       "      <td>6.087481</td>\n",
       "      <td>6.028744</td>\n",
       "      <td>6.038534</td>\n",
       "    </tr>\n",
       "    <tr>\n",
       "      <th>3</th>\n",
       "      <td>6</td>\n",
       "      <td>16.608508</td>\n",
       "      <td>16.476349</td>\n",
       "      <td>16.491033</td>\n",
       "    </tr>\n",
       "    <tr>\n",
       "      <th>4</th>\n",
       "      <td>8</td>\n",
       "      <td>31.062281</td>\n",
       "      <td>30.827333</td>\n",
       "      <td>30.846912</td>\n",
       "    </tr>\n",
       "    <tr>\n",
       "      <th>5</th>\n",
       "      <td>10</td>\n",
       "      <td>47.727074</td>\n",
       "      <td>47.359966</td>\n",
       "      <td>47.384440</td>\n",
       "    </tr>\n",
       "    <tr>\n",
       "      <th>6</th>\n",
       "      <td>12</td>\n",
       "      <td>65.395529</td>\n",
       "      <td>64.866895</td>\n",
       "      <td>64.896263</td>\n",
       "    </tr>\n",
       "    <tr>\n",
       "      <th>7</th>\n",
       "      <td>14</td>\n",
       "      <td>83.367772</td>\n",
       "      <td>82.648242</td>\n",
       "      <td>82.682506</td>\n",
       "    </tr>\n",
       "    <tr>\n",
       "      <th>8</th>\n",
       "      <td>16</td>\n",
       "      <td>101.259373</td>\n",
       "      <td>100.319578</td>\n",
       "      <td>100.358736</td>\n",
       "    </tr>\n",
       "    <tr>\n",
       "      <th>9</th>\n",
       "      <td>18</td>\n",
       "      <td>118.853173</td>\n",
       "      <td>117.663746</td>\n",
       "      <td>117.707799</td>\n",
       "    </tr>\n",
       "    <tr>\n",
       "      <th>10</th>\n",
       "      <td>20</td>\n",
       "      <td>NaN</td>\n",
       "      <td>NaN</td>\n",
       "      <td>NaN</td>\n",
       "    </tr>\n",
       "  </tbody>\n",
       "</table>\n",
       "</div>"
      ]
     },
     "execution_count": 16,
     "metadata": {},
     "output_type": "execute_result"
    }
   ],
   "execution_count": 16
  },
  {
   "metadata": {
    "ExecuteTime": {
     "end_time": "2025-03-13T08:41:15.168821Z",
     "start_time": "2025-03-13T08:41:15.167116Z"
    }
   },
   "cell_type": "code",
   "source": "",
   "id": "225f38ce94969d37",
   "outputs": [],
   "execution_count": null
  }
 ],
 "metadata": {
  "kernelspec": {
   "display_name": "Python 3",
   "language": "python",
   "name": "python3"
  },
  "language_info": {
   "codemirror_mode": {
    "name": "ipython",
    "version": 2
   },
   "file_extension": ".py",
   "mimetype": "text/x-python",
   "name": "python",
   "nbconvert_exporter": "python",
   "pygments_lexer": "ipython2",
   "version": "2.7.6"
  }
 },
 "nbformat": 4,
 "nbformat_minor": 5
}
