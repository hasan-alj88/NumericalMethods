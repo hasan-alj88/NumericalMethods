{
 "cells": [
  {
   "cell_type": "code",
   "id": "initial_id",
   "metadata": {
    "collapsed": true,
    "ExecuteTime": {
     "end_time": "2025-03-03T06:15:36.188276Z",
     "start_time": "2025-03-03T06:15:35.431853Z"
    }
   },
   "source": [
    "import pandas as pd\n",
    "import matplotlib.pyplot as plt\n",
    "\n",
    "from ODE.FirstOrder.FirstOrderODEEulerMethod import FirstOrderODEEulerMethod\n",
    "from ODE.FirstOrder.FirstOrderODEHeunMethod import FirstOrderODEHeunMethod\n",
    "from StopConditions.StopAtPlateau import StopAtPlateau\n",
    "from IPython.display import clear_output\n",
    "\n",
    "import numpy as np"
   ],
   "outputs": [],
   "execution_count": 1
  },
  {
   "metadata": {
    "ExecuteTime": {
     "end_time": "2025-03-03T06:15:36.198076Z",
     "start_time": "2025-03-03T06:15:36.192596Z"
    }
   },
   "cell_type": "code",
   "source": [
    "def bungee_jumper_velocity(m, cd, t, g=9.8):\n",
    "    return np.sqrt(g * m / cd) * np.tanh(np.sqrt(g*cd/m) * t)\n",
    "\n",
    "def bungee_jumper_acceleration(m, cd, v, g=9.8):\n",
    "    return g - (cd * v ** 2 /m)\n",
    "\n",
    "if __name__ == '__main__':\n",
    "    m  = 68.1 # kg\n",
    "    cd = 0.25 # kg/m\n",
    "    v0 = 0    # m/s\n",
    "    dt = 2    # s\n",
    "    \n",
    "    a = lambda x,t: bungee_jumper_acceleration(m, cd, x)"
   ],
   "id": "ece23c5249873453",
   "outputs": [],
   "execution_count": 2
  },
  {
   "metadata": {},
   "cell_type": "markdown",
   "source": [
    "# Solve Analytically\n",
    "\n",
    "$$ \\frac{dv}{dt} = g - \\frac{C_d v^2}{m} $$\n",
    "$$ v(t) = \\sqrt{\\frac{m g}{C_d}} \\tanh{(\\sqrt{\\frac{g C_d}{m}} t)}  $$\n"
   ],
   "id": "136a5e32ffac8dc"
  },
  {
   "metadata": {
    "ExecuteTime": {
     "end_time": "2025-03-03T06:15:36.439899Z",
     "start_time": "2025-03-03T06:15:36.279222Z"
    }
   },
   "cell_type": "code",
   "source": [
    "analytical_df = pd.DataFrame(\n",
    "    data=dict(\n",
    "        t=np.arange(0, 20, dt/10)\n",
    "    )\n",
    ")\n",
    "analytical_df['x'] = bungee_jumper_velocity(m, cd, analytical_df['t'])\n",
    "analytical_df.plot(x='t', y='x', linestyle='-')\n",
    "plt.grid()"
   ],
   "id": "8df71eb9b351a27f",
   "outputs": [
    {
     "data": {
      "text/plain": [
       "<Figure size 640x480 with 1 Axes>"
      ],
      "image/png": "[encoded data removed]"
     },
     "metadata": {},
     "output_type": "display_data"
    }
   ],
   "execution_count": 3
  },
  {
   "metadata": {},
   "cell_type": "markdown",
   "source": [
    "# Euler Method\n",
    "$$ \\frac{dx}{dt} = f(x,t) $$\n",
    "$$ x_{n+1} = x_{n} - \\Delta t * f(x,t) $$"
   ],
   "id": "d59400094f9776c3"
  },
  {
   "metadata": {
    "ExecuteTime": {
     "end_time": "2025-03-03T06:15:36.476837Z",
     "start_time": "2025-03-03T06:15:36.450205Z"
    }
   },
   "cell_type": "code",
   "source": [
    "euler_solver = FirstOrderODEEulerMethod(\n",
    "    derivative_function=a, t0=0, x0=v0, dt=dt)\n",
    "euler_solver_df = euler_solver.run()\n",
    "clear_output()"
   ],
   "id": "7f7da455cfa9cdc8",
   "outputs": [
    {
     "name": "stdout",
     "output_type": "stream",
     "text": [
      "2025-03-03 09:15:36,451 - FirstOrderODEEulerMethod - INFO - Numerical.py:run:102 - Starting FirstOrderODEEulerMethod\n",
      "2025-03-03 09:15:36,452 - FirstOrderODEEulerMethod - INFO - Numerical.py:initialize:48 - Initial state:{'x': 0, 't': 0, 'dt': 2, 'dx_dt': 9.8}\n",
      "2025-03-03 09:15:36,453 - FirstOrderODEEulerMethod - INFO - Numerical.py:run:107 - Iteration 1 completed\n",
      "Stop condition [StopIfGreaterThan] not met: Variable t is less than 20\n",
      "Stop condition [StopIfNaN      ] not met: No NaN values found\n",
      "2025-03-03 09:15:36,453 - FirstOrderODEEulerMethod - INFO - Numerical.py:run:112 - State: \n",
      "{'x': 19.6, 't': 2, 'dt': 2, 'dx_dt': 9.8}\n",
      "\n",
      "2025-03-03 09:15:36,454 - FirstOrderODEEulerMethod - INFO - Numerical.py:run:107 - Iteration 2 completed\n",
      "Stop condition [StopIfGreaterThan] not met: Variable t is less than 20\n",
      "Stop condition [StopIfNaN      ] not met: No NaN values found\n",
      "2025-03-03 09:15:36,455 - FirstOrderODEEulerMethod - INFO - Numerical.py:run:112 - State: \n",
      "{'x': 36.37944199706314, 't': 4, 'dt': 2, 'dx_dt': 8.38972099853157}\n",
      "\n",
      "2025-03-03 09:15:36,455 - FirstOrderODEEulerMethod - INFO - Numerical.py:run:107 - Iteration 3 completed\n",
      "Stop condition [StopIfGreaterThan] not met: Variable t is less than 20\n",
      "Stop condition [StopIfNaN      ] not met: No NaN values found\n",
      "2025-03-03 09:15:36,456 - FirstOrderODEEulerMethod - INFO - Numerical.py:run:112 - State: \n",
      "{'x': 46.262380322924514, 't': 6, 'dt': 2, 'dx_dt': 4.9414691629306855}\n",
      "\n",
      "2025-03-03 09:15:36,457 - FirstOrderODEEulerMethod - INFO - Numerical.py:run:107 - Iteration 4 completed\n",
      "Stop condition [StopIfGreaterThan] not met: Variable t is less than 20\n",
      "Stop condition [StopIfNaN      ] not met: No NaN values found\n",
      "2025-03-03 09:15:36,458 - FirstOrderODEEulerMethod - INFO - Numerical.py:run:112 - State: \n",
      "{'x': 50.14866642319681, 't': 8, 'dt': 2, 'dx_dt': 1.9431430501361477}\n",
      "\n",
      "2025-03-03 09:15:36,458 - FirstOrderODEEulerMethod - INFO - Numerical.py:run:107 - Iteration 5 completed\n",
      "Stop condition [StopIfGreaterThan] not met: Variable t is less than 20\n",
      "Stop condition [StopIfNaN      ] not met: No NaN values found\n",
      "2025-03-03 09:15:36,459 - FirstOrderODEEulerMethod - INFO - Numerical.py:run:112 - State: \n",
      "{'x': 51.28399135693347, 't': 10, 'dt': 2, 'dx_dt': 0.5676624668683292}\n",
      "\n",
      "2025-03-03 09:15:36,460 - FirstOrderODEEulerMethod - INFO - Numerical.py:run:107 - Iteration 6 completed\n",
      "Stop condition [StopIfGreaterThan] not met: Variable t is less than 20\n",
      "Stop condition [StopIfNaN      ] not met: No NaN values found\n",
      "2025-03-03 09:15:36,460 - FirstOrderODEEulerMethod - INFO - Numerical.py:run:112 - State: \n",
      "{'x': 51.57380215357057, 't': 12, 'dt': 2, 'dx_dt': 0.1449053983185511}\n",
      "\n",
      "2025-03-03 09:15:36,461 - FirstOrderODEEulerMethod - INFO - Numerical.py:run:107 - Iteration 7 completed\n",
      "Stop condition [StopIfGreaterThan] not met: Variable t is less than 20\n",
      "Stop condition [StopIfNaN      ] not met: No NaN values found\n",
      "2025-03-03 09:15:36,461 - FirstOrderODEEulerMethod - INFO - Numerical.py:run:112 - State: \n",
      "{'x': 51.644748786642225, 't': 14, 'dt': 2, 'dx_dt': 0.0354733165358283}\n",
      "\n",
      "2025-03-03 09:15:36,462 - FirstOrderODEEulerMethod - INFO - Numerical.py:run:107 - Iteration 8 completed\n",
      "Stop condition [StopIfGreaterThan] not met: Variable t is less than 20\n",
      "Stop condition [StopIfNaN      ] not met: No NaN values found\n",
      "2025-03-03 09:15:36,462 - FirstOrderODEEulerMethod - INFO - Numerical.py:run:112 - State: \n",
      "{'x': 51.661928836309016, 't': 16, 'dt': 2, 'dx_dt': 0.008590024833393883}\n",
      "\n",
      "2025-03-03 09:15:36,463 - FirstOrderODEEulerMethod - INFO - Numerical.py:run:107 - Iteration 9 completed\n",
      "Stop condition [StopIfGreaterThan] not met: Variable t is less than 20\n",
      "Stop condition [StopIfNaN      ] not met: No NaN values found\n",
      "2025-03-03 09:15:36,463 - FirstOrderODEEulerMethod - INFO - Numerical.py:run:112 - State: \n",
      "{'x': 51.66607794726454, 't': 18, 'dt': 2, 'dx_dt': 0.0020745554777636954}\n",
      "\n",
      "2025-03-03 09:15:36,464 - FirstOrderODEEulerMethod - INFO - Numerical.py:run:107 - Iteration 10 completed\n",
      "Stop condition [StopIfGreaterThan] not met: Variable t is less than 20\n",
      "Stop condition [StopIfNaN      ] not met: No NaN values found\n",
      "2025-03-03 09:15:36,465 - FirstOrderODEEulerMethod - INFO - Numerical.py:run:112 - State: \n",
      "{'x': 51.66707933894725, 't': 20, 'dt': 2, 'dx_dt': 0.0005006958413531493}\n",
      "\n",
      "2025-03-03 09:15:36,465 - FirstOrderODEEulerMethod - INFO - Numerical.py:run:107 - Iteration 11 completed\n",
      "Stop condition [StopIfGreaterThan] not met: Variable t is less than 20\n",
      "Stop condition [StopIfNaN      ] not met: No NaN values found\n",
      "2025-03-03 09:15:36,466 - FirstOrderODEEulerMethod - INFO - Numerical.py:run:112 - State: \n",
      "{'x': 51.66732098786744, 't': 22, 'dt': 2, 'dx_dt': 0.00012082446009742398}\n",
      "\n",
      "2025-03-03 09:15:36,466 - FirstOrderODEEulerMethod - INFO - Numerical.py:run:107 - Stop condition [StopIfGreaterThan] met    : Variable t is greater than 20\n",
      "Stop condition [StopIfNaN      ] not met: No NaN values found\n",
      "2025-03-03 09:15:36,467 - FirstOrderODEEulerMethod - INFO - Numerical.py:run:112 - State: \n",
      "{'x': 51.667379298709385, 't': 24, 'dt': 2, 'dx_dt': 2.915542097170487e-05}\n",
      "\n"
     ]
    },
    {
     "data": {
      "text/plain": [
       "            x   t  dt     dx_dt\n",
       "0    0.000000   0   2  9.800000\n",
       "1   19.600000   2   2  9.800000\n",
       "2   36.379442   4   2  8.389721\n",
       "3   46.262380   6   2  4.941469\n",
       "4   50.148666   8   2  1.943143\n",
       "5   51.283991  10   2  0.567662\n",
       "6   51.573802  12   2  0.144905\n",
       "7   51.644749  14   2  0.035473\n",
       "8   51.661929  16   2  0.008590\n",
       "9   51.666078  18   2  0.002075\n",
       "10  51.667079  20   2  0.000501\n",
       "11  51.667321  22   2  0.000121\n",
       "12  51.667379  24   2  0.000029"
      ],
      "text/html": [
       "<div>\n",
       "<style scoped>\n",
       "    .dataframe tbody tr th:only-of-type {\n",
       "        vertical-align: middle;\n",
       "    }\n",
       "\n",
       "    .dataframe tbody tr th {\n",
       "        vertical-align: top;\n",
       "    }\n",
       "\n",
       "    .dataframe thead th {\n",
       "        text-align: right;\n",
       "    }\n",
       "</style>\n",
       "<table border=\"1\" class=\"dataframe\">\n",
       "  <thead>\n",
       "    <tr style=\"text-align: right;\">\n",
       "      <th></th>\n",
       "      <th>x</th>\n",
       "      <th>t</th>\n",
       "      <th>dt</th>\n",
       "      <th>dx_dt</th>\n",
       "    </tr>\n",
       "  </thead>\n",
       "  <tbody>\n",
       "    <tr>\n",
       "      <th>0</th>\n",
       "      <td>0.000000</td>\n",
       "      <td>0</td>\n",
       "      <td>2</td>\n",
       "      <td>9.800000</td>\n",
       "    </tr>\n",
       "    <tr>\n",
       "      <th>1</th>\n",
       "      <td>19.600000</td>\n",
       "      <td>2</td>\n",
       "      <td>2</td>\n",
       "      <td>9.800000</td>\n",
       "    </tr>\n",
       "    <tr>\n",
       "      <th>2</th>\n",
       "      <td>36.379442</td>\n",
       "      <td>4</td>\n",
       "      <td>2</td>\n",
       "      <td>8.389721</td>\n",
       "    </tr>\n",
       "    <tr>\n",
       "      <th>3</th>\n",
       "      <td>46.262380</td>\n",
       "      <td>6</td>\n",
       "      <td>2</td>\n",
       "      <td>4.941469</td>\n",
       "    </tr>\n",
       "    <tr>\n",
       "      <th>4</th>\n",
       "      <td>50.148666</td>\n",
       "      <td>8</td>\n",
       "      <td>2</td>\n",
       "      <td>1.943143</td>\n",
       "    </tr>\n",
       "    <tr>\n",
       "      <th>5</th>\n",
       "      <td>51.283991</td>\n",
       "      <td>10</td>\n",
       "      <td>2</td>\n",
       "      <td>0.567662</td>\n",
       "    </tr>\n",
       "    <tr>\n",
       "      <th>6</th>\n",
       "      <td>51.573802</td>\n",
       "      <td>12</td>\n",
       "      <td>2</td>\n",
       "      <td>0.144905</td>\n",
       "    </tr>\n",
       "    <tr>\n",
       "      <th>7</th>\n",
       "      <td>51.644749</td>\n",
       "      <td>14</td>\n",
       "      <td>2</td>\n",
       "      <td>0.035473</td>\n",
       "    </tr>\n",
       "    <tr>\n",
       "      <th>8</th>\n",
       "      <td>51.661929</td>\n",
       "      <td>16</td>\n",
       "      <td>2</td>\n",
       "      <td>0.008590</td>\n",
       "    </tr>\n",
       "    <tr>\n",
       "      <th>9</th>\n",
       "      <td>51.666078</td>\n",
       "      <td>18</td>\n",
       "      <td>2</td>\n",
       "      <td>0.002075</td>\n",
       "    </tr>\n",
       "    <tr>\n",
       "      <th>10</th>\n",
       "      <td>51.667079</td>\n",
       "      <td>20</td>\n",
       "      <td>2</td>\n",
       "      <td>0.000501</td>\n",
       "    </tr>\n",
       "    <tr>\n",
       "      <th>11</th>\n",
       "      <td>51.667321</td>\n",
       "      <td>22</td>\n",
       "      <td>2</td>\n",
       "      <td>0.000121</td>\n",
       "    </tr>\n",
       "    <tr>\n",
       "      <th>12</th>\n",
       "      <td>51.667379</td>\n",
       "      <td>24</td>\n",
       "      <td>2</td>\n",
       "      <td>0.000029</td>\n",
       "    </tr>\n",
       "  </tbody>\n",
       "</table>\n",
       "</div>"
      ]
     },
     "metadata": {},
     "output_type": "display_data"
    }
   ],
   "execution_count": 4
  },
  {
   "metadata": {},
   "cell_type": "code",
   "source": "euler_solver_df",
   "id": "7b26a1bf90eefe55",
   "outputs": [],
   "execution_count": null
  },
  {
   "metadata": {
    "ExecuteTime": {
     "end_time": "2025-03-03T06:16:00.561473Z",
     "start_time": "2025-03-03T06:16:00.550551Z"
    }
   },
   "cell_type": "markdown",
   "source": [
    "# Henus Method\n",
    "\n",
    "$$ x_{predicted} = x_n + \\Delta t \\times f(x,t) $$\n"
   ],
   "id": "41c2425781bb1e71"
  },
  {
   "metadata": {
    "ExecuteTime": {
     "end_time": "2025-03-03T06:15:37.230564Z",
     "start_time": "2025-03-03T06:15:36.600885Z"
    }
   },
   "cell_type": "code",
   "source": [
    "heun_solver = FirstOrderODEHeunMethod(\n",
    "    derivative_function=a, t0=0, x0=v0, dt=dt,\n",
    "    stop_conditions=[StopAtPlateau(tracking='x', patience=2)]\n",
    ")\n",
    "heun_solver_df = heun_solver.run()\n",
    "clear_output()\n",
    "heun_solver_df"
   ],
   "id": "eaa782bc79b26b14",
   "outputs": [
    {
     "ename": "ValueError",
     "evalue": "Variable 'x' not found in history. Available variables: ['x_c', 'x_p', 't', 'dt', 'dx_dt']",
     "output_type": "error",
     "traceback": [
      "\u001B[0;31m---------------------------------------------------------------------------\u001B[0m",
      "\u001B[0;31mValueError\u001B[0m                                Traceback (most recent call last)",
      "Cell \u001B[0;32mIn[6], line 14\u001B[0m\n\u001B[1;32m      9\u001B[0m ax\u001B[38;5;241m.\u001B[39mplot(analytical_df[\u001B[38;5;124m'\u001B[39m\u001B[38;5;124mt\u001B[39m\u001B[38;5;124m'\u001B[39m], analytical_df[\u001B[38;5;124m'\u001B[39m\u001B[38;5;124mx\u001B[39m\u001B[38;5;124m'\u001B[39m], color\u001B[38;5;241m=\u001B[39m\u001B[38;5;124m'\u001B[39m\u001B[38;5;124mred\u001B[39m\u001B[38;5;124m'\u001B[39m, label\u001B[38;5;241m=\u001B[39m\u001B[38;5;124m'\u001B[39m\u001B[38;5;124mAnalytical solution\u001B[39m\u001B[38;5;124m'\u001B[39m)\n\u001B[1;32m     11\u001B[0m euler_solver\u001B[38;5;241m.\u001B[39mhistory\u001B[38;5;241m.\u001B[39mplot(x_var\u001B[38;5;241m=\u001B[39m\u001B[38;5;124m'\u001B[39m\u001B[38;5;124mt\u001B[39m\u001B[38;5;124m'\u001B[39m, y_var\u001B[38;5;241m=\u001B[39m\u001B[38;5;124m'\u001B[39m\u001B[38;5;124mx\u001B[39m\u001B[38;5;124m'\u001B[39m, ax\u001B[38;5;241m=\u001B[39max, color\u001B[38;5;241m=\u001B[39m\u001B[38;5;124m'\u001B[39m\u001B[38;5;124mblue\u001B[39m\u001B[38;5;124m'\u001B[39m,\n\u001B[1;32m     12\u001B[0m                     label\u001B[38;5;241m=\u001B[39m\u001B[38;5;124m'\u001B[39m\u001B[38;5;124mEuler method\u001B[39m\u001B[38;5;124m'\u001B[39m, linestyle\u001B[38;5;241m=\u001B[39m\u001B[38;5;124m'\u001B[39m\u001B[38;5;124m:\u001B[39m\u001B[38;5;124m'\u001B[39m, marker\u001B[38;5;241m=\u001B[39m\u001B[38;5;124m'\u001B[39m\u001B[38;5;124mo\u001B[39m\u001B[38;5;124m'\u001B[39m)\n\u001B[0;32m---> 14\u001B[0m heun_solver\u001B[38;5;241m.\u001B[39mhistory\u001B[38;5;241m.\u001B[39mplot(x_var\u001B[38;5;241m=\u001B[39m\u001B[38;5;124m'\u001B[39m\u001B[38;5;124mt\u001B[39m\u001B[38;5;124m'\u001B[39m, y_var\u001B[38;5;241m=\u001B[39m\u001B[38;5;124m'\u001B[39m\u001B[38;5;124mx\u001B[39m\u001B[38;5;124m'\u001B[39m, ax\u001B[38;5;241m=\u001B[39max, color\u001B[38;5;241m=\u001B[39m\u001B[38;5;124m'\u001B[39m\u001B[38;5;124mgreen\u001B[39m\u001B[38;5;124m'\u001B[39m,\n\u001B[1;32m     15\u001B[0m                      label\u001B[38;5;241m=\u001B[39m\u001B[38;5;124m'\u001B[39m\u001B[38;5;124mHeun method\u001B[39m\u001B[38;5;124m'\u001B[39m, linestyle\u001B[38;5;241m=\u001B[39m\u001B[38;5;124m'\u001B[39m\u001B[38;5;124m:\u001B[39m\u001B[38;5;124m'\u001B[39m, marker\u001B[38;5;241m=\u001B[39m\u001B[38;5;124m'\u001B[39m\u001B[38;5;124mo\u001B[39m\u001B[38;5;124m'\u001B[39m)\n\u001B[1;32m     17\u001B[0m ax\u001B[38;5;241m.\u001B[39mlegend()\n\u001B[1;32m     18\u001B[0m ax\u001B[38;5;241m.\u001B[39mset_xlim(\u001B[38;5;241m0\u001B[39m, \u001B[38;5;241m20\u001B[39m)\n",
      "File \u001B[0;32m~/PycharmProjects/NumericalMethods/Core/NumericalHistory.py:84\u001B[0m, in \u001B[0;36mNumericalHistory.plot\u001B[0;34m(self, x_var, y_var, ax, *args, **kwargs)\u001B[0m\n\u001B[1;32m     81\u001B[0m     \u001B[38;5;28;01mraise\u001B[39;00m \u001B[38;5;167;01mValueError\u001B[39;00m(\u001B[38;5;124mf\u001B[39m\u001B[38;5;124m\"\u001B[39m\u001B[38;5;124mVariable \u001B[39m\u001B[38;5;124m'\u001B[39m\u001B[38;5;132;01m{\u001B[39;00mx_var\u001B[38;5;132;01m}\u001B[39;00m\u001B[38;5;124m'\u001B[39m\u001B[38;5;124m not found in history. \u001B[39m\u001B[38;5;124m\"\u001B[39m\n\u001B[1;32m     82\u001B[0m                      \u001B[38;5;124mf\u001B[39m\u001B[38;5;124m\"\u001B[39m\u001B[38;5;124mAvailable variables: \u001B[39m\u001B[38;5;132;01m{\u001B[39;00m\u001B[38;5;28mlist\u001B[39m(history\u001B[38;5;241m.\u001B[39mcolumns)\u001B[38;5;132;01m}\u001B[39;00m\u001B[38;5;124m\"\u001B[39m)\n\u001B[1;32m     83\u001B[0m \u001B[38;5;28;01mif\u001B[39;00m y_var \u001B[38;5;129;01mnot\u001B[39;00m \u001B[38;5;129;01min\u001B[39;00m history\u001B[38;5;241m.\u001B[39mcolumns:\n\u001B[0;32m---> 84\u001B[0m     \u001B[38;5;28;01mraise\u001B[39;00m \u001B[38;5;167;01mValueError\u001B[39;00m(\u001B[38;5;124mf\u001B[39m\u001B[38;5;124m\"\u001B[39m\u001B[38;5;124mVariable \u001B[39m\u001B[38;5;124m'\u001B[39m\u001B[38;5;132;01m{\u001B[39;00my_var\u001B[38;5;132;01m}\u001B[39;00m\u001B[38;5;124m'\u001B[39m\u001B[38;5;124m not found in history. \u001B[39m\u001B[38;5;124m\"\u001B[39m\n\u001B[1;32m     85\u001B[0m                      \u001B[38;5;124mf\u001B[39m\u001B[38;5;124m\"\u001B[39m\u001B[38;5;124mAvailable variables: \u001B[39m\u001B[38;5;132;01m{\u001B[39;00m\u001B[38;5;28mlist\u001B[39m(history\u001B[38;5;241m.\u001B[39mcolumns)\u001B[38;5;132;01m}\u001B[39;00m\u001B[38;5;124m\"\u001B[39m)\n\u001B[1;32m     87\u001B[0m xdata \u001B[38;5;241m=\u001B[39m history[x_var] \u001B[38;5;28;01mif\u001B[39;00m x_var \u001B[38;5;129;01mis\u001B[39;00m \u001B[38;5;129;01mnot\u001B[39;00m \u001B[38;5;28;01mNone\u001B[39;00m \u001B[38;5;28;01melse\u001B[39;00m history\u001B[38;5;241m.\u001B[39mindex\n\u001B[1;32m     88\u001B[0m ydata \u001B[38;5;241m=\u001B[39m history[y_var]\n",
      "\u001B[0;31mValueError\u001B[0m: Variable 'x' not found in history. Available variables: ['x_c', 'x_p', 't', 'dt', 'dx_dt']"
     ]
    },
    {
     "data": {
      "text/plain": [
       "<Figure size 1000x1000 with 1 Axes>"
      ],
      "image/png": "[encoded data removed]"
     },
     "metadata": {},
     "output_type": "display_data"
    }
   ],
   "execution_count": 6
  },
  {
   "metadata": {
    "ExecuteTime": {
     "end_time": "2025-03-03T06:16:10.663254Z",
     "start_time": "2025-03-03T06:16:10.654220Z"
    }
   },
   "cell_type": "code",
   "source": [
    "import matplotlib.pyplot as plt\n",
    "fig = plt.figure(figsize=(10, 10))\n",
    "ax = fig.add_subplot(111)\n",
    "ax.grid()\n",
    "ax.set_title('Bungee Jumper')\n",
    "ax.set_xlabel('Time (s)')\n",
    "ax.set_ylabel('Velocity (m/s)')\n",
    "\n",
    "ax.plot(analytical_df['t'], analytical_df['x'], color='red', label='Analytical solution')\n",
    "\n",
    "euler_solver.plot_history(x_var='t', y_var='x', ax=ax, color='blue',\n",
    "                    label='Euler method', linestyle=':', marker='o')\n",
    "\n",
    "heun_solver.plot_history(x_var='t', y_var='x', ax=ax, color='green',\n",
    "                     label='Heun method', linestyle=':', marker='o')\n",
    "\n",
    "ax.legend()\n",
    "ax.set_xlim(0, 20)"
   ],
   "id": "8ec31e86133ad95e",
   "outputs": [
    {
     "data": {
      "text/plain": [
       "   x_c  x_p  t  dt  dx_dt\n",
       "0  0.0    0  0   2    9.8"
      ],
      "text/html": [
       "<div>\n",
       "<style scoped>\n",
       "    .dataframe tbody tr th:only-of-type {\n",
       "        vertical-align: middle;\n",
       "    }\n",
       "\n",
       "    .dataframe tbody tr th {\n",
       "        vertical-align: top;\n",
       "    }\n",
       "\n",
       "    .dataframe thead th {\n",
       "        text-align: right;\n",
       "    }\n",
       "</style>\n",
       "<table border=\"1\" class=\"dataframe\">\n",
       "  <thead>\n",
       "    <tr style=\"text-align: right;\">\n",
       "      <th></th>\n",
       "      <th>x_c</th>\n",
       "      <th>x_p</th>\n",
       "      <th>t</th>\n",
       "      <th>dt</th>\n",
       "      <th>dx_dt</th>\n",
       "    </tr>\n",
       "  </thead>\n",
       "  <tbody>\n",
       "    <tr>\n",
       "      <th>0</th>\n",
       "      <td>0.0</td>\n",
       "      <td>0</td>\n",
       "      <td>0</td>\n",
       "      <td>2</td>\n",
       "      <td>9.8</td>\n",
       "    </tr>\n",
       "  </tbody>\n",
       "</table>\n",
       "</div>"
      ]
     },
     "execution_count": 8,
     "metadata": {},
     "output_type": "execute_result"
    }
   ],
   "execution_count": 8
  },
  {
   "metadata": {},
   "cell_type": "code",
   "source": "euler_solver_df",
   "id": "8d14208ed853f380",
   "outputs": [],
   "execution_count": null
  },
  {
   "metadata": {},
   "cell_type": "code",
   "source": "",
   "id": "b39c15d3d02a7bd7",
   "outputs": [],
   "execution_count": null
  }
 ],
 "metadata": {
  "kernelspec": {
   "display_name": "Python 3",
   "language": "python",
   "name": "python3"
  },
  "language_info": {
   "codemirror_mode": {
    "name": "ipython",
    "version": 2
   },
   "file_extension": ".py",
   "mimetype": "text/x-python",
   "name": "python",
   "nbconvert_exporter": "python",
   "pygments_lexer": "ipython2",
   "version": "2.7.6"
  }
 },
 "nbformat": 4,
 "nbformat_minor": 5
}
