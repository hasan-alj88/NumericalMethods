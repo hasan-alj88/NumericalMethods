{
 "cells": [
  {
   "cell_type": "code",
   "execution_count": 1,
   "id": "initial_id",
   "metadata": {
    "ExecuteTime": {
     "end_time": "2025-03-13T18:51:49.709333Z",
     "start_time": "2025-03-13T18:51:48.142513Z"
    }
   },
   "outputs": [],
   "source": [
    "import pandas as pd\n",
    "import matplotlib.pyplot as plt\n",
    "from IPython.display import clear_output, Math, display\n",
    "\n",
    "import numpy as np"
   ]
  },
  {
   "cell_type": "code",
   "execution_count": 2,
   "id": "ece23c5249873453",
   "metadata": {
    "ExecuteTime": {
     "end_time": "2025-03-13T18:51:49.721167Z",
     "start_time": "2025-03-13T18:51:49.716383Z"
    }
   },
   "outputs": [],
   "source": [
    "def bungee_jumper_velocity(m, cd, t, g=9.8):\n",
    "    return np.sqrt(g * m / cd) * np.tanh(np.sqrt(g*cd/m) * t)\n",
    "\n",
    "def bungee_jumper_acceleration(m, cd, v, g=9.8):\n",
    "    return g - (cd * v ** 2 /m)\n",
    "\n",
    "data = dict(\n",
    "    m=68.1,\n",
    "    cd=0.25,\n",
    "    v0=0,\n",
    "    dt=1,\n",
    "    t0=0,\n",
    "    t_final=20,\n",
    ")\n",
    "\n",
    "acceleration = lambda  y,t: bungee_jumper_acceleration(m=data['m'], cd=data['cd'], v=y, g=9.8)"
   ]
  },
  {
   "cell_type": "markdown",
   "id": "136a5e32ffac8dc",
   "metadata": {},
   "source": [
    "# Solve Analytically\n",
    "\n",
    "$$ \\frac{dv}{dt} = g - \\frac{C_d v^2}{m} $$\n",
    "$$ v(t) = \\sqrt{\\frac{m g}{C_d}} \\tanh{(\\sqrt{\\frac{g C_d}{m}} t)}  $$\n"
   ]
  },
  {
   "cell_type": "code",
   "execution_count": 3,
   "id": "8df71eb9b351a27f",
   "metadata": {
    "ExecuteTime": {
     "end_time": "2025-03-13T18:51:50.631714Z",
     "start_time": "2025-03-13T18:51:50.221616Z"
    }
   },
   "outputs": [
    {
     "data": {
      "image/png": "[encoded data removed]",
      "text/plain": [
       "<Figure size 640x480 with 1 Axes>"
      ]
     },
     "metadata": {},
     "output_type": "display_data"
    }
   ],
   "source": [
    "analytical_df = pd.DataFrame(\n",
    "    data=dict(\n",
    "        t=np.arange(data['t0'], data['t_final'], data['dt'])\n",
    "    )\n",
    ")\n",
    "analytical_df['v'] = bungee_jumper_velocity(\n",
    "    m=data['m'], cd=data['cd'], t=analytical_df['t'], g=9.8)\n",
    "\n",
    "analytical_df.plot(x='t', y='v', linestyle='-')\n",
    "df_all = analytical_df.copy()\n",
    "df_all.rename(columns={'v': 'analytical'}, inplace=True)\n",
    "plt.grid()"
   ]
  },
  {
   "cell_type": "code",
   "execution_count": 4,
   "id": "509aeff7a9a282d5",
   "metadata": {
    "ExecuteTime": {
     "end_time": "2025-03-13T18:51:50.658308Z",
     "start_time": "2025-03-13T18:51:50.650181Z"
    }
   },
   "outputs": [],
   "source": [
    "def align_solver_data(solver_df, df, solver_name):\n",
    "    \"\"\"\n",
    "    Aligns time points between solver result and the collection dataframe,\n",
    "    then adds the solver's velocity data to the collection dataframe.\n",
    "\n",
    "    Parameters:\n",
    "    -----------\n",
    "    solver_df : pd.DataFrame\n",
    "        Result dataframe from the solver with 't' and 'v' columns\n",
    "    df : pd.DataFrame\n",
    "        Collection dataframe for velocity values from all solvers\n",
    "    solver_name : str\n",
    "        Name of the solver to use as column name\n",
    "\n",
    "    Returns:\n",
    "    --------\n",
    "    pd.DataFrame\n",
    "        Updated df_all dataframe with new solver data\n",
    "    \"\"\"\n",
    "    # Make sure we're not modifying the original dataframe\n",
    "    df = df.copy()\n",
    "\n",
    "    # Extract solver data with renamed column\n",
    "    solver_data = solver_df[['t', 'v']].copy()\n",
    "    solver_data = solver_data.rename(columns={'v': solver_name})\n",
    "\n",
    "    # Merge with existing collection dataframe\n",
    "    df = pd.merge(\n",
    "        df,\n",
    "        solver_data,\n",
    "        on='t',\n",
    "        how='outer'\n",
    "    )\n",
    "\n",
    "    return df\n",
    "\n",
    "\n",
    "def calculate_error(df, reference_col='analytical'):\n",
    "    \"\"\"\n",
    "    Calculates error for all solver columns in df compared to the reference column.\n",
    "\n",
    "    Parameters:\n",
    "    -----------\n",
    "    df : pd.DataFrame\n",
    "        Collection dataframe with velocity values from all solvers\n",
    "    reference_col : str\n",
    "        Name of the column to use as reference (typically the analytical solution)\n",
    "\n",
    "    Returns:\n",
    "    --------\n",
    "    pd.DataFrame\n",
    "        Error dataframe with columns for each solver's error\n",
    "    \"\"\"\n",
    "    # Create a new dataframe with only the time column\n",
    "    df_err = pd.DataFrame({'t': df['t']})\n",
    "\n",
    "    # Get all solver columns (excluding time and reference)\n",
    "    solver_cols = [col for col in df.columns if col != 't' and col != reference_col]\n",
    "\n",
    "    # Calculate errors for each solver\n",
    "    for solver in solver_cols:\n",
    "        df_err[solver] = (df[solver] - df[reference_col]).abs()\n",
    "\n",
    "    return df_err"
   ]
  },
  {
   "cell_type": "markdown",
   "id": "d59400094f9776c3",
   "metadata": {},
   "source": [
    "# Euler Method"
   ]
  },
  {
   "cell_type": "code",
   "execution_count": 5,
   "id": "731c9f174ed6d0a1",
   "metadata": {
    "ExecuteTime": {
     "end_time": "2025-03-13T18:51:51.535918Z",
     "start_time": "2025-03-13T18:51:50.706180Z"
    }
   },
   "outputs": [
    {
     "data": {
      "text/latex": [
       "$\\displaystyle \\text{Euler Method Butcher tableau}$"
      ],
      "text/plain": [
       "<IPython.core.display.Math object>"
      ]
     },
     "metadata": {},
     "output_type": "display_data"
    },
    {
     "data": {
      "text/latex": [
       "$\\displaystyle \\begin{array}{c|c}\n",
       "\\mathtt{\\text{0}} & \\mathtt{\\text{1}} \\\\\n",
       "\\hline\n",
       "0 & 1 \\\\\n",
       "\\end{array}$"
      ],
      "text/plain": [
       "<IPython.core.display.Math object>"
      ]
     },
     "metadata": {},
     "output_type": "display_data"
    }
   ],
   "source": [
    "from ODE.RungeKutta.RKEulerMethod import RKEulerMethod\n",
    "\n",
    "solver_euler = RKEulerMethod(\n",
    "    derivative_function=acceleration,\n",
    "    t0=data['t0'],\n",
    "    t_final=data['t_final'],\n",
    "    y0=data['v0'],\n",
    "    h=data['dt'],\n",
    "    y_label='v'\n",
    ")\n",
    "df_euler =solver_euler.run()\n",
    "clear_output()\n",
    "df_all = align_solver_data(\n",
    "    solver_name='euler',\n",
    "    solver_df=df_euler,\n",
    "    df=df_all\n",
    ")\n",
    "display(Math(r'\\text{Euler Method Butcher tableau}'))\n",
    "display(Math(solver_euler.butcher_tableau))"
   ]
  },
  {
   "cell_type": "markdown",
   "id": "911e139d1ac8d11c",
   "metadata": {},
   "source": [
    "# HeunMethod"
   ]
  },
  {
   "cell_type": "code",
   "execution_count": 6,
   "id": "d9e98552ef063416",
   "metadata": {
    "ExecuteTime": {
     "end_time": "2025-03-13T18:51:51.899419Z",
     "start_time": "2025-03-13T18:51:51.888708Z"
    }
   },
   "outputs": [
    {
     "data": {
      "text/latex": [
       "$\\displaystyle \\text{Heun Method Butcher tableau}$"
      ],
      "text/plain": [
       "<IPython.core.display.Math object>"
      ]
     },
     "metadata": {},
     "output_type": "display_data"
    },
    {
     "data": {
      "text/latex": [
       "$\\displaystyle \\begin{array}{c|cc}\n",
       "\\mathtt{\\text{0}} & \\mathtt{\\text{0}} & \\mathtt{\\text{0}} \\\\\n",
       "\\mathtt{\\text{1}} & \\mathtt{\\text{1}} & \\mathtt{\\text{0}} \\\\\n",
       "\\hline\n",
       "0 & 1/2 & 1/2 \\\\\n",
       "\\end{array}$"
      ],
      "text/plain": [
       "<IPython.core.display.Math object>"
      ]
     },
     "metadata": {},
     "output_type": "display_data"
    }
   ],
   "source": [
    "from ODE.RungeKutta.RKHeunMethod import RKHeunMethod\n",
    "solver_heun = RKHeunMethod(\n",
    "    derivative_function=acceleration,\n",
    "    t0=data['t0'],\n",
    "    t_final=data['t_final'],\n",
    "    y0=data['v0'],\n",
    "    h=data['dt'],\n",
    "    y_label='v'\n",
    ")\n",
    "df_heun = solver_heun.run()\n",
    "clear_output()\n",
    "df_all = align_solver_data(\n",
    "    solver_name='heun',\n",
    "    solver_df=df_heun,\n",
    "    df=df_all\n",
    ")\n",
    "display(Math(r'\\text{Heun Method Butcher tableau}'))\n",
    "display(Math(solver_heun.butcher_tableau))"
   ]
  },
  {
   "cell_type": "markdown",
   "id": "d124dc6be59decc8",
   "metadata": {},
   "source": [
    "# RungeKutta4"
   ]
  },
  {
   "cell_type": "code",
   "execution_count": 7,
   "id": "648a7816a9768f59",
   "metadata": {
    "ExecuteTime": {
     "end_time": "2025-03-13T18:51:52.239826Z",
     "start_time": "2025-03-13T18:51:52.228420Z"
    }
   },
   "outputs": [
    {
     "data": {
      "text/latex": [
       "$\\displaystyle \\text{Runge Kutta 4 Butcher tableau}$"
      ],
      "text/plain": [
       "<IPython.core.display.Math object>"
      ]
     },
     "metadata": {},
     "output_type": "display_data"
    },
    {
     "data": {
      "text/latex": [
       "$\\displaystyle \\begin{array}{c|cccc}\n",
       "0 & 0 & 0 & 0 & 0 \\\\\n",
       "\\frac{1}{2} & \\frac{1}{2} & 0 & 0 & 0 \\\\\n",
       "\\frac{1}{2} & 0 & \\frac{1}{2} & 0 & 0 \\\\\n",
       "1 & 0 & 0 & 1 & 0 \\\\\n",
       "\\hline\n",
       "0 & 1/6 & 1/3 & 1/3 & 1/6 \\\\\n",
       "\\end{array}$"
      ],
      "text/plain": [
       "<IPython.core.display.Math object>"
      ]
     },
     "metadata": {},
     "output_type": "display_data"
    }
   ],
   "source": [
    "from ODE.RungeKutta.RungeKutta4 import RungeKutta4\n",
    "\n",
    "solver_rk4 = RungeKutta4(\n",
    "    derivative_function=acceleration,\n",
    "    t0=data['t0'],\n",
    "    t_final=data['t_final'],\n",
    "    y0=data['v0'],\n",
    "    h=data['dt'],\n",
    "    y_label='v'\n",
    ")\n",
    "df_rk4 = solver_rk4.run()\n",
    "clear_output()\n",
    "df_all = align_solver_data(\n",
    "    solver_name='rk4',\n",
    "    solver_df=df_rk4,\n",
    "    df=df_all\n",
    ")\n",
    "display(Math(r'\\text{Runge Kutta 4 Butcher tableau}'))\n",
    "display(Math(solver_rk4.butcher_tableau))"
   ]
  },
  {
   "cell_type": "markdown",
   "id": "2990004377377bc5",
   "metadata": {},
   "source": [
    "# RK Cash Karp"
   ]
  },
  {
   "cell_type": "code",
   "execution_count": 8,
   "id": "103ae8e767a56432",
   "metadata": {
    "ExecuteTime": {
     "end_time": "2025-03-13T18:51:52.536442Z",
     "start_time": "2025-03-13T18:51:52.522040Z"
    }
   },
   "outputs": [
    {
     "data": {
      "text/latex": [
       "$\\displaystyle \\text{Runge Kutta cash-karp Butcher tableau}$"
      ],
      "text/plain": [
       "<IPython.core.display.Math object>"
      ]
     },
     "metadata": {},
     "output_type": "display_data"
    },
    {
     "data": {
      "text/latex": [
       "$\\displaystyle \\begin{array}{c|cccccc}\n",
       "0 & 0 & 0 & 0 & 0 & 0 & 0 \\\\\n",
       "\\frac{1}{5} & \\frac{1}{5} & 0 & 0 & 0 & 0 & 0 \\\\\n",
       "\\frac{3}{10} & \\frac{3}{40} & \\frac{9}{40} & 0 & 0 & 0 & 0 \\\\\n",
       "\\frac{3}{5} & \\frac{3}{10} & - \\frac{9}{10} & \\frac{6}{5} & 0 & 0 & 0 \\\\\n",
       "1 & - \\frac{11}{54} & \\frac{5}{2} & - \\frac{70}{27} & \\frac{35}{27} & 0 & 0 \\\\\n",
       "\\frac{7}{8} & \\frac{1631}{55296} & \\frac{175}{512} & \\frac{575}{13824} & \\frac{44275}{110592} & \\frac{253}{4096} & 0 \\\\\n",
       "\\hline\n",
       "0 & 37/378 & 0 & 250/621 & 125/594 & 0 & 512/1771 \\\\\n",
       "\\end{array}$"
      ],
      "text/plain": [
       "<IPython.core.display.Math object>"
      ]
     },
     "metadata": {},
     "output_type": "display_data"
    }
   ],
   "source": [
    "from ODE.RungeKutta.RKCashKarp import RKCashKarp\n",
    "\n",
    "solver_cash_karp = RKCashKarp(\n",
    "    derivative_function=acceleration,\n",
    "    t0=data['t0'],\n",
    "    t_final=data['t_final'],\n",
    "    y0=data['v0'],\n",
    "    h=data['dt'],\n",
    "    y_label='v'\n",
    ")\n",
    "df_cash_karp = solver_cash_karp.run()\n",
    "clear_output()\n",
    "df_all = align_solver_data(\n",
    "    solver_name='cash_karp',\n",
    "    solver_df=df_cash_karp,\n",
    "    df=df_all\n",
    ")\n",
    "display(Math(r'\\text{Runge Kutta cash-karp Butcher tableau}'))\n",
    "display(Math(solver_cash_karp.butcher_tableau))"
   ]
  },
  {
   "cell_type": "markdown",
   "id": "e3622b54a39b9f6b",
   "metadata": {},
   "source": [
    "# Runge Kutta bogacki-shampine"
   ]
  },
  {
   "cell_type": "code",
   "execution_count": 9,
   "id": "2f5147079619aadf",
   "metadata": {
    "ExecuteTime": {
     "end_time": "2025-03-13T18:51:52.962059Z",
     "start_time": "2025-03-13T18:51:52.951960Z"
    }
   },
   "outputs": [
    {
     "data": {
      "text/latex": [
       "$\\displaystyle \\text{Runge Kutta bogacki-shampine Butcher tableau}$"
      ],
      "text/plain": [
       "<IPython.core.display.Math object>"
      ]
     },
     "metadata": {},
     "output_type": "display_data"
    },
    {
     "data": {
      "text/latex": [
       "$\\displaystyle \\begin{array}{c|cccc}\n",
       "0 & 0 & 0 & 0 & 0 \\\\\n",
       "\\frac{1}{2} & \\frac{1}{2} & 0 & 0 & 0 \\\\\n",
       "\\frac{3}{4} & 0 & \\frac{3}{4} & 0 & 0 \\\\\n",
       "1 & \\frac{2}{9} & \\frac{1}{3} & \\frac{4}{9} & 0 \\\\\n",
       "\\hline\n",
       "0 & 2/9 & 1/3 & 4/9 & 0 \\\\\n",
       "\\end{array}$"
      ],
      "text/plain": [
       "<IPython.core.display.Math object>"
      ]
     },
     "metadata": {},
     "output_type": "display_data"
    }
   ],
   "source": [
    "from ODE.RungeKutta.RKBogackiShampine import RKBogackiShampine\n",
    "\n",
    "solver_bogacki_shampine = RKBogackiShampine(\n",
    "    derivative_function=acceleration,\n",
    "    t0=data['t0'],\n",
    "    t_final=data['t_final'],\n",
    "    y0=data['v0'],\n",
    "    h=data['dt'],\n",
    "    y_label='v'\n",
    ")\n",
    "df_bogacki_shampine = solver_bogacki_shampine.run()\n",
    "clear_output()\n",
    "df_all = align_solver_data(\n",
    "    solver_name='bogacki_shampine',\n",
    "    solver_df=df_bogacki_shampine,\n",
    "    df=df_all\n",
    ")\n",
    "display(Math(r'\\text{Runge Kutta bogacki-shampine Butcher tableau}'))\n",
    "display(Math(solver_bogacki_shampine.butcher_tableau))"
   ]
  },
  {
   "cell_type": "markdown",
   "id": "ba68109ba4ad9f22",
   "metadata": {},
   "source": [
    "# RKButcher5thOrder"
   ]
  },
  {
   "cell_type": "code",
   "execution_count": 10,
   "id": "f18b090bd76b1670",
   "metadata": {},
   "outputs": [
    {
     "data": {
      "text/latex": [
       "$\\displaystyle \\text{Runge Kutta 5 Butcher tableau}$"
      ],
      "text/plain": [
       "<IPython.core.display.Math object>"
      ]
     },
     "metadata": {},
     "output_type": "display_data"
    },
    {
     "data": {
      "text/latex": [
       "$\\displaystyle \\begin{array}{c|cccccc}\n",
       "0 & 0 & 0 & 0 & 0 & 0 & 0 \\\\\n",
       "\\frac{1}{4} & \\frac{1}{4} & 0 & 0 & 0 & 0 & 0 \\\\\n",
       "\\frac{1}{4} & \\frac{1}{8} & \\frac{1}{8} & 0 & 0 & 0 & 0 \\\\\n",
       "\\frac{1}{2} & 0 & 0 & \\frac{1}{2} & 0 & 0 & 0 \\\\\n",
       "\\frac{3}{4} & \\frac{3}{16} & - \\frac{3}{8} & \\frac{3}{8} & \\frac{9}{16} & 0 & 0 \\\\\n",
       "1 & - \\frac{3}{7} & \\frac{8}{7} & \\frac{6}{7} & - \\frac{12}{7} & \\frac{8}{7} & 0 \\\\\n",
       "\\hline\n",
       "0 & 7/90 & 0 & 16/45 & 2/15 & 16/45 & 7/90 \\\\\n",
       "\\end{array}$"
      ],
      "text/plain": [
       "<IPython.core.display.Math object>"
      ]
     },
     "metadata": {},
     "output_type": "display_data"
    }
   ],
   "source": [
    "from ODE.RungeKutta.RKButcher5thOrder import RKButcher5thOrder\n",
    "\n",
    "solver_butcher5 = RKButcher5thOrder(\n",
    "    derivative_function=acceleration,\n",
    "    t0=data['t0'],\n",
    "    t_final=data['t_final'],\n",
    "    y0=data['v0'],\n",
    "    h=data['dt'],\n",
    "    y_label='v'\n",
    ")\n",
    "df_butcher5 = solver_butcher5.run()\n",
    "clear_output()\n",
    "df_all = align_solver_data(\n",
    "    solver_name='butcher5',\n",
    "    solver_df=df_butcher5,\n",
    "    df=df_all\n",
    ")\n",
    "display(Math(r'\\text{Runge Kutta 5 Butcher tableau}'))\n",
    "display(Math(solver_butcher5.butcher_tableau))"
   ]
  },
  {
   "cell_type": "markdown",
   "id": "c30554ec60ec40da",
   "metadata": {},
   "source": [
    "# RKButcher6thOrder"
   ]
  },
  {
   "cell_type": "code",
   "execution_count": 11,
   "id": "688df8ceade0eb89",
   "metadata": {},
   "outputs": [
    {
     "data": {
      "text/latex": [
       "$\\displaystyle \\text{Runge Kutta 6 Butcher tableau}$"
      ],
      "text/plain": [
       "<IPython.core.display.Math object>"
      ]
     },
     "metadata": {},
     "output_type": "display_data"
    },
    {
     "data": {
      "text/latex": [
       "$\\displaystyle \\begin{array}{c|ccccccc}\n",
       "0 & 0 & 0 & 0 & 0 & 0 & 0 & 0 \\\\\n",
       "\\frac{1}{3} & \\frac{1}{3} & 0 & 0 & 0 & 0 & 0 & 0 \\\\\n",
       "\\frac{2}{3} & 0 & \\frac{2}{3} & 0 & 0 & 0 & 0 & 0 \\\\\n",
       "\\frac{1}{3} & \\frac{1}{12} & \\frac{1}{3} & - \\frac{1}{12} & 0 & 0 & 0 & 0 \\\\\n",
       "\\frac{5}{6} & \\frac{25}{48} & - \\frac{55}{24} & \\frac{35}{48} & \\frac{15}{8} & 0 & 0 & 0 \\\\\n",
       "\\frac{1}{6} & \\frac{3}{20} & - \\frac{11}{24} & - \\frac{1}{8} & \\frac{1}{2} & \\frac{1}{10} & 0 & 0 \\\\\n",
       "1 & - \\frac{261}{260} & \\frac{33}{13} & \\frac{43}{156} & - \\frac{118}{39} & \\frac{32}{195} & \\frac{80}{39} & 0 \\\\\n",
       "\\hline\n",
       "0 & 13/200 & 0 & 11/40 & 11/40 & 4/25 & 4/25 & 13/200 \\\\\n",
       "\\end{array}$"
      ],
      "text/plain": [
       "<IPython.core.display.Math object>"
      ]
     },
     "metadata": {},
     "output_type": "display_data"
    }
   ],
   "source": [
    "from ODE.RungeKutta.RKButcher6thOrder import RKButcher6thOrder\n",
    "\n",
    "solver_butcher6 = RKButcher6thOrder(\n",
    "    derivative_function=acceleration,\n",
    "    t0=data['t0'],\n",
    "    t_final=data['t_final'],\n",
    "    y0=data['v0'],\n",
    "    h=data['dt'],\n",
    "    y_label='v'\n",
    ")\n",
    "df_butcher6 = solver_butcher6.run()\n",
    "clear_output()\n",
    "df_all = align_solver_data(\n",
    "    solver_name='butcher6',\n",
    "    solver_df=df_butcher6,\n",
    "    df=df_all\n",
    ")\n",
    "display(Math(r'\\text{Runge Kutta 6 Butcher tableau}'))\n",
    "display(Math(solver_butcher6.butcher_tableau))"
   ]
  },
  {
   "cell_type": "markdown",
   "id": "3f4916ae16401c7",
   "metadata": {},
   "source": [
    "# RKDormandPrince54"
   ]
  },
  {
   "cell_type": "code",
   "execution_count": 12,
   "id": "1013f680376c9f1a",
   "metadata": {},
   "outputs": [
    {
     "data": {
      "text/latex": [
       "$\\displaystyle \\text{Runge Kutta dormand prince54$"
      ],
      "text/plain": [
       "<IPython.core.display.Math object>"
      ]
     },
     "metadata": {},
     "output_type": "display_data"
    },
    {
     "data": {
      "text/latex": [
       "$\\displaystyle \\begin{array}{c|ccccccc}\n",
       "0 & 0 & 0 & 0 & 0 & 0 & 0 & 0 \\\\\n",
       "\\frac{1}{5} & \\frac{1}{5} & 0 & 0 & 0 & 0 & 0 & 0 \\\\\n",
       "\\frac{3}{10} & \\frac{3}{40} & \\frac{9}{40} & 0 & 0 & 0 & 0 & 0 \\\\\n",
       "\\frac{4}{5} & \\frac{44}{45} & - \\frac{56}{15} & \\frac{32}{9} & 0 & 0 & 0 & 0 \\\\\n",
       "\\frac{8}{9} & \\frac{19372}{6561} & - \\frac{25360}{2187} & \\frac{64448}{6561} & - \\frac{212}{729} & 0 & 0 & 0 \\\\\n",
       "1 & \\frac{9017}{3168} & - \\frac{355}{33} & \\frac{46732}{5247} & \\frac{49}{176} & - \\frac{5103}{18656} & 0 & 0 \\\\\n",
       "1 & \\frac{35}{384} & 0 & \\frac{500}{1113} & \\frac{125}{192} & - \\frac{2187}{6784} & \\frac{11}{84} & 0 \\\\\n",
       "\\hline\n",
       "0 & 35/384 & 0 & 500/1113 & 125/192 & -2187/6784 & 11/84 & 0 \\\\\n",
       "\\end{array}$"
      ],
      "text/plain": [
       "<IPython.core.display.Math object>"
      ]
     },
     "metadata": {},
     "output_type": "display_data"
    }
   ],
   "source": [
    "from ODE.RungeKutta.RKDormandPrince54 import RKDormandPrince54\n",
    "\n",
    "solver_dormand_prince54 = RKDormandPrince54(\n",
    "    derivative_function=acceleration,\n",
    "    t0=data['t0'],\n",
    "    t_final=data['t_final'],\n",
    "    y0=data['v0'],\n",
    "    h=data['dt'],\n",
    "    y_label='v'\n",
    ")\n",
    "df_dormand_prince54 = solver_dormand_prince54.run()\n",
    "clear_output()\n",
    "df_all = align_solver_data(\n",
    "    solver_name='dormand_prince54',\n",
    "    solver_df=df_dormand_prince54,\n",
    "    df=df_all\n",
    ")\n",
    "display(Math(r'\\text{Runge Kutta dormand prince54'))\n",
    "display(Math(solver_dormand_prince54.butcher_tableau))"
   ]
  },
  {
   "cell_type": "markdown",
   "id": "c1b381c8eafa03ab",
   "metadata": {},
   "source": [
    "# RKFehlberg45"
   ]
  },
  {
   "cell_type": "code",
   "execution_count": 13,
   "id": "d3e21d8f28c3c32c",
   "metadata": {},
   "outputs": [
    {
     "data": {
      "text/latex": [
       "$\\displaystyle \\text{Runge Kutta fehlberg45$"
      ],
      "text/plain": [
       "<IPython.core.display.Math object>"
      ]
     },
     "metadata": {},
     "output_type": "display_data"
    },
    {
     "data": {
      "text/latex": [
       "$\\displaystyle \\begin{array}{c|cccccc}\n",
       "0 & 0 & 0 & 0 & 0 & 0 & 0 \\\\\n",
       "\\frac{1}{4} & \\frac{1}{4} & 0 & 0 & 0 & 0 & 0 \\\\\n",
       "\\frac{3}{8} & \\frac{3}{32} & \\frac{9}{32} & 0 & 0 & 0 & 0 \\\\\n",
       "\\frac{12}{13} & \\frac{1932}{2197} & - \\frac{7200}{2197} & \\frac{7296}{2197} & 0 & 0 & 0 \\\\\n",
       "1 & \\frac{439}{216} & -8 & \\frac{3680}{513} & - \\frac{845}{4104} & 0 & 0 \\\\\n",
       "\\frac{1}{2} & - \\frac{8}{27} & 2 & - \\frac{3544}{2565} & \\frac{1859}{4104} & - \\frac{11}{40} & 0 \\\\\n",
       "\\hline\n",
       "0 & 25/216 & 0 & 1408/2565 & 2197/4104 & -1/5 & 0 \\\\\n",
       "\\end{array}$"
      ],
      "text/plain": [
       "<IPython.core.display.Math object>"
      ]
     },
     "metadata": {},
     "output_type": "display_data"
    }
   ],
   "source": [
    "from ODE.RungeKutta.RKFehlberg45 import RKFehlberg45\n",
    "\n",
    "solver_fehlberg45 = RKFehlberg45(\n",
    "    derivative_function=acceleration,\n",
    "    t0=data['t0'],\n",
    "    t_final=data['t_final'],\n",
    "    y0=data['v0'],\n",
    "    h=data['dt'],\n",
    "    y_label='v'\n",
    ")\n",
    "df_fehlberg45 = solver_fehlberg45.run()\n",
    "clear_output()\n",
    "df_all = align_solver_data(\n",
    "    solver_name='fehlberg45',\n",
    "    solver_df=df_fehlberg45,\n",
    "    df=df_all\n",
    ")\n",
    "display(Math(r'\\text{Runge Kutta fehlberg45'))\n",
    "display(Math(solver_fehlberg45.butcher_tableau))"
   ]
  },
  {
   "cell_type": "markdown",
   "id": "89cb390a7d05ee67",
   "metadata": {},
   "source": [
    "# RKMidpointMethod"
   ]
  },
  {
   "cell_type": "code",
   "execution_count": 14,
   "id": "ea768a5c0e12a05d",
   "metadata": {},
   "outputs": [
    {
     "data": {
      "text/latex": [
       "$\\displaystyle \\text{Runge Kutta midpoint Butcher tableau}$"
      ],
      "text/plain": [
       "<IPython.core.display.Math object>"
      ]
     },
     "metadata": {},
     "output_type": "display_data"
    },
    {
     "data": {
      "text/latex": [
       "$\\displaystyle \\begin{array}{c|cc}\n",
       "0 & 0 & 0 \\\\\n",
       "\\frac{1}{2} & \\frac{1}{2} & 0 \\\\\n",
       "\\hline\n",
       "0 & 0 & 1 \\\\\n",
       "\\end{array}$"
      ],
      "text/plain": [
       "<IPython.core.display.Math object>"
      ]
     },
     "metadata": {},
     "output_type": "display_data"
    }
   ],
   "source": [
    "from ODE.RungeKutta.RKMidpointMethod import RKMidpointMethod\n",
    "\n",
    "solver_midpoint = RKMidpointMethod(\n",
    "    derivative_function=acceleration,\n",
    "    t0=data['t0'],\n",
    "    t_final=data['t_final'],\n",
    "    y0=data['v0'],\n",
    "    h=data['dt'],\n",
    "    y_label='v'\n",
    ")\n",
    "df_midpoint = solver_midpoint.run()\n",
    "clear_output()\n",
    "df_all = align_solver_data(\n",
    "    solver_name='midpoint',\n",
    "    solver_df=df_midpoint,\n",
    "    df=df_all\n",
    ")\n",
    "display(Math(r'\\text{Runge Kutta midpoint Butcher tableau}'))\n",
    "display(Math(solver_midpoint.butcher_tableau))"
   ]
  },
  {
   "cell_type": "code",
   "execution_count": 15,
   "id": "3320d88f016d9ce7",
   "metadata": {},
   "outputs": [
    {
     "data": {
      "text/latex": [
       "$\\displaystyle \\text{Runge Kutta ralston Butcher tableau}$"
      ],
      "text/plain": [
       "<IPython.core.display.Math object>"
      ]
     },
     "metadata": {},
     "output_type": "display_data"
    },
    {
     "data": {
      "text/latex": [
       "$\\displaystyle \\begin{array}{c|cc}\n",
       "0 & 0 & 0 \\\\\n",
       "\\frac{2}{3} & \\frac{2}{3} & 0 \\\\\n",
       "\\hline\n",
       "0 & 1/4 & 3/4 \\\\\n",
       "\\end{array}$"
      ],
      "text/plain": [
       "<IPython.core.display.Math object>"
      ]
     },
     "metadata": {},
     "output_type": "display_data"
    }
   ],
   "source": [
    "from ODE.RungeKutta.RKRalstonMethod import RKRalstonMethod\n",
    "\n",
    "solver_ralston = RKRalstonMethod(\n",
    "    derivative_function=acceleration,\n",
    "    t0=data['t0'],\n",
    "    t_final=data['t_final'],\n",
    "    y0=data['v0'],\n",
    "    h=data['dt'],\n",
    "    y_label='v'\n",
    ")\n",
    "\n",
    "df_ralston = solver_ralston.run()\n",
    "clear_output()\n",
    "df_all = align_solver_data(\n",
    "    solver_name='ralston',\n",
    "    solver_df=df_ralston,\n",
    "    df=df_all\n",
    ")\n",
    "display(Math(r'\\text{Runge Kutta ralston Butcher tableau}'))\n",
    "display(Math(solver_ralston.butcher_tableau))"
   ]
  },
  {
   "cell_type": "markdown",
   "id": "d54d2c7978380e34",
   "metadata": {},
   "source": [
    "# Results"
   ]
  },
  {
   "cell_type": "code",
   "execution_count": 16,
   "id": "edc6c297142b54c8",
   "metadata": {
    "ExecuteTime": {
     "end_time": "2025-03-13T18:51:56.017506Z",
     "start_time": "2025-03-13T18:51:54.905031Z"
    }
   },
   "outputs": [
    {
     "data": {
      "text/plain": [
       "<matplotlib.legend.Legend at 0x15c423734d0>"
      ]
     },
     "execution_count": 16,
     "metadata": {},
     "output_type": "execute_result"
    },
    {
     "data": {
      "image/png": "[encoded data removed]",
      "text/plain": [
       "<Figure size 640x480 with 1 Axes>"
      ]
     },
     "metadata": {},
     "output_type": "display_data"
    }
   ],
   "source": [
    "df_error = calculate_error(df_all)\n",
    "df_error.plot(x='t', y=['euler', 'heun', 'rk4', 'cash_karp', 'bogacki_shampine', 'butcher5', 'butcher6', 'dormand_prince54', 'fehlberg45', 'midpoint', 'ralston'])\n",
    "plt.yscale('log')  # Set y-axis to logarithmic scale\n",
    "plt.grid()\n",
    "plt.legend(loc='upper left', bbox_to_anchor=(1, 1))  # Place legend outside the plot"
   ]
  },
  {
   "cell_type": "code",
   "execution_count": 17,
   "id": "ed2f61225dda42e4",
   "metadata": {
    "ExecuteTime": {
     "end_time": "2025-03-13T18:51:56.253015Z",
     "start_time": "2025-03-13T18:51:56.042997Z"
    }
   },
   "outputs": [
    {
     "data": {
      "image/png": "[encoded data removed]",
      "text/plain": [
       "<Figure size 640x480 with 1 Axes>"
      ]
     },
     "metadata": {},
     "output_type": "display_data"
    }
   ],
   "source": [
    "fig, ax = plt.subplots()\n",
    "df_all.plot(x='t', y=['euler', 'heun', 'rk4', 'cash_karp', 'bogacki_shampine', 'butcher5', 'butcher6', 'dormand_prince54', 'fehlberg45', 'midpoint', 'ralston'],ax=ax)\n",
    "df_all.plot(x='t', y='analytical', ax=ax, linewidth=2.0, color='k')\n",
    "plt.grid()"
   ]
  },
  {
   "cell_type": "code",
   "execution_count": null,
   "id": "f30d912973af4275",
   "metadata": {
    "ExecuteTime": {
     "end_time": "2025-03-13T18:51:56.280101Z",
     "start_time": "2025-03-13T18:51:56.277593Z"
    }
   },
   "outputs": [],
   "source": []
  }
 ],
 "metadata": {
  "kernelspec": {
   "display_name": "Python 3 (ipykernel)",
   "language": "python",
   "name": "python3"
  },
  "language_info": {
   "codemirror_mode": {
    "name": "ipython",
    "version": 3
   },
   "file_extension": ".py",
   "mimetype": "text/x-python",
   "name": "python",
   "nbconvert_exporter": "python",
   "pygments_lexer": "ipython3",
   "version": "3.12.9"
  }
 },
 "nbformat": 4,
 "nbformat_minor": 5
}
