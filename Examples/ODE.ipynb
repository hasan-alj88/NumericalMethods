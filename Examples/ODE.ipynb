{
 "cells": [
  {
   "cell_type": "code",
   "id": "initial_id",
   "metadata": {
    "collapsed": true,
    "ExecuteTime": {
     "end_time": "2025-03-02T10:51:06.974292Z",
     "start_time": "2025-03-02T10:51:06.247577Z"
    }
   },
   "source": [
    "import pandas as pd\n",
    "import matplotlib.pyplot as plt\n",
    "\n",
    "from ODE.FirstOrder.FirstOrderODEEulerMethod import FirstOrderODEEulerMethod\n",
    "from ODE.FirstOrder.FirstOrderODEHeunMethod import FirstOrderODEHeunMethod\n",
    "from StopConditions.StopAtPlateau import StopAtPlateau\n",
    "from IPython.display import clear_output\n",
    "\n",
    "import numpy as np"
   ],
   "outputs": [],
   "execution_count": 1
  },
  {
   "metadata": {
    "ExecuteTime": {
     "end_time": "2025-03-02T10:51:06.982200Z",
     "start_time": "2025-03-02T10:51:06.978423Z"
    }
   },
   "cell_type": "code",
   "source": [
    "def bungee_jumper_velocity(m, cd, t, g=9.8):\n",
    "    return np.sqrt(g * m / cd) * np.tanh(np.sqrt(g*cd/m) * t)\n",
    "\n",
    "def bungee_jumper_acceleration(m, cd, v, g=9.8):\n",
    "    return g - (cd * v ** 2 /m)\n",
    "\n",
    "m  = 68.1 # kg\n",
    "cd = 0.25 # kg/m\n",
    "v0 = 0    # m/s\n",
    "dt = 2    # s\n",
    "\n",
    "a = lambda x,t: bungee_jumper_acceleration(m, cd, x)"
   ],
   "id": "ece23c5249873453",
   "outputs": [],
   "execution_count": 2
  },
  {
   "metadata": {},
   "cell_type": "markdown",
   "source": [
    "# Solve Analytically\n",
    "\n",
    "$$ \\frac{dv}{dt} = g - \\frac{C_d v^2}{m} $$\n",
    "$$ v(t) = \\sqrt{\\frac{m g}{C_d}} \\tanh{(\\sqrt{\\frac{g C_d}{m}} t)}  $$\n"
   ],
   "id": "136a5e32ffac8dc"
  },
  {
   "metadata": {
    "ExecuteTime": {
     "end_time": "2025-03-02T10:51:07.209819Z",
     "start_time": "2025-03-02T10:51:07.058426Z"
    }
   },
   "cell_type": "code",
   "source": [
    "analytical_df = pd.DataFrame(\n",
    "    data=dict(\n",
    "        t=np.arange(0, 20, dt/10)\n",
    "    )\n",
    ")\n",
    "analytical_df['x'] = bungee_jumper_velocity(m, cd, analytical_df['t'])\n",
    "analytical_df.plot(x='t', y='x', linestyle='-')\n",
    "plt.grid()"
   ],
   "id": "8df71eb9b351a27f",
   "outputs": [
    {
     "data": {
      "text/plain": [
       "<Figure size 640x480 with 1 Axes>"
      ],
      "image/png": "[encoded data removed]"
     },
     "metadata": {},
     "output_type": "display_data"
    }
   ],
   "execution_count": 3
  },
  {
   "metadata": {},
   "cell_type": "markdown",
   "source": [
    "# Euler Method\n",
    "$$ \\frac{dx}{dt} = f(x,t) $$\n",
    "$$ x_{n+1} = x_{n} - \\Delta t * f(x,t) $$"
   ],
   "id": "d59400094f9776c3"
  },
  {
   "metadata": {},
   "cell_type": "code",
   "source": [
    "euler_solver = FirstOrderODEEulerMethod(\n",
    "    derivative_function=a, t0=0, x0=v0, dt=dt)\n",
    "euler_solver_df = euler_solver.run()\n",
    "clear_output()"
   ],
   "id": "7f7da455cfa9cdc8",
   "execution_count": 4,
   "outputs": []
  },
  {
   "metadata": {
    "ExecuteTime": {
     "end_time": "2025-03-02T10:51:40.522696Z",
     "start_time": "2025-03-02T10:51:40.511316Z"
    }
   },
   "cell_type": "code",
   "source": "euler_solver_df",
   "id": "7b26a1bf90eefe55",
   "outputs": [
    {
     "data": {
      "text/plain": [
       "              x     t  dt     dx_dt\n",
       "0      0.000000     0   2  9.800000\n",
       "1     19.600000     2   2  9.800000\n",
       "2     36.379442     4   2  8.389721\n",
       "3     46.262380     6   2  4.941469\n",
       "4     50.148666     8   2  1.943143\n",
       "...         ...   ...  ..       ...\n",
       "996   51.667398  1992   2  0.000000\n",
       "997   51.667398  1994   2  0.000000\n",
       "998   51.667398  1996   2  0.000000\n",
       "999   51.667398  1998   2  0.000000\n",
       "1000  51.667398  2000   2  0.000000\n",
       "\n",
       "[1001 rows x 4 columns]"
      ],
      "text/html": [
       "<div>\n",
       "<style scoped>\n",
       "    .dataframe tbody tr th:only-of-type {\n",
       "        vertical-align: middle;\n",
       "    }\n",
       "\n",
       "    .dataframe tbody tr th {\n",
       "        vertical-align: top;\n",
       "    }\n",
       "\n",
       "    .dataframe thead th {\n",
       "        text-align: right;\n",
       "    }\n",
       "</style>\n",
       "<table border=\"1\" class=\"dataframe\">\n",
       "  <thead>\n",
       "    <tr style=\"text-align: right;\">\n",
       "      <th></th>\n",
       "      <th>x</th>\n",
       "      <th>t</th>\n",
       "      <th>dt</th>\n",
       "      <th>dx_dt</th>\n",
       "    </tr>\n",
       "  </thead>\n",
       "  <tbody>\n",
       "    <tr>\n",
       "      <th>0</th>\n",
       "      <td>0.000000</td>\n",
       "      <td>0</td>\n",
       "      <td>2</td>\n",
       "      <td>9.800000</td>\n",
       "    </tr>\n",
       "    <tr>\n",
       "      <th>1</th>\n",
       "      <td>19.600000</td>\n",
       "      <td>2</td>\n",
       "      <td>2</td>\n",
       "      <td>9.800000</td>\n",
       "    </tr>\n",
       "    <tr>\n",
       "      <th>2</th>\n",
       "      <td>36.379442</td>\n",
       "      <td>4</td>\n",
       "      <td>2</td>\n",
       "      <td>8.389721</td>\n",
       "    </tr>\n",
       "    <tr>\n",
       "      <th>3</th>\n",
       "      <td>46.262380</td>\n",
       "      <td>6</td>\n",
       "      <td>2</td>\n",
       "      <td>4.941469</td>\n",
       "    </tr>\n",
       "    <tr>\n",
       "      <th>4</th>\n",
       "      <td>50.148666</td>\n",
       "      <td>8</td>\n",
       "      <td>2</td>\n",
       "      <td>1.943143</td>\n",
       "    </tr>\n",
       "    <tr>\n",
       "      <th>...</th>\n",
       "      <td>...</td>\n",
       "      <td>...</td>\n",
       "      <td>...</td>\n",
       "      <td>...</td>\n",
       "    </tr>\n",
       "    <tr>\n",
       "      <th>996</th>\n",
       "      <td>51.667398</td>\n",
       "      <td>1992</td>\n",
       "      <td>2</td>\n",
       "      <td>0.000000</td>\n",
       "    </tr>\n",
       "    <tr>\n",
       "      <th>997</th>\n",
       "      <td>51.667398</td>\n",
       "      <td>1994</td>\n",
       "      <td>2</td>\n",
       "      <td>0.000000</td>\n",
       "    </tr>\n",
       "    <tr>\n",
       "      <th>998</th>\n",
       "      <td>51.667398</td>\n",
       "      <td>1996</td>\n",
       "      <td>2</td>\n",
       "      <td>0.000000</td>\n",
       "    </tr>\n",
       "    <tr>\n",
       "      <th>999</th>\n",
       "      <td>51.667398</td>\n",
       "      <td>1998</td>\n",
       "      <td>2</td>\n",
       "      <td>0.000000</td>\n",
       "    </tr>\n",
       "    <tr>\n",
       "      <th>1000</th>\n",
       "      <td>51.667398</td>\n",
       "      <td>2000</td>\n",
       "      <td>2</td>\n",
       "      <td>0.000000</td>\n",
       "    </tr>\n",
       "  </tbody>\n",
       "</table>\n",
       "<p>1001 rows × 4 columns</p>\n",
       "</div>"
      ]
     },
     "execution_count": 5,
     "metadata": {},
     "output_type": "execute_result"
    }
   ],
   "execution_count": 5
  },
  {
   "metadata": {},
   "cell_type": "markdown",
   "source": [
    "# Henus Method\n",
    "\n",
    "$$ x_{predicted} = x_n + \\Delta t \\times f(x,t) $$\n"
   ],
   "id": "41c2425781bb1e71"
  },
  {
   "metadata": {
    "ExecuteTime": {
     "end_time": "2025-03-02T10:51:41.055148Z",
     "start_time": "2025-03-02T10:51:40.613352Z"
    }
   },
   "cell_type": "code",
   "source": [
    "heun_solver = FirstOrderODEHeunMethod(\n",
    "    derivative_function=a, t0=0, x0=v0, dt=dt,\n",
    "    stop_conditions=[StopAtPlateau(tracking='x', patience=2)]\n",
    ")\n",
    "heun_solver_df = heun_solver.run()\n",
    "clear_output()\n",
    "heun_solver_df"
   ],
   "id": "eaa782bc79b26b14",
   "outputs": [
    {
     "name": "stdout",
     "output_type": "stream",
     "text": [
      "2025-03-02 13:51:40,615 - Core.Numerical - INFO - Numerical.py:run:98 - Starting FirstOrderODEHeunMethod\n",
      "2025-03-02 13:51:40,616 - Core.Numerical - INFO - Numerical.py:initialize:40 - Initial state:{'x_c': 0.0, 'x_p': 0, 't': 0, 'dt': 2, 'dx_dt': 9.8}\n"
     ]
    },
    {
     "ename": "KeyError",
     "evalue": "'x'",
     "output_type": "error",
     "traceback": [
      "\u001B[0;31m---------------------------------------------------------------------------\u001B[0m",
      "\u001B[0;31mKeyError\u001B[0m                                  Traceback (most recent call last)",
      "Cell \u001B[0;32mIn[6], line 5\u001B[0m\n\u001B[1;32m      1\u001B[0m heun_solver \u001B[38;5;241m=\u001B[39m FirstOrderODEHeunMethod(\n\u001B[1;32m      2\u001B[0m     derivative_function\u001B[38;5;241m=\u001B[39ma, t0\u001B[38;5;241m=\u001B[39m\u001B[38;5;241m0\u001B[39m, x0\u001B[38;5;241m=\u001B[39mv0, dt\u001B[38;5;241m=\u001B[39mdt,\n\u001B[1;32m      3\u001B[0m     stop_conditions\u001B[38;5;241m=\u001B[39m[StopAtPlateau(tracking\u001B[38;5;241m=\u001B[39m\u001B[38;5;124m'\u001B[39m\u001B[38;5;124mx\u001B[39m\u001B[38;5;124m'\u001B[39m, patience\u001B[38;5;241m=\u001B[39m\u001B[38;5;241m2\u001B[39m)]\n\u001B[1;32m      4\u001B[0m )\n\u001B[0;32m----> 5\u001B[0m heun_solver_df \u001B[38;5;241m=\u001B[39m heun_solver\u001B[38;5;241m.\u001B[39mrun()\n\u001B[1;32m      6\u001B[0m clear_output()\n\u001B[1;32m      7\u001B[0m heun_solver_df\n",
      "File \u001B[0;32m~/PycharmProjects/NumericalMethods/Core/Numerical.py:101\u001B[0m, in \u001B[0;36mNumerical.run\u001B[0;34m(self)\u001B[0m\n\u001B[1;32m     98\u001B[0m \u001B[38;5;28mself\u001B[39m\u001B[38;5;241m.\u001B[39mlogger\u001B[38;5;241m.\u001B[39minfo(\u001B[38;5;124mf\u001B[39m\u001B[38;5;124m\"\u001B[39m\u001B[38;5;124mStarting \u001B[39m\u001B[38;5;132;01m{\u001B[39;00m\u001B[38;5;28mself\u001B[39m\u001B[38;5;241m.\u001B[39m\u001B[38;5;18m__class__\u001B[39m\u001B[38;5;241m.\u001B[39m\u001B[38;5;18m__name__\u001B[39m\u001B[38;5;132;01m}\u001B[39;00m\u001B[38;5;124m\"\u001B[39m)\n\u001B[1;32m     99\u001B[0m \u001B[38;5;28mself\u001B[39m\u001B[38;5;241m.\u001B[39minitialize()\n\u001B[0;32m--> 101\u001B[0m \u001B[38;5;28;01mfor\u001B[39;00m status \u001B[38;5;129;01min\u001B[39;00m \u001B[38;5;28mself\u001B[39m\u001B[38;5;241m.\u001B[39m_check_stop_conditions():\n\u001B[1;32m    102\u001B[0m     \u001B[38;5;28mself\u001B[39m\u001B[38;5;241m.\u001B[39mlogger\u001B[38;5;241m.\u001B[39minfo(\u001B[38;5;124mf\u001B[39m\u001B[38;5;124m\"\u001B[39m\u001B[38;5;132;01m{\u001B[39;00mstatus\u001B[38;5;132;01m}\u001B[39;00m\u001B[38;5;124m\"\u001B[39m)\n\u001B[1;32m    103\u001B[0m     \u001B[38;5;28mself\u001B[39m\u001B[38;5;241m.\u001B[39mlogger\u001B[38;5;241m.\u001B[39mdebug(\u001B[38;5;124mf\u001B[39m\u001B[38;5;124m\"\u001B[39m\u001B[38;5;124mStarting step \u001B[39m\u001B[38;5;132;01m{\u001B[39;00m\u001B[38;5;28mself\u001B[39m\u001B[38;5;241m.\u001B[39miteration\u001B[38;5;132;01m}\u001B[39;00m\u001B[38;5;124m\"\u001B[39m)\n",
      "File \u001B[0;32m~/PycharmProjects/NumericalMethods/Core/Numerical.py:73\u001B[0m, in \u001B[0;36mNumerical._check_stop_conditions\u001B[0;34m(self)\u001B[0m\n\u001B[1;32m     71\u001B[0m unmet_stop_conditions \u001B[38;5;241m=\u001B[39m []\n\u001B[1;32m     72\u001B[0m \u001B[38;5;28;01mfor\u001B[39;00m stop_cond \u001B[38;5;129;01min\u001B[39;00m \u001B[38;5;28mself\u001B[39m\u001B[38;5;241m.\u001B[39mstop_conditions:\n\u001B[0;32m---> 73\u001B[0m     stop_cond_met, reason \u001B[38;5;241m=\u001B[39m stop_cond\u001B[38;5;241m.\u001B[39mnext(\u001B[38;5;28mself\u001B[39m\u001B[38;5;241m.\u001B[39mhistory)\n\u001B[1;32m     74\u001B[0m     condition_name \u001B[38;5;241m=\u001B[39m stop_cond\u001B[38;5;241m.\u001B[39m\u001B[38;5;18m__class__\u001B[39m\u001B[38;5;241m.\u001B[39m\u001B[38;5;18m__name__\u001B[39m\n\u001B[1;32m     75\u001B[0m     \u001B[38;5;28;01mif\u001B[39;00m stop_cond_met:\n",
      "File \u001B[0;32m~/PycharmProjects/NumericalMethods/StopConditions/StopConditionBase.py:47\u001B[0m, in \u001B[0;36mStopCondition.next\u001B[0;34m(self, history)\u001B[0m\n\u001B[1;32m     45\u001B[0m \u001B[38;5;28;01mtry\u001B[39;00m:\n\u001B[1;32m     46\u001B[0m     \u001B[38;5;28mself\u001B[39m\u001B[38;5;241m.\u001B[39mhistory \u001B[38;5;241m=\u001B[39m history\n\u001B[0;32m---> 47\u001B[0m     should_stop, reason \u001B[38;5;241m=\u001B[39m \u001B[38;5;28mnext\u001B[39m(\u001B[38;5;28mself\u001B[39m\u001B[38;5;241m.\u001B[39m_generator)\n\u001B[1;32m     48\u001B[0m     \u001B[38;5;28;01mreturn\u001B[39;00m should_stop, reason\n\u001B[1;32m     49\u001B[0m \u001B[38;5;28;01mexcept\u001B[39;00m \u001B[38;5;167;01mStopIteration\u001B[39;00m:\n",
      "File \u001B[0;32m~/PycharmProjects/NumericalMethods/StopConditions/StopIfEqual.py:30\u001B[0m, in \u001B[0;36mStopIfEqual.stop_condition_generator\u001B[0;34m(self)\u001B[0m\n\u001B[1;32m     28\u001B[0m \u001B[38;5;28;01mdef\u001B[39;00m \u001B[38;5;21mstop_condition_generator\u001B[39m(\u001B[38;5;28mself\u001B[39m) \u001B[38;5;241m-\u001B[39m\u001B[38;5;241m>\u001B[39m Generator[Tuple[\u001B[38;5;28mbool\u001B[39m, \u001B[38;5;28mstr\u001B[39m], \u001B[38;5;28;01mNone\u001B[39;00m, \u001B[38;5;28;01mNone\u001B[39;00m]:\n\u001B[1;32m     29\u001B[0m     \u001B[38;5;28;01mwhile\u001B[39;00m \u001B[38;5;28;01mTrue\u001B[39;00m:\n\u001B[0;32m---> 30\u001B[0m         current \u001B[38;5;241m=\u001B[39m \u001B[38;5;28mself\u001B[39m\u001B[38;5;241m.\u001B[39mhistory[\u001B[38;5;28mself\u001B[39m\u001B[38;5;241m.\u001B[39mtracking]\n\u001B[1;32m     32\u001B[0m         \u001B[38;5;66;03m# Handle NaN values\u001B[39;00m\n\u001B[1;32m     33\u001B[0m         \u001B[38;5;28;01mif\u001B[39;00m is_nan(current):\n",
      "File \u001B[0;32m~/PycharmProjects/NumericalMethods/Core/NumericalHistory.py:24\u001B[0m, in \u001B[0;36mNumericalHistory.__getitem__\u001B[0;34m(self, item)\u001B[0m\n\u001B[1;32m     22\u001B[0m \u001B[38;5;28;01mdef\u001B[39;00m \u001B[38;5;21m__getitem__\u001B[39m(\u001B[38;5;28mself\u001B[39m, item) \u001B[38;5;241m-\u001B[39m\u001B[38;5;241m>\u001B[39m Any:\n\u001B[1;32m     23\u001B[0m \u001B[38;5;250m    \u001B[39m\u001B[38;5;124;03m\"\"\"Get the last state of an item\"\"\"\u001B[39;00m\n\u001B[0;32m---> 24\u001B[0m     \u001B[38;5;28;01mreturn\u001B[39;00m \u001B[38;5;28mself\u001B[39m\u001B[38;5;241m.\u001B[39mdata[\u001B[38;5;241m-\u001B[39m\u001B[38;5;241m1\u001B[39m][item] \u001B[38;5;28;01mif\u001B[39;00m \u001B[38;5;28mself\u001B[39m\u001B[38;5;241m.\u001B[39mdata \u001B[38;5;28;01melse\u001B[39;00m \u001B[38;5;28;01mNone\u001B[39;00m\n",
      "\u001B[0;31mKeyError\u001B[0m: 'x'"
     ]
    }
   ],
   "execution_count": 6
  },
  {
   "metadata": {},
   "cell_type": "code",
   "source": [
    "import matplotlib.pyplot as plt\n",
    "fig = plt.figure(figsize=(10, 10))\n",
    "ax = fig.add_subplot(111)\n",
    "ax.grid()\n",
    "ax.set_title('Bungee Jumper')\n",
    "ax.set_xlabel('Time (s)')\n",
    "ax.set_ylabel('Velocity (m/s)')\n",
    "\n",
    "ax.plot(analytical_df['t'], analytical_df['x'], color='red', label='Analytical solution')\n",
    "\n",
    "euler_solver.plot_history(x_var='t', y_var='x', ax=ax, color='blue',\n",
    "                    label='Euler method', linestyle=':', marker='o')\n",
    "\n",
    "heun_solver.plot_history(x_var='t', y_var='x', ax=ax, color='green',\n",
    "                     label='Heun method', linestyle=':', marker='o')\n",
    "\n",
    "ax.legend()\n",
    "ax.set_xlim(0, 20)"
   ],
   "id": "8ec31e86133ad95e",
   "outputs": [],
   "execution_count": null
  },
  {
   "metadata": {},
   "cell_type": "code",
   "source": "euler_solver_df",
   "id": "8d14208ed853f380",
   "outputs": [],
   "execution_count": null
  },
  {
   "metadata": {},
   "cell_type": "code",
   "source": "",
   "id": "b39c15d3d02a7bd7",
   "outputs": [],
   "execution_count": null
  }
 ],
 "metadata": {
  "kernelspec": {
   "display_name": "Python 3",
   "language": "python",
   "name": "python3"
  },
  "language_info": {
   "codemirror_mode": {
    "name": "ipython",
    "version": 2
   },
   "file_extension": ".py",
   "mimetype": "text/x-python",
   "name": "python",
   "nbconvert_exporter": "python",
   "pygments_lexer": "ipython2",
   "version": "2.7.6"
  }
 },
 "nbformat": 4,
 "nbformat_minor": 5
}
