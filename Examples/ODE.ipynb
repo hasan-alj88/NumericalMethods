{
 "cells": [
  {
   "cell_type": "code",
   "id": "initial_id",
   "metadata": {
    "collapsed": true,
    "ExecuteTime": {
     "end_time": "2025-03-13T08:54:30.220925Z",
     "start_time": "2025-03-13T08:54:29.709879Z"
    }
   },
   "source": [
    "import pandas as pd\n",
    "import matplotlib.pyplot as plt\n",
    "from IPython.display import clear_output, Math, display\n",
    "\n",
    "import numpy as np"
   ],
   "outputs": [],
   "execution_count": 1
  },
  {
   "metadata": {
    "ExecuteTime": {
     "end_time": "2025-03-13T08:54:30.230745Z",
     "start_time": "2025-03-13T08:54:30.225964Z"
    }
   },
   "cell_type": "code",
   "source": [
    "def bungee_jumper_velocity(m, cd, t, g=9.8):\n",
    "    return np.sqrt(g * m / cd) * np.tanh(np.sqrt(g*cd/m) * t)\n",
    "\n",
    "def bungee_jumper_acceleration(m, cd, v, g=9.8):\n",
    "    return g - (cd * v ** 2 /m)\n",
    "\n",
    "data = dict(\n",
    "    m=68.1,\n",
    "    cd=0.25,\n",
    "    v0=0,\n",
    "    dt=1,\n",
    "    t0=0,\n",
    "    t_final=20,\n",
    ")\n",
    "\n",
    "acceleration = lambda  y,t: bungee_jumper_acceleration(m=data['m'], cd=data['cd'], v=y, g=9.8)"
   ],
   "id": "ece23c5249873453",
   "outputs": [],
   "execution_count": 2
  },
  {
   "metadata": {},
   "cell_type": "markdown",
   "source": [
    "# Solve Analytically\n",
    "\n",
    "$$ \\frac{dv}{dt} = g - \\frac{C_d v^2}{m} $$\n",
    "$$ v(t) = \\sqrt{\\frac{m g}{C_d}} \\tanh{(\\sqrt{\\frac{g C_d}{m}} t)}  $$\n"
   ],
   "id": "136a5e32ffac8dc"
  },
  {
   "metadata": {
    "ExecuteTime": {
     "end_time": "2025-03-13T08:54:30.439570Z",
     "start_time": "2025-03-13T08:54:30.311604Z"
    }
   },
   "cell_type": "code",
   "source": [
    "analytical_df = pd.DataFrame(\n",
    "    data=dict(\n",
    "        t=np.arange(data['t0'], data['t_final'], data['dt'])\n",
    "    )\n",
    ")\n",
    "analytical_df['v'] = bungee_jumper_velocity(\n",
    "    m=data['m'], cd=data['cd'], t=analytical_df['t'], g=9.8)\n",
    "\n",
    "analytical_df.plot(x='t', y='v', linestyle='-')\n",
    "df_all = analytical_df.copy()\n",
    "df_all.rename(columns={'v': 'analytical'}, inplace=True)\n",
    "plt.grid()"
   ],
   "id": "8df71eb9b351a27f",
   "outputs": [
    {
     "data": {
      "text/plain": [
       "<Figure size 640x480 with 1 Axes>"
      ],
      "image/png": "[encoded data removed]"
     },
     "metadata": {},
     "output_type": "display_data"
    }
   ],
   "execution_count": 3
  },
  {
   "metadata": {
    "ExecuteTime": {
     "end_time": "2025-03-13T08:54:30.462964Z",
     "start_time": "2025-03-13T08:54:30.458978Z"
    }
   },
   "cell_type": "code",
   "source": [
    "def align_solver_data(solver_df, df, solver_name):\n",
    "    \"\"\"\n",
    "    Aligns time points between solver result and the collection dataframe,\n",
    "    then adds the solver's velocity data to the collection dataframe.\n",
    "\n",
    "    Parameters:\n",
    "    -----------\n",
    "    solver_df : pd.DataFrame\n",
    "        Result dataframe from the solver with 't' and 'v' columns\n",
    "    df : pd.DataFrame\n",
    "        Collection dataframe for velocity values from all solvers\n",
    "    solver_name : str\n",
    "        Name of the solver to use as column name\n",
    "\n",
    "    Returns:\n",
    "    --------\n",
    "    pd.DataFrame\n",
    "        Updated df_all dataframe with new solver data\n",
    "    \"\"\"\n",
    "    # Make sure we're not modifying the original dataframe\n",
    "    df = df.copy()\n",
    "\n",
    "    # Extract solver data with renamed column\n",
    "    solver_data = solver_df[['t', 'v']].copy()\n",
    "    solver_data = solver_data.rename(columns={'v': solver_name})\n",
    "\n",
    "    # Merge with existing collection dataframe\n",
    "    df = pd.merge(\n",
    "        df,\n",
    "        solver_data,\n",
    "        on='t',\n",
    "        how='outer'\n",
    "    )\n",
    "\n",
    "    return df\n",
    "\n",
    "\n",
    "def calculate_error(df, reference_col='analytical'):\n",
    "    \"\"\"\n",
    "    Calculates error for all solver columns in df compared to the reference column.\n",
    "\n",
    "    Parameters:\n",
    "    -----------\n",
    "    df : pd.DataFrame\n",
    "        Collection dataframe with velocity values from all solvers\n",
    "    reference_col : str\n",
    "        Name of the column to use as reference (typically the analytical solution)\n",
    "\n",
    "    Returns:\n",
    "    --------\n",
    "    pd.DataFrame\n",
    "        Error dataframe with columns for each solver's error\n",
    "    \"\"\"\n",
    "    # Create a new dataframe with only the time column\n",
    "    df_err = pd.DataFrame({'t': df['t']})\n",
    "\n",
    "    # Get all solver columns (excluding time and reference)\n",
    "    solver_cols = [col for col in df.columns if col != 't' and col != reference_col]\n",
    "\n",
    "    # Calculate errors for each solver\n",
    "    for solver in solver_cols:\n",
    "        df_err[solver] = (df[solver] - df[reference_col]).abs()\n",
    "\n",
    "    return df_err"
   ],
   "id": "509aeff7a9a282d5",
   "outputs": [],
   "execution_count": 4
  },
  {
   "metadata": {},
   "cell_type": "markdown",
   "source": "# Euler Method",
   "id": "d59400094f9776c3"
  },
  {
   "metadata": {
    "ExecuteTime": {
     "end_time": "2025-03-13T08:54:30.809569Z",
     "start_time": "2025-03-13T08:54:30.493819Z"
    }
   },
   "cell_type": "code",
   "source": [
    "from ODE.RungeKutta.RKEulerMethod import RKEulerMethod\n",
    "\n",
    "solver_euler = RKEulerMethod(\n",
    "    derivative_function=acceleration,\n",
    "    t0=data['t0'],\n",
    "    t_final=data['t_final'],\n",
    "    y0=data['v0'],\n",
    "    h=data['dt'],\n",
    "    y_label='v'\n",
    ")\n",
    "display(Math(r'\\text{Euler Method Butcher tableau}'))\n",
    "display(Math(solver_euler.butcher_tableau))"
   ],
   "id": "731c9f174ed6d0a1",
   "outputs": [
    {
     "data": {
      "text/plain": [
       "<IPython.core.display.Math object>"
      ],
      "text/latex": "$\\displaystyle \\text{Euler Method Butcher tableau}$"
     },
     "metadata": {},
     "output_type": "display_data"
    },
    {
     "data": {
      "text/plain": [
       "<IPython.core.display.Math object>"
      ],
      "text/latex": "$\\displaystyle \\begin{array}{c|c}\n\\mathtt{\\text{0}} & \\mathtt{\\text{1}} \\\\\n\\hline\n0 & 1 \\\\\n\\end{array}$"
     },
     "metadata": {},
     "output_type": "display_data"
    }
   ],
   "execution_count": 5
  },
  {
   "metadata": {},
   "cell_type": "code",
   "source": [
    "df_euler =solver_euler.run()\n",
    "clear_output()"
   ],
   "id": "b39c15d3d02a7bd7",
   "execution_count": 6,
   "outputs": []
  },
  {
   "metadata": {
    "ExecuteTime": {
     "end_time": "2025-03-13T08:54:30.933617Z",
     "start_time": "2025-03-13T08:54:30.914234Z"
    }
   },
   "cell_type": "code",
   "source": [
    "df_all = align_solver_data(\n",
    "    solver_name='euler',\n",
    "    solver_df=df_euler,\n",
    "    df=df_all\n",
    ")\n",
    "df_euler"
   ],
   "id": "40febd9def35f0b6",
   "outputs": [
    {
     "data": {
      "text/plain": [
       "            v   t     dy_dt\n",
       "0    0.000000   0  9.800000\n",
       "1    9.800000   1  9.447430\n",
       "2   19.247430   2  8.440002\n",
       "3   27.687432   3  6.985779\n",
       "4   34.673211   4  5.386522\n",
       "5   40.059732   5  3.908729\n",
       "6   43.968461   6  2.702990\n",
       "7   46.671451   7  1.803582\n",
       "8   48.475033   8  1.173609\n",
       "9   49.648642   9  0.750853\n",
       "10  50.399495  10  0.475077\n",
       "11  50.874572  11  0.298451\n",
       "12  51.173022  12  0.186644\n",
       "13  51.359666  13  0.116390\n",
       "14  51.476056  14  0.072451\n",
       "15  51.548507  15  0.045049\n",
       "16  51.593556  16  0.027992\n",
       "17  51.621548  17  0.017385\n",
       "18  51.638933  18  0.010795\n",
       "19  51.649728  19  0.006702\n",
       "20  51.656430  20  0.004160"
      ],
      "text/html": [
       "<div>\n",
       "<style scoped>\n",
       "    .dataframe tbody tr th:only-of-type {\n",
       "        vertical-align: middle;\n",
       "    }\n",
       "\n",
       "    .dataframe tbody tr th {\n",
       "        vertical-align: top;\n",
       "    }\n",
       "\n",
       "    .dataframe thead th {\n",
       "        text-align: right;\n",
       "    }\n",
       "</style>\n",
       "<table border=\"1\" class=\"dataframe\">\n",
       "  <thead>\n",
       "    <tr style=\"text-align: right;\">\n",
       "      <th></th>\n",
       "      <th>v</th>\n",
       "      <th>t</th>\n",
       "      <th>dy_dt</th>\n",
       "    </tr>\n",
       "  </thead>\n",
       "  <tbody>\n",
       "    <tr>\n",
       "      <th>0</th>\n",
       "      <td>0.000000</td>\n",
       "      <td>0</td>\n",
       "      <td>9.800000</td>\n",
       "    </tr>\n",
       "    <tr>\n",
       "      <th>1</th>\n",
       "      <td>9.800000</td>\n",
       "      <td>1</td>\n",
       "      <td>9.447430</td>\n",
       "    </tr>\n",
       "    <tr>\n",
       "      <th>2</th>\n",
       "      <td>19.247430</td>\n",
       "      <td>2</td>\n",
       "      <td>8.440002</td>\n",
       "    </tr>\n",
       "    <tr>\n",
       "      <th>3</th>\n",
       "      <td>27.687432</td>\n",
       "      <td>3</td>\n",
       "      <td>6.985779</td>\n",
       "    </tr>\n",
       "    <tr>\n",
       "      <th>4</th>\n",
       "      <td>34.673211</td>\n",
       "      <td>4</td>\n",
       "      <td>5.386522</td>\n",
       "    </tr>\n",
       "    <tr>\n",
       "      <th>5</th>\n",
       "      <td>40.059732</td>\n",
       "      <td>5</td>\n",
       "      <td>3.908729</td>\n",
       "    </tr>\n",
       "    <tr>\n",
       "      <th>6</th>\n",
       "      <td>43.968461</td>\n",
       "      <td>6</td>\n",
       "      <td>2.702990</td>\n",
       "    </tr>\n",
       "    <tr>\n",
       "      <th>7</th>\n",
       "      <td>46.671451</td>\n",
       "      <td>7</td>\n",
       "      <td>1.803582</td>\n",
       "    </tr>\n",
       "    <tr>\n",
       "      <th>8</th>\n",
       "      <td>48.475033</td>\n",
       "      <td>8</td>\n",
       "      <td>1.173609</td>\n",
       "    </tr>\n",
       "    <tr>\n",
       "      <th>9</th>\n",
       "      <td>49.648642</td>\n",
       "      <td>9</td>\n",
       "      <td>0.750853</td>\n",
       "    </tr>\n",
       "    <tr>\n",
       "      <th>10</th>\n",
       "      <td>50.399495</td>\n",
       "      <td>10</td>\n",
       "      <td>0.475077</td>\n",
       "    </tr>\n",
       "    <tr>\n",
       "      <th>11</th>\n",
       "      <td>50.874572</td>\n",
       "      <td>11</td>\n",
       "      <td>0.298451</td>\n",
       "    </tr>\n",
       "    <tr>\n",
       "      <th>12</th>\n",
       "      <td>51.173022</td>\n",
       "      <td>12</td>\n",
       "      <td>0.186644</td>\n",
       "    </tr>\n",
       "    <tr>\n",
       "      <th>13</th>\n",
       "      <td>51.359666</td>\n",
       "      <td>13</td>\n",
       "      <td>0.116390</td>\n",
       "    </tr>\n",
       "    <tr>\n",
       "      <th>14</th>\n",
       "      <td>51.476056</td>\n",
       "      <td>14</td>\n",
       "      <td>0.072451</td>\n",
       "    </tr>\n",
       "    <tr>\n",
       "      <th>15</th>\n",
       "      <td>51.548507</td>\n",
       "      <td>15</td>\n",
       "      <td>0.045049</td>\n",
       "    </tr>\n",
       "    <tr>\n",
       "      <th>16</th>\n",
       "      <td>51.593556</td>\n",
       "      <td>16</td>\n",
       "      <td>0.027992</td>\n",
       "    </tr>\n",
       "    <tr>\n",
       "      <th>17</th>\n",
       "      <td>51.621548</td>\n",
       "      <td>17</td>\n",
       "      <td>0.017385</td>\n",
       "    </tr>\n",
       "    <tr>\n",
       "      <th>18</th>\n",
       "      <td>51.638933</td>\n",
       "      <td>18</td>\n",
       "      <td>0.010795</td>\n",
       "    </tr>\n",
       "    <tr>\n",
       "      <th>19</th>\n",
       "      <td>51.649728</td>\n",
       "      <td>19</td>\n",
       "      <td>0.006702</td>\n",
       "    </tr>\n",
       "    <tr>\n",
       "      <th>20</th>\n",
       "      <td>51.656430</td>\n",
       "      <td>20</td>\n",
       "      <td>0.004160</td>\n",
       "    </tr>\n",
       "  </tbody>\n",
       "</table>\n",
       "</div>"
      ]
     },
     "execution_count": 7,
     "metadata": {},
     "output_type": "execute_result"
    }
   ],
   "execution_count": 7
  },
  {
   "metadata": {},
   "cell_type": "markdown",
   "source": "# HeunMethod",
   "id": "911e139d1ac8d11c"
  },
  {
   "metadata": {
    "ExecuteTime": {
     "end_time": "2025-03-13T08:54:31.008494Z",
     "start_time": "2025-03-13T08:54:31.003009Z"
    }
   },
   "cell_type": "code",
   "source": [
    "from ODE.RungeKutta.RKHeunMethod import RKHeunMethod\n",
    "solver_heun = RKHeunMethod(\n",
    "    derivative_function=acceleration,\n",
    "    t0=data['t0'],\n",
    "    t_final=data['t_final'],\n",
    "    y0=data['v0'],\n",
    "    h=data['dt'],\n",
    "    y_label='v'\n",
    ")\n",
    "display(Math(r'\\text{Heun Method Butcher tableau}'))\n",
    "display(Math(solver_heun.butcher_tableau))"
   ],
   "id": "d9e98552ef063416",
   "outputs": [
    {
     "data": {
      "text/plain": [
       "<IPython.core.display.Math object>"
      ],
      "text/latex": "$\\displaystyle \\text{Heun Method Butcher tableau}$"
     },
     "metadata": {},
     "output_type": "display_data"
    },
    {
     "data": {
      "text/plain": [
       "<IPython.core.display.Math object>"
      ],
      "text/latex": "$\\displaystyle \\begin{array}{c|cc}\n\\mathtt{\\text{0}} & \\mathtt{\\text{0}} & \\mathtt{\\text{0}} \\\\\n\\mathtt{\\text{1}} & \\mathtt{\\text{1}} & \\mathtt{\\text{0}} \\\\\n\\hline\n0 & 1/2 & 1/2 \\\\\n\\end{array}$"
     },
     "metadata": {},
     "output_type": "display_data"
    }
   ],
   "execution_count": 8
  },
  {
   "metadata": {},
   "cell_type": "code",
   "source": [
    "df_heun = solver_heun.run()\n",
    "clear_output()"
   ],
   "id": "50b612d014bf5c0f",
   "execution_count": 9,
   "outputs": []
  },
  {
   "metadata": {
    "ExecuteTime": {
     "end_time": "2025-03-13T08:54:31.201193Z",
     "start_time": "2025-03-13T08:54:31.191217Z"
    }
   },
   "cell_type": "code",
   "source": [
    "df_all = align_solver_data(\n",
    "    solver_name='heun',\n",
    "    solver_df=df_heun,\n",
    "    df=df_all\n",
    ")\n",
    "df_heun"
   ],
   "id": "a78ff23d06549fa1",
   "outputs": [
    {
     "data": {
      "text/plain": [
       "            v   t     dy_dt\n",
       "0    0.000000   0  9.800000\n",
       "1    9.623715   1  9.460000\n",
       "2   18.585235   2  8.531972\n",
       "3   26.401472   3  7.241124\n",
       "4   32.844530   4  5.839783\n",
       "5   37.917586   5  4.521941\n",
       "6   41.772548   6  3.394179\n",
       "7   44.625083   7  2.489435\n",
       "8   46.695318   8  1.795401\n",
       "9   48.177031   9  1.279345\n",
       "10  49.227106  10  0.903862\n",
       "11  49.966126  11  0.634751\n",
       "12  50.483706  12  0.443889\n",
       "13  50.844968  13  0.309505\n",
       "14  51.096526  14  0.215363\n",
       "15  51.271407  15  0.149643\n",
       "16  51.392843  16  0.103875\n",
       "17  51.477101  17  0.072056\n",
       "18  51.535531  18  0.049960\n",
       "19  51.576034  19  0.034628\n",
       "20  51.604104  20  0.023996"
      ],
      "text/html": [
       "<div>\n",
       "<style scoped>\n",
       "    .dataframe tbody tr th:only-of-type {\n",
       "        vertical-align: middle;\n",
       "    }\n",
       "\n",
       "    .dataframe tbody tr th {\n",
       "        vertical-align: top;\n",
       "    }\n",
       "\n",
       "    .dataframe thead th {\n",
       "        text-align: right;\n",
       "    }\n",
       "</style>\n",
       "<table border=\"1\" class=\"dataframe\">\n",
       "  <thead>\n",
       "    <tr style=\"text-align: right;\">\n",
       "      <th></th>\n",
       "      <th>v</th>\n",
       "      <th>t</th>\n",
       "      <th>dy_dt</th>\n",
       "    </tr>\n",
       "  </thead>\n",
       "  <tbody>\n",
       "    <tr>\n",
       "      <th>0</th>\n",
       "      <td>0.000000</td>\n",
       "      <td>0</td>\n",
       "      <td>9.800000</td>\n",
       "    </tr>\n",
       "    <tr>\n",
       "      <th>1</th>\n",
       "      <td>9.623715</td>\n",
       "      <td>1</td>\n",
       "      <td>9.460000</td>\n",
       "    </tr>\n",
       "    <tr>\n",
       "      <th>2</th>\n",
       "      <td>18.585235</td>\n",
       "      <td>2</td>\n",
       "      <td>8.531972</td>\n",
       "    </tr>\n",
       "    <tr>\n",
       "      <th>3</th>\n",
       "      <td>26.401472</td>\n",
       "      <td>3</td>\n",
       "      <td>7.241124</td>\n",
       "    </tr>\n",
       "    <tr>\n",
       "      <th>4</th>\n",
       "      <td>32.844530</td>\n",
       "      <td>4</td>\n",
       "      <td>5.839783</td>\n",
       "    </tr>\n",
       "    <tr>\n",
       "      <th>5</th>\n",
       "      <td>37.917586</td>\n",
       "      <td>5</td>\n",
       "      <td>4.521941</td>\n",
       "    </tr>\n",
       "    <tr>\n",
       "      <th>6</th>\n",
       "      <td>41.772548</td>\n",
       "      <td>6</td>\n",
       "      <td>3.394179</td>\n",
       "    </tr>\n",
       "    <tr>\n",
       "      <th>7</th>\n",
       "      <td>44.625083</td>\n",
       "      <td>7</td>\n",
       "      <td>2.489435</td>\n",
       "    </tr>\n",
       "    <tr>\n",
       "      <th>8</th>\n",
       "      <td>46.695318</td>\n",
       "      <td>8</td>\n",
       "      <td>1.795401</td>\n",
       "    </tr>\n",
       "    <tr>\n",
       "      <th>9</th>\n",
       "      <td>48.177031</td>\n",
       "      <td>9</td>\n",
       "      <td>1.279345</td>\n",
       "    </tr>\n",
       "    <tr>\n",
       "      <th>10</th>\n",
       "      <td>49.227106</td>\n",
       "      <td>10</td>\n",
       "      <td>0.903862</td>\n",
       "    </tr>\n",
       "    <tr>\n",
       "      <th>11</th>\n",
       "      <td>49.966126</td>\n",
       "      <td>11</td>\n",
       "      <td>0.634751</td>\n",
       "    </tr>\n",
       "    <tr>\n",
       "      <th>12</th>\n",
       "      <td>50.483706</td>\n",
       "      <td>12</td>\n",
       "      <td>0.443889</td>\n",
       "    </tr>\n",
       "    <tr>\n",
       "      <th>13</th>\n",
       "      <td>50.844968</td>\n",
       "      <td>13</td>\n",
       "      <td>0.309505</td>\n",
       "    </tr>\n",
       "    <tr>\n",
       "      <th>14</th>\n",
       "      <td>51.096526</td>\n",
       "      <td>14</td>\n",
       "      <td>0.215363</td>\n",
       "    </tr>\n",
       "    <tr>\n",
       "      <th>15</th>\n",
       "      <td>51.271407</td>\n",
       "      <td>15</td>\n",
       "      <td>0.149643</td>\n",
       "    </tr>\n",
       "    <tr>\n",
       "      <th>16</th>\n",
       "      <td>51.392843</td>\n",
       "      <td>16</td>\n",
       "      <td>0.103875</td>\n",
       "    </tr>\n",
       "    <tr>\n",
       "      <th>17</th>\n",
       "      <td>51.477101</td>\n",
       "      <td>17</td>\n",
       "      <td>0.072056</td>\n",
       "    </tr>\n",
       "    <tr>\n",
       "      <th>18</th>\n",
       "      <td>51.535531</td>\n",
       "      <td>18</td>\n",
       "      <td>0.049960</td>\n",
       "    </tr>\n",
       "    <tr>\n",
       "      <th>19</th>\n",
       "      <td>51.576034</td>\n",
       "      <td>19</td>\n",
       "      <td>0.034628</td>\n",
       "    </tr>\n",
       "    <tr>\n",
       "      <th>20</th>\n",
       "      <td>51.604104</td>\n",
       "      <td>20</td>\n",
       "      <td>0.023996</td>\n",
       "    </tr>\n",
       "  </tbody>\n",
       "</table>\n",
       "</div>"
      ]
     },
     "execution_count": 10,
     "metadata": {},
     "output_type": "execute_result"
    }
   ],
   "execution_count": 10
  },
  {
   "metadata": {},
   "cell_type": "markdown",
   "source": "# RungeKutta4",
   "id": "d124dc6be59decc8"
  },
  {
   "metadata": {
    "ExecuteTime": {
     "end_time": "2025-03-13T08:54:31.273057Z",
     "start_time": "2025-03-13T08:54:31.267143Z"
    }
   },
   "cell_type": "code",
   "source": [
    "from ODE.RungeKutta.RungeKutta4 import RungeKutta4\n",
    "\n",
    "solver_rk4 = RungeKutta4(\n",
    "    derivative_function=acceleration,\n",
    "    t0=data['t0'],\n",
    "    t_final=data['t_final'],\n",
    "    y0=data['v0'],\n",
    "    h=data['dt'],\n",
    "    y_label='v'\n",
    ")\n",
    "display(Math(r'\\text{Runge Kutta 4 Butcher tableau}'))\n",
    "display(Math(solver_rk4.butcher_tableau))"
   ],
   "id": "648a7816a9768f59",
   "outputs": [
    {
     "data": {
      "text/plain": [
       "<IPython.core.display.Math object>"
      ],
      "text/latex": "$\\displaystyle \\text{Runge Kutta 4 Butcher tableau}$"
     },
     "metadata": {},
     "output_type": "display_data"
    },
    {
     "data": {
      "text/plain": [
       "<IPython.core.display.Math object>"
      ],
      "text/latex": "$\\displaystyle \\begin{array}{c|cccc}\n0 & 0 & 0 & 0 & 0 \\\\\n\\frac{1}{2} & \\frac{1}{2} & 0 & 0 & 0 \\\\\n\\frac{1}{2} & 0 & \\frac{1}{2} & 0 & 0 \\\\\n1 & 0 & 0 & 1 & 0 \\\\\n\\hline\n0 & 1/6 & 1/3 & 1/3 & 1/6 \\\\\n\\end{array}$"
     },
     "metadata": {},
     "output_type": "display_data"
    }
   ],
   "execution_count": 11
  },
  {
   "metadata": {},
   "cell_type": "code",
   "source": [
    "df_rk4 = solver_rk4.run()\n",
    "clear_output()"
   ],
   "id": "95c3c9433ca56ff5",
   "execution_count": 12,
   "outputs": []
  },
  {
   "metadata": {
    "ExecuteTime": {
     "end_time": "2025-03-13T08:54:31.435735Z",
     "start_time": "2025-03-13T08:54:31.427310Z"
    }
   },
   "cell_type": "code",
   "source": [
    "df_all = align_solver_data(\n",
    "    solver_name='rk4',\n",
    "    solver_df=df_rk4,\n",
    "    df=df_all\n",
    ")\n",
    "df_rk4"
   ],
   "id": "a11420d76b80a4a2",
   "outputs": [
    {
     "data": {
      "text/plain": [
       "            v   t     dy_dt\n",
       "0    0.000000   0  9.800000\n",
       "1    9.684036   1  9.455725\n",
       "2   18.710698   2  8.514794\n",
       "3   26.589751   3  7.204498\n",
       "4   33.082409   4  5.782211\n",
       "5   38.183598   5  4.447624\n",
       "6   42.043512   6  3.310804\n",
       "7   44.881855   7  2.405063\n",
       "8   46.925413   8  1.716320\n",
       "9   48.374495   9  1.209355\n",
       "10  49.390972  10  0.844537\n",
       "11  50.098590  11  0.586091\n",
       "12  50.588593  12  0.404972\n",
       "13  50.926660  13  0.278984\n",
       "14  51.159313  14  0.191794\n",
       "15  51.319141  15  0.131666\n",
       "16  51.428808  16  0.090300\n",
       "17  51.503996  17  0.061888\n",
       "18  51.555515  18  0.042397\n",
       "19  51.590803  19  0.029035\n",
       "20  51.614966  20  0.019880"
      ],
      "text/html": [
       "<div>\n",
       "<style scoped>\n",
       "    .dataframe tbody tr th:only-of-type {\n",
       "        vertical-align: middle;\n",
       "    }\n",
       "\n",
       "    .dataframe tbody tr th {\n",
       "        vertical-align: top;\n",
       "    }\n",
       "\n",
       "    .dataframe thead th {\n",
       "        text-align: right;\n",
       "    }\n",
       "</style>\n",
       "<table border=\"1\" class=\"dataframe\">\n",
       "  <thead>\n",
       "    <tr style=\"text-align: right;\">\n",
       "      <th></th>\n",
       "      <th>v</th>\n",
       "      <th>t</th>\n",
       "      <th>dy_dt</th>\n",
       "    </tr>\n",
       "  </thead>\n",
       "  <tbody>\n",
       "    <tr>\n",
       "      <th>0</th>\n",
       "      <td>0.000000</td>\n",
       "      <td>0</td>\n",
       "      <td>9.800000</td>\n",
       "    </tr>\n",
       "    <tr>\n",
       "      <th>1</th>\n",
       "      <td>9.684036</td>\n",
       "      <td>1</td>\n",
       "      <td>9.455725</td>\n",
       "    </tr>\n",
       "    <tr>\n",
       "      <th>2</th>\n",
       "      <td>18.710698</td>\n",
       "      <td>2</td>\n",
       "      <td>8.514794</td>\n",
       "    </tr>\n",
       "    <tr>\n",
       "      <th>3</th>\n",
       "      <td>26.589751</td>\n",
       "      <td>3</td>\n",
       "      <td>7.204498</td>\n",
       "    </tr>\n",
       "    <tr>\n",
       "      <th>4</th>\n",
       "      <td>33.082409</td>\n",
       "      <td>4</td>\n",
       "      <td>5.782211</td>\n",
       "    </tr>\n",
       "    <tr>\n",
       "      <th>5</th>\n",
       "      <td>38.183598</td>\n",
       "      <td>5</td>\n",
       "      <td>4.447624</td>\n",
       "    </tr>\n",
       "    <tr>\n",
       "      <th>6</th>\n",
       "      <td>42.043512</td>\n",
       "      <td>6</td>\n",
       "      <td>3.310804</td>\n",
       "    </tr>\n",
       "    <tr>\n",
       "      <th>7</th>\n",
       "      <td>44.881855</td>\n",
       "      <td>7</td>\n",
       "      <td>2.405063</td>\n",
       "    </tr>\n",
       "    <tr>\n",
       "      <th>8</th>\n",
       "      <td>46.925413</td>\n",
       "      <td>8</td>\n",
       "      <td>1.716320</td>\n",
       "    </tr>\n",
       "    <tr>\n",
       "      <th>9</th>\n",
       "      <td>48.374495</td>\n",
       "      <td>9</td>\n",
       "      <td>1.209355</td>\n",
       "    </tr>\n",
       "    <tr>\n",
       "      <th>10</th>\n",
       "      <td>49.390972</td>\n",
       "      <td>10</td>\n",
       "      <td>0.844537</td>\n",
       "    </tr>\n",
       "    <tr>\n",
       "      <th>11</th>\n",
       "      <td>50.098590</td>\n",
       "      <td>11</td>\n",
       "      <td>0.586091</td>\n",
       "    </tr>\n",
       "    <tr>\n",
       "      <th>12</th>\n",
       "      <td>50.588593</td>\n",
       "      <td>12</td>\n",
       "      <td>0.404972</td>\n",
       "    </tr>\n",
       "    <tr>\n",
       "      <th>13</th>\n",
       "      <td>50.926660</td>\n",
       "      <td>13</td>\n",
       "      <td>0.278984</td>\n",
       "    </tr>\n",
       "    <tr>\n",
       "      <th>14</th>\n",
       "      <td>51.159313</td>\n",
       "      <td>14</td>\n",
       "      <td>0.191794</td>\n",
       "    </tr>\n",
       "    <tr>\n",
       "      <th>15</th>\n",
       "      <td>51.319141</td>\n",
       "      <td>15</td>\n",
       "      <td>0.131666</td>\n",
       "    </tr>\n",
       "    <tr>\n",
       "      <th>16</th>\n",
       "      <td>51.428808</td>\n",
       "      <td>16</td>\n",
       "      <td>0.090300</td>\n",
       "    </tr>\n",
       "    <tr>\n",
       "      <th>17</th>\n",
       "      <td>51.503996</td>\n",
       "      <td>17</td>\n",
       "      <td>0.061888</td>\n",
       "    </tr>\n",
       "    <tr>\n",
       "      <th>18</th>\n",
       "      <td>51.555515</td>\n",
       "      <td>18</td>\n",
       "      <td>0.042397</td>\n",
       "    </tr>\n",
       "    <tr>\n",
       "      <th>19</th>\n",
       "      <td>51.590803</td>\n",
       "      <td>19</td>\n",
       "      <td>0.029035</td>\n",
       "    </tr>\n",
       "    <tr>\n",
       "      <th>20</th>\n",
       "      <td>51.614966</td>\n",
       "      <td>20</td>\n",
       "      <td>0.019880</td>\n",
       "    </tr>\n",
       "  </tbody>\n",
       "</table>\n",
       "</div>"
      ]
     },
     "execution_count": 13,
     "metadata": {},
     "output_type": "execute_result"
    }
   ],
   "execution_count": 13
  },
  {
   "metadata": {},
   "cell_type": "markdown",
   "source": "# RK Cash Karp",
   "id": "2990004377377bc5"
  },
  {
   "metadata": {
    "ExecuteTime": {
     "end_time": "2025-03-13T09:11:21.276569Z",
     "start_time": "2025-03-13T09:11:21.265031Z"
    }
   },
   "cell_type": "code",
   "source": [
    "from ODE.RungeKutta.RKCashKarp import RKCashKarp\n",
    "\n",
    "solver_cash_karp = RKCashKarp(\n",
    "    derivative_function=acceleration,\n",
    "    t0=data['t0'],\n",
    "    t_final=data['t_final'],\n",
    "    y0=data['v0'],\n",
    "    h=data['dt'],\n",
    "    y_label='v'\n",
    ")\n",
    "display(Math(r'\\text{Runge Kutta cash-karp Butcher tableau}'))\n",
    "display(Math(solver_cash_karp.butcher_tableau))"
   ],
   "id": "103ae8e767a56432",
   "outputs": [
    {
     "data": {
      "text/plain": [
       "<IPython.core.display.Math object>"
      ],
      "text/latex": "$\\displaystyle \\text{Runge Kutta cash-karp Butcher tableau}$"
     },
     "metadata": {},
     "output_type": "display_data"
    },
    {
     "data": {
      "text/plain": [
       "<IPython.core.display.Math object>"
      ],
      "text/latex": "$\\displaystyle \\begin{array}{c|cccccc}\n0 & 0 & 0 & 0 & 0 & 0 & 0 \\\\\n\\frac{1}{5} & \\frac{1}{5} & 0 & 0 & 0 & 0 & 0 \\\\\n\\frac{3}{10} & \\frac{3}{40} & \\frac{9}{40} & 0 & 0 & 0 & 0 \\\\\n\\frac{3}{5} & \\frac{3}{10} & - \\frac{9}{10} & \\frac{6}{5} & 0 & 0 & 0 \\\\\n1 & - \\frac{11}{54} & \\frac{5}{2} & - \\frac{70}{27} & \\frac{35}{27} & 0 & 0 \\\\\n\\frac{7}{8} & \\frac{1631}{55296} & \\frac{175}{512} & \\frac{575}{13824} & \\frac{44275}{110592} & \\frac{253}{4096} & 0 \\\\\n\\hline\n0 & 37/378 & 0 & 250/621 & 125/594 & 0 & 512/1771 \\\\\n\\end{array}$"
     },
     "metadata": {},
     "output_type": "display_data"
    }
   ],
   "execution_count": 24
  },
  {
   "metadata": {},
   "cell_type": "code",
   "outputs": [],
   "execution_count": 21,
   "source": [
    "df_cash_karp = solver_cash_karp.run()\n",
    "clear_output()\n",
    "df_all = align_solver_data(\n",
    "    solver_name='cash_karp',\n",
    "    solver_df=df_cash_karp,\n",
    "    df=df_all\n",
    ")"
   ],
   "id": "90050fc083334db9"
  },
  {
   "metadata": {},
   "cell_type": "markdown",
   "source": "# Runge Kutta bogacki-shampine",
   "id": "e3622b54a39b9f6b"
  },
  {
   "metadata": {
    "ExecuteTime": {
     "end_time": "2025-03-13T09:12:32.024975Z",
     "start_time": "2025-03-13T09:12:32.011721Z"
    }
   },
   "cell_type": "code",
   "source": [
    "from ODE.RungeKutta.RKBogackiShampine import RKBogackiShampine\n",
    "\n",
    "solver_bogacki_shampine = RKBogackiShampine(\n",
    "    derivative_function=acceleration,\n",
    "    t0=data['t0'],\n",
    "    t_final=data['t_final'],\n",
    "    y0=data['v0'],\n",
    "    h=data['dt'],\n",
    "    y_label='v'\n",
    ")\n",
    "display(Math(r'\\text{Runge Kutta bogacki-shampine Butcher tableau}'))\n",
    "display(Math(solver_bogacki_shampine.butcher_tableau))"
   ],
   "id": "2f5147079619aadf",
   "outputs": [
    {
     "data": {
      "text/plain": [
       "<IPython.core.display.Math object>"
      ],
      "text/latex": "$\\displaystyle \\text{Runge Kutta bogacki-shampine Butcher tableau}$"
     },
     "metadata": {},
     "output_type": "display_data"
    },
    {
     "data": {
      "text/plain": [
       "<IPython.core.display.Math object>"
      ],
      "text/latex": "$\\displaystyle \\begin{array}{c|cccc}\n0 & 0 & 0 & 0 & 0 \\\\\n\\frac{1}{2} & \\frac{1}{2} & 0 & 0 & 0 \\\\\n\\frac{3}{4} & 0 & \\frac{3}{4} & 0 & 0 \\\\\n1 & \\frac{2}{9} & \\frac{1}{3} & \\frac{4}{9} & 0 \\\\\n\\hline\n0 & 2/9 & 1/3 & 4/9 & 0 \\\\\n\\end{array}$"
     },
     "metadata": {},
     "output_type": "display_data"
    }
   ],
   "execution_count": 25
  },
  {
   "metadata": {},
   "cell_type": "code",
   "source": [
    "df_bogacki_shampine = solver_bogacki_shampine.run()\n",
    "clear_output()\n",
    "df_all = align_solver_data(\n",
    "    solver_name='bogacki_shampine',\n",
    "    solver_df=df_bogacki_shampine,\n",
    "    df=df_all\n",
    ")"
   ],
   "id": "a7a268ad5b598c4e",
   "execution_count": 26,
   "outputs": []
  },
  {
   "metadata": {},
   "cell_type": "markdown",
   "source": "# RKButcher5thOrder",
   "id": "ba68109ba4ad9f22"
  },
  {
   "metadata": {},
   "cell_type": "code",
   "source": [
    "from ODE.RungeKutta.RKButcher5thOrder import RKButcher5thOrder\n",
    "\n",
    "solver_butcher5 = RKButcher5thOrder(\n",
    "    derivative_function=acceleration,\n",
    "    t0=data['t0'],\n",
    "    t_final=data['t_final'],\n",
    "    y0=data['v0'],\n",
    "    h=data['dt'],\n",
    "    y_label='v'\n",
    ")\n",
    "display(Math(r'\\text{Runge Kutta 5 Butcher tableau}'))\n",
    "display(Math(solver_butcher5.butcher_tableau))\n",
    "df_butcher5 = solver_butcher5.run()\n",
    "clear_output()\n",
    "df_all = align_solver_data(\n",
    "    solver_name='butcher5',\n",
    "    solver_df=df_butcher5,\n",
    "    df=df_all\n",
    ")"
   ],
   "id": "f18b090bd76b1670",
   "execution_count": 28,
   "outputs": []
  },
  {
   "metadata": {},
   "cell_type": "markdown",
   "source": "# RKButcher6thOrder",
   "id": "c30554ec60ec40da"
  },
  {
   "metadata": {},
   "cell_type": "code",
   "source": [
    "from ODE.RungeKutta.RKButcher6thOrder import RKButcher6thOrder\n",
    "\n",
    "solver_butcher6 = RKButcher6thOrder(\n",
    "    derivative_function=acceleration,\n",
    "    t0=data['t0'],\n",
    "    t_final=data['t_final'],\n",
    "    y0=data['v0'],\n",
    "    h=data['dt'],\n",
    "    y_label='v'\n",
    ")\n",
    "display(Math(r'\\text{Runge Kutta 6 Butcher tableau}'))\n",
    "display(Math(solver_butcher6.butcher_tableau))\n",
    "df_butcher6 = solver_butcher6.run()\n",
    "clear_output()\n",
    "df_all = align_solver_data(\n",
    "    solver_name='butcher6',\n",
    "    solver_df=df_butcher6,\n",
    "    df=df_all\n",
    ")"
   ],
   "id": "688df8ceade0eb89",
   "execution_count": 29,
   "outputs": []
  },
  {
   "metadata": {},
   "cell_type": "markdown",
   "source": "#RKDormandPrince54",
   "id": "3f4916ae16401c7"
  },
  {
   "metadata": {},
   "cell_type": "code",
   "source": [
    "from ODE.RungeKutta.RKDormandPrince54 import RKDormandPrince54\n",
    "\n",
    "solver_dormand_prince54 = RKDormandPrince54(\n",
    "    derivative_function=acceleration,\n",
    "    t0=data['t0'],\n",
    "    t_final=data['t_final'],\n",
    "    y0=data['v0'],\n",
    "    h=data['dt'],\n",
    "    y_label='v'\n",
    ")\n",
    "display(Math(r'\\text{Runge Kutta dormand prince54'))\n",
    "display(Math(solver_dormand_prince54.butcher_tableau))\n",
    "df_dormand_prince54 = solver_dormand_prince54.run()\n",
    "clear_output()\n",
    "df_all = align_solver_data(\n",
    "    solver_name='dormand_prince54',\n",
    "    solver_df=df_dormand_prince54,\n",
    "    df=df_all\n",
    ")"
   ],
   "id": "1013f680376c9f1a",
   "execution_count": 30,
   "outputs": []
  },
  {
   "metadata": {},
   "cell_type": "markdown",
   "source": "# RKFehlberg45",
   "id": "c1b381c8eafa03ab"
  },
  {
   "metadata": {},
   "cell_type": "code",
   "source": [
    "from ODE.RungeKutta.RKFehlberg45 import RKFehlberg45\n",
    "\n",
    "solver_fehlberg45 = RKFehlberg45(\n",
    "    derivative_function=acceleration,\n",
    "    t0=data['t0'],\n",
    "    t_final=data['t_final'],\n",
    "    y0=data['v0'],\n",
    "    h=data['dt'],\n",
    "    y_label='v'\n",
    ")\n",
    "display(Math(r'\\text{Runge Kutta fehlberg45'))\n",
    "display(Math(solver_fehlberg45.butcher_tableau))\n",
    "df_fehlberg45 = solver_fehlberg45.run()\n",
    "clear_output()\n",
    "df_all = align_solver_data(\n",
    "    solver_name='fehlberg45',\n",
    "    solver_df=df_fehlberg45,\n",
    "    df=df_all\n",
    ")"
   ],
   "id": "d3e21d8f28c3c32c",
   "execution_count": 31,
   "outputs": []
  },
  {
   "metadata": {},
   "cell_type": "markdown",
   "source": "# RKMidpointMethod",
   "id": "89cb390a7d05ee67"
  },
  {
   "metadata": {},
   "cell_type": "code",
   "source": [
    "from ODE.RungeKutta.RKMidpointMethod import RKMidpointMethod\n",
    "\n",
    "solver_midpoint = RKMidpointMethod(\n",
    "    derivative_function=acceleration,\n",
    "    t0=data['t0'],\n",
    "    t_final=data['t_final'],\n",
    "    y0=data['v0'],\n",
    "    h=data['dt'],\n",
    "    y_label='v'\n",
    ")\n",
    "display(Math(r'\\text{Runge Kutta midpoint Butcher tableau}'))\n",
    "display(Math(solver_midpoint.butcher_tableau))\n",
    "df_midpoint = solver_midpoint.run()\n",
    "clear_output()\n",
    "df_all = align_solver_data(\n",
    "    solver_name='midpoint',\n",
    "    solver_df=df_midpoint,\n",
    "    df=df_all\n",
    ")"
   ],
   "id": "ea768a5c0e12a05d",
   "execution_count": 32,
   "outputs": []
  },
  {
   "metadata": {},
   "cell_type": "code",
   "source": [
    "from ODE.RungeKutta.RKRalstonMethod import RKRalstonMethod\n",
    "\n",
    "solver_ralston = RKRalstonMethod(\n",
    "    derivative_function=acceleration,\n",
    "    t0=data['t0'],\n",
    "    t_final=data['t_final'],\n",
    "    y0=data['v0'],\n",
    "    h=data['dt'],\n",
    "    y_label='v'\n",
    ")\n",
    "display(Math(r'\\text{Runge Kutta ralston Butcher tableau}'))\n",
    "display(Math(solver_ralston.butcher_tableau))\n",
    "df_ralston = solver_ralston.run()\n",
    "clear_output()\n",
    "df_all = align_solver_data(\n",
    "    solver_name='ralston',\n",
    "    solver_df=df_ralston,\n",
    "    df=df_all\n",
    ")"
   ],
   "id": "3320d88f016d9ce7",
   "execution_count": 33,
   "outputs": []
  },
  {
   "metadata": {},
   "cell_type": "markdown",
   "source": "# Results",
   "id": "d54d2c7978380e34"
  },
  {
   "metadata": {
    "ExecuteTime": {
     "end_time": "2025-03-13T09:25:18.004916Z",
     "start_time": "2025-03-13T09:25:17.555194Z"
    }
   },
   "cell_type": "code",
   "source": [
    "df_error = calculate_error(df_all)\n",
    "df_error.plot(x='t', y=['euler', 'heun', 'rk4', 'cash_karp', 'bogacki_shampine', 'butcher5', 'butcher6', 'dormand_prince54', 'fehlberg45', 'midpoint', 'ralston'])\n",
    "plt.yscale('log')  # Set y-axis to logarithmic scale\n",
    "plt.grid()\n",
    "plt.legend(loc='upper left', bbox_to_anchor=(1, 1))  # Place legend outside the plot"
   ],
   "id": "edc6c297142b54c8",
   "outputs": [
    {
     "data": {
      "text/plain": [
       "<matplotlib.legend.Legend at 0x7c91d5ce5e20>"
      ]
     },
     "execution_count": 37,
     "metadata": {},
     "output_type": "execute_result"
    },
    {
     "data": {
      "text/plain": [
       "<Figure size 640x480 with 1 Axes>"
      ],
      "image/png": "[encoded data removed]"
     },
     "metadata": {},
     "output_type": "display_data"
    }
   ],
   "execution_count": 37
  },
  {
   "metadata": {
    "ExecuteTime": {
     "end_time": "2025-03-13T09:37:43.497801Z",
     "start_time": "2025-03-13T09:37:43.281910Z"
    }
   },
   "cell_type": "code",
   "source": [
    "fig, ax = plt.subplots()\n",
    "df_all.plot(x='t', y=['euler', 'heun', 'rk4', 'cash_karp', 'bogacki_shampine', 'butcher5', 'butcher6', 'dormand_prince54', 'fehlberg45', 'midpoint', 'ralston'],ax=ax)\n",
    "df_all.plot(x='t', y='analytical', ax=ax, linewidth=2.0, color='k')\n",
    "plt.grid()"
   ],
   "id": "ed2f61225dda42e4",
   "outputs": [
    {
     "data": {
      "text/plain": [
       "<Figure size 640x480 with 1 Axes>"
      ],
      "image/png": "[encoded data removed]"
     },
     "metadata": {},
     "output_type": "display_data"
    }
   ],
   "execution_count": 42
  },
  {
   "metadata": {},
   "cell_type": "code",
   "outputs": [],
   "execution_count": null,
   "source": "",
   "id": "f30d912973af4275"
  }
 ],
 "metadata": {
  "kernelspec": {
   "display_name": "Python 3",
   "language": "python",
   "name": "python3"
  },
  "language_info": {
   "codemirror_mode": {
    "name": "ipython",
    "version": 2
   },
   "file_extension": ".py",
   "mimetype": "text/x-python",
   "name": "python",
   "nbconvert_exporter": "python",
   "pygments_lexer": "ipython2",
   "version": "2.7.6"
  }
 },
 "nbformat": 4,
 "nbformat_minor": 5
}
