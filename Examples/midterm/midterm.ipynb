{
 "cells": [
  {
   "cell_type": "code",
   "id": "initial_id",
   "metadata": {
    "collapsed": true,
    "jupyter": {
     "outputs_hidden": true
    },
    "ExecuteTime": {
     "end_time": "2025-05-02T17:52:20.084377Z",
     "start_time": "2025-05-02T17:52:18.299184Z"
    }
   },
   "source": [
    "import warnings\n",
    "import numpy as np\n",
    "import pandas as pd\n",
    "import sympy as sp\n",
    "import matplotlib.pyplot as plt\n",
    "from IPython.core.display import Math, Markdown\n",
    "warnings.filterwarnings('ignore')\n",
    "pd.set_option('display.max_rows', None)\n",
    "pd.set_option('display.max_columns', None)\n",
    "pd.set_option('display.width', 1000)"
   ],
   "outputs": [],
   "execution_count": 1
  },
  {
   "cell_type": "markdown",
   "id": "d0123e7227d7295f",
   "metadata": {},
   "source": [
    "----\n",
    "# Q1: Curve Fitting by Cubic Splines : (Curve Fitting Problem)\n",
    "You are given the following data points:\n",
    "$$\n",
    "\\begin{array}{|c|c|c|c|c|c|c|c|}\n",
    "\\hline\n",
    "x & 0 & 100 & 200 & 400 & 600 & 800 & 1000 \\\\\n",
    "\\hline\n",
    "f(x) & 0 & 0.82436 & 1.00000 & 0.73576 & 0.40601 & 0.19915 & 0.09158 \\\\\n",
    "\\hline\n",
    "\\end{array}\n",
    "$$\n",
    "\n",
    "1. Develop your own code to perform cubic spline interpolation for Natural boundary\n",
    "conditions\n",
    "2. Plot interpolation results on the same figure for comparison.\n",
    "3. Compare your results with Spline function in matlab\n",
    "4. Explain and discuss:\n",
    "    - How the boundary conditions affect the spline shape.\n",
    "    - Compare the behavior between spline and your code.\n",
    "\n",
    "\n",
    "Bonus extra:\n",
    "Discuss and Develop your own code to perform cubic spline interpolation for th following\n",
    "(compare with the above):\n",
    "- (b) Not-a-knot boundary conditions.\n",
    "- (c) Piecewise cubic Hermite interpolation"
   ]
  },
  {
   "cell_type": "code",
   "id": "308a1e057ed06be8",
   "metadata": {
    "ExecuteTime": {
     "end_time": "2025-05-01T09:48:27.950913Z",
     "start_time": "2025-05-01T09:48:27.947439Z"
    }
   },
   "source": [
    "q1_data = dict(\n",
    "    x=np.array([ 0 ,100 ,200,400,600,800,1000 ]),\n",
    "    y=np.array([ 0 ,0.82436 ,1.00000, 0.73576, 0.40601, 0.19915, 0.09158]),\n",
    ")"
   ],
   "outputs": [],
   "execution_count": 2
  },
  {
   "cell_type": "markdown",
   "id": "f6f920bf3d2fc7",
   "metadata": {},
   "source": [
    "## Solution (cubic spline interpolation for Natural boundary)\n",
    "\n",
    "$$ f(x) = \\begin{cases} s_0(x) & x \\in [x_0,x_1]\\\\\n",
    "s_1(x) & x \\in [x_1,x_2] \\\\\n",
    "s_2(x) & x \\in [x_2,x_3] \\\\\n",
    "s_3(x) & x \\in [x_3,x_4] \\\\\n",
    "s_4(x) & x \\in [x_4,x_5] \\\\\n",
    "s_5(x)& x \\in [x_5,x_6]\n",
    "\\end{cases}$$\n",
    "\n",
    "where:\n",
    "\n",
    "$$ s_i(x) = a_i + b_i (x-x_i) + c_i (x-x_i)^2 + d_i (x-x_i)^3 \\text{    ,} \\forall i \\in \\{0,1,2,3,4,5\\}$$\n",
    "\n",
    "\n",
    "Thus, we $(4 \\times 6)=24$ unknowns for $\\{a_i,b_i,c_i,d_i\\} \\forall i \\in \\{0,1,2,3,4,5\\}$"
   ]
  },
  {
   "cell_type": "markdown",
   "id": "1d5e0cca69797dc6",
   "metadata": {},
   "source": [
    "derivatives of $s(x)$ as follows:\n",
    "$$\n",
    "\\begin{align}\n",
    "    s_i(x)   &=a_i +b_i (x-x_i) +c_i (x-x_i)^2 +d_i (x-x_i)^3 \\\\\n",
    "    s'_i(x)  &=     b_i         +c_i 2(x-x_i)  +d_i 3(x-x_i)^2 \\\\\n",
    "    s''_i(x) &=                  c_i 2         +d_i 6(x-x_i) \\\\\n",
    "    s'''_i(x)&=                                 d_i 6        \\\\\n",
    "\\end{align}\n",
    "$$\n",
    "For $x=x_i$\n",
    "$$\n",
    "\\begin{align}\n",
    "    s_i(x_i)   &=a_i\\\\\n",
    "    s'_i(x_i)  &=b_i\\\\\n",
    "    s''_i(x_i) &=2c_i\\\\\n",
    "    s'''_i(x_i)&=d_i 6\\\\\n",
    "\\end{align}\n",
    "$$\n",
    "For $x=x_{i+1}$\n",
    "$$\n",
    "\\begin{align}\n",
    "    s_i(x_{i+1})   &=a_i + b_i h_i     +c_i h_i^2     +d_i h_i^3 \\\\\n",
    "    s'_i(x_{i+1})  &=      b_i         +c_i 2h_i      +d_i 3h_i^2 \\\\\n",
    "    s''_i(x_{i+1}) &=                   c_i 2         +d_i 6h_i \\\\\n",
    "    s'''_i(x_{i+1})&=                                  d_i 6        \\\\\n",
    "\\end{align}\n",
    "$$"
   ]
  },
  {
   "cell_type": "code",
   "id": "276f8fbf34e8ff24",
   "metadata": {
    "ExecuteTime": {
     "end_time": "2025-05-01T09:48:28.064462Z",
     "start_time": "2025-05-01T09:48:28.059355Z"
    }
   },
   "source": [
    "n = len(q1_data['x']) - 1 # number of intervals\n",
    "q1_unknowns = (\n",
    "    [f'a_{i}' for i in range(n)]+\n",
    "    [f'b_{i}' for i in range(n)]+\n",
    "    [f'c_{i}' for i in range(n)]+\n",
    "    [f'd_{i}' for i in range(n)]\n",
    ")\n",
    "q1_eqs = pd.DataFrame(columns=q1_unknowns+ ['LHS'])"
   ],
   "outputs": [],
   "execution_count": 3
  },
  {
   "cell_type": "code",
   "id": "88f8e12eb43f1e4e",
   "metadata": {
    "ExecuteTime": {
     "end_time": "2025-05-01T09:48:28.129154Z",
     "start_time": "2025-05-01T09:48:28.110733Z"
    }
   },
   "source": [
    "q1_hi = np.zeros(n)\n",
    "display(Markdown(r'Let $h_i = x_{i+1}-x_i$ thus:'))\n",
    "for i,(xi, xip1) in enumerate(zip(q1_data['x'][:-1], q1_data['x'][1:])):\n",
    "    h = xip1 - xi\n",
    "    q1_hi[i] = h\n",
    "    display(Math(f'h_{i} = x_{i+1}-x_{i} ={xip1}-{xi} = {h}'))"
   ],
   "outputs": [
    {
     "data": {
      "text/plain": [
       "<IPython.core.display.Markdown object>"
      ],
      "text/markdown": "Let $h_i = x_{i+1}-x_i$ thus:"
     },
     "metadata": {},
     "output_type": "display_data"
    },
    {
     "data": {
      "text/plain": [
       "<IPython.core.display.Math object>"
      ],
      "text/latex": "$\\displaystyle h_0 = x_1-x_0 =100-0 = 100$"
     },
     "metadata": {},
     "output_type": "display_data"
    },
    {
     "data": {
      "text/plain": [
       "<IPython.core.display.Math object>"
      ],
      "text/latex": "$\\displaystyle h_1 = x_2-x_1 =200-100 = 100$"
     },
     "metadata": {},
     "output_type": "display_data"
    },
    {
     "data": {
      "text/plain": [
       "<IPython.core.display.Math object>"
      ],
      "text/latex": "$\\displaystyle h_2 = x_3-x_2 =400-200 = 200$"
     },
     "metadata": {},
     "output_type": "display_data"
    },
    {
     "data": {
      "text/plain": [
       "<IPython.core.display.Math object>"
      ],
      "text/latex": "$\\displaystyle h_3 = x_4-x_3 =600-400 = 200$"
     },
     "metadata": {},
     "output_type": "display_data"
    },
    {
     "data": {
      "text/plain": [
       "<IPython.core.display.Math object>"
      ],
      "text/latex": "$\\displaystyle h_4 = x_5-x_4 =800-600 = 200$"
     },
     "metadata": {},
     "output_type": "display_data"
    },
    {
     "data": {
      "text/plain": [
       "<IPython.core.display.Math object>"
      ],
      "text/latex": "$\\displaystyle h_5 = x_6-x_5 =1000-800 = 200$"
     },
     "metadata": {},
     "output_type": "display_data"
    }
   ],
   "execution_count": 4
  },
  {
   "cell_type": "markdown",
   "id": "dfaadcc8f535af6e",
   "metadata": {},
   "source": [
    "The function values must be equal at beginning of $s_i(x)$:\n",
    "$$\n",
    "\\begin{align}\n",
    "    f_{i} & = s_{i}(x_{i}) \\\\\n",
    "    f_{i} & = a_i \\\\\n",
    "\\end{align}\n",
    "$$\n"
   ]
  },
  {
   "cell_type": "code",
   "id": "8048704c80cf2193",
   "metadata": {
    "ExecuteTime": {
     "end_time": "2025-05-01T09:48:28.203121Z",
     "start_time": "2025-05-01T09:48:28.180558Z"
    }
   },
   "source": [
    "for i in range(n):\n",
    "    y=q1_data['y'][i]\n",
    "    display(Math(f\"s_{i}(x_{i})=f_{i}\"\n",
    "    fr\"\\rightarrow a_{i} = {y}\"))\n",
    "    q1_eqs.loc[i,f'a_{i}'] = 1\n",
    "    q1_eqs.loc[i,'LHS'] = y"
   ],
   "outputs": [
    {
     "data": {
      "text/plain": [
       "<IPython.core.display.Math object>"
      ],
      "text/latex": "$\\displaystyle s_0(x_0)=f_0\\rightarrow a_0 = 0.0$"
     },
     "metadata": {},
     "output_type": "display_data"
    },
    {
     "data": {
      "text/plain": [
       "<IPython.core.display.Math object>"
      ],
      "text/latex": "$\\displaystyle s_1(x_1)=f_1\\rightarrow a_1 = 0.82436$"
     },
     "metadata": {},
     "output_type": "display_data"
    },
    {
     "data": {
      "text/plain": [
       "<IPython.core.display.Math object>"
      ],
      "text/latex": "$\\displaystyle s_2(x_2)=f_2\\rightarrow a_2 = 1.0$"
     },
     "metadata": {},
     "output_type": "display_data"
    },
    {
     "data": {
      "text/plain": [
       "<IPython.core.display.Math object>"
      ],
      "text/latex": "$\\displaystyle s_3(x_3)=f_3\\rightarrow a_3 = 0.73576$"
     },
     "metadata": {},
     "output_type": "display_data"
    },
    {
     "data": {
      "text/plain": [
       "<IPython.core.display.Math object>"
      ],
      "text/latex": "$\\displaystyle s_4(x_4)=f_4\\rightarrow a_4 = 0.40601$"
     },
     "metadata": {},
     "output_type": "display_data"
    },
    {
     "data": {
      "text/plain": [
       "<IPython.core.display.Math object>"
      ],
      "text/latex": "$\\displaystyle s_5(x_5)=f_5\\rightarrow a_5 = 0.19915$"
     },
     "metadata": {},
     "output_type": "display_data"
    }
   ],
   "execution_count": 5
  },
  {
   "cell_type": "markdown",
   "id": "d69e7ba931b24d54",
   "metadata": {},
   "source": [
    "The function values must be equal at the end of $s_i(x)$:\n",
    "$$\n",
    "\\begin{align}\n",
    "    f_{i+1} & = s_{i}(x_{i+1}) \\\\\n",
    "    f_{i+1} & = a_i + h_i b_i+ h_i^2 c_i+h_i^3 d_i\n",
    "\\end{align}\n",
    "$$"
   ]
  },
  {
   "cell_type": "code",
   "id": "895bbc2663178554",
   "metadata": {
    "ExecuteTime": {
     "end_time": "2025-05-01T09:48:28.303171Z",
     "start_time": "2025-05-01T09:48:28.285530Z"
    }
   },
   "source": [
    "for i in range(n):\n",
    "    h=q1_hi[i]\n",
    "    y=q1_data['y'][i+1]\n",
    "    display(Math(f\"s_{i}(x_{i+1})=f_{i+1}\"\n",
    "    fr\"\\rightarrow  a_{i}+{h}b_{i}+ {h**2} c_{i}+{h**3} d_{i}= {y}\"))\n",
    "    q1_eqs.loc[n+i,f'a_{i}'] = 1\n",
    "    q1_eqs.loc[n+i,f'b_{i}'] = h\n",
    "    q1_eqs.loc[n+i,f'c_{i}'] = h**2\n",
    "    q1_eqs.loc[n+i,f'd_{i}'] = h**3\n",
    "    q1_eqs.loc[n+i,'LHS'] = y"
   ],
   "outputs": [
    {
     "data": {
      "text/plain": [
       "<IPython.core.display.Math object>"
      ],
      "text/latex": "$\\displaystyle s_0(x_1)=f_1\\rightarrow  a_0+100.0b_0+ 10000.0 c_0+1000000.0 d_0= 0.82436$"
     },
     "metadata": {},
     "output_type": "display_data"
    },
    {
     "data": {
      "text/plain": [
       "<IPython.core.display.Math object>"
      ],
      "text/latex": "$\\displaystyle s_1(x_2)=f_2\\rightarrow  a_1+100.0b_1+ 10000.0 c_1+1000000.0 d_1= 1.0$"
     },
     "metadata": {},
     "output_type": "display_data"
    },
    {
     "data": {
      "text/plain": [
       "<IPython.core.display.Math object>"
      ],
      "text/latex": "$\\displaystyle s_2(x_3)=f_3\\rightarrow  a_2+200.0b_2+ 40000.0 c_2+8000000.0 d_2= 0.73576$"
     },
     "metadata": {},
     "output_type": "display_data"
    },
    {
     "data": {
      "text/plain": [
       "<IPython.core.display.Math object>"
      ],
      "text/latex": "$\\displaystyle s_3(x_4)=f_4\\rightarrow  a_3+200.0b_3+ 40000.0 c_3+8000000.0 d_3= 0.40601$"
     },
     "metadata": {},
     "output_type": "display_data"
    },
    {
     "data": {
      "text/plain": [
       "<IPython.core.display.Math object>"
      ],
      "text/latex": "$\\displaystyle s_4(x_5)=f_5\\rightarrow  a_4+200.0b_4+ 40000.0 c_4+8000000.0 d_4= 0.19915$"
     },
     "metadata": {},
     "output_type": "display_data"
    },
    {
     "data": {
      "text/plain": [
       "<IPython.core.display.Math object>"
      ],
      "text/latex": "$\\displaystyle s_5(x_6)=f_6\\rightarrow  a_5+200.0b_5+ 40000.0 c_5+8000000.0 d_5= 0.09158$"
     },
     "metadata": {},
     "output_type": "display_data"
    }
   ],
   "execution_count": 6
  },
  {
   "cell_type": "markdown",
   "id": "5bc5c44fb3ddeef8",
   "metadata": {},
   "source": [
    "The first derivatives at the interior knots must be equal:\n",
    "$$\n",
    "\\begin{align}\n",
    "    s'_{i}(x_{i+1}) &= s'_{i+1}(x_{i+1})\\\\\n",
    "    b_i + 2h_i c_i + 3h_i^2 d_i &= b_{i+1} \\\\\n",
    "    b_i -b_{i+1} + 2h_i c_i + 3h_i^2 d_i &=0\n",
    "\\end{align}\n",
    "$$"
   ]
  },
  {
   "cell_type": "code",
   "id": "109f051172ec71b9",
   "metadata": {
    "ExecuteTime": {
     "end_time": "2025-05-01T09:48:28.394297Z",
     "start_time": "2025-05-01T09:48:28.373633Z"
    }
   },
   "source": [
    "for i in range(n-1):\n",
    "    h = q1_hi[i]\n",
    "    display(Math(f\"s\\'_{i}(x_{i})=s\\'_{i-1}(x_{i})\"\n",
    "    fr\"\\rightarrow 0=b_{i} -b_{i+1} + {2*h} c_{i} + {3*h**2} d_{i}\"))\n",
    "    q1_eqs.loc[2*n+i,f'b_{i}'] = 1\n",
    "    q1_eqs.loc[2*n+i,f'b_{i+1}'] = -1\n",
    "    q1_eqs.loc[2*n+i,f'c_{i}'] = 2*h\n",
    "    q1_eqs.loc[2*n+i,f'd_{i}'] = 3*h**2\n",
    "    # q1_eqs.loc[2*n+i,'LHS'] = 0"
   ],
   "outputs": [
    {
     "data": {
      "text/plain": [
       "<IPython.core.display.Math object>"
      ],
      "text/latex": "$\\displaystyle s'_0(x_0)=s'_-1(x_0)\\rightarrow 0=b_0 -b_1 + 200.0 c_0 + 30000.0 d_0$"
     },
     "metadata": {},
     "output_type": "display_data"
    },
    {
     "data": {
      "text/plain": [
       "<IPython.core.display.Math object>"
      ],
      "text/latex": "$\\displaystyle s'_1(x_1)=s'_0(x_1)\\rightarrow 0=b_1 -b_2 + 200.0 c_1 + 30000.0 d_1$"
     },
     "metadata": {},
     "output_type": "display_data"
    },
    {
     "data": {
      "text/plain": [
       "<IPython.core.display.Math object>"
      ],
      "text/latex": "$\\displaystyle s'_2(x_2)=s'_1(x_2)\\rightarrow 0=b_2 -b_3 + 400.0 c_2 + 120000.0 d_2$"
     },
     "metadata": {},
     "output_type": "display_data"
    },
    {
     "data": {
      "text/plain": [
       "<IPython.core.display.Math object>"
      ],
      "text/latex": "$\\displaystyle s'_3(x_3)=s'_2(x_3)\\rightarrow 0=b_3 -b_4 + 400.0 c_3 + 120000.0 d_3$"
     },
     "metadata": {},
     "output_type": "display_data"
    },
    {
     "data": {
      "text/plain": [
       "<IPython.core.display.Math object>"
      ],
      "text/latex": "$\\displaystyle s'_4(x_4)=s'_3(x_4)\\rightarrow 0=b_4 -b_5 + 400.0 c_4 + 120000.0 d_4$"
     },
     "metadata": {},
     "output_type": "display_data"
    }
   ],
   "execution_count": 7
  },
  {
   "cell_type": "markdown",
   "id": "97be9e9b9a54851a",
   "metadata": {},
   "source": [
    "Using the second derivative condition equality at the knots:\n",
    "$$\n",
    "\\begin{align}\n",
    "    s''_{i}(x_{i+1}) &= s''_{i+1}(x_{i+1})\\\\\n",
    "    2c_i+6 h_i d_i  &= 2c_{i+1}\\\\\n",
    "    c_i +3h_i d_i &= c_{i+1}\\\\\n",
    "    c_i -c_{i+1}+3h_i d_i &= 0\\\\\n",
    "\\end{align}\n",
    "$$"
   ]
  },
  {
   "cell_type": "code",
   "id": "beaee10e6fbde3b6",
   "metadata": {
    "ExecuteTime": {
     "end_time": "2025-05-01T09:48:28.468918Z",
     "start_time": "2025-05-01T09:48:28.452651Z"
    }
   },
   "source": [
    "for i in range(n-1):\n",
    "    h=q1_hi[i]\n",
    "    display(Math(f\"s\\'\\'_{i}(x_{i})=s\\'\\'_{i+1}(x_{i})\"\n",
    "    fr\"\\rightarrow 0=c_{i} -c_{i+1}+ {3*h} d_{i}\"))\n",
    "    q1_eqs.loc[3*n-1+i,f'c_{i}'] = 1\n",
    "    q1_eqs.loc[3*n-1+i,f'c_{i+1}'] = -1\n",
    "    q1_eqs.loc[3*n-1+i,f'd_{i}'] = 3*h\n",
    "    # q1_eqs.loc[3*n-1+i,f'LHS'] = 0"
   ],
   "outputs": [
    {
     "data": {
      "text/plain": [
       "<IPython.core.display.Math object>"
      ],
      "text/latex": "$\\displaystyle s''_0(x_0)=s''_1(x_0)\\rightarrow 0=c_0 -c_1+ 300.0 d_0$"
     },
     "metadata": {},
     "output_type": "display_data"
    },
    {
     "data": {
      "text/plain": [
       "<IPython.core.display.Math object>"
      ],
      "text/latex": "$\\displaystyle s''_1(x_1)=s''_2(x_1)\\rightarrow 0=c_1 -c_2+ 300.0 d_1$"
     },
     "metadata": {},
     "output_type": "display_data"
    },
    {
     "data": {
      "text/plain": [
       "<IPython.core.display.Math object>"
      ],
      "text/latex": "$\\displaystyle s''_2(x_2)=s''_3(x_2)\\rightarrow 0=c_2 -c_3+ 600.0 d_2$"
     },
     "metadata": {},
     "output_type": "display_data"
    },
    {
     "data": {
      "text/plain": [
       "<IPython.core.display.Math object>"
      ],
      "text/latex": "$\\displaystyle s''_3(x_3)=s''_4(x_3)\\rightarrow 0=c_3 -c_4+ 600.0 d_3$"
     },
     "metadata": {},
     "output_type": "display_data"
    },
    {
     "data": {
      "text/plain": [
       "<IPython.core.display.Math object>"
      ],
      "text/latex": "$\\displaystyle s''_4(x_4)=s''_5(x_4)\\rightarrow 0=c_4 -c_5+ 600.0 d_4$"
     },
     "metadata": {},
     "output_type": "display_data"
    }
   ],
   "execution_count": 8
  },
  {
   "cell_type": "markdown",
   "id": "65cb72b3aae624f6",
   "metadata": {},
   "source": [
    "Natural conditions:-\n",
    "$$ c_0 = c_{n-1} = 0 $$\n",
    "\n"
   ]
  },
  {
   "cell_type": "code",
   "id": "a374da1f980545ab",
   "metadata": {
    "ExecuteTime": {
     "end_time": "2025-05-01T09:48:28.512619Z",
     "start_time": "2025-05-01T09:48:28.508720Z"
    }
   },
   "source": [
    "# c_0 = 1\n",
    "q1_eqs.loc[4*n-1,'c_0'] = 1\n",
    "# q1_eqs.loc[4*n-1,'LHS'] = 0\n",
    "# c_1 = 1\n",
    "q1_eqs.loc[4*n,f'c_{n-1}'] = 1\n",
    "# q1_eqs.loc[4*n,'LHS'] = 0"
   ],
   "outputs": [],
   "execution_count": 9
  },
  {
   "cell_type": "code",
   "id": "f03f33b584143ff3",
   "metadata": {
    "ExecuteTime": {
     "end_time": "2025-05-01T09:48:28.596384Z",
     "start_time": "2025-05-01T09:48:28.558868Z"
    }
   },
   "source": [
    "# Solve linear equations\n",
    "assert q1_eqs.shape == (4*n,4*n+1), f'There needs to be {4*n} equations got {q1_eqs.shape}'\n",
    "q1_eqs.reindex(columns=sorted(q1_eqs.columns))\n",
    "q1_eqs.fillna(np.float64(0), inplace=True)\n",
    "q1_m = q1_eqs.loc[:, q1_eqs.columns != 'LHS']\n",
    "q1_l = q1_eqs.loc[:, 'LHS']\n",
    "\n",
    "def df_inv(df: pd.DataFrame) -> pd.DataFrame:\n",
    "    return  pd.DataFrame(np.linalg.inv(df.values), df.columns, df.index)\n",
    "\n",
    "q1_a_sol = df_inv(q1_m).dot(q1_l)\n",
    "display(Markdown('The Spline cubic piecewise unknowns with Natural end conditions are:'))\n",
    "display(Markdown(q1_a_sol.to_markdown()))"
   ],
   "outputs": [
    {
     "data": {
      "text/plain": [
       "<IPython.core.display.Markdown object>"
      ],
      "text/markdown": "The Spline cubic piecewise unknowns with Natural end conditions are:"
     },
     "metadata": {},
     "output_type": "display_data"
    },
    {
     "data": {
      "text/plain": [
       "<IPython.core.display.Markdown object>"
      ],
      "text/markdown": "|     |            0 |\n|:----|-------------:|\n| a_0 |  0           |\n| a_1 |  0.82436     |\n| a_2 |  1           |\n| a_3 |  0.73576     |\n| a_4 |  0.40601     |\n| a_5 |  0.19915     |\n| b_0 |  0.00980178  |\n| b_1 |  0.00512724  |\n| b_2 | -0.000310724 |\n| b_3 | -0.00181533  |\n| b_4 | -0.00133782  |\n| b_5 | -0.000882539 |\n| c_0 | -4.26829e-21 |\n| c_1 | -4.67455e-05 |\n| c_2 | -7.63413e-06 |\n| c_3 |  1.11117e-07 |\n| c_4 |  2.27641e-06 |\n| c_5 |  1.0621e-21  |\n| d_0 | -1.55818e-07 |\n| d_1 |  1.30371e-07 |\n| d_2 |  1.29087e-08 |\n| d_3 |  3.60882e-09 |\n| d_4 | -3.79401e-09 |\n| d_5 |  8.61724e-09 |"
     },
     "metadata": {},
     "output_type": "display_data"
    }
   ],
   "execution_count": 10
  },
  {
   "cell_type": "code",
   "id": "c7cf6e034c0994a6",
   "metadata": {
    "ExecuteTime": {
     "end_time": "2025-05-01T09:48:28.752630Z",
     "start_time": "2025-05-01T09:48:28.659773Z"
    }
   },
   "source": [
    "q1_a_sol_s = [dict() for _ in range(n)]\n",
    "x_sym = sp.symbols('x')\n",
    "display(Markdown('The Spline cubic piecewise with natural end conditions are:'))\n",
    "for i in range(n):\n",
    "    ai = q1_a_sol.loc[f'a_{i}']\n",
    "    bi = q1_a_sol.loc[f'b_{i}']\n",
    "    ci = q1_a_sol.loc[f'c_{i}']\n",
    "    di = q1_a_sol.loc[f'd_{i}']\n",
    "    xi = q1_data['x'][i]\n",
    "    xip1 = q1_data['x'][i+1]\n",
    "    q1_a_sol_s[i]=dict(\n",
    "        s=ai+bi*(x_sym-xi)+ci*(x_sym-xi)**2+di*(x_sym-xi)**3,\n",
    "        interval=list(sorted([xi,xip1])),\n",
    "    )\n",
    "    s_latex = sp.latex(q1_a_sol_s[i]['s'])\n",
    "    display(Math(fr\"\\forall x\\in [{xi},{xip1}] \\rightarrow \"))\n",
    "    display(Math(fr\"s_{i}(x) = {s_latex}\"))\n"
   ],
   "outputs": [
    {
     "data": {
      "text/plain": [
       "<IPython.core.display.Markdown object>"
      ],
      "text/markdown": "The Spline cubic piecewise with natural end conditions are:"
     },
     "metadata": {},
     "output_type": "display_data"
    },
    {
     "data": {
      "text/plain": [
       "<IPython.core.display.Math object>"
      ],
      "text/latex": "$\\displaystyle \\forall x\\in [0,100] \\rightarrow $"
     },
     "metadata": {},
     "output_type": "display_data"
    },
    {
     "data": {
      "text/plain": [
       "<IPython.core.display.Math object>"
      ],
      "text/latex": "$\\displaystyle s_0(x) = - 1.55818226837061 \\cdot 10^{-7} x^{3} - 4.26828728204752 \\cdot 10^{-21} x^{2} + 0.00980178226837061 x$"
     },
     "metadata": {},
     "output_type": "display_data"
    },
    {
     "data": {
      "text/plain": [
       "<IPython.core.display.Math object>"
      ],
      "text/latex": "$\\displaystyle \\forall x\\in [100,200] \\rightarrow $"
     },
     "metadata": {},
     "output_type": "display_data"
    },
    {
     "data": {
      "text/plain": [
       "<IPython.core.display.Math object>"
      ],
      "text/latex": "$\\displaystyle s_1(x) = 0.00512723546325878 x + 1.30371134185303 \\cdot 10^{-7} \\left(x - 100\\right)^{3} - 4.67454680511182 \\cdot 10^{-5} \\left(x - 100\\right)^{2} + 0.311636453674122$"
     },
     "metadata": {},
     "output_type": "display_data"
    },
    {
     "data": {
      "text/plain": [
       "<IPython.core.display.Math object>"
      ],
      "text/latex": "$\\displaystyle \\forall x\\in [200,400] \\rightarrow $"
     },
     "metadata": {},
     "output_type": "display_data"
    },
    {
     "data": {
      "text/plain": [
       "<IPython.core.display.Math object>"
      ],
      "text/latex": "$\\displaystyle s_2(x) = - 0.000310724121405749 x + 1.29087420127795 \\cdot 10^{-8} \\left(x - 200\\right)^{3} - 7.63412779552717 \\cdot 10^{-6} \\left(x - 200\\right)^{2} + 1.06214482428115$"
     },
     "metadata": {},
     "output_type": "display_data"
    },
    {
     "data": {
      "text/plain": [
       "<IPython.core.display.Math object>"
      ],
      "text/latex": "$\\displaystyle \\forall x\\in [400,600] \\rightarrow $"
     },
     "metadata": {},
     "output_type": "display_data"
    },
    {
     "data": {
      "text/plain": [
       "<IPython.core.display.Math object>"
      ],
      "text/latex": "$\\displaystyle s_3(x) = - 0.00181532619808307 x + 3.6088178913738 \\cdot 10^{-9} \\left(x - 400\\right)^{3} + 1.1111741214058 \\cdot 10^{-7} \\left(x - 400\\right)^{2} + 1.46189047923323$"
     },
     "metadata": {},
     "output_type": "display_data"
    },
    {
     "data": {
      "text/plain": [
       "<IPython.core.display.Math object>"
      ],
      "text/latex": "$\\displaystyle \\forall x\\in [600,800] \\rightarrow $"
     },
     "metadata": {},
     "output_type": "display_data"
    },
    {
     "data": {
      "text/plain": [
       "<IPython.core.display.Math object>"
      ],
      "text/latex": "$\\displaystyle s_4(x) = - 0.00133782108626198 x - 3.79401357827476 \\cdot 10^{-9} \\left(x - 600\\right)^{3} + 2.27640814696486 \\cdot 10^{-6} \\left(x - 600\\right)^{2} + 1.20870265175719$"
     },
     "metadata": {},
     "output_type": "display_data"
    },
    {
     "data": {
      "text/plain": [
       "<IPython.core.display.Math object>"
      ],
      "text/latex": "$\\displaystyle \\forall x\\in [800,1000] \\rightarrow $"
     },
     "metadata": {},
     "output_type": "display_data"
    },
    {
     "data": {
      "text/plain": [
       "<IPython.core.display.Math object>"
      ],
      "text/latex": "$\\displaystyle s_5(x) = - 0.00088253945686901 x + 8.61723642172524 \\cdot 10^{-9} \\left(x - 800\\right)^{3} + 1.06209805753853 \\cdot 10^{-21} \\left(x - 800\\right)^{2} + 0.905181565495208$"
     },
     "metadata": {},
     "output_type": "display_data"
    }
   ],
   "execution_count": 11
  },
  {
   "cell_type": "markdown",
   "id": "9053cb2781892301",
   "metadata": {},
   "source": [
    "## (b) use Not-a-knot end\n",
    "$$h_1 c_0 − (h_0 + h_1) c_1 + h_0 c_2 = 0$$\n",
    "$$h_{n−1} c_{n−2} − (h_{n−2} + h_{n−1}) c_{n−1} + h_{n−2} c_n = 0$$\n"
   ]
  },
  {
   "cell_type": "code",
   "id": "2289d3c7ce7732c7",
   "metadata": {
    "ExecuteTime": {
     "end_time": "2025-05-01T09:48:28.803628Z",
     "start_time": "2025-05-01T09:48:28.796756Z"
    }
   },
   "source": [
    "# just need to replace last 2 equation with Not-a-knot end conditions\n",
    "q1_eqs_b = q1_eqs.copy()\n",
    "q1_eqs_b.loc[4*n-1,:]=np.zeros_like(q1_eqs_b.loc[4*n-1,:].values)\n",
    "q1_eqs_b.loc[4*n,:]=np.zeros_like(q1_eqs_b.loc[4*n,:].values)\n",
    "\n",
    "# h_1 c_0 − (h_0 + h_1) c_1 + h_0 c_2 = 0\n",
    "q1_eqs_b.loc[4*n-1,'c_0'] = q1_hi[1]\n",
    "q1_eqs_b.loc[4*n-1,'c_1'] = -(q1_hi[0]+q1_hi[1])\n",
    "q1_eqs_b.loc[4*n-1,'c_2'] = q1_hi[0]\n",
    "\n",
    "# h_{n−1} c_{n−2} − (h_{n−2} + h_{n−1}) c_{n−1} + h_{n−2} c_n = 0\n",
    "q1_eqs_b.loc[4*n,f'c_{n-3}'] = q1_hi[-3]\n",
    "q1_eqs_b.loc[4*n,f'c_{n-2}'] = -(q1_hi[-1]+q1_hi[-2])\n",
    "q1_eqs_b.loc[4*n,f'c_{n-1}'] = q1_hi[-1]\n"
   ],
   "outputs": [],
   "execution_count": 12
  },
  {
   "cell_type": "code",
   "id": "249a589a49041d76",
   "metadata": {
    "ExecuteTime": {
     "end_time": "2025-05-01T09:48:28.907637Z",
     "start_time": "2025-05-01T09:48:28.897890Z"
    }
   },
   "source": [
    "# Solve linear equations\n",
    "assert q1_eqs_b.shape == (4*n,4*n+1), f'There needs to be {4*n} equations got {q1_eqs_b.shape}'\n",
    "q1_eqs_b.reindex(columns=sorted(q1_eqs.columns))\n",
    "q1_eqs_b.fillna(np.float64(0), inplace=True)\n",
    "q1_m_b = q1_eqs_b.loc[:, q1_eqs_b.columns != 'LHS']\n",
    "q1_l_b = q1_eqs_b.loc[:, 'LHS']\n",
    "q1_b_sol = df_inv(q1_m_b).dot(q1_l_b)\n",
    "display(Markdown('The Spline cubic piecewise unknowns with Not-a-knot end conditions are:'))\n",
    "display(Markdown(q1_b_sol.to_markdown()))"
   ],
   "outputs": [
    {
     "data": {
      "text/plain": [
       "<IPython.core.display.Markdown object>"
      ],
      "text/markdown": "The Spline cubic piecewise unknowns with Not-a-knot end conditions are:"
     },
     "metadata": {},
     "output_type": "display_data"
    },
    {
     "data": {
      "text/plain": [
       "<IPython.core.display.Markdown object>"
      ],
      "text/markdown": "|     |            0 |\n|:----|-------------:|\n| a_0 |  0           |\n| a_1 |  0.82436     |\n| a_2 |  1           |\n| a_3 |  0.73576     |\n| a_4 |  0.40601     |\n| a_5 |  0.19915     |\n| b_0 |  0.0129627   |\n| b_1 |  0.00426224  |\n| b_2 | -1.16765e-05 |\n| b_3 | -0.00187962  |\n| b_4 | -0.0013797   |\n| b_5 | -0.000650717 |\n| c_0 | -5.45689e-05 |\n| c_1 | -3.2436e-05  |\n| c_2 | -1.03031e-05 |\n| c_3 |  9.63443e-07 |\n| c_4 |  1.53613e-06 |\n| c_5 |  2.10881e-06 |\n| d_0 |  7.37762e-08 |\n| d_1 |  7.37762e-08 |\n| d_2 |  1.87777e-08 |\n| d_3 |  9.5447e-10  |\n| d_4 |  9.5447e-10  |\n| d_5 | -7.72235e-09 |"
     },
     "metadata": {},
     "output_type": "display_data"
    }
   ],
   "execution_count": 13
  },
  {
   "cell_type": "code",
   "id": "4c71f0656c723f4",
   "metadata": {
    "ExecuteTime": {
     "end_time": "2025-05-01T09:48:28.978322Z",
     "start_time": "2025-05-01T09:48:28.918012Z"
    }
   },
   "source": [
    "q1_b_sol_s = [dict() for _ in range(n)]\n",
    "x_sym = sp.symbols('x')\n",
    "display(Markdown('The Spline cubic piecewise with Not-a-knot end conditions are:'))\n",
    "for i in range(n):\n",
    "    ai = q1_b_sol.loc[f'a_{i}']\n",
    "    bi = q1_b_sol.loc[f'b_{i}']\n",
    "    ci = q1_b_sol.loc[f'c_{i}']\n",
    "    di = q1_b_sol.loc[f'd_{i}']\n",
    "    xi = q1_data['x'][i]\n",
    "    xip1 = q1_data['x'][i+1]\n",
    "    q1_b_sol_s[i]=dict(\n",
    "        s=ai+bi*(x_sym-xi)+ci*(x_sym-xi)**2+di*(x_sym-xi)**3,\n",
    "        interval=list(sorted([xi,xip1])),\n",
    "    )\n",
    "    s_latex = sp.latex(q1_b_sol_s[i]['s'])\n",
    "    display(Math(fr\"\\forall x\\in [{xi},{xip1}] \\rightarrow \"))\n",
    "    display(Math(fr\"s_{i}(x) = {s_latex}\"))"
   ],
   "outputs": [
    {
     "data": {
      "text/plain": [
       "<IPython.core.display.Markdown object>"
      ],
      "text/markdown": "The Spline cubic piecewise with Not-a-knot end conditions are:"
     },
     "metadata": {},
     "output_type": "display_data"
    },
    {
     "data": {
      "text/plain": [
       "<IPython.core.display.Math object>"
      ],
      "text/latex": "$\\displaystyle \\forall x\\in [0,100] \\rightarrow $"
     },
     "metadata": {},
     "output_type": "display_data"
    },
    {
     "data": {
      "text/plain": [
       "<IPython.core.display.Math object>"
      ],
      "text/latex": "$\\displaystyle s_0(x) = 7.37761742424244 \\cdot 10^{-8} x^{3} - 5.45688522727273 \\cdot 10^{-5} x^{2} + 0.0129627234848485 x$"
     },
     "metadata": {},
     "output_type": "display_data"
    },
    {
     "data": {
      "text/plain": [
       "<IPython.core.display.Math object>"
      ],
      "text/latex": "$\\displaystyle \\forall x\\in [100,200] \\rightarrow $"
     },
     "metadata": {},
     "output_type": "display_data"
    },
    {
     "data": {
      "text/plain": [
       "<IPython.core.display.Math object>"
      ],
      "text/latex": "$\\displaystyle s_1(x) = 0.00426223825757576 x + 7.37761742424242 \\cdot 10^{-8} \\left(x - 100\\right)^{3} - 3.2436 \\cdot 10^{-5} \\left(x - 100\\right)^{2} + 0.398136174242424$"
     },
     "metadata": {},
     "output_type": "display_data"
    },
    {
     "data": {
      "text/plain": [
       "<IPython.core.display.Math object>"
      ],
      "text/latex": "$\\displaystyle \\forall x\\in [200,400] \\rightarrow $"
     },
     "metadata": {},
     "output_type": "display_data"
    },
    {
     "data": {
      "text/plain": [
       "<IPython.core.display.Math object>"
      ],
      "text/latex": "$\\displaystyle s_2(x) = - 1.16765151515165 \\cdot 10^{-5} x + 1.87776515151515 \\cdot 10^{-8} \\left(x - 200\\right)^{3} - 1.03031477272727 \\cdot 10^{-5} \\left(x - 200\\right)^{2} + 1.0023353030303$"
     },
     "metadata": {},
     "output_type": "display_data"
    },
    {
     "data": {
      "text/plain": [
       "<IPython.core.display.Math object>"
      ],
      "text/latex": "$\\displaystyle \\forall x\\in [400,600] \\rightarrow $"
     },
     "metadata": {},
     "output_type": "display_data"
    },
    {
     "data": {
      "text/plain": [
       "<IPython.core.display.Math object>"
      ],
      "text/latex": "$\\displaystyle s_3(x) = - 0.00187961742424242 x + 9.54469696969702 \\cdot 10^{-10} \\left(x - 400\\right)^{3} + 9.63443181818179 \\cdot 10^{-7} \\left(x - 400\\right)^{2} + 1.48760696969697$"
     },
     "metadata": {},
     "output_type": "display_data"
    },
    {
     "data": {
      "text/plain": [
       "<IPython.core.display.Math object>"
      ],
      "text/latex": "$\\displaystyle \\forall x\\in [600,800] \\rightarrow $"
     },
     "metadata": {},
     "output_type": "display_data"
    },
    {
     "data": {
      "text/plain": [
       "<IPython.core.display.Math object>"
      ],
      "text/latex": "$\\displaystyle s_4(x) = - 0.00137970378787879 x + 9.54469696969699 \\cdot 10^{-10} \\left(x - 600\\right)^{3} + 1.536125 \\cdot 10^{-6} \\left(x - 600\\right)^{2} + 1.23383227272727$"
     },
     "metadata": {},
     "output_type": "display_data"
    },
    {
     "data": {
      "text/plain": [
       "<IPython.core.display.Math object>"
      ],
      "text/latex": "$\\displaystyle \\forall x\\in [800,1000] \\rightarrow $"
     },
     "metadata": {},
     "output_type": "display_data"
    },
    {
     "data": {
      "text/plain": [
       "<IPython.core.display.Math object>"
      ],
      "text/latex": "$\\displaystyle s_5(x) = - 0.000650717424242423 x - 7.72234848484853 \\cdot 10^{-9} \\left(x - 800\\right)^{3} + 2.10880681818182 \\cdot 10^{-6} \\left(x - 800\\right)^{2} + 0.719723939393938$"
     },
     "metadata": {},
     "output_type": "display_data"
    }
   ],
   "execution_count": 14
  },
  {
   "cell_type": "code",
   "id": "d3d7930a731699c6",
   "metadata": {
    "ExecuteTime": {
     "end_time": "2025-05-01T09:48:29.051110Z",
     "start_time": "2025-05-01T09:48:29.047495Z"
    }
   },
   "source": [
    "def piecewise_spline(x, spline_fns):\n",
    "    for spline_s in spline_fns:\n",
    "        x_min, x_max = list(sorted(spline_s['interval']))\n",
    "        if x_min <= x <= x_max:\n",
    "            s:sp.Expr= spline_s['s']\n",
    "            return s.subs({'x': x})\n",
    "    return np.nan"
   ],
   "outputs": [],
   "execution_count": 15
  },
  {
   "cell_type": "code",
   "id": "4e31069cd587b671",
   "metadata": {
    "ExecuteTime": {
     "end_time": "2025-05-01T09:48:32.035547Z",
     "start_time": "2025-05-01T09:48:29.158506Z"
    }
   },
   "source": [
    "q1_x = np.linspace(q1_data['x'][0], q1_data['x'][-1], 1000)\n",
    "q1_a_y = np.array([piecewise_spline(x, q1_a_sol_s) for x in q1_x])\n",
    "q1_b_y = np.array([piecewise_spline(x, q1_b_sol_s) for x in q1_x])\n",
    "plt.figure(figsize=(8,8))\n",
    "plt.scatter(q1_data['x'], q1_data['y'], color='black', label='data')\n",
    "plt.plot(q1_x, q1_a_y, label='natural end', color='red')\n",
    "plt.plot(q1_x, q1_b_y, label='Not-a-knot', color='blue')\n",
    "plt.xlabel('x')\n",
    "plt.ylabel('y')\n",
    "plt.title('Q1 - Cubic piecewise Spline')\n",
    "plt.grid()\n",
    "plt.legend()\n",
    "plt.show()"
   ],
   "outputs": [
    {
     "data": {
      "text/plain": [
       "<Figure size 800x800 with 1 Axes>"
      ],
      "image/png": "[encoded data removed]"
     },
     "metadata": {},
     "output_type": "display_data"
    }
   ],
   "execution_count": 16
  },
  {
   "attachments": {
    "08ffda92-e174-4d01-a643-33c1a77b3401.png": {
     "image/png": "[encoded data removed]"
    }
   },
   "cell_type": "markdown",
   "id": "db8430b45ee5849d",
   "metadata": {},
   "source": [
    "---\n",
    "# Q2: Finite Difference Method for PDE.\n",
    "\n",
    "Solve the steady-state temperature distribution of a square heated plate using Liebmann’s\n",
    "method with relaxation.\n",
    "\n",
    "![image.png](attachment:08ffda92-e174-4d01-a643-33c1a77b3401.png)\n",
    "\n",
    "- Refer to the square plate described in your textbook (similar to Fig. 29.4).\n",
    "- Modifications:\n",
    "  - Upper boundary temperature = 150°C (modified).\n",
    "  - Left boundary is insulated (zero-flux Neumann boundary).\n",
    "  - Other boundaries remain as originally stated (adapt as needed).\n",
    "- Use a relaxation factor of 1.2.\n",
    "- Iterate until the relative error is ≤ 1%.\n",
    "\n",
    "Question:\n",
    "1. Set up the finite difference grid and equations. (3x3) and (5x5)\n",
    "2. Apply Liebmann’s method to solve for the temperature at each grid point.\n",
    "3. Implement your code using MATLAB or Python.\n",
    "4. Plot: A 2D contour plot of the temperature distribution.\n",
    "5. Discuss: The effect of using a relaxation factor. How the insulation at the left boundary affects the solution. How convergence was checked.\n"
   ]
  },
  {
   "cell_type": "code",
   "id": "d3341d3b4dbf1ba4",
   "metadata": {
    "ExecuteTime": {
     "end_time": "2025-05-01T09:49:57.775637Z",
     "start_time": "2025-05-01T09:49:57.771736Z"
    }
   },
   "source": [
    "q2_data=dict(\n",
    "    upper_boundary = 120,\n",
    "    # left_boundary = 0, # insulated\n",
    "    right_boundary = 50,\n",
    "    bottom_boundary = 0,\n",
    "    r = 1.2,\n",
    "    rel_error = 1, #%\n",
    ")"
   ],
   "outputs": [],
   "execution_count": 30
  },
  {
   "metadata": {},
   "cell_type": "markdown",
   "source": [
    "## Solution\n",
    "### Set up the finite difference grid and equations. (3x3) and (5x5)\n",
    "Let $T_{i,j}$ be the temperature on location $(i,j)$ Liebmann's method formula:\n",
    "$$T_{i,j} = \\frac{T_{i+1,j}+T_{i-1,j}+T_{i,j+1}+T_{i,j-1}}{4}$$\n",
    "\n",
    "Left boundary condition is  insulated (zero-flux) which means no change in temperature, thus:\n",
    "$$\n",
    "T_{0,j} = T_{2,j} \\forall j \\in [1,3]\n",
    "$$\n",
    "The rest of boundary conditions are fixed as follows:\n",
    "$$\n",
    "\\begin{align}\n",
    "    T_{i,4} &= 120 &\\text{ Top boundary}\\\\\n",
    "    T_{i,0} &= 0 &\\text{ Bottom boundary}\\\\\n",
    "    T_{4,j} &= 50 &\\text{ Right boundary}\\\\\n",
    "\\end{align}\n",
    "$$\n",
    "The Unknowns are $T_{i,j} \\forall i \\in [1,3], j \\in [1,3]$ totaling of 9 unknowns."
   ],
   "id": "197d7d1bc5aa96f9"
  },
  {
   "cell_type": "code",
   "id": "a4557dc4e24085dc",
   "metadata": {
    "ExecuteTime": {
     "end_time": "2025-05-01T09:49:58.562071Z",
     "start_time": "2025-05-01T09:49:58.555940Z"
    }
   },
   "source": [
    "from itertools import product\n",
    "\n",
    "t = {}\n",
    "\n",
    "# assign unknown variables\n",
    "for i,j in product(range(1,4), repeat=2):\n",
    "    t[(i,j)] = sp.Symbol(f'T{i}{j}')\n",
    "\n",
    "for k in range(1,4):\n",
    "    # Top boundary\n",
    "    t[(k,4)] = sp.Integer(150)\n",
    "    # bottom boundary\n",
    "    t[(k,0)] = sp.Integer(0)\n",
    "    # right boundary\n",
    "    t[4,k] = sp.Integer(50)\n",
    "    # left boundary T_{0,j} = T_{2,j}\n",
    "    t[0,k] = t[2,k]\n",
    "\n",
    "print(f'Grid layout:')\n",
    "for j in range(5-1, -1, -1):\n",
    "    for i in range(5):\n",
    "        if (i, j) in t:\n",
    "            print(t[(i, j)], end='\\t')\n",
    "        else:\n",
    "            print('', end='\\t')\n",
    "    print()"
   ],
   "outputs": [
    {
     "name": "stdout",
     "output_type": "stream",
     "text": [
      "Grid layout:\n",
      "\t150\t150\t150\t\t\n",
      "T23\tT13\tT23\tT33\t50\t\n",
      "T22\tT12\tT22\tT32\t50\t\n",
      "T21\tT11\tT21\tT31\t50\t\n",
      "\t0\t0\t0\t\t\n"
     ]
    }
   ],
   "execution_count": 31
  },
  {
   "metadata": {},
   "cell_type": "markdown",
   "source": "### Apply Liebmann’s method to solve for the temperature at each grid point.\n",
   "id": "1ea5181da95da53a"
  },
  {
   "cell_type": "code",
   "id": "a4ab964ab153de21",
   "metadata": {
    "ExecuteTime": {
     "end_time": "2025-05-01T14:00:06.745969Z",
     "start_time": "2025-05-01T14:00:06.703680Z"
    }
   },
   "source": [
    "# Liebmann's method formula\n",
    "q2_eqs = pd.Series()\n",
    "for i,j in product(range(1,4), repeat=2):\n",
    "    q2_eqs[f'T{i}{j}'] = (t[(i+1, j)] + t[(i-1, j)]+ t[(i, j+1)] + t[(i, j-1)])* sp.Rational(1,4)\n",
    "    display(Math(f'T_{{{i},{j}}}(T^{{old}}_{{i,j}})={sp.latex(q2_eqs[f'T{i}{j}'])}'))"
   ],
   "outputs": [
    {
     "data": {
      "text/plain": [
       "<IPython.core.display.Math object>"
      ],
      "text/latex": "$\\displaystyle T_{1,1}(T^{old}_{i,j})=\\frac{T_{12}}{4} + \\frac{T_{21}}{2}$"
     },
     "metadata": {},
     "output_type": "display_data"
    },
    {
     "data": {
      "text/plain": [
       "<IPython.core.display.Math object>"
      ],
      "text/latex": "$\\displaystyle T_{1,2}(T^{old}_{i,j})=\\frac{T_{11}}{4} + \\frac{T_{13}}{4} + \\frac{T_{22}}{2}$"
     },
     "metadata": {},
     "output_type": "display_data"
    },
    {
     "data": {
      "text/plain": [
       "<IPython.core.display.Math object>"
      ],
      "text/latex": "$\\displaystyle T_{1,3}(T^{old}_{i,j})=\\frac{T_{12}}{4} + \\frac{T_{23}}{2} + \\frac{75}{2}$"
     },
     "metadata": {},
     "output_type": "display_data"
    },
    {
     "data": {
      "text/plain": [
       "<IPython.core.display.Math object>"
      ],
      "text/latex": "$\\displaystyle T_{2,1}(T^{old}_{i,j})=\\frac{T_{11}}{4} + \\frac{T_{22}}{4} + \\frac{T_{31}}{4}$"
     },
     "metadata": {},
     "output_type": "display_data"
    },
    {
     "data": {
      "text/plain": [
       "<IPython.core.display.Math object>"
      ],
      "text/latex": "$\\displaystyle T_{2,2}(T^{old}_{i,j})=\\frac{T_{12}}{4} + \\frac{T_{21}}{4} + \\frac{T_{23}}{4} + \\frac{T_{32}}{4}$"
     },
     "metadata": {},
     "output_type": "display_data"
    },
    {
     "data": {
      "text/plain": [
       "<IPython.core.display.Math object>"
      ],
      "text/latex": "$\\displaystyle T_{2,3}(T^{old}_{i,j})=\\frac{T_{13}}{4} + \\frac{T_{22}}{4} + \\frac{T_{33}}{4} + \\frac{75}{2}$"
     },
     "metadata": {},
     "output_type": "display_data"
    },
    {
     "data": {
      "text/plain": [
       "<IPython.core.display.Math object>"
      ],
      "text/latex": "$\\displaystyle T_{3,1}(T^{old}_{i,j})=\\frac{T_{21}}{4} + \\frac{T_{32}}{4} + \\frac{25}{2}$"
     },
     "metadata": {},
     "output_type": "display_data"
    },
    {
     "data": {
      "text/plain": [
       "<IPython.core.display.Math object>"
      ],
      "text/latex": "$\\displaystyle T_{3,2}(T^{old}_{i,j})=\\frac{T_{22}}{4} + \\frac{T_{31}}{4} + \\frac{T_{33}}{4} + \\frac{25}{2}$"
     },
     "metadata": {},
     "output_type": "display_data"
    },
    {
     "data": {
      "text/plain": [
       "<IPython.core.display.Math object>"
      ],
      "text/latex": "$\\displaystyle T_{3,3}(T^{old}_{i,j})=\\frac{T_{23}}{4} + \\frac{T_{32}}{4} + 50$"
     },
     "metadata": {},
     "output_type": "display_data"
    }
   ],
   "execution_count": 43
  },
  {
   "metadata": {},
   "cell_type": "markdown",
   "source": [
    "In each iteration we apply get new values $f(T^{old}_{i,j})$ and apply relaxation factor as follows:\n",
    "$$\n",
    "T^{new}_{i,j} = \\lambda f(T^{old}_{i,j}) + (1-\\lambda) T^{old}_{i,j}\n",
    "$$"
   ],
   "id": "90f6ef0193bedfc7"
  },
  {
   "metadata": {
    "ExecuteTime": {
     "end_time": "2025-05-01T09:50:01.031607Z",
     "start_time": "2025-05-01T09:50:00.843126Z"
    }
   },
   "cell_type": "code",
   "source": [
    "# initial condition\n",
    "t_old = pd.Series({k:0 for k in q2_eqs.index})\n",
    "# iterations\n",
    "max_iterations = 100\n",
    "lambda_r = q2_data['r']\n",
    "q2_iterations=pd.DataFrame(columns=list(t_old.index) + ['rel_error'])\n",
    "q2_iterations.loc[0] = pd.Series({**t_old.to_dict(), 'rel_error': 100})\n",
    "\n",
    "def relative_error(*,old_values: pd.Series, new_values: pd.Series) -> float:\n",
    "    if not old_values[old_values==0].empty:\n",
    "        return 100\n",
    "    diff = old_values - new_values\n",
    "    rel_error = diff.abs() * 100 / old_values.abs()\n",
    "    return round(rel_error.max(), 3)\n",
    "\n",
    "for i in range(1, max_iterations + 1):\n",
    "    # Liebmann's formulas\n",
    "    t_new = q2_eqs.apply(lambda _: _.subs(t_old.copy().to_dict()).evalf())\n",
    "    # apply over-relaxation\n",
    "    # t_new = lambda_r * t_new + (1-lambda_r) * t_old.copy()\n",
    "    rel = relative_error(old_values=t_old,new_values=t_new)\n",
    "    q2_iterations.loc[i] = pd.Series({**t_new.to_dict(), 'rel_error': rel})\n",
    "    if rel < q2_data['rel_error']:\n",
    "        break\n",
    "    t_old = t_new\n",
    "display(Markdown(q2_iterations.to_markdown()))"
   ],
   "id": "271c59974f82d9ef",
   "outputs": [
    {
     "data": {
      "text/plain": [
       "<IPython.core.display.Markdown object>"
      ],
      "text/markdown": "|    |      T11 |     T12 |      T13 |      T21 |     T22 |      T23 |     T31 |     T32 |     T33 |   rel_error |\n|---:|---------:|--------:|---------:|---------:|--------:|---------:|--------:|--------:|--------:|------------:|\n|  0 |  0       |  0      |   0      |  0       |  0      |   0      |  0      |  0      |  0      |   100       |\n|  1 |  0       |  0      |  37.5    |  0       |  0      |  37.5    | 12.5    | 12.5    | 50      |   100       |\n|  2 |  0       |  9.375  |  56.25   |  3.125   | 12.5    |  59.375  | 15.625  | 28.125  | 62.5    |   100       |\n|  3 |  3.90625 | 20.3125 |  69.5312 |  7.03125 | 25      |  70.3125 | 20.3125 | 35.1562 | 71.875  |   100       |\n|  4 |  8.59375 | 30.8594 |  77.7344 | 12.3047  | 33.2031 |  79.1016 | 23.0469 | 41.7969 | 76.3672 |   120       |\n|  5 | 13.8672  | 38.1836 |  84.7656 | 16.2109  | 41.0156 |  84.3262 | 26.0254 | 45.6543 | 80.2246 |    61.364   |\n|  6 | 17.6514  | 45.166  |  89.209  | 20.2271  | 46.0938 |  89.0015 | 27.9663 | 49.3164 | 82.4951 |    27.289   |\n|  7 | 21.405   | 49.762  |  93.2922 | 22.9279  | 50.9277 |  91.9495 | 29.8859 | 51.6388 | 84.5795 |    21.266   |\n|  8 | 23.9044  | 54.1382 |  95.9152 | 25.5547  | 54.0695 |  94.6999 | 31.1417 | 53.8483 | 85.8971 |    11.677   |\n|  9 | 26.3119  | 56.9897 |  98.3845 | 27.2789  | 57.0602 |  96.4705 | 32.3507 | 55.2771 | 87.137  |    10.071   |\n| 10 | 27.8869  | 59.7042 |  99.9826 | 28.9307  | 59.004  |  98.1454 | 33.139  | 56.637  | 87.9369 |     6.05499 |\n| 11 | 29.3914  | 61.4694 | 101.499  | 30.0075  | 60.8543 |  99.2309 | 33.8919 | 57.52   | 88.6956 |     5.39502 |\n| 12 | 30.3711  | 63.1497 | 102.483  | 31.0344  | 62.0569 | 100.262  | 34.3819 | 58.3605 | 89.1877 |     3.422   |\n| 13 | 31.3046  | 64.2419 | 103.419  | 31.7025  | 63.2017 | 100.932  | 34.8487 | 58.9066 | 89.6557 |     3.07401 |\n| 14 | 31.9117  | 65.2816 | 104.026  | 32.3388  | 63.9457 | 101.569  | 35.1523 | 59.4265 | 89.9596 |     2.00699 |\n| 15 | 32.4898  | 65.9574 | 104.605  | 32.7524  | 64.654  | 101.983  | 35.4413 | 59.7644 | 90.2489 |     1.811   |\n| 16 | 32.8656  | 66.6007 | 104.981  | 33.1463  | 65.1143 | 102.377  | 35.6292 | 60.086  | 90.4368 |     1.202   |\n| 17 | 33.2233  | 67.0187 | 105.339  | 33.4023  | 65.5525 | 102.633  | 35.8081 | 60.2951 | 90.6157 |     1.088   |\n| 18 | 33.4558  | 67.4167 | 105.571  | 33.646   | 65.8373 | 102.877  | 35.9243 | 60.4941 | 90.732  |     0.72998 |"
     },
     "metadata": {},
     "output_type": "display_data"
    }
   ],
   "execution_count": 33
  },
  {
   "metadata": {},
   "cell_type": "markdown",
   "source": "### Plot: A 2D contour plot of the temperature distribution.",
   "id": "720c944104a8afcf"
  },
  {
   "metadata": {
    "ExecuteTime": {
     "end_time": "2025-05-01T13:50:29.490800Z",
     "start_time": "2025-05-01T13:50:29.305383Z"
    }
   },
   "cell_type": "code",
   "source": [
    "q2_sol = q2_iterations.loc[len(q2_iterations)-1]\n",
    "q2_sol_2d = np.zeros((3,3))\n",
    "for i,j in product(range(1,4), repeat=2):\n",
    "    q2_sol_2d[i-1,j-1] = q2_sol.loc[f'T{i}{j}']\n",
    "\n",
    "plt.figure(figsize=(8,8))\n",
    "xy_mesh = np.meshgrid(range(1,4), range(1,4))\n",
    "plt.contour(xy_mesh[0], xy_mesh[1], q2_sol_2d)\n",
    "plt.title('Q2 - Temperature 2D Contour plot')\n",
    "# plt.grid()\n",
    "plt.show()"
   ],
   "id": "48ab56183d25434e",
   "outputs": [
    {
     "data": {
      "text/plain": [
       "<Figure size 800x800 with 1 Axes>"
      ],
      "image/png": "[encoded data removed]"
     },
     "metadata": {},
     "output_type": "display_data"
    }
   ],
   "execution_count": 41
  },
  {
   "metadata": {},
   "cell_type": "markdown",
   "source": [
    "### Discuss: The effect of using a relaxation factor. How the insulation at the left boundary affects the solution. How convergence was checked.\n",
    "\n",
    "Since the equation are diagonal (sparse matrix most entries are around the diagonal) the closer the relaxation factor to 1 the faster is the convergence where the relative error between the old and new iteration values are less than a predefined relative error (1% in our case)."
   ],
   "id": "d05379050224d757"
  }
 ],
 "metadata": {
  "kernelspec": {
   "display_name": "Python 3 (ipykernel)",
   "language": "python",
   "name": "python3"
  },
  "language_info": {
   "codemirror_mode": {
    "name": "ipython",
    "version": 3
   },
   "file_extension": ".py",
   "mimetype": "text/x-python",
   "name": "python",
   "nbconvert_exporter": "python",
   "pygments_lexer": "ipython3",
   "version": "3.12.9"
  }
 },
 "nbformat": 4,
 "nbformat_minor": 5
}
