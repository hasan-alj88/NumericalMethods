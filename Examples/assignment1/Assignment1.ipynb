{
 "cells": [
  {
   "cell_type": "code",
   "id": "initial_id",
   "metadata": {
    "ExecuteTime": {
     "end_time": "2025-03-06T06:44:12.354789Z",
     "start_time": "2025-03-06T06:44:11.590143Z"
    }
   },
   "source": [
    "import matplotlib.pyplot as plt\n",
    "import numpy as np\n",
    "import pandas as pd\n",
    "from pathlib import Path\n",
    "from IPython.display import clear_output, display, Latex\n",
    "from utils.LaTeXTools import df_to_latex"
   ],
   "outputs": [],
   "execution_count": 1
  },
  {
   "cell_type": "markdown",
   "id": "5ce19e26af88a91",
   "metadata": {},
   "source": [
    "# Problem 1. Case Study: Bungee Jumper Velocity\n",
    "\n",
    "A bungee jumper with mass $m = 68.1$ kg jumps from rest ($v_0 = 0$ m/s). The drag coefficient is $c_d = 0.25$ kg/m. Find the bungee jumper instantaneous velocity $v(t)$ with $\\Delta t = 2$ s Time resolution."
   ]
  },
  {
   "cell_type": "code",
   "id": "d144778872731f41",
   "metadata": {
    "ExecuteTime": {
     "end_time": "2025-03-06T06:44:12.363705Z",
     "start_time": "2025-03-06T06:44:12.360060Z"
    }
   },
   "source": [
    "def bungee_jumper_velocity(m, cd, t, g=9.8):\n",
    "    return np.sqrt(g * m / cd) * np.tanh(np.sqrt(g*cd/m) * t)\n",
    "\n",
    "def bungee_jumper_acceleration(m, cd, v, g=9.8):\n",
    "    return g - (cd * v ** 2 /m)\n",
    "\n",
    "bungee_jumper_data = dict(\n",
    "    m  = 68.1,      # kg\n",
    "    cd = 0.25,      # kg/m\n",
    "    v0 = 0,         # m/s\n",
    "    t0 = 0,         # s\n",
    "    dt = 2,         # s\n",
    "    t_final = 20,   # s\n",
    ")"
   ],
   "outputs": [],
   "execution_count": 2
  },
  {
   "metadata": {},
   "cell_type": "markdown",
   "source": [
    "## Analytic solution\n",
    "$$ \\frac{dv}{dt} = g - \\frac{C_d v^2}{m} $$\n",
    "$$ v(t) = v(t) = \\sqrt{\\frac{mg}{C_d}} \\tanh \\left(\\sqrt{\\frac{gC_d}{m}}t\\right) $$"
   ],
   "id": "35757b4060de6750"
  },
  {
   "metadata": {
    "ExecuteTime": {
     "end_time": "2025-03-06T06:44:12.628491Z",
     "start_time": "2025-03-06T06:44:12.442616Z"
    }
   },
   "cell_type": "code",
   "source": [
    "t_ = np.arange(0, bungee_jumper_data['t_final']+bungee_jumper_data['dt'], bungee_jumper_data['dt'])\n",
    "bungee_jumper_exact_solution = pd.DataFrame(\n",
    "    data=dict(\n",
    "        t=t_,\n",
    "        v=bungee_jumper_velocity(m=bungee_jumper_data['m'], cd=bungee_jumper_data['cd'], t=t_)\n",
    "    )\n",
    ")\n",
    "bungee_jumper_exact_solution.plot(x='t', y='v')\n",
    "plt.grid()\n",
    "plt.title('Bungee Jumper Velocity')\n",
    "plt.xlabel('Time (s)')\n",
    "plt.ylabel('Velocity (m/s)')\n",
    "plt.show()"
   ],
   "id": "e71c32847c5028ce",
   "outputs": [
    {
     "data": {
      "text/plain": [
       "<Figure size 640x480 with 1 Axes>"
      ],
      "image/png": "[encoded data removed]"
     },
     "metadata": {},
     "output_type": "display_data"
    }
   ],
   "execution_count": 3
  },
  {
   "cell_type": "markdown",
   "id": "b80c674392310ab3",
   "metadata": {},
   "source": [
    "## Using Use Euler Method\n",
    "In our study case the dependent variable is the velocity $v$ and the independent variable is time $t$ as such:\n",
    "$$ x \\rightarrow v $$\n",
    "$$ \\frac{dv}{dt} = f(v,t) $$\n",
    "$$ v_{n+1} \\approx v_n +  f(v, t) \\Delta t $$\n"
   ]
  },
  {
   "cell_type": "code",
   "id": "d65623beb28eaa70",
   "metadata": {},
   "source": [
    "from ODE.FirstOrder.FirstOrderODEEulerMethod import FirstOrderODEEulerMethod\n",
    "\n",
    "euler_solver = FirstOrderODEEulerMethod(\n",
    "    # f(x,t) -> f(v,t)\n",
    "    derivative_function=lambda v,t: bungee_jumper_acceleration(m=bungee_jumper_data['m'], cd=bungee_jumper_data['cd'], v=v),\n",
    "    # v(t=0) = 0\n",
    "    t0=bungee_jumper_data['t0'],\n",
    "    x0=bungee_jumper_data['v0'],\n",
    "    # \\Delta t = 2\n",
    "    dt=bungee_jumper_data['dt'],\n",
    "    t_final=bungee_jumper_data['t_final'],\n",
    ")\n",
    "euler_solver_history_df = euler_solver.run()\n",
    "clear_output() # clear log messages (uncomment if want to see logs)"
   ],
   "execution_count": 4,
   "outputs": []
  },
  {
   "cell_type": "code",
   "id": "31b63f36048eb5a7",
   "metadata": {},
   "source": [
    "euler_solver_history_df.columns = ['$v(t)$', '$t$', r'$\\Delta t$', r'$\\frac{dv}{dt}$']\n",
    "euler_solver_history_df[r'$\\varepsilon$'] = (euler_solver_history_df['$v(t)$'] - bungee_jumper_exact_solution['v']).abs()\n",
    "euler_solver_history_df[r'$\\varepsilon_r$'] = euler_solver_history_df[r'$\\varepsilon$'] / bungee_jumper_exact_solution['v']\n",
    "\n",
    "# export as tex file\n",
    "if not Path().cwd() / 'data':\n",
    "    (Path().cwd() / 'data').mkdir(parents=True, exist_ok=True)\n",
    "df_to_latex(\n",
    "    euler_solver_history_df,\n",
    "    str(Path().cwd() / 'data' / 'EulerMethod_bungeeJumper.tex'),\n",
    "    formatting={\n",
    "        '$v(t)$': dict(header='$v(t)$ (m/s)', format='0.6f'),\n",
    "        '$t$': dict(header='$t$ (s)', format='0.6f'),\n",
    "        r'$\\Delta t$': dict(header=r'$\\Delta t$ (s)', format='0.6f'),\n",
    "        r'$\\frac{dv}{dt}$': dict(header=r'$\\frac{dv}{dt}$ (m/s$^2$)', format='0.6f'),\n",
    "        r'$\\varepsilon$': dict(header=r'$\\varepsilon$ (m/s)', format='0.6f'),\n",
    "        r'$\\varepsilon_r$': dict(header=r'$\\varepsilon_r$ (\\%)', format=lambda x: f'{x*100:0.6f}' if not pd.isna(x) else r'$\\text{-}$'),\n",
    "    }\n",
    ")\n",
    "\n",
    "clear_output()\n",
    "display(euler_solver_history_df)"
   ],
   "execution_count": 5,
   "outputs": [
    {
     "data": {
      "text/plain": [
       "       $v(t)$  $t$  $\\Delta t$  $\\frac{dv}{dt}$  $\\varepsilon$  \\\n",
       "0    0.000000    0           2         9.800000       0.000000   \n",
       "1   19.600000    2           2         9.800000       0.889045   \n",
       "2   36.379442    4           2         8.389721       3.296292   \n",
       "3   46.262380    6           2         4.941469       4.217731   \n",
       "4   50.148666    8           2         1.943143       3.222108   \n",
       "5   51.283991   10           2         0.567662       1.892122   \n",
       "6   51.573802   12           2         0.144905       0.984603   \n",
       "7   51.644749   14           2         0.035473       0.485061   \n",
       "8   51.661929   16           2         0.008590       0.232902   \n",
       "9   51.666078   18           2         0.002075       0.110440   \n",
       "10  51.667079   20           2         0.000501       0.052046   \n",
       "\n",
       "    $\\varepsilon_r$  \n",
       "0               NaN  \n",
       "1          0.047515  \n",
       "2          0.099637  \n",
       "3          0.100316  \n",
       "4          0.068663  \n",
       "5          0.038308  \n",
       "6          0.019463  \n",
       "7          0.009481  \n",
       "8          0.004529  \n",
       "9          0.002142  \n",
       "10         0.001008  "
      ],
      "text/html": [
       "<div>\n",
       "<style scoped>\n",
       "    .dataframe tbody tr th:only-of-type {\n",
       "        vertical-align: middle;\n",
       "    }\n",
       "\n",
       "    .dataframe tbody tr th {\n",
       "        vertical-align: top;\n",
       "    }\n",
       "\n",
       "    .dataframe thead th {\n",
       "        text-align: right;\n",
       "    }\n",
       "</style>\n",
       "<table border=\"1\" class=\"dataframe\">\n",
       "  <thead>\n",
       "    <tr style=\"text-align: right;\">\n",
       "      <th></th>\n",
       "      <th>$v(t)$</th>\n",
       "      <th>$t$</th>\n",
       "      <th>$\\Delta t$</th>\n",
       "      <th>$\\frac{dv}{dt}$</th>\n",
       "      <th>$\\varepsilon$</th>\n",
       "      <th>$\\varepsilon_r$</th>\n",
       "    </tr>\n",
       "  </thead>\n",
       "  <tbody>\n",
       "    <tr>\n",
       "      <th>0</th>\n",
       "      <td>0.000000</td>\n",
       "      <td>0</td>\n",
       "      <td>2</td>\n",
       "      <td>9.800000</td>\n",
       "      <td>0.000000</td>\n",
       "      <td>NaN</td>\n",
       "    </tr>\n",
       "    <tr>\n",
       "      <th>1</th>\n",
       "      <td>19.600000</td>\n",
       "      <td>2</td>\n",
       "      <td>2</td>\n",
       "      <td>9.800000</td>\n",
       "      <td>0.889045</td>\n",
       "      <td>0.047515</td>\n",
       "    </tr>\n",
       "    <tr>\n",
       "      <th>2</th>\n",
       "      <td>36.379442</td>\n",
       "      <td>4</td>\n",
       "      <td>2</td>\n",
       "      <td>8.389721</td>\n",
       "      <td>3.296292</td>\n",
       "      <td>0.099637</td>\n",
       "    </tr>\n",
       "    <tr>\n",
       "      <th>3</th>\n",
       "      <td>46.262380</td>\n",
       "      <td>6</td>\n",
       "      <td>2</td>\n",
       "      <td>4.941469</td>\n",
       "      <td>4.217731</td>\n",
       "      <td>0.100316</td>\n",
       "    </tr>\n",
       "    <tr>\n",
       "      <th>4</th>\n",
       "      <td>50.148666</td>\n",
       "      <td>8</td>\n",
       "      <td>2</td>\n",
       "      <td>1.943143</td>\n",
       "      <td>3.222108</td>\n",
       "      <td>0.068663</td>\n",
       "    </tr>\n",
       "    <tr>\n",
       "      <th>5</th>\n",
       "      <td>51.283991</td>\n",
       "      <td>10</td>\n",
       "      <td>2</td>\n",
       "      <td>0.567662</td>\n",
       "      <td>1.892122</td>\n",
       "      <td>0.038308</td>\n",
       "    </tr>\n",
       "    <tr>\n",
       "      <th>6</th>\n",
       "      <td>51.573802</td>\n",
       "      <td>12</td>\n",
       "      <td>2</td>\n",
       "      <td>0.144905</td>\n",
       "      <td>0.984603</td>\n",
       "      <td>0.019463</td>\n",
       "    </tr>\n",
       "    <tr>\n",
       "      <th>7</th>\n",
       "      <td>51.644749</td>\n",
       "      <td>14</td>\n",
       "      <td>2</td>\n",
       "      <td>0.035473</td>\n",
       "      <td>0.485061</td>\n",
       "      <td>0.009481</td>\n",
       "    </tr>\n",
       "    <tr>\n",
       "      <th>8</th>\n",
       "      <td>51.661929</td>\n",
       "      <td>16</td>\n",
       "      <td>2</td>\n",
       "      <td>0.008590</td>\n",
       "      <td>0.232902</td>\n",
       "      <td>0.004529</td>\n",
       "    </tr>\n",
       "    <tr>\n",
       "      <th>9</th>\n",
       "      <td>51.666078</td>\n",
       "      <td>18</td>\n",
       "      <td>2</td>\n",
       "      <td>0.002075</td>\n",
       "      <td>0.110440</td>\n",
       "      <td>0.002142</td>\n",
       "    </tr>\n",
       "    <tr>\n",
       "      <th>10</th>\n",
       "      <td>51.667079</td>\n",
       "      <td>20</td>\n",
       "      <td>2</td>\n",
       "      <td>0.000501</td>\n",
       "      <td>0.052046</td>\n",
       "      <td>0.001008</td>\n",
       "    </tr>\n",
       "  </tbody>\n",
       "</table>\n",
       "</div>"
      ]
     },
     "metadata": {},
     "output_type": "display_data"
    }
   ]
  },
  {
   "metadata": {},
   "cell_type": "markdown",
   "source": [
    "## Using Use Heun Method\n",
    "In our study case the dependent variable is the velocity $v$ and the independent variable is time $t$ as such:\n",
    "$$ x \\rightarrow v $$\n",
    "$$ \\frac{dv}{dt} = f(v,t) $$\n",
    "$$ v^{*} \\approx v_n +  f(v, t) \\Delta t $$\n",
    "$$ v_{n+1} \\approx v_n +  \\frac{f(v^{*}, t_n)+f(v, t_n)}{2} \\Delta t $$\n"
   ],
   "id": "e1931b1807c3b0d8"
  },
  {
   "metadata": {},
   "cell_type": "code",
   "source": [
    "from ODE.FirstOrder.FirstOrderODEHeunMethod import FirstOrderODEHeunMethod\n",
    "\n",
    "hun_solver = FirstOrderODEHeunMethod(\n",
    "    # f(x,t) -> f(v,t)\n",
    "    derivative_function=lambda v,t: bungee_jumper_acceleration(m=bungee_jumper_data['m'], cd=bungee_jumper_data['cd'], v=v),\n",
    "    # v(t=0) = 0\n",
    "    t0=bungee_jumper_data['t0'],\n",
    "    x0=bungee_jumper_data['v0'],\n",
    "    # \\Delta t = 2\n",
    "    dt=bungee_jumper_data['dt'],\n",
    "    t_final=bungee_jumper_data['t_final'],\n",
    ")\n",
    "\n",
    "hun_solver_history_df = hun_solver.run()\n",
    "clear_output() # clear log messages (uncomment if want to see logs)"
   ],
   "id": "d88082e0936dca8",
   "execution_count": 6,
   "outputs": []
  },
  {
   "metadata": {},
   "cell_type": "code",
   "source": [
    "hun_solver_history_df.columns = ['$v(t)$', '$v^{*}(t)$' , '$t$', r'$\\Delta t$', r'$\\frac{dv}{dt}$']\n",
    "hun_solver_history_df[r'$\\varepsilon$'] = (hun_solver_history_df['$v(t)$'] - bungee_jumper_exact_solution['v']).abs()\n",
    "hun_solver_history_df[r'$\\varepsilon_r$'] = hun_solver_history_df[r'$\\varepsilon$'] / bungee_jumper_exact_solution['v']\n",
    "\n",
    "# export tex file\n",
    "df_to_latex(\n",
    "    hun_solver_history_df,\n",
    "    str(Path().cwd() / 'data' / 'HeunMethod_bungeeJumper.tex'),\n",
    "    formatting={\n",
    "        '$v(t)$': dict(header='$v(t)$ (m/s)', format='0.6f'),\n",
    "        '$v^{*}(t)$': dict(header='$v^{*}(t)$ (m/s)', format='0.6f'),\n",
    "        '$t$': dict(header='$t$ (s)', format='0.6f'),\n",
    "        r'$\\Delta t$': dict(header=r'$\\Delta t$ (s)', format='0.6f'),\n",
    "        r'$\\frac{dv}{dt}$': dict(header=r'$\\frac{dv}{dt}$ (m/s$^2$)', format='0.6f'),\n",
    "        r'$\\varepsilon$': dict(header=r'$\\varepsilon$ (m/s)', format='0.6f'),\n",
    "        r'$\\varepsilon_r$': dict(header=r'$\\varepsilon_r$ (\\%)', format=lambda x: f'{x*100:0.6f}' if not pd.isna(x) else r'$\\text{-}$'),\n",
    "    }\n",
    ")\n",
    "\n",
    "clear_output()\n",
    "display(hun_solver_history_df)"
   ],
   "id": "376f372c0dbd92a2",
   "execution_count": 7,
   "outputs": [
    {
     "data": {
      "text/plain": [
       "       $v(t)$  $v^{*}(t)$  $t$  $\\Delta t$  $\\frac{dv}{dt}$  $\\varepsilon$  \\\n",
       "0    0.000000    0.000000    0           2         9.800000       0.000000   \n",
       "1   18.189721   19.600000    2           2         9.800000       0.521234   \n",
       "2   31.984920   35.360456    4           2         8.585367       1.098230   \n",
       "3   40.698277   44.073649    6           2         6.044364       1.346373   \n",
       "4   45.711155   48.137119    8           2         3.719421       1.215403   \n",
       "5   48.473864   49.969674   10           2         2.129260       0.918005   \n",
       "6   49.965999   50.821915   12           2         1.174025       0.623200   \n",
       "7   50.763917   51.235595   14           2         0.634798       0.395771   \n",
       "8   51.188447   51.443394   16           2         0.339739       0.240580   \n",
       "9   51.413725   51.550142   18           2         0.180848       0.141913   \n",
       "10  51.533105   51.605714   20           2         0.095994       0.081928   \n",
       "\n",
       "    $\\varepsilon_r$  \n",
       "0               NaN  \n",
       "1          0.027857  \n",
       "2          0.033196  \n",
       "3          0.032022  \n",
       "4          0.025900  \n",
       "5          0.018586  \n",
       "6          0.012319  \n",
       "7          0.007736  \n",
       "8          0.004678  \n",
       "9          0.002753  \n",
       "10         0.001587  "
      ],
      "text/html": [
       "<div>\n",
       "<style scoped>\n",
       "    .dataframe tbody tr th:only-of-type {\n",
       "        vertical-align: middle;\n",
       "    }\n",
       "\n",
       "    .dataframe tbody tr th {\n",
       "        vertical-align: top;\n",
       "    }\n",
       "\n",
       "    .dataframe thead th {\n",
       "        text-align: right;\n",
       "    }\n",
       "</style>\n",
       "<table border=\"1\" class=\"dataframe\">\n",
       "  <thead>\n",
       "    <tr style=\"text-align: right;\">\n",
       "      <th></th>\n",
       "      <th>$v(t)$</th>\n",
       "      <th>$v^{*}(t)$</th>\n",
       "      <th>$t$</th>\n",
       "      <th>$\\Delta t$</th>\n",
       "      <th>$\\frac{dv}{dt}$</th>\n",
       "      <th>$\\varepsilon$</th>\n",
       "      <th>$\\varepsilon_r$</th>\n",
       "    </tr>\n",
       "  </thead>\n",
       "  <tbody>\n",
       "    <tr>\n",
       "      <th>0</th>\n",
       "      <td>0.000000</td>\n",
       "      <td>0.000000</td>\n",
       "      <td>0</td>\n",
       "      <td>2</td>\n",
       "      <td>9.800000</td>\n",
       "      <td>0.000000</td>\n",
       "      <td>NaN</td>\n",
       "    </tr>\n",
       "    <tr>\n",
       "      <th>1</th>\n",
       "      <td>18.189721</td>\n",
       "      <td>19.600000</td>\n",
       "      <td>2</td>\n",
       "      <td>2</td>\n",
       "      <td>9.800000</td>\n",
       "      <td>0.521234</td>\n",
       "      <td>0.027857</td>\n",
       "    </tr>\n",
       "    <tr>\n",
       "      <th>2</th>\n",
       "      <td>31.984920</td>\n",
       "      <td>35.360456</td>\n",
       "      <td>4</td>\n",
       "      <td>2</td>\n",
       "      <td>8.585367</td>\n",
       "      <td>1.098230</td>\n",
       "      <td>0.033196</td>\n",
       "    </tr>\n",
       "    <tr>\n",
       "      <th>3</th>\n",
       "      <td>40.698277</td>\n",
       "      <td>44.073649</td>\n",
       "      <td>6</td>\n",
       "      <td>2</td>\n",
       "      <td>6.044364</td>\n",
       "      <td>1.346373</td>\n",
       "      <td>0.032022</td>\n",
       "    </tr>\n",
       "    <tr>\n",
       "      <th>4</th>\n",
       "      <td>45.711155</td>\n",
       "      <td>48.137119</td>\n",
       "      <td>8</td>\n",
       "      <td>2</td>\n",
       "      <td>3.719421</td>\n",
       "      <td>1.215403</td>\n",
       "      <td>0.025900</td>\n",
       "    </tr>\n",
       "    <tr>\n",
       "      <th>5</th>\n",
       "      <td>48.473864</td>\n",
       "      <td>49.969674</td>\n",
       "      <td>10</td>\n",
       "      <td>2</td>\n",
       "      <td>2.129260</td>\n",
       "      <td>0.918005</td>\n",
       "      <td>0.018586</td>\n",
       "    </tr>\n",
       "    <tr>\n",
       "      <th>6</th>\n",
       "      <td>49.965999</td>\n",
       "      <td>50.821915</td>\n",
       "      <td>12</td>\n",
       "      <td>2</td>\n",
       "      <td>1.174025</td>\n",
       "      <td>0.623200</td>\n",
       "      <td>0.012319</td>\n",
       "    </tr>\n",
       "    <tr>\n",
       "      <th>7</th>\n",
       "      <td>50.763917</td>\n",
       "      <td>51.235595</td>\n",
       "      <td>14</td>\n",
       "      <td>2</td>\n",
       "      <td>0.634798</td>\n",
       "      <td>0.395771</td>\n",
       "      <td>0.007736</td>\n",
       "    </tr>\n",
       "    <tr>\n",
       "      <th>8</th>\n",
       "      <td>51.188447</td>\n",
       "      <td>51.443394</td>\n",
       "      <td>16</td>\n",
       "      <td>2</td>\n",
       "      <td>0.339739</td>\n",
       "      <td>0.240580</td>\n",
       "      <td>0.004678</td>\n",
       "    </tr>\n",
       "    <tr>\n",
       "      <th>9</th>\n",
       "      <td>51.413725</td>\n",
       "      <td>51.550142</td>\n",
       "      <td>18</td>\n",
       "      <td>2</td>\n",
       "      <td>0.180848</td>\n",
       "      <td>0.141913</td>\n",
       "      <td>0.002753</td>\n",
       "    </tr>\n",
       "    <tr>\n",
       "      <th>10</th>\n",
       "      <td>51.533105</td>\n",
       "      <td>51.605714</td>\n",
       "      <td>20</td>\n",
       "      <td>2</td>\n",
       "      <td>0.095994</td>\n",
       "      <td>0.081928</td>\n",
       "      <td>0.001587</td>\n",
       "    </tr>\n",
       "  </tbody>\n",
       "</table>\n",
       "</div>"
      ]
     },
     "metadata": {},
     "output_type": "display_data"
    }
   ]
  },
  {
   "metadata": {
    "ExecuteTime": {
     "end_time": "2025-03-06T06:44:14.052070Z",
     "start_time": "2025-03-06T06:44:13.316837Z"
    }
   },
   "cell_type": "code",
   "source": [
    "ax = bungee_jumper_exact_solution.plot(x='t', y='v', label='$v(t)$', color='red')\n",
    "euler_solver_history_df.plot(\n",
    "    x='$t$', y='$v(t)$', label='Euler method', color='blue', linestyle=':',\n",
    "    marker='o', markersize=5, ax=ax\n",
    ")\n",
    "hun_solver_history_df.plot(\n",
    "    x='$t$', y='$v(t)$', label='Heun method', color='Green', linestyle=':',\n",
    "    marker='o', markersize=5, ax=ax\n",
    ")\n",
    "plt.xlabel('Time (t)')\n",
    "plt.ylabel('Velocity (v)')\n",
    "plt.title('Bungee Jumper Velocity')\n",
    "plt.grid()\n",
    "plt.legend()\n",
    "\n",
    "\n",
    "if not (Path().cwd() / 'figures').exists() :\n",
    "    (Path().cwd() / 'figures').mkdir(parents=True, exist_ok=True)\n",
    "\n",
    "plt.savefig(str(Path().cwd() / 'figures' /'Problem1BungeeJumper.png'))"
   ],
   "id": "21f9b25741414431",
   "outputs": [
    {
     "data": {
      "text/plain": [
       "<Figure size 640x480 with 1 Axes>"
      ],
      "image/png": "[encoded data removed]"
     },
     "metadata": {},
     "output_type": "display_data"
    }
   ],
   "execution_count": 8
  },
  {
   "metadata": {},
   "cell_type": "markdown",
   "source": [
    "# Problem 2. Case Study: Parachute Drag Coefficient\n",
    "\tA parachute diver with mass $68.1$ kg reached terminal velocity of $40 (m/s)$  on $10$ seconds after jumping from the plane. What is the drag coefficient of the parachute?\n"
   ],
   "id": "8c7b9fa0e89eebd1"
  },
  {
   "metadata": {
    "ExecuteTime": {
     "end_time": "2025-03-06T06:44:14.068381Z",
     "start_time": "2025-03-06T06:44:14.064578Z"
    }
   },
   "cell_type": "code",
   "source": [
    "import sympy as sp\n",
    "\n",
    "\n",
    "def parachute_equation(\n",
    "        c: float,\n",
    "        m: float,\n",
    "        t: float,\n",
    "        v: float,\n",
    "        g:float = 9.81,\n",
    "        e:float = np.e\n",
    "):\n",
    "    return (m*g/c)*(1-e**(-c*t/m)) - v\n",
    "\n",
    "parachute_data = dict(\n",
    "    m = 68.1,\n",
    "    t = 10.0,\n",
    "    v = 40.0,\n",
    "    g = 9.81,\n",
    ")"
   ],
   "id": "2a44c9cf0cd5a386",
   "outputs": [],
   "execution_count": 9
  },
  {
   "metadata": {},
   "cell_type": "markdown",
   "source": "## Graphical approch\n",
   "id": "3d6523e0ebabcbce"
  },
  {
   "metadata": {
    "ExecuteTime": {
     "end_time": "2025-03-06T06:44:14.109925Z",
     "start_time": "2025-03-06T06:44:14.106266Z"
    }
   },
   "cell_type": "code",
   "source": [
    "f_cd = lambda c:parachute_equation(m=parachute_data['m'], t=parachute_data['t'], v=parachute_data['v'], c=c)\n",
    "c_sym = sp.symbols('c')\n",
    "e_sym = sp.symbols('e')"
   ],
   "id": "6c888f6a9e5d30a5",
   "outputs": [],
   "execution_count": 10
  },
  {
   "metadata": {
    "ExecuteTime": {
     "end_time": "2025-03-06T06:44:14.518512Z",
     "start_time": "2025-03-06T06:44:14.154166Z"
    }
   },
   "cell_type": "code",
   "source": [
    "c_ = np.linspace(10,20, 1000)\n",
    "fc_ = f_cd(c_)\n",
    "plt.plot(c_, fc_)\n",
    "plt.axhline(y=0, color='k', linewidth=2.0) # Highlight x-Axis\n",
    "\n",
    "# Find the root (where fc_ is closest to zero)\n",
    "root_idx = np.abs(fc_).argmin()\n",
    "root_c = c_[root_idx]\n",
    "root_f = fc_[root_idx]\n",
    "plt.plot(root_c, root_f, 'ro', markersize=8)  # Red circle marker\n",
    "plt.annotate(f'Root ≈ {root_c:.2f}',\n",
    "             xy=(root_c, root_f),\n",
    "             xytext=(root_c+1.5, root_f+1.5),\n",
    "             arrowprops=dict(facecolor='black', shrink=0.05, width=1),\n",
    "             fontsize=10)\n",
    "\n",
    "plt.xlabel('Drag coefficient (c)')\n",
    "plt.title(f'Parachute Equation: $f(c)={sp.latex(\n",
    "    parachute_equation(m=parachute_data['m'], t=parachute_data['t'], v=parachute_data['v'], c=c_sym, e=e_sym))}$')\n",
    "plt.grid()\n",
    "plt.savefig(str(Path().cwd() / 'figures' / 'Problem2ParachuteGraphical.png'))"
   ],
   "id": "6288f056d233b63a",
   "outputs": [
    {
     "data": {
      "text/plain": [
       "<Figure size 640x480 with 1 Axes>"
      ],
      "image/png": "[encoded data removed]"
     },
     "metadata": {},
     "output_type": "display_data"
    }
   ],
   "execution_count": 11
  },
  {
   "metadata": {},
   "cell_type": "markdown",
   "source": "## Bisection Method",
   "id": "bde62c9f96046ca1"
  },
  {
   "metadata": {
    "ExecuteTime": {
     "end_time": "2025-03-06T06:44:15.063667Z",
     "start_time": "2025-03-06T06:44:14.535711Z"
    }
   },
   "cell_type": "code",
   "source": [
    "from FindRoots.BracketingMethods.BiSectionMethod import BiSectionMethod\n",
    "\n",
    "bisection_solver = BiSectionMethod(\n",
    "    function=lambda c:parachute_equation(m=parachute_data['m'], t=parachute_data['t'], v=parachute_data['v'], c=c),\n",
    "    a=10,\n",
    "    b=20,\n",
    ")\n",
    "bisection_solver_history_df = bisection_solver.run()\n",
    "clear_output()"
   ],
   "id": "b46d8c316cff6474",
   "outputs": [
    {
     "ename": "TypeError",
     "evalue": "StopIfEqual.__init__() got an unexpected keyword argument 'tolerance'",
     "output_type": "error",
     "traceback": [
      "\u001B[0;31m---------------------------------------------------------------------------\u001B[0m",
      "\u001B[0;31mTypeError\u001B[0m                                 Traceback (most recent call last)",
      "Cell \u001B[0;32mIn[12], line 3\u001B[0m\n\u001B[1;32m      1\u001B[0m \u001B[38;5;28;01mfrom\u001B[39;00m \u001B[38;5;21;01mFindRoots\u001B[39;00m\u001B[38;5;21;01m.\u001B[39;00m\u001B[38;5;21;01mBracketingMethods\u001B[39;00m\u001B[38;5;21;01m.\u001B[39;00m\u001B[38;5;21;01mBiSectionMethod\u001B[39;00m \u001B[38;5;28;01mimport\u001B[39;00m BiSectionMethod\n\u001B[0;32m----> 3\u001B[0m bisection_solver \u001B[38;5;241m=\u001B[39m BiSectionMethod(\n\u001B[1;32m      4\u001B[0m     function\u001B[38;5;241m=\u001B[39m\u001B[38;5;28;01mlambda\u001B[39;00m c:parachute_equation(m\u001B[38;5;241m=\u001B[39mparachute_data[\u001B[38;5;124m'\u001B[39m\u001B[38;5;124mm\u001B[39m\u001B[38;5;124m'\u001B[39m], t\u001B[38;5;241m=\u001B[39mparachute_data[\u001B[38;5;124m'\u001B[39m\u001B[38;5;124mt\u001B[39m\u001B[38;5;124m'\u001B[39m], v\u001B[38;5;241m=\u001B[39mparachute_data[\u001B[38;5;124m'\u001B[39m\u001B[38;5;124mv\u001B[39m\u001B[38;5;124m'\u001B[39m], c\u001B[38;5;241m=\u001B[39mc),\n\u001B[1;32m      5\u001B[0m     t_lower0\u001B[38;5;241m=\u001B[39m\u001B[38;5;241m10\u001B[39m,\n\u001B[1;32m      6\u001B[0m     t_upper0\u001B[38;5;241m=\u001B[39m\u001B[38;5;241m20\u001B[39m,\n\u001B[1;32m      7\u001B[0m )\n\u001B[1;32m      8\u001B[0m bisection_solver_history_df \u001B[38;5;241m=\u001B[39m bisection_solver\u001B[38;5;241m.\u001B[39mrun()\n\u001B[1;32m      9\u001B[0m clear_output()\n",
      "File \u001B[0;32m<string>:12\u001B[0m, in \u001B[0;36m__init__\u001B[0;34m(self, stop_conditions, max_iterations, absolute_tolerance, relative_tolerance, patience, function, independent_variable_count, t_upper0, t_lower0)\u001B[0m\n",
      "File \u001B[0;32m~/PycharmProjects/NumericalMethods/FindRoots/BracketingMethods/BiSectionMethod.py:16\u001B[0m, in \u001B[0;36mBiSectionMethod.__post_init__\u001B[0;34m(self)\u001B[0m\n\u001B[1;32m     15\u001B[0m \u001B[38;5;28;01mdef\u001B[39;00m \u001B[38;5;21m__post_init__\u001B[39m(\u001B[38;5;28mself\u001B[39m) \u001B[38;5;241m-\u001B[39m\u001B[38;5;241m>\u001B[39m \u001B[38;5;28;01mNone\u001B[39;00m:\n\u001B[0;32m---> 16\u001B[0m     \u001B[38;5;28mself\u001B[39m\u001B[38;5;241m.\u001B[39madd_stop_condition(StopIfZero(tracking\u001B[38;5;241m=\u001B[39m\u001B[38;5;124m'\u001B[39m\u001B[38;5;124mf_root\u001B[39m\u001B[38;5;124m'\u001B[39m, patience\u001B[38;5;241m=\u001B[39m\u001B[38;5;241m3\u001B[39m, tolerance\u001B[38;5;241m=\u001B[39m\u001B[38;5;241m1e-6\u001B[39m))\n\u001B[1;32m     17\u001B[0m     \u001B[38;5;28mself\u001B[39m\u001B[38;5;241m.\u001B[39madd_stop_condition(StopIfZero(tracking\u001B[38;5;241m=\u001B[39m\u001B[38;5;124m'\u001B[39m\u001B[38;5;124mbracket_size\u001B[39m\u001B[38;5;124m'\u001B[39m, patience\u001B[38;5;241m=\u001B[39m\u001B[38;5;241m1\u001B[39m, tolerance\u001B[38;5;241m=\u001B[39m\u001B[38;5;241m1e-6\u001B[39m))\n\u001B[1;32m     18\u001B[0m     \u001B[38;5;28mself\u001B[39m\u001B[38;5;241m.\u001B[39madd_stop_condition(StopIfNaN(track_variables\u001B[38;5;241m=\u001B[39m[\u001B[38;5;124m'\u001B[39m\u001B[38;5;124mf_lower\u001B[39m\u001B[38;5;124m'\u001B[39m, \u001B[38;5;124m'\u001B[39m\u001B[38;5;124mf_upper\u001B[39m\u001B[38;5;124m'\u001B[39m, \u001B[38;5;124m'\u001B[39m\u001B[38;5;124mf_root\u001B[39m\u001B[38;5;124m'\u001B[39m]))\n",
      "File \u001B[0;32m~/PycharmProjects/NumericalMethods/StopConditions/StopIfEqual.py:158\u001B[0m, in \u001B[0;36mStopIfZero.__init__\u001B[0;34m(self, *args, **kwargs)\u001B[0m\n\u001B[1;32m    156\u001B[0m \u001B[38;5;28;01mdef\u001B[39;00m \u001B[38;5;21m__init__\u001B[39m(\u001B[38;5;28mself\u001B[39m, \u001B[38;5;241m*\u001B[39margs, \u001B[38;5;241m*\u001B[39m\u001B[38;5;241m*\u001B[39mkwargs):\n\u001B[1;32m    157\u001B[0m     \u001B[38;5;28mself\u001B[39m\u001B[38;5;241m.\u001B[39mvalue: \u001B[38;5;28mfloat\u001B[39m \u001B[38;5;241m=\u001B[39m \u001B[38;5;241m0.0\u001B[39m\n\u001B[0;32m--> 158\u001B[0m     \u001B[38;5;28msuper\u001B[39m()\u001B[38;5;241m.\u001B[39m\u001B[38;5;21m__init__\u001B[39m(\u001B[38;5;241m*\u001B[39margs, \u001B[38;5;241m*\u001B[39m\u001B[38;5;241m*\u001B[39mkwargs)\n",
      "\u001B[0;31mTypeError\u001B[0m: StopIfEqual.__init__() got an unexpected keyword argument 'tolerance'"
     ]
    }
   ],
   "execution_count": 12
  },
  {
   "metadata": {},
   "cell_type": "code",
   "source": [
    "bisection_solver_history_df.columns = ['$c_l$', '$c_u$', '$c$', '$f(c_l)$', '$f(c)$', '$f(c_u)$', '$|c_u-c_l|$', r'log']\n",
    "\n",
    "df_to_latex(\n",
    "    bisection_solver_history_df,\n",
    "    str(Path().cwd() / 'data' / 'BisectionMethod_parachute.tex'),\n",
    "    formatting={\n",
    "        '$c_l$': dict(header='$c_l$', format='0.6f'),\n",
    "        '$c_u$': dict(header='$c_u$', format='0.6f'),\n",
    "        '$c$': dict(header='$c$', format='0.6f'),\n",
    "        '$f(c_l)$': dict(header='$f(c_l)$', format='0.6f'),\n",
    "        '$f(c)$': dict(header='$f(c)$', format='0.6f'),\n",
    "        '$f(c_u)$': dict(header='$f(c_u)$', format='0.6f'),\n",
    "        '$|c_u-c_l|$': dict(header='$|c_u-c_l|$', format='0.6f'),\n",
    "        r'log': dict(header=r'log', format=str),\n",
    "    }\n",
    ")\n",
    "\n",
    "bisection_solver_history_df"
   ],
   "id": "d8d9877dd783be19",
   "outputs": [],
   "execution_count": null
  },
  {
   "metadata": {},
   "cell_type": "markdown",
   "source": [
    "## Newton-Raspbian Method\n",
    "$$ \\frac{dx}{dt} = f(x,t) $$\n",
    "$$ t_{t+1} = t_n - \\frac{f(x_n,t_n)}{f'(x_n,t_n)} $$"
   ],
   "id": "23afd326e1cfa52e"
  },
  {
   "metadata": {},
   "cell_type": "code",
   "source": [
    "from FindRoots.OpenMethods.NewtonRaphsonMethod import NewtonRaphsonMethod\n",
    "c0 = 10\n",
    "newton_solver = NewtonRaphsonMethod(\n",
    "    function=lambda c:parachute_equation(m=parachute_data['m'], t=parachute_data['t'], v=parachute_data['v'], c=c),\n",
    "    x0=c0,\n",
    ")\n",
    "newton_solver_history_df = newton_solver.run()\n",
    "clear_output()"
   ],
   "id": "225b70f9c9d3cbec",
   "outputs": [],
   "execution_count": null
  },
  {
   "metadata": {},
   "cell_type": "code",
   "source": [
    "newton_solver_history_df.columns = ['$C_d$', '$f(C_d)$', '$f\\'(C_d)$']\n",
    "\n",
    "df_to_latex(\n",
    "    newton_solver_history_df,\n",
    "    str(Path().cwd() / 'data' / 'NewtonRaphsonMethod_parachute.tex'),\n",
    "    formatting={\n",
    "        '$C_d$': dict(header='$C_d$', format='0.6f'),\n",
    "        '$f(C_d)$': dict(header='$f(C_d)$', format='0.6f'),\n",
    "        '$f\\'(C_d)': dict(header='$f\\'(C_d)$', format='0.6f'),\n",
    "    }\n",
    ")\n",
    "clear_output()\n",
    "newton_solver_history_df"
   ],
   "id": "cf75fb4bc05adee6",
   "outputs": [],
   "execution_count": null
  },
  {
   "metadata": {},
   "cell_type": "code",
   "source": "",
   "id": "ff23047d59136650",
   "outputs": [],
   "execution_count": null
  }
 ],
 "metadata": {
  "kernelspec": {
   "display_name": "Python 3 (ipykernel)",
   "language": "python",
   "name": "python3"
  },
  "language_info": {
   "codemirror_mode": {
    "name": "ipython",
    "version": 3
   },
   "file_extension": ".py",
   "mimetype": "text/x-python",
   "name": "python",
   "nbconvert_exporter": "python",
   "pygments_lexer": "ipython3",
   "version": "3.12.9"
  }
 },
 "nbformat": 4,
 "nbformat_minor": 5
}
