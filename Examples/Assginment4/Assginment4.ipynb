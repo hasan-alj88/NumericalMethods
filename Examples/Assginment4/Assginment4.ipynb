{
 "cells": [
  {
   "metadata": {},
   "cell_type": "markdown",
   "source": [
    "# Assignment #4\n",
    "\n",
    "Solve systems of linear equations using the following numerical methods:\n",
    "\n",
    "1. Gauss Elimination\n",
    "2. LU Factorization\n",
    "3. Jacobi Method\n",
    "4. Gauss-Seidel Iterative Method\n",
    "Each method must be implemented in MATLAB/ Python.\n",
    "\n",
    "Compare the methods based on the following criteria:\n",
    "- Accuracy: Compare the final numerical solutions.\n",
    "- Computational Efficiency: Measure the number of operations/iterations required.\n",
    "- Stability: Discuss if the method is sensitive to rounding errors.\n",
    "- Applicability: When is each method preferable?\n",
    "(bonus) +++ Give an Example for Solving a real-world problem using linear equations."
   ],
   "id": "7d8df656bff067fd"
  },
  {
   "metadata": {
    "ExecuteTime": {
     "end_time": "2025-03-23T11:38:03.907223Z",
     "start_time": "2025-03-23T11:38:03.411289Z"
    }
   },
   "cell_type": "code",
   "source": [
    "from decimal import Decimal\n",
    "\n",
    "import numpy as np\n",
    "import pandas as pd\n",
    "import sympy as sp\n",
    "from IPython.display import display, Math\n",
    "\n",
    "\n",
    "from utils.LaTeXTools import numpy_to_latex_gauss"
   ],
   "id": "2608b1ef53550665",
   "outputs": [],
   "execution_count": 1
  },
  {
   "cell_type": "code",
   "id": "initial_id",
   "metadata": {
    "collapsed": true,
    "ExecuteTime": {
     "end_time": "2025-03-23T11:38:04.061088Z",
     "start_time": "2025-03-23T11:38:04.053853Z"
    }
   },
   "source": [
    "# Linear equation in Matrix form\n",
    "# columns are x_1, x_2,...,x_n, LHS\n",
    "equations_augmented_matrix= sp.Matrix([\n",
    "    [4,-1,2,11],\n",
    "    [3,6,-1,8],\n",
    "    [2,-1,5,7]\n",
    "])\n",
    "equations_coefficients_matrix= equations_augmented_matrix[:,:-1]\n",
    "equations_lhs = equations_augmented_matrix[:,-1]\n",
    "x_sym = sp.symbols(f'x_{{1:{equations_coefficients_matrix.shape[1]+1}}}')\n",
    "x_sym_matrix = sp.Matrix(x_sym)\n",
    "display(Math(\n",
    "    f'{sp.latex(equations_coefficients_matrix)} '\n",
    "    f'{sp.latex(x_sym_matrix)} = '\n",
    "    f'{sp.latex(equations_lhs)}'\n",
    "))"
   ],
   "outputs": [
    {
     "data": {
      "text/plain": [
       "<IPython.core.display.Math object>"
      ],
      "text/latex": "$\\displaystyle \\left[\\begin{matrix}4 & -1 & 2\\\\3 & 6 & -1\\\\2 & -1 & 5\\end{matrix}\\right] \\left[\\begin{matrix}x_{1}\\\\x_{2}\\\\x_{3}\\end{matrix}\\right] = \\left[\\begin{matrix}11\\\\8\\\\7\\end{matrix}\\right]$"
     },
     "metadata": {},
     "output_type": "display_data"
    }
   ],
   "execution_count": 2
  },
  {
   "metadata": {
    "ExecuteTime": {
     "end_time": "2025-03-23T11:38:04.204591Z",
     "start_time": "2025-03-23T11:38:04.109604Z"
    }
   },
   "cell_type": "code",
   "source": [
    "# Display Linear equations\n",
    "sp.Eq(equations_coefficients_matrix * x_sym_matrix, equations_lhs)"
   ],
   "id": "99baa0f02f02167f",
   "outputs": [
    {
     "data": {
      "text/plain": [
       "Eq(Matrix([\n",
       "[4*x_{1} - x_{2} + 2*x_{3}],\n",
       "[3*x_{1} + 6*x_{2} - x_{3}],\n",
       "[2*x_{1} - x_{2} + 5*x_{3}]]), Matrix([\n",
       "[11],\n",
       "[ 8],\n",
       "[ 7]]))"
      ],
      "text/latex": "$\\displaystyle \\left[\\begin{matrix}4 x_{1} - x_{2} + 2 x_{3}\\\\3 x_{1} + 6 x_{2} - x_{3}\\\\2 x_{1} - x_{2} + 5 x_{3}\\end{matrix}\\right] = \\left[\\begin{matrix}11\\\\8\\\\7\\end{matrix}\\right]$"
     },
     "execution_count": 3,
     "metadata": {},
     "output_type": "execute_result"
    }
   ],
   "execution_count": 3
  },
  {
   "metadata": {},
   "cell_type": "markdown",
   "source": "## Gauss Elimination",
   "id": "b75c56bcbe4a732a"
  },
  {
   "metadata": {
    "ExecuteTime": {
     "end_time": "2025-03-23T11:38:04.221790Z",
     "start_time": "2025-03-23T11:38:04.217566Z"
    }
   },
   "cell_type": "code",
   "source": [
    "gauss_elem_aug = equations_augmented_matrix.copy()\n",
    "display(Math(numpy_to_latex_gauss(gauss_elem_aug)))"
   ],
   "id": "41dcb1d95e2d134c",
   "outputs": [
    {
     "data": {
      "text/plain": [
       "<IPython.core.display.Math object>"
      ],
      "text/latex": "$\\displaystyle \n\\left[\\begin{array}{ccc|c}\n  4 & -1 & 2 & 11 \\\\ \n  3 & 6 & -1 & 8 \\\\ \n  2 & -1 & 5 & 7 \\\\ \n\\end{array}\\right]\n$"
     },
     "metadata": {},
     "output_type": "display_data"
    }
   ],
   "execution_count": 4
  },
  {
   "metadata": {
    "ExecuteTime": {
     "end_time": "2025-03-23T11:38:04.290002Z",
     "start_time": "2025-03-23T11:38:04.271220Z"
    }
   },
   "cell_type": "code",
   "source": [
    "from SolveEquations.LinearEquations import gauss_naive, lu_decomposition_linear_solver\n",
    "\n",
    "gauss_naive_solution = gauss_naive(\n",
    "    a=equations_coefficients_matrix.copy(),\n",
    "    b=equations_lhs.copy(),\n",
    "    verbose=True\n",
    ")"
   ],
   "id": "2d312f8da6b7196",
   "outputs": [
    {
     "data": {
      "text/plain": [
       "<IPython.core.display.Markdown object>"
      ],
      "text/markdown": "**Forward Elimination**"
     },
     "metadata": {},
     "output_type": "display_data"
    },
    {
     "data": {
      "text/plain": [
       "<IPython.core.display.Math object>"
      ],
      "text/latex": "$\\displaystyle \n\\left[\\begin{array}{ccc|c}\n  4 & -1 & 2 & 11 \\\\ \n  0 & 27/4 & -5/2 & -1/4 \\\\ \n  0 & -1/2 & 4 & 3/2 \\\\ \n\\end{array}\\right]\n$"
     },
     "metadata": {},
     "output_type": "display_data"
    },
    {
     "data": {
      "text/plain": [
       "<IPython.core.display.Math object>"
      ],
      "text/latex": "$\\displaystyle \n\\left[\\begin{array}{ccc|c}\n  4 & -1 & 2 & 11 \\\\ \n  0 & 27/4 & -5/2 & -1/4 \\\\ \n  0 & 0 & 103/27 & 40/27 \\\\ \n\\end{array}\\right]\n$"
     },
     "metadata": {},
     "output_type": "display_data"
    },
    {
     "data": {
      "text/plain": [
       "<IPython.core.display.Markdown object>"
      ],
      "text/markdown": "**Back Substitution**"
     },
     "metadata": {},
     "output_type": "display_data"
    },
    {
     "data": {
      "text/plain": [
       "<IPython.core.display.Math object>"
      ],
      "text/latex": "$\\displaystyle \n\\left[\\begin{array}{ccc|c}\n  4 & -1 & 2 & 11 \\\\ \n  0 & 27/4 & -5/2 & -1/4 \\\\ \n  0 & 0 & 103/27 & 40/27 \\\\ \n\\end{array}\\right]\n$"
     },
     "metadata": {},
     "output_type": "display_data"
    },
    {
     "data": {
      "text/plain": [
       "<IPython.core.display.Markdown object>"
      ],
      "text/markdown": "**Solution Vector**"
     },
     "metadata": {},
     "output_type": "display_data"
    },
    {
     "data": {
      "text/plain": [
       "<IPython.core.display.Math object>"
      ],
      "text/latex": "$\\displaystyle \\begin{bmatrix}\nx_{1} \\\\\nx_{2} \\\\\nx_{3} \\\\\n\\end{bmatrix} = \\begin{bmatrix}\n266/103 \\\\\n11/103 \\\\\n40/103 \\\\\n\\end{bmatrix} = \\left[\\begin{matrix}2.582524272\\\\0.1067961165\\\\0.3883495146\\end{matrix}\\right]$"
     },
     "metadata": {},
     "output_type": "display_data"
    }
   ],
   "execution_count": 5
  },
  {
   "metadata": {
    "ExecuteTime": {
     "end_time": "2025-03-23T11:38:04.335650Z",
     "start_time": "2025-03-23T11:38:04.330347Z"
    }
   },
   "cell_type": "code",
   "source": "gauss_naive_solution.evalf(10)",
   "id": "7560f6102ed7b218",
   "outputs": [
    {
     "data": {
      "text/plain": [
       "Matrix([\n",
       "[ 2.582524272],\n",
       "[0.1067961165],\n",
       "[0.3883495146]])"
      ],
      "text/latex": "$\\displaystyle \\left[\\begin{matrix}2.582524272\\\\0.1067961165\\\\0.3883495146\\end{matrix}\\right]$"
     },
     "execution_count": 6,
     "metadata": {},
     "output_type": "execute_result"
    }
   ],
   "execution_count": 6
  },
  {
   "metadata": {},
   "cell_type": "markdown",
   "source": "## LU Decomposition",
   "id": "186a3f1e42fe4a22"
  },
  {
   "metadata": {
    "ExecuteTime": {
     "end_time": "2025-03-23T11:38:04.410447Z",
     "start_time": "2025-03-23T11:38:04.383037Z"
    }
   },
   "cell_type": "code",
   "source": [
    "lu_decomposition_solution = lu_decomposition_linear_solver(\n",
    "    a=equations_coefficients_matrix.copy(),\n",
    "    b=equations_lhs.copy(),\n",
    "    verbose=True\n",
    ")"
   ],
   "id": "10385c75acf236dc",
   "outputs": [
    {
     "data": {
      "text/plain": [
       "<IPython.core.display.Markdown object>"
      ],
      "text/markdown": "**LU Decomposition**"
     },
     "metadata": {},
     "output_type": "display_data"
    },
    {
     "data": {
      "text/plain": [
       "<IPython.core.display.Math object>"
      ],
      "text/latex": "$\\displaystyle \\left[\\begin{matrix}4 & -1 & 2\\\\3 & 6 & -1\\\\2 & -1 & 5\\end{matrix}\\right]\\left[\\begin{matrix}x_{1}\\\\x_{2}\\\\x_{3}\\end{matrix}\\right] = \\left[\\begin{matrix}11\\\\8\\\\7\\end{matrix}\\right]$"
     },
     "metadata": {},
     "output_type": "display_data"
    },
    {
     "data": {
      "text/plain": [
       "<IPython.core.display.Math object>"
      ],
      "text/latex": "$\\displaystyle \\left[\\begin{matrix}1 & 0 & 0\\\\\\frac{3}{4} & 1 & 0\\\\\\frac{1}{2} & - \\frac{2}{27} & 1\\end{matrix}\\right]\\left[\\begin{matrix}4 & -1 & 2\\\\0 & \\frac{27}{4} & - \\frac{5}{2}\\\\0 & 0 & \\frac{103}{27}\\end{matrix}\\right]\\left[\\begin{matrix}x_{1}\\\\x_{2}\\\\x_{3}\\end{matrix}\\right] = \\left[\\begin{matrix}11\\\\8\\\\7\\end{matrix}\\right]$"
     },
     "metadata": {},
     "output_type": "display_data"
    },
    {
     "data": {
      "text/plain": [
       "<IPython.core.display.Markdown object>"
      ],
      "text/markdown": "**$Ly=b$ forward substitution**"
     },
     "metadata": {},
     "output_type": "display_data"
    },
    {
     "data": {
      "text/plain": [
       "<IPython.core.display.Math object>"
      ],
      "text/latex": "$\\displaystyle \\left[\\begin{matrix}1 & 0 & 0\\\\\\frac{3}{4} & 1 & 0\\\\\\frac{1}{2} & - \\frac{2}{27} & 1\\end{matrix}\\right]\\left[\\begin{matrix}y_{1}\\\\y_{2}\\\\y_{3}\\end{matrix}\\right] = \\left[\\begin{matrix}11\\\\8\\\\7\\end{matrix}\\right]$"
     },
     "metadata": {},
     "output_type": "display_data"
    },
    {
     "data": {
      "text/plain": [
       "<IPython.core.display.Math object>"
      ],
      "text/latex": "$\\displaystyle \\left[\\begin{matrix}y_{1}\\\\y_{2}\\\\y_{3}\\end{matrix}\\right] = \\left[\\begin{matrix}11\\\\- \\frac{1}{4}\\\\\\frac{40}{27}\\end{matrix}\\right]$"
     },
     "metadata": {},
     "output_type": "display_data"
    },
    {
     "data": {
      "text/plain": [
       "<IPython.core.display.Markdown object>"
      ],
      "text/markdown": "**$Lx=y$ back substitution**"
     },
     "metadata": {},
     "output_type": "display_data"
    },
    {
     "data": {
      "text/plain": [
       "<IPython.core.display.Math object>"
      ],
      "text/latex": "$\\displaystyle \\left[\\begin{matrix}1 & 0 & 0\\\\\\frac{3}{4} & 1 & 0\\\\\\frac{1}{2} & - \\frac{2}{27} & 1\\end{matrix}\\right]\\left[\\begin{matrix}x_{1}\\\\x_{2}\\\\x_{3}\\end{matrix}\\right] = \\left[\\begin{matrix}11\\\\- \\frac{1}{4}\\\\\\frac{40}{27}\\end{matrix}\\right]$"
     },
     "metadata": {},
     "output_type": "display_data"
    },
    {
     "data": {
      "text/plain": [
       "<IPython.core.display.Markdown object>"
      ],
      "text/markdown": "**Solution Vector**"
     },
     "metadata": {},
     "output_type": "display_data"
    },
    {
     "data": {
      "text/plain": [
       "<IPython.core.display.Math object>"
      ],
      "text/latex": "$\\displaystyle \\left[\\begin{matrix}x_{1}\\\\x_{2}\\\\x_{3}\\end{matrix}\\right] = \\left[\\begin{matrix}\\frac{266}{103}\\\\\\frac{11}{103}\\\\\\frac{40}{103}\\end{matrix}\\right] =\\left[\\begin{matrix}2.58252\\\\0.106796\\\\0.38835\\end{matrix}\\right]$"
     },
     "metadata": {},
     "output_type": "display_data"
    }
   ],
   "execution_count": 7
  },
  {
   "metadata": {},
   "cell_type": "markdown",
   "source": "## LinearJacobiMethod",
   "id": "e0acac0120ff6702"
  },
  {
   "metadata": {
    "ExecuteTime": {
     "end_time": "2025-03-23T11:38:54.135886Z",
     "start_time": "2025-03-23T11:38:54.062102Z"
    }
   },
   "cell_type": "code",
   "source": [
    "from SolveEquations.LinearJacobiMethod import LinearJacobiMethod\n",
    "\n",
    "jacob_solver = LinearJacobiMethod(\n",
    "    coefficients=equations_coefficients_matrix.copy(),\n",
    "    lhs=equations_lhs.copy(),\n",
    "    initial_guess=sp.zeros(equations_coefficients_matrix.shape[0],1),\n",
    ")\n",
    "\n",
    "jacob_solver_df = jacob_solver.run()"
   ],
   "id": "315dde9916ec42b8",
   "outputs": [
    {
     "name": "stdout",
     "output_type": "stream",
     "text": [
      "2025-03-23 14:38:54,064 - LinearJacobiMethod - INFO - Numerical.py:run:124 - Starting LinearJacobiMethod\n",
      "2025-03-23 14:38:54,066 - LinearJacobiMethod - INFO - Numerical.py:initialize:70 - Initial state:{'x1': 0, 'x2': 0, 'x3': 0, 'residual': 15.2970585407784}\n",
      "2025-03-23 14:38:54,068 - LinearJacobiMethod - INFO - Numerical.py:run:129 - Iteration 1 completed\n",
      "Stop condition [StopIfEqual: Stop when 'residual' equals 0 (abs_tol=1e-06) for 3 iterations] NOT met: Variable residual:15.2971 != 0 (abs diff: 15.2971 > 1e-06)\n",
      "2025-03-23 14:38:54,070 - LinearJacobiMethod - INFO - Numerical.py:run:134 - State: \n",
      "{'x1': 11/4, 'x2': 4/3, 'x3': 7/5, 'residual': 8.15074979509384}\n",
      "\n",
      "2025-03-23 14:38:54,072 - LinearJacobiMethod - INFO - Numerical.py:run:129 - Iteration 2 completed\n",
      "Stop condition [StopIfEqual: Stop when 'residual' equals 0 (abs_tol=1e-06) for 3 iterations] NOT met: Variable residual:8.15075 != 0 (abs diff: 8.15075 > 1e-06)\n",
      "2025-03-23 14:38:54,073 - LinearJacobiMethod - INFO - Numerical.py:run:134 - State: \n",
      "{'x1': 143/60, 'x2': 23/120, 'x3': 17/30, 'residual': 0.716569760890189}\n",
      "\n",
      "2025-03-23 14:38:54,074 - LinearJacobiMethod - INFO - Numerical.py:run:129 - Iteration 3 completed\n",
      "Stop condition [StopIfEqual: Stop when 'residual' equals 0 (abs_tol=1e-06) for 3 iterations] NOT met: Variable residual:0.71657 != 0 (abs diff: 0.71657 > 1e-06)\n",
      "2025-03-23 14:38:54,076 - LinearJacobiMethod - INFO - Numerical.py:run:134 - State: \n",
      "{'x1': 1207/480, 'x2': 17/72, 'x3': 97/200, 'residual': 0.562797332253235}\n",
      "\n",
      "2025-03-23 14:38:54,077 - LinearJacobiMethod - INFO - Numerical.py:run:129 - Iteration 4 completed\n",
      "Stop condition [StopIfEqual: Stop when 'residual' equals 0 (abs_tol=1e-06) for 3 iterations] NOT met: Variable residual:0.562797 != 0 (abs diff: 0.562797 > 1e-06)\n",
      "2025-03-23 14:38:54,078 - LinearJacobiMethod - INFO - Numerical.py:run:134 - State: \n",
      "{'x1': 18479/7200, 'x2': 251/1600, 'x3': 1589/3600, 'residual': 0.270881210155729}\n",
      "\n",
      "2025-03-23 14:38:54,080 - LinearJacobiMethod - INFO - Numerical.py:run:129 - Iteration 5 completed\n",
      "Stop condition [StopIfEqual: Stop when 'residual' equals 0 (abs_tol=1e-06) for 3 iterations] NOT met: Variable residual:0.270881 != 0 (abs diff: 0.270881 > 1e-06)\n",
      "2025-03-23 14:38:54,081 - LinearJacobiMethod - INFO - Numerical.py:run:134 - State: \n",
      "{'x1': 147947/57600, 'x2': 5341/43200, 'x3': 29143/72000, 'residual': 0.0693043947075676}\n",
      "\n",
      "2025-03-23 14:38:54,083 - LinearJacobiMethod - INFO - Numerical.py:run:129 - Iteration 6 completed\n",
      "Stop condition [StopIfEqual: Stop when 'residual' equals 0 (abs_tol=1e-06) for 3 iterations] NOT met: Variable residual:0.0693044 != 0 (abs diff: 0.0693044 > 1e-06)\n",
      "2025-03-23 14:38:54,084 - LinearJacobiMethod - INFO - Numerical.py:run:134 - State: \n",
      "{'x1': 2227847/864000, 'x2': 201367/1728000, 'x3': 171641/432000, 'residual': 0.0468857514033284}\n",
      "\n",
      "2025-03-23 14:38:54,085 - LinearJacobiMethod - INFO - Numerical.py:run:129 - Iteration 7 completed\n",
      "Stop condition [StopIfEqual: Stop when 'residual' equals 0 (abs_tol=1e-06) for 3 iterations] NOT met: Variable residual:0.0468858 != 0 (abs diff: 0.0468858 > 1e-06)\n",
      "2025-03-23 14:38:54,087 - LinearJacobiMethod - INFO - Numerical.py:run:134 - State: \n",
      "{'x1': 5945413/2304000, 'x2': 571741/5184000, 'x3': 3385979/8640000, 'residual': 0.0158377593658626}\n",
      "\n",
      "2025-03-23 14:38:54,088 - LinearJacobiMethod - INFO - Numerical.py:run:129 - Iteration 8 completed\n",
      "Stop condition [StopIfEqual: Stop when 'residual' equals 0 (abs_tol=1e-06) for 3 iterations] NOT met: Variable residual:0.0158378 != 0 (abs diff: 0.0158378 > 1e-06)\n",
      "2025-03-23 14:38:54,089 - LinearJacobiMethod - INFO - Numerical.py:run:134 - State: \n",
      "{'x1': 267662831/103680000, 'x2': 22480331/207360000, 'x3': 4042153/10368000, 'residual': 0.00722522121724122}\n",
      "\n",
      "2025-03-23 14:38:54,090 - LinearJacobiMethod - INFO - Numerical.py:run:129 - Iteration 9 completed\n",
      "Stop condition [StopIfEqual: Stop when 'residual' equals 0 (abs_tol=1e-06) for 3 iterations] NOT met: Variable residual:0.00722522 != 0 (abs diff: 0.00722522 > 1e-06)\n",
      "2025-03-23 14:38:54,091 - LinearJacobiMethod - INFO - Numerical.py:run:134 - State: \n",
      "{'x1': 2141754211/829440000, 'x2': 66873037/622080000, 'x3': 134449669/345600000, 'residual': 0.00326757240686040}\n",
      "\n",
      "2025-03-23 14:38:54,092 - LinearJacobiMethod - INFO - Numerical.py:run:129 - Iteration 10 completed\n",
      "Stop condition [StopIfEqual: Stop when 'residual' equals 0 (abs_tol=1e-06) for 3 iterations] NOT met: Variable residual:0.00326757 != 0 (abs diff: 0.00326757 > 1e-06)\n",
      "2025-03-23 14:38:54,093 - LinearJacobiMethod - INFO - Numerical.py:run:134 - State: \n",
      "{'x1': 32128671143/12441600000, 'x2': 888227621/8294400000, 'x3': 2417603441/6220800000, 'residual': 0.00130968763789680}\n",
      "\n",
      "2025-03-23 14:38:54,094 - LinearJacobiMethod - INFO - Numerical.py:run:129 - Iteration 11 completed\n",
      "Stop condition [StopIfEqual: Stop when 'residual' equals 0 (abs_tol=1e-06) for 3 iterations] NOT met: Variable residual:0.00130969 != 0 (abs diff: 0.00130969 > 1e-06)\n",
      "2025-03-23 14:38:54,096 - LinearJacobiMethod - INFO - Numerical.py:run:134 - State: \n",
      "{'x1': 51407811067/19906560000, 'x2': 7981993453/74649600000, 'x3': 48332398291/124416000000, 'residual': 0.000594397061006827}\n",
      "\n",
      "2025-03-23 14:38:54,098 - LinearJacobiMethod - INFO - Numerical.py:run:129 - Iteration 12 completed\n",
      "Stop condition [StopIfEqual: Stop when 'residual' equals 0 (abs_tol=1e-06) for 3 iterations] NOT met: Variable residual:0.000594397 != 0 (abs diff: 0.000594397 > 1e-06)\n",
      "2025-03-23 14:38:54,100 - LinearJacobiMethod - INFO - Numerical.py:run:134 - State: \n",
      "{'x1': 3855643577519/1492992000000, 'x2': 319055763139/2985984000000, 'x3': 289941220901/746496000000, 'residual': 0.000250660700642705}\n",
      "\n",
      "2025-03-23 14:38:54,102 - LinearJacobiMethod - INFO - Numerical.py:run:129 - Iteration 13 completed\n",
      "Stop condition [StopIfEqual: Stop when 'residual' equals 0 (abs_tol=1e-06) for 3 iterations] NOT met: Variable residual:0.000250661 != 0 (abs diff: 0.000250661 > 1e-06)\n",
      "2025-03-23 14:38:54,103 - LinearJacobiMethod - INFO - Numerical.py:run:134 - State: \n",
      "{'x1': 3427261110659/1327104000000, 'x2': 191377541849/1791590400000, 'x3': 5798369453063/14929920000000, 'residual': 0.000108027358510755}\n",
      "\n",
      "2025-03-23 14:38:54,104 - LinearJacobiMethod - INFO - Numerical.py:run:129 - Iteration 14 completed\n",
      "Stop condition [StopIfEqual: Stop when 'residual' equals 0 (abs_tol=1e-06) for 3 iterations] NOT met: Variable residual:0.000108027 != 0 (abs diff: 0.000108027 > 1e-06)\n",
      "2025-03-23 14:38:54,106 - LinearJacobiMethod - INFO - Numerical.py:run:134 - State: \n",
      "{'x1': 462681581827847/179159040000000, 'x2': 38270667873287/358318080000000, 'x3': 34789053430697/89579520000000, 'residual': 4.69666861548273e-5}\n",
      "\n",
      "2025-03-23 14:38:54,108 - LinearJacobiMethod - INFO - Numerical.py:run:129 - Iteration 15 completed\n",
      "Stop condition [StopIfEqual: Stop when 'residual' equals 0 (abs_tol=1e-06) for 3 iterations] NOT met: Variable residual:4.69667e-05 != 0 (abs diff: 4.69667e-05 > 1e-06)\n",
      "2025-03-23 14:38:54,110 - LinearJacobiMethod - INFO - Numerical.py:run:134 - State: \n",
      "{'x1': 3701457120427711/1433272320000000, 'x2': 114805681377853/1074954240000000, 'x3': 77307877840211/199065600000000, 'residual': 2.00580879194584e-5}\n",
      "\n",
      "2025-03-23 14:38:54,112 - LinearJacobiMethod - INFO - Numerical.py:run:129 - Iteration 16 completed\n",
      "Stop condition [StopIfEqual: Stop when 'residual' equals 0 (abs_tol=1e-06) for 3 iterations] NOT met: Variable residual:2.00581e-05 != 0 (abs diff: 2.00581e-05 > 1e-06)\n",
      "2025-03-23 14:38:54,114 - LinearJacobiMethod - INFO - Numerical.py:run:134 - State: \n",
      "{'x1': 55521886203517871/21499084800000000, 'x2': 1530706531943977/14332723200000000, 'x3': 4174599361472573/10749542400000000, 'residual': 8.68885463373285e-6}\n",
      "\n",
      "2025-03-23 14:38:54,116 - LinearJacobiMethod - INFO - Numerical.py:run:129 - Iteration 17 completed\n",
      "Stop condition [StopIfEqual: Stop when 'residual' equals 0 (abs_tol=1e-06) for 3 iterations] NOT met: Variable residual:8.68885e-06 != 0 (abs diff: 8.68885e-06 > 1e-06)\n",
      "2025-03-23 14:38:54,117 - LinearJacobiMethod - INFO - Numerical.py:run:134 - State: \n",
      "{'x1': 444175190304051347/171992678400000000, 'x2': 13776218512391533/128994508800000000, 'x3': 83491761981760447/214990848000000000, 'residual': 3.73848874323373e-6}\n",
      "\n",
      "2025-03-23 14:38:54,118 - LinearJacobiMethod - INFO - Numerical.py:run:129 - Iteration 18 completed\n",
      "Stop condition [StopIfEqual: Stop when 'residual' equals 0 (abs_tol=1e-06) for 3 iterations] NOT met: Variable residual:3.73849e-06 != 0 (abs diff: 3.73849e-06 > 1e-06)\n",
      "2025-03-23 14:38:54,119 - LinearJacobiMethod - INFO - Numerical.py:run:134 - State: \n",
      "{'x1': 6662628504671394983/2579890176000000000, 'x2': 551046329366271583/5159780352000000000, 'x3': 20037999572505161/51597803520000000, 'residual': 1.60989255886622e-6}\n",
      "\n",
      "2025-03-23 14:38:54,121 - LinearJacobiMethod - INFO - Numerical.py:run:129 - Iteration 19 completed\n",
      "Stop condition [StopIfEqual: Stop when 'residual' equals 0 (abs_tol=1e-06) for 3 iterations] NOT met: Variable residual:1.60989e-06 != 0 (abs diff: 1.60989e-06 > 1e-06)\n",
      "2025-03-23 14:38:54,123 - LinearJacobiMethod - INFO - Numerical.py:run:134 - State: \n",
      "{'x1': 17767010095621746461/6879707136000000000, 'x2': 1653135872611073101/15479341056000000000, 'x3': 10018994774680691651/25798901760000000000, 'residual': 6.94631249212769e-7}\n",
      "\n",
      "2025-03-23 14:38:54,125 - LinearJacobiMethod - INFO - Numerical.py:run:129 - Iteration 20 completed\n",
      "Stop condition [StopIfEqual: Stop when 'residual' equals 0 (abs_tol=1e-06) for 3 iterations] NOT met: Variable residual:6.94631e-07 matches target 0 (abs diff: 6.94631e-07 ≤ 1e-06) (1/3 iterations)\n",
      "2025-03-23 14:38:54,127 - LinearJacobiMethod - INFO - Numerical.py:run:134 - State: \n",
      "{'x1': 799515468794971215599/309586821120000000000, 'x2': 66125381115744175859/619173642240000000000, 'x3': 60113955668626428053/154793410560000000000, 'residual': 2.99021248420569e-7}\n",
      "\n",
      "2025-03-23 14:38:54,129 - LinearJacobiMethod - INFO - Numerical.py:run:129 - Iteration 21 completed\n",
      "Stop condition [StopIfEqual: Stop when 'residual' equals 0 (abs_tol=1e-06) for 3 iterations] NOT met: Variable residual:2.99021e-07 matches target 0 (abs diff: 2.99021e-07 ≤ 1e-06) (2/3 iterations)\n",
      "2025-03-23 14:38:54,130 - LinearJacobiMethod - INFO - Numerical.py:run:134 - State: \n",
      "{'x1': 1279224760081346550287/495338913792000000000, 'x2': 198376073912339209309/1857520926720000000000, 'x3': 400759667205286437821/1031956070400000000000, 'residual': 1.28914777648771e-7}\n",
      "\n",
      "2025-03-23 14:38:54,132 - LinearJacobiMethod - INFO - Numerical.py:run:129 - Stop condition [StopIfEqual: Stop when 'residual' equals 0 (abs_tol=1e-06) for 3 iterations] MET    : Variable residual:1.28915e-07 reached target 0 (abs diff: 1.28915e-07 ≤ 1e-06) for 3 iterations\n",
      "2025-03-23 14:38:54,133 - LinearJacobiMethod - INFO - Numerical.py:run:134 - State: \n",
      "{'x1': 95941857329466540165767/37150418534400000000000, 'x2': 881671306529160664703/8255648563200000000000, 'x3': 7213673720684480164313/18575209267200000000000, 'residual': 5.55483390327505e-8}\n",
      "\n"
     ]
    }
   ],
   "execution_count": 9
  },
  {
   "metadata": {
    "ExecuteTime": {
     "end_time": "2025-03-23T11:40:04.784185Z",
     "start_time": "2025-03-23T11:40:04.756407Z"
    }
   },
   "cell_type": "code",
   "source": "jacob_solver_df.astype(float)",
   "id": "1c02a390d4d9f2a2",
   "outputs": [
    {
     "data": {
      "text/plain": [
       "          x1        x2        x3      residual\n",
       "0   0.000000  0.000000  0.000000  1.529706e+01\n",
       "1   2.750000  1.333333  1.400000  8.150750e+00\n",
       "2   2.383333  0.191667  0.566667  7.165698e-01\n",
       "3   2.514583  0.236111  0.485000  5.627973e-01\n",
       "4   2.566528  0.156875  0.441389  2.708812e-01\n",
       "5   2.568524  0.123634  0.404764  6.930439e-02\n",
       "6   2.578527  0.116532  0.397317  4.688575e-02\n",
       "7   2.580474  0.110290  0.391896  1.583776e-02\n",
       "8   2.581625  0.108412  0.389868  7.225221e-03\n",
       "9   2.582169  0.107499  0.389033  3.267572e-03\n",
       "10  2.582358  0.107088  0.388632  1.309688e-03\n",
       "11  2.582456  0.106926  0.388474  5.943971e-04\n",
       "12  2.582494  0.106851  0.388403  2.506607e-04\n",
       "13  2.582511  0.106820  0.388372  1.080274e-04\n",
       "14  2.582519  0.106806  0.388359  4.696669e-05\n",
       "15  2.582522  0.106801  0.388354  2.005809e-05\n",
       "16  2.582523  0.106798  0.388351  8.688855e-06\n",
       "17  2.582524  0.106797  0.388350  3.738489e-06\n",
       "18  2.582524  0.106796  0.388350  1.609893e-06\n",
       "19  2.582524  0.106796  0.388350  6.946312e-07\n",
       "20  2.582524  0.106796  0.388350  2.990212e-07\n",
       "21  2.582524  0.106796  0.388350  1.289148e-07\n",
       "22  2.582524  0.106796  0.388350  5.554834e-08"
      ],
      "text/html": [
       "<div>\n",
       "<style scoped>\n",
       "    .dataframe tbody tr th:only-of-type {\n",
       "        vertical-align: middle;\n",
       "    }\n",
       "\n",
       "    .dataframe tbody tr th {\n",
       "        vertical-align: top;\n",
       "    }\n",
       "\n",
       "    .dataframe thead th {\n",
       "        text-align: right;\n",
       "    }\n",
       "</style>\n",
       "<table border=\"1\" class=\"dataframe\">\n",
       "  <thead>\n",
       "    <tr style=\"text-align: right;\">\n",
       "      <th></th>\n",
       "      <th>x1</th>\n",
       "      <th>x2</th>\n",
       "      <th>x3</th>\n",
       "      <th>residual</th>\n",
       "    </tr>\n",
       "  </thead>\n",
       "  <tbody>\n",
       "    <tr>\n",
       "      <th>0</th>\n",
       "      <td>0.000000</td>\n",
       "      <td>0.000000</td>\n",
       "      <td>0.000000</td>\n",
       "      <td>1.529706e+01</td>\n",
       "    </tr>\n",
       "    <tr>\n",
       "      <th>1</th>\n",
       "      <td>2.750000</td>\n",
       "      <td>1.333333</td>\n",
       "      <td>1.400000</td>\n",
       "      <td>8.150750e+00</td>\n",
       "    </tr>\n",
       "    <tr>\n",
       "      <th>2</th>\n",
       "      <td>2.383333</td>\n",
       "      <td>0.191667</td>\n",
       "      <td>0.566667</td>\n",
       "      <td>7.165698e-01</td>\n",
       "    </tr>\n",
       "    <tr>\n",
       "      <th>3</th>\n",
       "      <td>2.514583</td>\n",
       "      <td>0.236111</td>\n",
       "      <td>0.485000</td>\n",
       "      <td>5.627973e-01</td>\n",
       "    </tr>\n",
       "    <tr>\n",
       "      <th>4</th>\n",
       "      <td>2.566528</td>\n",
       "      <td>0.156875</td>\n",
       "      <td>0.441389</td>\n",
       "      <td>2.708812e-01</td>\n",
       "    </tr>\n",
       "    <tr>\n",
       "      <th>5</th>\n",
       "      <td>2.568524</td>\n",
       "      <td>0.123634</td>\n",
       "      <td>0.404764</td>\n",
       "      <td>6.930439e-02</td>\n",
       "    </tr>\n",
       "    <tr>\n",
       "      <th>6</th>\n",
       "      <td>2.578527</td>\n",
       "      <td>0.116532</td>\n",
       "      <td>0.397317</td>\n",
       "      <td>4.688575e-02</td>\n",
       "    </tr>\n",
       "    <tr>\n",
       "      <th>7</th>\n",
       "      <td>2.580474</td>\n",
       "      <td>0.110290</td>\n",
       "      <td>0.391896</td>\n",
       "      <td>1.583776e-02</td>\n",
       "    </tr>\n",
       "    <tr>\n",
       "      <th>8</th>\n",
       "      <td>2.581625</td>\n",
       "      <td>0.108412</td>\n",
       "      <td>0.389868</td>\n",
       "      <td>7.225221e-03</td>\n",
       "    </tr>\n",
       "    <tr>\n",
       "      <th>9</th>\n",
       "      <td>2.582169</td>\n",
       "      <td>0.107499</td>\n",
       "      <td>0.389033</td>\n",
       "      <td>3.267572e-03</td>\n",
       "    </tr>\n",
       "    <tr>\n",
       "      <th>10</th>\n",
       "      <td>2.582358</td>\n",
       "      <td>0.107088</td>\n",
       "      <td>0.388632</td>\n",
       "      <td>1.309688e-03</td>\n",
       "    </tr>\n",
       "    <tr>\n",
       "      <th>11</th>\n",
       "      <td>2.582456</td>\n",
       "      <td>0.106926</td>\n",
       "      <td>0.388474</td>\n",
       "      <td>5.943971e-04</td>\n",
       "    </tr>\n",
       "    <tr>\n",
       "      <th>12</th>\n",
       "      <td>2.582494</td>\n",
       "      <td>0.106851</td>\n",
       "      <td>0.388403</td>\n",
       "      <td>2.506607e-04</td>\n",
       "    </tr>\n",
       "    <tr>\n",
       "      <th>13</th>\n",
       "      <td>2.582511</td>\n",
       "      <td>0.106820</td>\n",
       "      <td>0.388372</td>\n",
       "      <td>1.080274e-04</td>\n",
       "    </tr>\n",
       "    <tr>\n",
       "      <th>14</th>\n",
       "      <td>2.582519</td>\n",
       "      <td>0.106806</td>\n",
       "      <td>0.388359</td>\n",
       "      <td>4.696669e-05</td>\n",
       "    </tr>\n",
       "    <tr>\n",
       "      <th>15</th>\n",
       "      <td>2.582522</td>\n",
       "      <td>0.106801</td>\n",
       "      <td>0.388354</td>\n",
       "      <td>2.005809e-05</td>\n",
       "    </tr>\n",
       "    <tr>\n",
       "      <th>16</th>\n",
       "      <td>2.582523</td>\n",
       "      <td>0.106798</td>\n",
       "      <td>0.388351</td>\n",
       "      <td>8.688855e-06</td>\n",
       "    </tr>\n",
       "    <tr>\n",
       "      <th>17</th>\n",
       "      <td>2.582524</td>\n",
       "      <td>0.106797</td>\n",
       "      <td>0.388350</td>\n",
       "      <td>3.738489e-06</td>\n",
       "    </tr>\n",
       "    <tr>\n",
       "      <th>18</th>\n",
       "      <td>2.582524</td>\n",
       "      <td>0.106796</td>\n",
       "      <td>0.388350</td>\n",
       "      <td>1.609893e-06</td>\n",
       "    </tr>\n",
       "    <tr>\n",
       "      <th>19</th>\n",
       "      <td>2.582524</td>\n",
       "      <td>0.106796</td>\n",
       "      <td>0.388350</td>\n",
       "      <td>6.946312e-07</td>\n",
       "    </tr>\n",
       "    <tr>\n",
       "      <th>20</th>\n",
       "      <td>2.582524</td>\n",
       "      <td>0.106796</td>\n",
       "      <td>0.388350</td>\n",
       "      <td>2.990212e-07</td>\n",
       "    </tr>\n",
       "    <tr>\n",
       "      <th>21</th>\n",
       "      <td>2.582524</td>\n",
       "      <td>0.106796</td>\n",
       "      <td>0.388350</td>\n",
       "      <td>1.289148e-07</td>\n",
       "    </tr>\n",
       "    <tr>\n",
       "      <th>22</th>\n",
       "      <td>2.582524</td>\n",
       "      <td>0.106796</td>\n",
       "      <td>0.388350</td>\n",
       "      <td>5.554834e-08</td>\n",
       "    </tr>\n",
       "  </tbody>\n",
       "</table>\n",
       "</div>"
      ]
     },
     "execution_count": 12,
     "metadata": {},
     "output_type": "execute_result"
    }
   ],
   "execution_count": 12
  },
  {
   "metadata": {},
   "cell_type": "code",
   "outputs": [],
   "execution_count": null,
   "source": "",
   "id": "155064eda4a0d291"
  }
 ],
 "metadata": {
  "kernelspec": {
   "display_name": "Python 3",
   "language": "python",
   "name": "python3"
  },
  "language_info": {
   "codemirror_mode": {
    "name": "ipython",
    "version": 2
   },
   "file_extension": ".py",
   "mimetype": "text/x-python",
   "name": "python",
   "nbconvert_exporter": "python",
   "pygments_lexer": "ipython2",
   "version": "2.7.6"
  }
 },
 "nbformat": 4,
 "nbformat_minor": 5
}
