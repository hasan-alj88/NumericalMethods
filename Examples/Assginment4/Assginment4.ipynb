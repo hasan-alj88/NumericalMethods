{
 "cells": [
  {
   "cell_type": "markdown",
   "id": "7d8df656bff067fd",
   "metadata": {},
   "source": [
    "# Assignment #4\n",
    "\n",
    "Solve systems of linear equations using the following numerical methods:\n",
    "\n",
    "1. Gauss Elimination\n",
    "2. LU Factorization\n",
    "3. Jacobi Method\n",
    "4. Gauss-Seidel Iterative Method\n",
    "Each method must be implemented in MATLAB/ Python.\n",
    "\n",
    "Compare the methods based on the following criteria:\n",
    "- Accuracy: Compare the final numerical solutions.\n",
    "- Computational Efficiency: Measure the number of operations/iterations required.\n",
    "- Stability: Discuss if the method is sensitive to rounding errors.\n",
    "- Applicability: When is each method preferable?"
   ]
  },
  {
   "cell_type": "code",
   "id": "2608b1ef53550665",
   "metadata": {
    "ExecuteTime": {
     "end_time": "2025-03-24T16:57:39.462851Z",
     "start_time": "2025-03-24T16:57:39.459890Z"
    }
   },
   "source": [
    "import pandas as pd\n",
    "import sympy as sp\n",
    "import numpy as np\n",
    "from IPython.display import display, Math\n",
    "\n",
    "from StopConditions.StopAtPlateau import StopAtPlateau\n",
    "from utils.LaTeXTools import numpy_to_latex_gauss\n",
    "from SolveEquations.LinearJacobiMethod import LinearJacobiMethod\n",
    "from SolveEquations.LinearGaussSeidelMethod import LinearGaussSeidelMethod\n",
    "from SolveEquations.LinearEquations import gauss_naive, lu_decomposition_linear_solver\n",
    "from utils.LaTeXTools import df_to_latex\n",
    "from pathlib import Path\n",
    "import time"
   ],
   "outputs": [],
   "execution_count": 15
  },
  {
   "metadata": {
    "ExecuteTime": {
     "end_time": "2025-03-24T16:57:39.561176Z",
     "start_time": "2025-03-24T16:57:39.557105Z"
    }
   },
   "cell_type": "code",
   "source": [
    "class timer:\n",
    "    def __enter__(self):\n",
    "        self.start = time.time()\n",
    "        return self\n",
    "\n",
    "    def __exit__(self, *args):\n",
    "        self.end = time.time()\n",
    "        # Convert seconds to milliseconds (1 second = 1000 milliseconds)\n",
    "        self.interval = (self.end - self.start) * 1000\n",
    "\n",
    "timing_data = dict()"
   ],
   "id": "a6b73f2d01c01361",
   "outputs": [],
   "execution_count": 16
  },
  {
   "cell_type": "code",
   "id": "initial_id",
   "metadata": {
    "collapsed": true,
    "jupyter": {
     "outputs_hidden": true
    },
    "ExecuteTime": {
     "end_time": "2025-03-24T16:57:39.615877Z",
     "start_time": "2025-03-24T16:57:39.606474Z"
    }
   },
   "source": [
    "# Linear equation in Matrix form\n",
    "# columns are x_1, x_2,...,x_n, LHS\n",
    "equations_augmented_matrix= sp.Matrix([\n",
    "    [4,-1,2,11],\n",
    "    [3,6,-1,8],\n",
    "    [2,-1,5,7]\n",
    "])\n",
    "equations_coefficients_matrix= equations_augmented_matrix[:,:-1]\n",
    "equations_lhs = equations_augmented_matrix[:,-1]\n",
    "x_sym = sp.symbols(f'x_{{1:{equations_coefficients_matrix.shape[1]+1}}}')\n",
    "x_sym_matrix = sp.Matrix(x_sym)\n",
    "display(Math(\n",
    "    f'{sp.latex(equations_coefficients_matrix)} '\n",
    "    f'{sp.latex(x_sym_matrix)} = '\n",
    "    f'{sp.latex(equations_lhs)}'\n",
    "))"
   ],
   "outputs": [
    {
     "data": {
      "text/plain": [
       "<IPython.core.display.Math object>"
      ],
      "text/latex": "$\\displaystyle \\left[\\begin{matrix}4 & -1 & 2\\\\3 & 6 & -1\\\\2 & -1 & 5\\end{matrix}\\right] \\left[\\begin{matrix}x_{1}\\\\x_{2}\\\\x_{3}\\end{matrix}\\right] = \\left[\\begin{matrix}11\\\\8\\\\7\\end{matrix}\\right]$"
     },
     "metadata": {},
     "output_type": "display_data"
    }
   ],
   "execution_count": 17
  },
  {
   "cell_type": "code",
   "id": "99baa0f02f02167f",
   "metadata": {
    "ExecuteTime": {
     "end_time": "2025-03-24T16:57:39.676606Z",
     "start_time": "2025-03-24T16:57:39.667288Z"
    }
   },
   "source": [
    "# Display Linear equations\n",
    "sp.Eq(equations_coefficients_matrix * x_sym_matrix, equations_lhs)"
   ],
   "outputs": [
    {
     "data": {
      "text/plain": [
       "Eq(Matrix([\n",
       "[4*x_{1} - x_{2} + 2*x_{3}],\n",
       "[3*x_{1} + 6*x_{2} - x_{3}],\n",
       "[2*x_{1} - x_{2} + 5*x_{3}]]), Matrix([\n",
       "[11],\n",
       "[ 8],\n",
       "[ 7]]))"
      ],
      "text/latex": "$\\displaystyle \\left[\\begin{matrix}4 x_{1} - x_{2} + 2 x_{3}\\\\3 x_{1} + 6 x_{2} - x_{3}\\\\2 x_{1} - x_{2} + 5 x_{3}\\end{matrix}\\right] = \\left[\\begin{matrix}11\\\\8\\\\7\\end{matrix}\\right]$"
     },
     "execution_count": 18,
     "metadata": {},
     "output_type": "execute_result"
    }
   ],
   "execution_count": 18
  },
  {
   "cell_type": "markdown",
   "id": "b75c56bcbe4a732a",
   "metadata": {},
   "source": [
    "## Gauss Elimination"
   ]
  },
  {
   "cell_type": "code",
   "id": "41dcb1d95e2d134c",
   "metadata": {
    "ExecuteTime": {
     "end_time": "2025-03-24T16:57:39.730329Z",
     "start_time": "2025-03-24T16:57:39.724717Z"
    }
   },
   "source": [
    "gauss_elem_aug = equations_augmented_matrix.copy()\n",
    "display(Math(numpy_to_latex_gauss(gauss_elem_aug)))"
   ],
   "outputs": [
    {
     "data": {
      "text/plain": [
       "<IPython.core.display.Math object>"
      ],
      "text/latex": "$\\displaystyle \n\\left[\\begin{array}{ccc|c}\n  4 & -1 & 2 & 11 \\\\ \n  3 & 6 & -1 & 8 \\\\ \n  2 & -1 & 5 & 7 \\\\ \n\\end{array}\\right]\n$"
     },
     "metadata": {},
     "output_type": "display_data"
    }
   ],
   "execution_count": 19
  },
  {
   "metadata": {
    "ExecuteTime": {
     "end_time": "2025-03-24T16:57:39.777263Z",
     "start_time": "2025-03-24T16:57:39.774649Z"
    }
   },
   "cell_type": "code",
   "source": "",
   "id": "3533c78f5b005a0f",
   "outputs": [],
   "execution_count": null
  },
  {
   "cell_type": "code",
   "id": "2d312f8da6b7196",
   "metadata": {
    "ExecuteTime": {
     "end_time": "2025-03-24T16:57:39.841332Z",
     "start_time": "2025-03-24T16:57:39.824686Z"
    }
   },
   "source": [
    "with timer() as t:\n",
    "    gauss_naive_solution = gauss_naive(\n",
    "        a=equations_coefficients_matrix.copy(),\n",
    "        b=equations_lhs.copy(),\n",
    "        verbose=True\n",
    "    )\n",
    "\n",
    "timing_data['Gauss'] = t.interval"
   ],
   "outputs": [
    {
     "data": {
      "text/plain": [
       "<IPython.core.display.Markdown object>"
      ],
      "text/markdown": "**Forward Elimination**"
     },
     "metadata": {},
     "output_type": "display_data"
    },
    {
     "data": {
      "text/plain": [
       "<IPython.core.display.Math object>"
      ],
      "text/latex": "$\\displaystyle \n\\left[\\begin{array}{ccc|c}\n  4 & -1 & 2 & 11 \\\\ \n  0 & 27/4 & -5/2 & -1/4 \\\\ \n  0 & -1/2 & 4 & 3/2 \\\\ \n\\end{array}\\right]\n$"
     },
     "metadata": {},
     "output_type": "display_data"
    },
    {
     "data": {
      "text/plain": [
       "<IPython.core.display.Math object>"
      ],
      "text/latex": "$\\displaystyle \n\\left[\\begin{array}{ccc|c}\n  4 & -1 & 2 & 11 \\\\ \n  0 & 27/4 & -5/2 & -1/4 \\\\ \n  0 & 0 & 103/27 & 40/27 \\\\ \n\\end{array}\\right]\n$"
     },
     "metadata": {},
     "output_type": "display_data"
    },
    {
     "data": {
      "text/plain": [
       "<IPython.core.display.Markdown object>"
      ],
      "text/markdown": "**Back Substitution**"
     },
     "metadata": {},
     "output_type": "display_data"
    },
    {
     "data": {
      "text/plain": [
       "<IPython.core.display.Math object>"
      ],
      "text/latex": "$\\displaystyle \n\\left[\\begin{array}{ccc|c}\n  4 & -1 & 2 & 11 \\\\ \n  0 & 27/4 & -5/2 & -1/4 \\\\ \n  0 & 0 & 103/27 & 40/27 \\\\ \n\\end{array}\\right]\n$"
     },
     "metadata": {},
     "output_type": "display_data"
    },
    {
     "data": {
      "text/plain": [
       "<IPython.core.display.Markdown object>"
      ],
      "text/markdown": "**Solution Vector**"
     },
     "metadata": {},
     "output_type": "display_data"
    },
    {
     "data": {
      "text/plain": [
       "<IPython.core.display.Math object>"
      ],
      "text/latex": "$\\displaystyle \\begin{bmatrix}\nx_{1} \\\\\nx_{2} \\\\\nx_{3} \\\\\n\\end{bmatrix} = \\begin{bmatrix}\n266/103 \\\\\n11/103 \\\\\n40/103 \\\\\n\\end{bmatrix} = \\left[\\begin{matrix}2.582524272\\\\0.1067961165\\\\0.3883495146\\end{matrix}\\right]$"
     },
     "metadata": {},
     "output_type": "display_data"
    }
   ],
   "execution_count": 20
  },
  {
   "cell_type": "code",
   "id": "7560f6102ed7b218",
   "metadata": {
    "ExecuteTime": {
     "end_time": "2025-03-24T16:57:39.916220Z",
     "start_time": "2025-03-24T16:57:39.910688Z"
    }
   },
   "source": [
    "gauss_naive_solution.evalf(10)"
   ],
   "outputs": [
    {
     "data": {
      "text/plain": [
       "Matrix([\n",
       "[ 2.582524272],\n",
       "[0.1067961165],\n",
       "[0.3883495146]])"
      ],
      "text/latex": "$\\displaystyle \\left[\\begin{matrix}2.582524272\\\\0.1067961165\\\\0.3883495146\\end{matrix}\\right]$"
     },
     "execution_count": 21,
     "metadata": {},
     "output_type": "execute_result"
    }
   ],
   "execution_count": 21
  },
  {
   "cell_type": "markdown",
   "id": "186a3f1e42fe4a22",
   "metadata": {},
   "source": [
    "## LU Decomposition"
   ]
  },
  {
   "cell_type": "code",
   "id": "10385c75acf236dc",
   "metadata": {
    "ExecuteTime": {
     "end_time": "2025-03-24T16:57:40.011099Z",
     "start_time": "2025-03-24T16:57:39.984817Z"
    }
   },
   "source": [
    "with timer() as t:\n",
    "    lu_decomposition_solution = lu_decomposition_linear_solver(\n",
    "        a=equations_coefficients_matrix.copy(),\n",
    "        b=equations_lhs.copy(),\n",
    "        verbose=True\n",
    "    )\n",
    "\n",
    "# Save the timing result\n",
    "timing_data['LU Decomposition'] = t.interval"
   ],
   "outputs": [
    {
     "data": {
      "text/plain": [
       "<IPython.core.display.Markdown object>"
      ],
      "text/markdown": "**LU Decomposition**"
     },
     "metadata": {},
     "output_type": "display_data"
    },
    {
     "data": {
      "text/plain": [
       "<IPython.core.display.Math object>"
      ],
      "text/latex": "$\\displaystyle \\left[\\begin{matrix}4 & -1 & 2\\\\3 & 6 & -1\\\\2 & -1 & 5\\end{matrix}\\right]\\left[\\begin{matrix}x_{1}\\\\x_{2}\\\\x_{3}\\end{matrix}\\right] = \\left[\\begin{matrix}11\\\\8\\\\7\\end{matrix}\\right]$"
     },
     "metadata": {},
     "output_type": "display_data"
    },
    {
     "data": {
      "text/plain": [
       "<IPython.core.display.Math object>"
      ],
      "text/latex": "$\\displaystyle \\left[\\begin{matrix}1 & 0 & 0\\\\\\frac{3}{4} & 1 & 0\\\\\\frac{1}{2} & - \\frac{2}{27} & 1\\end{matrix}\\right]\\left[\\begin{matrix}4 & -1 & 2\\\\0 & \\frac{27}{4} & - \\frac{5}{2}\\\\0 & 0 & \\frac{103}{27}\\end{matrix}\\right]\\left[\\begin{matrix}x_{1}\\\\x_{2}\\\\x_{3}\\end{matrix}\\right] = \\left[\\begin{matrix}11\\\\8\\\\7\\end{matrix}\\right]$"
     },
     "metadata": {},
     "output_type": "display_data"
    },
    {
     "data": {
      "text/plain": [
       "<IPython.core.display.Markdown object>"
      ],
      "text/markdown": "**$Ly=b$ forward substitution**"
     },
     "metadata": {},
     "output_type": "display_data"
    },
    {
     "data": {
      "text/plain": [
       "<IPython.core.display.Math object>"
      ],
      "text/latex": "$\\displaystyle \\left[\\begin{matrix}1 & 0 & 0\\\\\\frac{3}{4} & 1 & 0\\\\\\frac{1}{2} & - \\frac{2}{27} & 1\\end{matrix}\\right]\\left[\\begin{matrix}y_{1}\\\\y_{2}\\\\y_{3}\\end{matrix}\\right] = \\left[\\begin{matrix}11\\\\8\\\\7\\end{matrix}\\right]$"
     },
     "metadata": {},
     "output_type": "display_data"
    },
    {
     "data": {
      "text/plain": [
       "<IPython.core.display.Math object>"
      ],
      "text/latex": "$\\displaystyle \\left[\\begin{matrix}y_{1}\\\\y_{2}\\\\y_{3}\\end{matrix}\\right] = \\left[\\begin{matrix}11\\\\- \\frac{1}{4}\\\\\\frac{40}{27}\\end{matrix}\\right]$"
     },
     "metadata": {},
     "output_type": "display_data"
    },
    {
     "data": {
      "text/plain": [
       "<IPython.core.display.Markdown object>"
      ],
      "text/markdown": "**$Lx=y$ back substitution**"
     },
     "metadata": {},
     "output_type": "display_data"
    },
    {
     "data": {
      "text/plain": [
       "<IPython.core.display.Math object>"
      ],
      "text/latex": "$\\displaystyle \\left[\\begin{matrix}1 & 0 & 0\\\\\\frac{3}{4} & 1 & 0\\\\\\frac{1}{2} & - \\frac{2}{27} & 1\\end{matrix}\\right]\\left[\\begin{matrix}x_{1}\\\\x_{2}\\\\x_{3}\\end{matrix}\\right] = \\left[\\begin{matrix}11\\\\- \\frac{1}{4}\\\\\\frac{40}{27}\\end{matrix}\\right]$"
     },
     "metadata": {},
     "output_type": "display_data"
    },
    {
     "data": {
      "text/plain": [
       "<IPython.core.display.Markdown object>"
      ],
      "text/markdown": "**Solution Vector**"
     },
     "metadata": {},
     "output_type": "display_data"
    },
    {
     "data": {
      "text/plain": [
       "<IPython.core.display.Math object>"
      ],
      "text/latex": "$\\displaystyle \\left[\\begin{matrix}x_{1}\\\\x_{2}\\\\x_{3}\\end{matrix}\\right] = \\left[\\begin{matrix}\\frac{266}{103}\\\\\\frac{11}{103}\\\\\\frac{40}{103}\\end{matrix}\\right] =\\left[\\begin{matrix}2.58252\\\\0.106796\\\\0.38835\\end{matrix}\\right]$"
     },
     "metadata": {},
     "output_type": "display_data"
    }
   ],
   "execution_count": 22
  },
  {
   "cell_type": "markdown",
   "id": "e0acac0120ff6702",
   "metadata": {},
   "source": [
    "## LinearJacobiMethod"
   ]
  },
  {
   "cell_type": "code",
   "id": "315dde9916ec42b8",
   "metadata": {
    "ExecuteTime": {
     "end_time": "2025-03-24T16:57:40.203273Z",
     "start_time": "2025-03-24T16:57:40.100035Z"
    }
   },
   "source": [
    "jacob_solver = LinearJacobiMethod(\n",
    "    coefficients=np.array(equations_coefficients_matrix.evalf(15).copy(), dtype=float),\n",
    "    lhs=np.array(equations_lhs.evalf(15), dtype=float).copy(),\n",
    "    initial_guess=np.zeros((equations_coefficients_matrix.shape[0],1), dtype=float),\n",
    "    stop_conditions=[\n",
    "        StopAtPlateau(tracking='residual', patience=5, absolute_tolerance=1e-6),\n",
    "    ]\n",
    ")\n",
    "\n",
    "with timer() as t:\n",
    "    jacob_solver_df = jacob_solver.run()\n",
    "\n",
    "timing_data['jacob method'] = t.interval"
   ],
   "outputs": [
    {
     "name": "stdout",
     "output_type": "stream",
     "text": [
      "2025-03-24 19:57:40,103 - LinearJacobiMethod - INFO - Numerical.py:run:124 - Starting LinearJacobiMethod\n",
      "2025-03-24 19:57:40,106 - LinearJacobiMethod - INFO - Numerical.py:initialize:70 - Initial state:{'x1': 0.0, 'x2': 0.0, 'x3': 0.0, 'residual': 15.297058540778355}\n",
      "2025-03-24 19:57:40,107 - LinearJacobiMethod - INFO - Numerical.py:run:129 - Iteration 1 completed\n",
      "Stop condition [StopAtPlateau: Stop when 'residual' plateaus (abs_tol=1e-06) for 5 iterations] NOT met: Not enough iterations to determine plateau\n",
      "Stop condition [StopIfEqual: Stop when 'residual' equals 0 (abs_tol=1e-06) for 3 iterations] NOT met: Variable residual:15.2971 != 0 (abs diff: 15.2971 > 1e-06)\n",
      "2025-03-24 19:57:40,109 - LinearJacobiMethod - INFO - Numerical.py:run:134 - State: \n",
      "{'x1': Decimal('2.75'), 'x2': Decimal('1.333333333333333333333333333'), 'x3': Decimal('1.4'), 'residual': 8.150749795093837}\n",
      "\n",
      "2025-03-24 19:57:40,112 - LinearJacobiMethod - INFO - Numerical.py:run:129 - Iteration 2 completed\n",
      "Stop condition [StopAtPlateau: Stop when 'residual' plateaus (abs_tol=1e-06) for 5 iterations] NOT met: Change detected in 'residual': 15.2971 → 8.15075, abs diff: 7.14631 > 1e-06\n",
      "Stop condition [StopIfEqual: Stop when 'residual' equals 0 (abs_tol=1e-06) for 3 iterations] NOT met: Variable residual:8.15075 != 0 (abs diff: 8.15075 > 1e-06)\n",
      "2025-03-24 19:57:40,113 - LinearJacobiMethod - INFO - Numerical.py:run:134 - State: \n",
      "{'x1': Decimal('2.383333333333333333333333333'), 'x2': Decimal('0.1916666666666666666666666667'), 'x3': Decimal('0.5666666666666666666666666666'), 'residual': 0.7165697608901888}\n",
      "\n",
      "2025-03-24 19:57:40,116 - LinearJacobiMethod - INFO - Numerical.py:run:129 - Iteration 3 completed\n",
      "Stop condition [StopAtPlateau: Stop when 'residual' plateaus (abs_tol=1e-06) for 5 iterations] NOT met: Change detected in 'residual': 8.15075 → 0.71657, abs diff: 7.43418 > 1e-06\n",
      "Stop condition [StopIfEqual: Stop when 'residual' equals 0 (abs_tol=1e-06) for 3 iterations] NOT met: Variable residual:0.71657 != 0 (abs diff: 0.71657 > 1e-06)\n",
      "2025-03-24 19:57:40,118 - LinearJacobiMethod - INFO - Numerical.py:run:134 - State: \n",
      "{'x1': Decimal('2.514583333333333333333333332'), 'x2': Decimal('0.2361111111111111111111111113'), 'x3': Decimal('0.4850000000000000000000000002'), 'residual': 0.5627973322532348}\n",
      "\n",
      "2025-03-24 19:57:40,122 - LinearJacobiMethod - INFO - Numerical.py:run:129 - Iteration 4 completed\n",
      "Stop condition [StopAtPlateau: Stop when 'residual' plateaus (abs_tol=1e-06) for 5 iterations] NOT met: Change detected in 'residual': 0.71657 → 0.562797, abs diff: 0.153772 > 1e-06\n",
      "Stop condition [StopIfEqual: Stop when 'residual' equals 0 (abs_tol=1e-06) for 3 iterations] NOT met: Variable residual:0.562797 != 0 (abs diff: 0.562797 > 1e-06)\n",
      "2025-03-24 19:57:40,123 - LinearJacobiMethod - INFO - Numerical.py:run:134 - State: \n",
      "{'x1': Decimal('2.566527777777777777777777778'), 'x2': Decimal('0.1568750000000000000000000007'), 'x3': Decimal('0.4413888888888888888888888894'), 'residual': 0.2708812101557288}\n",
      "\n",
      "2025-03-24 19:57:40,125 - LinearJacobiMethod - INFO - Numerical.py:run:129 - Iteration 5 completed\n",
      "Stop condition [StopAtPlateau: Stop when 'residual' plateaus (abs_tol=1e-06) for 5 iterations] NOT met: Change detected in 'residual': 0.562797 → 0.270881, abs diff: 0.291916 > 1e-06\n",
      "Stop condition [StopIfEqual: Stop when 'residual' equals 0 (abs_tol=1e-06) for 3 iterations] NOT met: Variable residual:0.270881 != 0 (abs diff: 0.270881 > 1e-06)\n",
      "2025-03-24 19:57:40,126 - LinearJacobiMethod - INFO - Numerical.py:run:134 - State: \n",
      "{'x1': Decimal('2.568524305555555555555555555'), 'x2': Decimal('0.1236342592592592592592592592'), 'x3': Decimal('0.404763888888888888888888889'), 'residual': 0.06930439470756758}\n",
      "\n",
      "2025-03-24 19:57:40,128 - LinearJacobiMethod - INFO - Numerical.py:run:129 - Iteration 6 completed\n",
      "Stop condition [StopAtPlateau: Stop when 'residual' plateaus (abs_tol=1e-06) for 5 iterations] NOT met: Change detected in 'residual': 0.270881 → 0.0693044, abs diff: 0.201577 > 1e-06\n",
      "Stop condition [StopIfEqual: Stop when 'residual' equals 0 (abs_tol=1e-06) for 3 iterations] NOT met: Variable residual:0.0693044 != 0 (abs diff: 0.0693044 > 1e-06)\n",
      "2025-03-24 19:57:40,129 - LinearJacobiMethod - INFO - Numerical.py:run:134 - State: \n",
      "{'x1': Decimal('2.57852662037037037037037037'), 'x2': Decimal('0.116531828703703703703703704'), 'x3': Decimal('0.3973171296296296296296296298'), 'residual': 0.04688575140332835}\n",
      "\n",
      "2025-03-24 19:57:40,131 - LinearJacobiMethod - INFO - Numerical.py:run:129 - Iteration 7 completed\n",
      "Stop condition [StopAtPlateau: Stop when 'residual' plateaus (abs_tol=1e-06) for 5 iterations] NOT met: Change detected in 'residual': 0.0693044 → 0.0468858, abs diff: 0.0224186 > 1e-06\n",
      "Stop condition [StopIfEqual: Stop when 'residual' equals 0 (abs_tol=1e-06) for 3 iterations] NOT met: Variable residual:0.0468858 != 0 (abs diff: 0.0468858 > 1e-06)\n",
      "2025-03-24 19:57:40,132 - LinearJacobiMethod - INFO - Numerical.py:run:134 - State: \n",
      "{'x1': Decimal('2.58047439236111111111111111'), 'x2': Decimal('0.11028954475308641975308642'), 'x3': Decimal('0.3918957175925925925925925928'), 'residual': 0.01583775936586258}\n",
      "\n",
      "2025-03-24 19:57:40,135 - LinearJacobiMethod - INFO - Numerical.py:run:129 - Iteration 8 completed\n",
      "Stop condition [StopAtPlateau: Stop when 'residual' plateaus (abs_tol=1e-06) for 5 iterations] NOT met: Change detected in 'residual': 0.0468858 → 0.0158378, abs diff: 0.031048 > 1e-06\n",
      "Stop condition [StopIfEqual: Stop when 'residual' equals 0 (abs_tol=1e-06) for 3 iterations] NOT met: Variable residual:0.0158378 != 0 (abs diff: 0.0158378 > 1e-06)\n",
      "2025-03-24 19:57:40,135 - LinearJacobiMethod - INFO - Numerical.py:run:134 - State: \n",
      "{'x1': Decimal('2.581624527391975308641975308'), 'x2': Decimal('0.1084120900848765432098765438'), 'x3': Decimal('0.38986815200617283950617284'), 'residual': 0.00722522121724122}\n",
      "\n",
      "2025-03-24 19:57:40,138 - LinearJacobiMethod - INFO - Numerical.py:run:129 - Iteration 9 completed\n",
      "Stop condition [StopAtPlateau: Stop when 'residual' plateaus (abs_tol=1e-06) for 5 iterations] NOT met: Change detected in 'residual': 0.0158378 → 0.00722522, abs diff: 0.00861254 > 1e-06\n",
      "Stop condition [StopIfEqual: Stop when 'residual' equals 0 (abs_tol=1e-06) for 3 iterations] NOT met: Variable residual:0.00722522 != 0 (abs diff: 0.00722522 > 1e-06)\n",
      "2025-03-24 19:57:40,139 - LinearJacobiMethod - INFO - Numerical.py:run:134 - State: \n",
      "{'x1': Decimal('2.582168946518132716049382715'), 'x2': Decimal('0.1074990949717078189300411527'), 'x3': Decimal('0.3890326070601851851851851856'), 'residual': 0.0032675724068603968}\n",
      "\n",
      "2025-03-24 19:57:40,141 - LinearJacobiMethod - INFO - Numerical.py:run:129 - Iteration 10 completed\n",
      "Stop condition [StopAtPlateau: Stop when 'residual' plateaus (abs_tol=1e-06) for 5 iterations] NOT met: Change detected in 'residual': 0.00722522 → 0.00326757, abs diff: 0.00395765 > 1e-06\n",
      "Stop condition [StopIfEqual: Stop when 'residual' equals 0 (abs_tol=1e-06) for 3 iterations] NOT met: Variable residual:0.00326757 != 0 (abs diff: 0.00326757 > 1e-06)\n",
      "2025-03-24 19:57:40,142 - LinearJacobiMethod - INFO - Numerical.py:run:134 - State: \n",
      "{'x1': Decimal('2.582358470212834362139917695'), 'x2': Decimal('0.1070876279176311728395061735'), 'x3': Decimal('0.3886322403870884773662551446'), 'residual': 0.0013096876378967967}\n",
      "\n",
      "2025-03-24 19:57:40,145 - LinearJacobiMethod - INFO - Numerical.py:run:129 - Iteration 11 completed\n",
      "Stop condition [StopAtPlateau: Stop when 'residual' plateaus (abs_tol=1e-06) for 5 iterations] NOT met: Change detected in 'residual': 0.00326757 → 0.00130969, abs diff: 0.00195788 > 1e-06\n",
      "Stop condition [StopIfEqual: Stop when 'residual' equals 0 (abs_tol=1e-06) for 3 iterations] NOT met: Variable residual:0.00130969 != 0 (abs diff: 0.00130969 > 1e-06)\n",
      "2025-03-24 19:57:40,146 - LinearJacobiMethod - INFO - Numerical.py:run:134 - State: \n",
      "{'x1': Decimal('2.58245578678586355452674897'), 'x2': Decimal('0.1069261382914308984910836767'), 'x3': Decimal('0.3884741374983924897119341568'), 'residual': 0.0005943970610068267}\n",
      "\n",
      "2025-03-24 19:57:40,149 - LinearJacobiMethod - INFO - Numerical.py:run:129 - Iteration 12 completed\n",
      "Stop condition [StopAtPlateau: Stop when 'residual' plateaus (abs_tol=1e-06) for 5 iterations] NOT met: Change detected in 'residual': 0.00130969 → 0.000594397, abs diff: 0.000715291 > 1e-06\n",
      "Stop condition [StopIfEqual: Stop when 'residual' equals 0 (abs_tol=1e-06) for 3 iterations] NOT met: Variable residual:0.000594397 != 0 (abs diff: 0.000594397 > 1e-06)\n",
      "2025-03-24 19:57:40,151 - LinearJacobiMethod - INFO - Numerical.py:run:134 - State: \n",
      "{'x1': Decimal('2.58249446582366147976680384'), 'x2': Decimal('0.1068511295234669710219478745'), 'x3': Decimal('0.3884029129439407578875171474'), 'residual': 0.0002506607006427053}\n",
      "\n",
      "2025-03-24 19:57:40,154 - LinearJacobiMethod - INFO - Numerical.py:run:129 - Iteration 13 completed\n",
      "Stop condition [StopAtPlateau: Stop when 'residual' plateaus (abs_tol=1e-06) for 5 iterations] NOT met: Change detected in 'residual': 0.000594397 → 0.000250661, abs diff: 0.000343736 > 1e-06\n",
      "Stop condition [StopIfEqual: Stop when 'residual' equals 0 (abs_tol=1e-06) for 3 iterations] NOT met: Variable residual:0.000250661 != 0 (abs diff: 0.000250661 > 1e-06)\n",
      "2025-03-24 19:57:40,156 - LinearJacobiMethod - INFO - Numerical.py:run:134 - State: \n",
      "{'x1': Decimal('2.582511325908896363811728395'), 'x2': Decimal('0.1068199192454927197645176045'), 'x3': Decimal('0.3883724395752288022976680388'), 'residual': 0.00010802735851075518}\n",
      "\n",
      "2025-03-24 19:57:40,161 - LinearJacobiMethod - INFO - Numerical.py:run:129 - Iteration 14 completed\n",
      "Stop condition [StopAtPlateau: Stop when 'residual' plateaus (abs_tol=1e-06) for 5 iterations] NOT met: Change detected in 'residual': 0.000250661 → 0.000108027, abs diff: 0.000142633 > 1e-06\n",
      "Stop condition [StopIfEqual: Stop when 'residual' equals 0 (abs_tol=1e-06) for 3 iterations] NOT met: Variable residual:0.000108027 != 0 (abs diff: 0.000108027 > 1e-06)\n",
      "2025-03-24 19:57:40,166 - LinearJacobiMethod - INFO - Numerical.py:run:134 - State: \n",
      "{'x1': Decimal('2.582518760023758778792295382'), 'x2': Decimal('0.106806410308089951810413809'), 'x3': Decimal('0.3883594534855399984282121628'), 'residual': 4.696668615482732e-05}\n",
      "\n",
      "2025-03-24 19:57:40,168 - LinearJacobiMethod - INFO - Numerical.py:run:129 - Iteration 15 completed\n",
      "Stop condition [StopAtPlateau: Stop when 'residual' plateaus (abs_tol=1e-06) for 5 iterations] NOT met: Change detected in 'residual': 0.000108027 → 4.69667e-05, abs diff: 6.10607e-05 > 1e-06\n",
      "Stop condition [StopIfEqual: Stop when 'residual' equals 0 (abs_tol=1e-06) for 3 iterations] NOT met: Variable residual:4.69667e-05 != 0 (abs diff: 4.69667e-05 > 1e-06)\n",
      "2025-03-24 19:57:40,171 - LinearJacobiMethod - INFO - Numerical.py:run:134 - State: \n",
      "{'x1': Decimal('2.58252187583425248873849737'), 'x2': Decimal('0.1068005289023772770085543362'), 'x3': Decimal('0.388353778052114478845164609'), 'residual': 2.0058087919458416e-05}\n",
      "\n",
      "2025-03-24 19:57:40,173 - LinearJacobiMethod - INFO - Numerical.py:run:129 - Iteration 16 completed\n",
      "Stop condition [StopAtPlateau: Stop when 'residual' plateaus (abs_tol=1e-06) for 5 iterations] NOT met: Change detected in 'residual': 4.69667e-05 → 2.00581e-05, abs diff: 2.69086e-05 > 1e-06\n",
      "Stop condition [StopIfEqual: Stop when 'residual' equals 0 (abs_tol=1e-06) for 3 iterations] NOT met: Variable residual:2.00581e-05 != 0 (abs diff: 2.00581e-05 > 1e-06)\n",
      "2025-03-24 19:57:40,175 - LinearJacobiMethod - INFO - Numerical.py:run:134 - State: \n",
      "{'x1': Decimal('2.58252324319953707982955628'), 'x2': Decimal('0.1067980250915595021049454165'), 'x3': Decimal('0.3883513554467744599063119192'), 'residual': 8.688854633732853e-06}\n",
      "\n",
      "2025-03-24 19:57:40,177 - LinearJacobiMethod - INFO - Numerical.py:run:129 - Iteration 17 completed\n",
      "Stop condition [StopAtPlateau: Stop when 'residual' plateaus (abs_tol=1e-06) for 5 iterations] NOT met: Change detected in 'residual': 2.00581e-05 → 8.68885e-06, abs diff: 1.13692e-05 > 1e-06\n",
      "Stop condition [StopIfEqual: Stop when 'residual' equals 0 (abs_tol=1e-06) for 3 iterations] NOT met: Variable residual:8.68885e-06 != 0 (abs diff: 8.68885e-06 > 1e-06)\n",
      "2025-03-24 19:57:40,178 - LinearJacobiMethod - INFO - Numerical.py:run:134 - State: \n",
      "{'x1': Decimal('2.582523828549502645573080395'), 'x2': Decimal('0.1067969376413605367362738465'), 'x3': Decimal('0.3883503077384970684891665712'), 'residual': 3.7384887432337275e-06}\n",
      "\n",
      "2025-03-24 19:57:40,182 - LinearJacobiMethod - INFO - Numerical.py:run:129 - Iteration 18 completed\n",
      "Stop condition [StopAtPlateau: Stop when 'residual' plateaus (abs_tol=1e-06) for 5 iterations] NOT met: Change detected in 'residual': 8.68885e-06 → 3.73849e-06, abs diff: 4.95037e-06 > 1e-06\n",
      "Stop condition [StopIfEqual: Stop when 'residual' equals 0 (abs_tol=1e-06) for 3 iterations] NOT met: Variable residual:3.73849e-06 != 0 (abs diff: 3.73849e-06 > 1e-06)\n",
      "2025-03-24 19:57:40,185 - LinearJacobiMethod - INFO - Numerical.py:run:134 - State: \n",
      "{'x1': Decimal('2.582524080541091599939485175'), 'x2': Decimal('0.106796470348331521961654231'), 'x3': Decimal('0.3883498561084710491180226112'), 'residual': 1.6098925588662154e-06}\n",
      "\n",
      "2025-03-24 19:57:40,187 - LinearJacobiMethod - INFO - Numerical.py:run:129 - Iteration 19 completed\n",
      "Stop condition [StopAtPlateau: Stop when 'residual' plateaus (abs_tol=1e-06) for 5 iterations] NOT met: Change detected in 'residual': 3.73849e-06 → 1.60989e-06, abs diff: 2.1286e-06 > 1e-06\n",
      "Stop condition [StopIfEqual: Stop when 'residual' equals 0 (abs_tol=1e-06) for 3 iterations] NOT met: Variable residual:1.60989e-06 != 0 (abs diff: 1.60989e-06 > 1e-06)\n",
      "2025-03-24 19:57:40,188 - LinearJacobiMethod - INFO - Numerical.py:run:134 - State: \n",
      "{'x1': Decimal('2.582524189532847355931402252'), 'x2': Decimal('0.1067962690808660415499278477'), 'x3': Decimal('0.3883496618532296644165367762'), 'residual': 6.946312492127692e-07}\n",
      "\n",
      "2025-03-24 19:57:40,191 - LinearJacobiMethod - INFO - Numerical.py:run:129 - Iteration 20 completed\n",
      "Stop condition [StopAtPlateau: Stop when 'residual' plateaus (abs_tol=1e-06) for 5 iterations] NOT met: Change detected in 'residual': 1.60989e-06 → 6.94631e-07, abs diff: 9.15261e-07 > 1e-06\n",
      "Stop condition [StopIfEqual: Stop when 'residual' equals 0 (abs_tol=1e-06) for 3 iterations] NOT met: Variable residual:6.94631e-07 matches target 0 (abs diff: 6.94631e-07 ≤ 1e-06) (1/3 iterations)\n",
      "2025-03-24 19:57:40,192 - LinearJacobiMethod - INFO - Numerical.py:run:134 - State: \n",
      "{'x1': Decimal('2.582524236343601678179213575'), 'x2': Decimal('0.1067961822091145994370550033'), 'x3': Decimal('0.3883495780030342659374246688'), 'residual': 2.990212484205688e-07}\n",
      "\n",
      "2025-03-24 19:57:40,195 - LinearJacobiMethod - INFO - Numerical.py:run:129 - Iteration 21 completed\n",
      "Stop condition [StopAtPlateau: Stop when 'residual' plateaus (abs_tol=1e-06) for 5 iterations] NOT met: Change detected in 'residual': 6.94631e-07 → 2.99021e-07, abs diff: 3.9561e-07 > 1e-06\n",
      "Stop condition [StopIfEqual: Stop when 'residual' equals 0 (abs_tol=1e-06) for 3 iterations] NOT met: Variable residual:2.99021e-07 matches target 0 (abs diff: 2.99021e-07 ≤ 1e-06) (2/3 iterations)\n",
      "2025-03-24 19:57:40,196 - LinearJacobiMethod - INFO - Numerical.py:run:134 - State: \n",
      "{'x1': Decimal('2.582524256550761516890551418'), 'x2': Decimal('0.1067961448287048718999639907'), 'x3': Decimal('0.3883495419043822486157255706'), 'residual': 1.2891477764877112e-07}\n",
      "\n",
      "2025-03-24 19:57:40,198 - LinearJacobiMethod - INFO - Numerical.py:run:129 - Stop condition [StopIfEqual: Stop when 'residual' equals 0 (abs_tol=1e-06) for 3 iterations] MET    : Variable residual:1.28915e-07 reached target 0 (abs diff: 1.28915e-07 ≤ 1e-06) for 3 iterations\n",
      "Stop condition [StopAtPlateau: Stop when 'residual' plateaus (abs_tol=1e-06) for 5 iterations] NOT met: Change detected in 'residual': 2.99021e-07 → 1.28915e-07, abs diff: 1.70106e-07 > 1e-06\n",
      "2025-03-24 19:57:40,200 - LinearJacobiMethod - INFO - Numerical.py:run:134 - State: \n",
      "{'x1': Decimal('2.582524265254985093667128212'), 'x2': Decimal('0.1067961287086829496573452195'), 'x3': Decimal('0.388349526345436367623772231'), 'residual': 5.554833903275053e-08}\n",
      "\n"
     ]
    }
   ],
   "execution_count": 23
  },
  {
   "cell_type": "code",
   "id": "1c02a390d4d9f2a2",
   "metadata": {
    "ExecuteTime": {
     "end_time": "2025-03-24T16:57:40.270367Z",
     "start_time": "2025-03-24T16:57:40.241798Z"
    }
   },
   "source": [
    "df_to_latex(\n",
    "    df=jacob_solver_df,\n",
    "    filepath=Path(Path().cwd()/ 'Assignment4_latex' / 'jacob_solver.tex').resolve().__str__(),\n",
    "    formatting=dict(\n",
    "        x1=dict(header='$x_1$', format='0.6f'),\n",
    "        x2=dict(header='$x_2$', format='0.6f'),\n",
    "        x3=dict(header='$x_3$', format='0.6f'),\n",
    "        residual=dict(header='$|r|$', format='0.6g'),\n",
    "    ),\n",
    "    precision=6,\n",
    "    caption='Jacobi Method',\n",
    "    label='tab:jacob_solver'\n",
    ")\n",
    "\n",
    "jacob_solver_df"
   ],
   "outputs": [
    {
     "name": "stdout",
     "output_type": "stream",
     "text": [
      "2025-03-24 19:57:40,256 - utils.LaTeXTools - INFO - LaTeXTools.py:df_to_latex:90 - LaTeX table exported to /home/hhj/PycharmProjects/NumericalMethods/Examples/Assginment4/Assignment4_latex/jacob_solver.tex\n"
     ]
    },
    {
     "data": {
      "text/plain": [
       "                               x1                              x2  \\\n",
       "0                             0.0                             0.0   \n",
       "1                            2.75   1.333333333333333333333333333   \n",
       "2   2.383333333333333333333333333  0.1916666666666666666666666667   \n",
       "3   2.514583333333333333333333332  0.2361111111111111111111111113   \n",
       "4   2.566527777777777777777777778  0.1568750000000000000000000007   \n",
       "5   2.568524305555555555555555555  0.1236342592592592592592592592   \n",
       "6    2.57852662037037037037037037   0.116531828703703703703703704   \n",
       "7    2.58047439236111111111111111    0.11028954475308641975308642   \n",
       "8   2.581624527391975308641975308  0.1084120900848765432098765438   \n",
       "9   2.582168946518132716049382715  0.1074990949717078189300411527   \n",
       "10  2.582358470212834362139917695  0.1070876279176311728395061735   \n",
       "11   2.58245578678586355452674897  0.1069261382914308984910836767   \n",
       "12   2.58249446582366147976680384  0.1068511295234669710219478745   \n",
       "13  2.582511325908896363811728395  0.1068199192454927197645176045   \n",
       "14  2.582518760023758778792295382   0.106806410308089951810413809   \n",
       "15   2.58252187583425248873849737  0.1068005289023772770085543362   \n",
       "16   2.58252324319953707982955628  0.1067980250915595021049454165   \n",
       "17  2.582523828549502645573080395  0.1067969376413605367362738465   \n",
       "18  2.582524080541091599939485175   0.106796470348331521961654231   \n",
       "19  2.582524189532847355931402252  0.1067962690808660415499278477   \n",
       "20  2.582524236343601678179213575  0.1067961822091145994370550033   \n",
       "21  2.582524256550761516890551418  0.1067961448287048718999639907   \n",
       "22  2.582524265254985093667128212  0.1067961287086829496573452195   \n",
       "\n",
       "                                x3      residual  \n",
       "0                              0.0  1.529706e+01  \n",
       "1                              1.4  8.150750e+00  \n",
       "2   0.5666666666666666666666666666  7.165698e-01  \n",
       "3   0.4850000000000000000000000002  5.627973e-01  \n",
       "4   0.4413888888888888888888888894  2.708812e-01  \n",
       "5    0.404763888888888888888888889  6.930439e-02  \n",
       "6   0.3973171296296296296296296298  4.688575e-02  \n",
       "7   0.3918957175925925925925925928  1.583776e-02  \n",
       "8     0.38986815200617283950617284  7.225221e-03  \n",
       "9   0.3890326070601851851851851856  3.267572e-03  \n",
       "10  0.3886322403870884773662551446  1.309688e-03  \n",
       "11  0.3884741374983924897119341568  5.943971e-04  \n",
       "12  0.3884029129439407578875171474  2.506607e-04  \n",
       "13  0.3883724395752288022976680388  1.080274e-04  \n",
       "14  0.3883594534855399984282121628  4.696669e-05  \n",
       "15   0.388353778052114478845164609  2.005809e-05  \n",
       "16  0.3883513554467744599063119192  8.688855e-06  \n",
       "17  0.3883503077384970684891665712  3.738489e-06  \n",
       "18  0.3883498561084710491180226112  1.609893e-06  \n",
       "19  0.3883496618532296644165367762  6.946312e-07  \n",
       "20  0.3883495780030342659374246688  2.990212e-07  \n",
       "21  0.3883495419043822486157255706  1.289148e-07  \n",
       "22   0.388349526345436367623772231  5.554834e-08  "
      ],
      "text/html": [
       "<div>\n",
       "<style scoped>\n",
       "    .dataframe tbody tr th:only-of-type {\n",
       "        vertical-align: middle;\n",
       "    }\n",
       "\n",
       "    .dataframe tbody tr th {\n",
       "        vertical-align: top;\n",
       "    }\n",
       "\n",
       "    .dataframe thead th {\n",
       "        text-align: right;\n",
       "    }\n",
       "</style>\n",
       "<table border=\"1\" class=\"dataframe\">\n",
       "  <thead>\n",
       "    <tr style=\"text-align: right;\">\n",
       "      <th></th>\n",
       "      <th>x1</th>\n",
       "      <th>x2</th>\n",
       "      <th>x3</th>\n",
       "      <th>residual</th>\n",
       "    </tr>\n",
       "  </thead>\n",
       "  <tbody>\n",
       "    <tr>\n",
       "      <th>0</th>\n",
       "      <td>0.0</td>\n",
       "      <td>0.0</td>\n",
       "      <td>0.0</td>\n",
       "      <td>1.529706e+01</td>\n",
       "    </tr>\n",
       "    <tr>\n",
       "      <th>1</th>\n",
       "      <td>2.75</td>\n",
       "      <td>1.333333333333333333333333333</td>\n",
       "      <td>1.4</td>\n",
       "      <td>8.150750e+00</td>\n",
       "    </tr>\n",
       "    <tr>\n",
       "      <th>2</th>\n",
       "      <td>2.383333333333333333333333333</td>\n",
       "      <td>0.1916666666666666666666666667</td>\n",
       "      <td>0.5666666666666666666666666666</td>\n",
       "      <td>7.165698e-01</td>\n",
       "    </tr>\n",
       "    <tr>\n",
       "      <th>3</th>\n",
       "      <td>2.514583333333333333333333332</td>\n",
       "      <td>0.2361111111111111111111111113</td>\n",
       "      <td>0.4850000000000000000000000002</td>\n",
       "      <td>5.627973e-01</td>\n",
       "    </tr>\n",
       "    <tr>\n",
       "      <th>4</th>\n",
       "      <td>2.566527777777777777777777778</td>\n",
       "      <td>0.1568750000000000000000000007</td>\n",
       "      <td>0.4413888888888888888888888894</td>\n",
       "      <td>2.708812e-01</td>\n",
       "    </tr>\n",
       "    <tr>\n",
       "      <th>5</th>\n",
       "      <td>2.568524305555555555555555555</td>\n",
       "      <td>0.1236342592592592592592592592</td>\n",
       "      <td>0.404763888888888888888888889</td>\n",
       "      <td>6.930439e-02</td>\n",
       "    </tr>\n",
       "    <tr>\n",
       "      <th>6</th>\n",
       "      <td>2.57852662037037037037037037</td>\n",
       "      <td>0.116531828703703703703703704</td>\n",
       "      <td>0.3973171296296296296296296298</td>\n",
       "      <td>4.688575e-02</td>\n",
       "    </tr>\n",
       "    <tr>\n",
       "      <th>7</th>\n",
       "      <td>2.58047439236111111111111111</td>\n",
       "      <td>0.11028954475308641975308642</td>\n",
       "      <td>0.3918957175925925925925925928</td>\n",
       "      <td>1.583776e-02</td>\n",
       "    </tr>\n",
       "    <tr>\n",
       "      <th>8</th>\n",
       "      <td>2.581624527391975308641975308</td>\n",
       "      <td>0.1084120900848765432098765438</td>\n",
       "      <td>0.38986815200617283950617284</td>\n",
       "      <td>7.225221e-03</td>\n",
       "    </tr>\n",
       "    <tr>\n",
       "      <th>9</th>\n",
       "      <td>2.582168946518132716049382715</td>\n",
       "      <td>0.1074990949717078189300411527</td>\n",
       "      <td>0.3890326070601851851851851856</td>\n",
       "      <td>3.267572e-03</td>\n",
       "    </tr>\n",
       "    <tr>\n",
       "      <th>10</th>\n",
       "      <td>2.582358470212834362139917695</td>\n",
       "      <td>0.1070876279176311728395061735</td>\n",
       "      <td>0.3886322403870884773662551446</td>\n",
       "      <td>1.309688e-03</td>\n",
       "    </tr>\n",
       "    <tr>\n",
       "      <th>11</th>\n",
       "      <td>2.58245578678586355452674897</td>\n",
       "      <td>0.1069261382914308984910836767</td>\n",
       "      <td>0.3884741374983924897119341568</td>\n",
       "      <td>5.943971e-04</td>\n",
       "    </tr>\n",
       "    <tr>\n",
       "      <th>12</th>\n",
       "      <td>2.58249446582366147976680384</td>\n",
       "      <td>0.1068511295234669710219478745</td>\n",
       "      <td>0.3884029129439407578875171474</td>\n",
       "      <td>2.506607e-04</td>\n",
       "    </tr>\n",
       "    <tr>\n",
       "      <th>13</th>\n",
       "      <td>2.582511325908896363811728395</td>\n",
       "      <td>0.1068199192454927197645176045</td>\n",
       "      <td>0.3883724395752288022976680388</td>\n",
       "      <td>1.080274e-04</td>\n",
       "    </tr>\n",
       "    <tr>\n",
       "      <th>14</th>\n",
       "      <td>2.582518760023758778792295382</td>\n",
       "      <td>0.106806410308089951810413809</td>\n",
       "      <td>0.3883594534855399984282121628</td>\n",
       "      <td>4.696669e-05</td>\n",
       "    </tr>\n",
       "    <tr>\n",
       "      <th>15</th>\n",
       "      <td>2.58252187583425248873849737</td>\n",
       "      <td>0.1068005289023772770085543362</td>\n",
       "      <td>0.388353778052114478845164609</td>\n",
       "      <td>2.005809e-05</td>\n",
       "    </tr>\n",
       "    <tr>\n",
       "      <th>16</th>\n",
       "      <td>2.58252324319953707982955628</td>\n",
       "      <td>0.1067980250915595021049454165</td>\n",
       "      <td>0.3883513554467744599063119192</td>\n",
       "      <td>8.688855e-06</td>\n",
       "    </tr>\n",
       "    <tr>\n",
       "      <th>17</th>\n",
       "      <td>2.582523828549502645573080395</td>\n",
       "      <td>0.1067969376413605367362738465</td>\n",
       "      <td>0.3883503077384970684891665712</td>\n",
       "      <td>3.738489e-06</td>\n",
       "    </tr>\n",
       "    <tr>\n",
       "      <th>18</th>\n",
       "      <td>2.582524080541091599939485175</td>\n",
       "      <td>0.106796470348331521961654231</td>\n",
       "      <td>0.3883498561084710491180226112</td>\n",
       "      <td>1.609893e-06</td>\n",
       "    </tr>\n",
       "    <tr>\n",
       "      <th>19</th>\n",
       "      <td>2.582524189532847355931402252</td>\n",
       "      <td>0.1067962690808660415499278477</td>\n",
       "      <td>0.3883496618532296644165367762</td>\n",
       "      <td>6.946312e-07</td>\n",
       "    </tr>\n",
       "    <tr>\n",
       "      <th>20</th>\n",
       "      <td>2.582524236343601678179213575</td>\n",
       "      <td>0.1067961822091145994370550033</td>\n",
       "      <td>0.3883495780030342659374246688</td>\n",
       "      <td>2.990212e-07</td>\n",
       "    </tr>\n",
       "    <tr>\n",
       "      <th>21</th>\n",
       "      <td>2.582524256550761516890551418</td>\n",
       "      <td>0.1067961448287048718999639907</td>\n",
       "      <td>0.3883495419043822486157255706</td>\n",
       "      <td>1.289148e-07</td>\n",
       "    </tr>\n",
       "    <tr>\n",
       "      <th>22</th>\n",
       "      <td>2.582524265254985093667128212</td>\n",
       "      <td>0.1067961287086829496573452195</td>\n",
       "      <td>0.388349526345436367623772231</td>\n",
       "      <td>5.554834e-08</td>\n",
       "    </tr>\n",
       "  </tbody>\n",
       "</table>\n",
       "</div>"
      ]
     },
     "execution_count": 24,
     "metadata": {},
     "output_type": "execute_result"
    }
   ],
   "execution_count": 24
  },
  {
   "cell_type": "code",
   "id": "473fa8dd30530cbf",
   "metadata": {
    "ExecuteTime": {
     "end_time": "2025-03-24T16:57:40.436500Z",
     "start_time": "2025-03-24T16:57:40.373676Z"
    }
   },
   "source": [
    "gauss_seidel_solver = LinearGaussSeidelMethod(\n",
    "    coefficients=np.array(equations_coefficients_matrix.evalf(15).copy(), dtype=float),\n",
    "    lhs=np.array(equations_lhs.evalf(15), dtype=float).copy(),\n",
    "    initial_guess=np.zeros((equations_coefficients_matrix.shape[0],1), dtype=float),\n",
    "    stop_conditions=[\n",
    "        StopAtPlateau(tracking='residual', patience=5, absolute_tolerance=1e-6),\n",
    "    ]\n",
    ")\n",
    "\n",
    "with timer() as t:\n",
    "    gauss_seidel_solver_df = gauss_seidel_solver.run()\n",
    "\n",
    "timing_data['gauss-seidel  method'] = t.interval"
   ],
   "outputs": [
    {
     "name": "stdout",
     "output_type": "stream",
     "text": [
      "2025-03-24 19:57:40,380 - LinearGaussSeidelMethod - INFO - Numerical.py:run:124 - Starting LinearGaussSeidelMethod\n",
      "2025-03-24 19:57:40,383 - LinearGaussSeidelMethod - INFO - Numerical.py:initialize:70 - Initial state:{'x1': 0.0, 'x2': 0.0, 'x3': 0.0, 'residual': 15.297058540778355}\n",
      "2025-03-24 19:57:40,387 - LinearGaussSeidelMethod - INFO - Numerical.py:run:129 - Iteration 1 completed\n",
      "Stop condition [StopAtPlateau: Stop when 'residual' plateaus (abs_tol=1e-06) for 5 iterations] NOT met: Not enough iterations to determine plateau\n",
      "Stop condition [StopIfEqual: Stop when 'residual' equals 0 (abs_tol=1e-06) for 3 iterations] NOT met: Variable residual:15.2971 != 0 (abs diff: 15.2971 > 1e-06)\n",
      "2025-03-24 19:57:40,389 - LinearGaussSeidelMethod - INFO - Numerical.py:run:134 - State: \n",
      "{'x1': 2.75, 'x2': -0.041666666666666664, 'x3': 0.2916666666666667, 'residual': 0.689706056551952}\n",
      "\n",
      "2025-03-24 19:57:40,391 - LinearGaussSeidelMethod - INFO - Numerical.py:run:129 - Iteration 2 completed\n",
      "Stop condition [StopAtPlateau: Stop when 'residual' plateaus (abs_tol=1e-06) for 5 iterations] NOT met: Change detected in 'residual': 15.2971 → 0.689706, abs diff: 14.6074 > 1e-06\n",
      "Stop condition [StopIfEqual: Stop when 'residual' equals 0 (abs_tol=1e-06) for 3 iterations] NOT met: Variable residual:0.689706 != 0 (abs diff: 0.689706 > 1e-06)\n",
      "2025-03-24 19:57:40,392 - LinearGaussSeidelMethod - INFO - Numerical.py:run:134 - State: \n",
      "{'x1': 2.59375, 'x2': 0.08506944444444446, 'x3': 0.3795138888888889, 'residual': 0.10056864747493754}\n",
      "\n",
      "2025-03-24 19:57:40,395 - LinearGaussSeidelMethod - INFO - Numerical.py:run:129 - Iteration 3 completed\n",
      "Stop condition [StopAtPlateau: Stop when 'residual' plateaus (abs_tol=1e-06) for 5 iterations] NOT met: Change detected in 'residual': 0.689706 → 0.100569, abs diff: 0.589137 > 1e-06\n",
      "Stop condition [StopIfEqual: Stop when 'residual' equals 0 (abs_tol=1e-06) for 3 iterations] NOT met: Variable residual:0.100569 != 0 (abs diff: 0.100569 > 1e-06)\n",
      "2025-03-24 19:57:40,397 - LinearGaussSeidelMethod - INFO - Numerical.py:run:134 - State: \n",
      "{'x1': 2.5815104166666667, 'x2': 0.10583043981481481, 'x3': 0.3885619212962963, 'residual': 0.009432324491419291}\n",
      "\n",
      "2025-03-24 19:57:40,400 - LinearGaussSeidelMethod - INFO - Numerical.py:run:129 - Iteration 4 completed\n",
      "Stop condition [StopAtPlateau: Stop when 'residual' plateaus (abs_tol=1e-06) for 5 iterations] NOT met: Change detected in 'residual': 0.100569 → 0.00943232, abs diff: 0.0911363 > 1e-06\n",
      "Stop condition [StopIfEqual: Stop when 'residual' equals 0 (abs_tol=1e-06) for 3 iterations] NOT met: Variable residual:0.00943232 != 0 (abs diff: 0.00943232 > 1e-06)\n",
      "2025-03-24 19:57:40,401 - LinearGaussSeidelMethod - INFO - Numerical.py:run:134 - State: \n",
      "{'x1': 2.5821766493055556, 'x2': 0.10700532889660494, 'x3': 0.38853040605709876, 'residual': 0.0012383206562885025}\n",
      "\n",
      "2025-03-24 19:57:40,403 - LinearGaussSeidelMethod - INFO - Numerical.py:run:129 - Iteration 5 completed\n",
      "Stop condition [StopAtPlateau: Stop when 'residual' plateaus (abs_tol=1e-06) for 5 iterations] NOT met: Change detected in 'residual': 0.00943232 → 0.00123832, abs diff: 0.008194 > 1e-06\n",
      "Stop condition [StopIfEqual: Stop when 'residual' equals 0 (abs_tol=1e-06) for 3 iterations] NOT met: Variable residual:0.00123832 != 0 (abs diff: 0.00123832 > 1e-06)\n",
      "2025-03-24 19:57:40,404 - LinearGaussSeidelMethod - INFO - Numerical.py:run:134 - State: \n",
      "{'x1': 2.582486129195602, 'x2': 0.10684533641171554, 'x3': 0.38837461560410236, 'residual': 0.00021736999484160373}\n",
      "\n",
      "2025-03-24 19:57:40,407 - LinearGaussSeidelMethod - INFO - Numerical.py:run:129 - Iteration 6 completed\n",
      "Stop condition [StopAtPlateau: Stop when 'residual' plateaus (abs_tol=1e-06) for 5 iterations] NOT met: Change detected in 'residual': 0.00123832 → 0.00021737, abs diff: 0.00102095 > 1e-06\n",
      "Stop condition [StopIfEqual: Stop when 'residual' equals 0 (abs_tol=1e-06) for 3 iterations] NOT met: Variable residual:0.00021737 != 0 (abs diff: 0.00021737 > 1e-06)\n",
      "2025-03-24 19:57:40,408 - LinearGaussSeidelMethod - INFO - Numerical.py:run:134 - State: \n",
      "{'x1': 2.5825240263008777, 'x2': 0.10680042278357821, 'x3': 0.3883504740363646, 'residual': 2.4375579429860845e-05}\n",
      "\n",
      "2025-03-24 19:57:40,410 - LinearGaussSeidelMethod - INFO - Numerical.py:run:129 - Iteration 7 completed\n",
      "Stop condition [StopAtPlateau: Stop when 'residual' plateaus (abs_tol=1e-06) for 5 iterations] NOT met: Change detected in 'residual': 0.00021737 → 2.43756e-05, abs diff: 0.000192994 > 1e-06\n",
      "Stop condition [StopIfEqual: Stop when 'residual' equals 0 (abs_tol=1e-06) for 3 iterations] NOT met: Variable residual:2.43756e-05 != 0 (abs diff: 2.43756e-05 > 1e-06)\n",
      "2025-03-24 19:57:40,412 - LinearGaussSeidelMethod - INFO - Numerical.py:run:134 - State: \n",
      "{'x1': 2.5825248686777122, 'x2': 0.10679597800053797, 'x3': 0.3883492481290227, 'residual': 2.339823001990969e-06}\n",
      "\n",
      "2025-03-24 19:57:40,415 - LinearGaussSeidelMethod - INFO - Numerical.py:run:129 - Iteration 8 completed\n",
      "Stop condition [StopAtPlateau: Stop when 'residual' plateaus (abs_tol=1e-06) for 5 iterations] NOT met: Change detected in 'residual': 2.43756e-05 → 2.33982e-06, abs diff: 2.20358e-05 > 1e-06\n",
      "Stop condition [StopIfEqual: Stop when 'residual' equals 0 (abs_tol=1e-06) for 3 iterations] NOT met: Variable residual:2.33982e-06 != 0 (abs diff: 2.33982e-06 > 1e-06)\n",
      "2025-03-24 19:57:40,417 - LinearGaussSeidelMethod - INFO - Numerical.py:run:134 - State: \n",
      "{'x1': 2.5825243704356233, 'x2': 0.10679602280369221, 'x3': 0.3883494563864892, 'residual': 4.260760716029658e-07}\n",
      "\n",
      "2025-03-24 19:57:40,420 - LinearGaussSeidelMethod - INFO - Numerical.py:run:129 - Iteration 9 completed\n",
      "Stop condition [StopAtPlateau: Stop when 'residual' plateaus (abs_tol=1e-06) for 5 iterations] NOT met: Change detected in 'residual': 2.33982e-06 → 4.26076e-07, abs diff: 1.91375e-06 > 1e-06\n",
      "Stop condition [StopIfEqual: Stop when 'residual' equals 0 (abs_tol=1e-06) for 3 iterations] NOT met: Variable residual:4.26076e-07 matches target 0 (abs diff: 4.26076e-07 ≤ 1e-06) (1/3 iterations)\n",
      "2025-03-24 19:57:40,422 - LinearGaussSeidelMethod - INFO - Numerical.py:run:134 - State: \n",
      "{'x1': 2.5825242775076784, 'x2': 0.1067961039772423, 'x3': 0.3883495097923771, 'residual': 5.924109617048797e-08}\n",
      "\n",
      "2025-03-24 19:57:40,426 - LinearGaussSeidelMethod - INFO - Numerical.py:run:129 - Iteration 10 completed\n",
      "Stop condition [StopAtPlateau: Stop when 'residual' plateaus (abs_tol=1e-06) for 5 iterations] NOT met: Change detected in 'residual': 4.26076e-07 → 5.92411e-08, abs diff: 3.66835e-07 > 1e-06\n",
      "Stop condition [StopIfEqual: Stop when 'residual' equals 0 (abs_tol=1e-06) for 3 iterations] NOT met: Variable residual:5.92411e-08 matches target 0 (abs diff: 5.92411e-08 ≤ 1e-06) (2/3 iterations)\n",
      "2025-03-24 19:57:40,428 - LinearGaussSeidelMethod - INFO - Numerical.py:run:134 - State: \n",
      "{'x1': 2.582524271098122, 'x2': 0.10679611608300184, 'x3': 0.3883495147773516, 'residual': 5.423251548389698e-09}\n",
      "\n",
      "2025-03-24 19:57:40,432 - LinearGaussSeidelMethod - INFO - Numerical.py:run:129 - Stop condition [StopIfEqual: Stop when 'residual' equals 0 (abs_tol=1e-06) for 3 iterations] MET    : Variable residual:5.42325e-09 reached target 0 (abs diff: 5.42325e-09 ≤ 1e-06) for 3 iterations\n",
      "Stop condition [StopAtPlateau: Stop when 'residual' plateaus (abs_tol=1e-06) for 5 iterations] NOT met: Change detected in 'residual': 5.92411e-08 → 5.42325e-09, abs diff: 5.38178e-08 > 1e-06\n",
      "2025-03-24 19:57:40,433 - LinearGaussSeidelMethod - INFO - Numerical.py:run:134 - State: \n",
      "{'x1': 2.582524271632075, 'x2': 0.10679611664685461, 'x3': 0.38834951467654105, 'residual': 7.720835321912937e-10}\n",
      "\n"
     ]
    }
   ],
   "execution_count": 25
  },
  {
   "cell_type": "code",
   "id": "2c1e16bd0370083c",
   "metadata": {
    "ExecuteTime": {
     "end_time": "2025-03-24T16:57:40.571763Z",
     "start_time": "2025-03-24T16:57:40.553270Z"
    }
   },
   "source": [
    "df_to_latex(\n",
    "    df=gauss_seidel_solver_df,\n",
    "    filepath=Path(Path().cwd() / 'Assignment4_latex' / 'gauss_seidel_solver.tex').resolve().__str__(),\n",
    "    formatting=dict(\n",
    "        x1=dict(header='$x_1$', format='0.6f'),\n",
    "        x2=dict(header='$x_2$', format='0.6f'),\n",
    "        x3=dict(header='$x_3$', format='0.6f'),\n",
    "        residual=dict(header='$|r|$', format='0.6g'),\n",
    "    ),\n",
    "    precision=6,\n",
    "    caption='Gauss-Seidel Method',\n",
    "    label='tab:gauss_seidel_solver'\n",
    ")\n",
    "\n",
    "\n",
    "gauss_seidel_solver_df"
   ],
   "outputs": [
    {
     "name": "stdout",
     "output_type": "stream",
     "text": [
      "2025-03-24 19:57:40,561 - utils.LaTeXTools - INFO - LaTeXTools.py:df_to_latex:90 - LaTeX table exported to /home/hhj/PycharmProjects/NumericalMethods/Examples/Assginment4/Assignment4_latex/gauss_seidel_solver.tex\n"
     ]
    },
    {
     "data": {
      "text/plain": [
       "          x1        x2        x3      residual\n",
       "0   0.000000  0.000000  0.000000  1.529706e+01\n",
       "1   2.750000 -0.041667  0.291667  6.897061e-01\n",
       "2   2.593750  0.085069  0.379514  1.005686e-01\n",
       "3   2.581510  0.105830  0.388562  9.432324e-03\n",
       "4   2.582177  0.107005  0.388530  1.238321e-03\n",
       "5   2.582486  0.106845  0.388375  2.173700e-04\n",
       "6   2.582524  0.106800  0.388350  2.437558e-05\n",
       "7   2.582525  0.106796  0.388349  2.339823e-06\n",
       "8   2.582524  0.106796  0.388349  4.260761e-07\n",
       "9   2.582524  0.106796  0.388350  5.924110e-08\n",
       "10  2.582524  0.106796  0.388350  5.423252e-09\n",
       "11  2.582524  0.106796  0.388350  7.720835e-10"
      ],
      "text/html": [
       "<div>\n",
       "<style scoped>\n",
       "    .dataframe tbody tr th:only-of-type {\n",
       "        vertical-align: middle;\n",
       "    }\n",
       "\n",
       "    .dataframe tbody tr th {\n",
       "        vertical-align: top;\n",
       "    }\n",
       "\n",
       "    .dataframe thead th {\n",
       "        text-align: right;\n",
       "    }\n",
       "</style>\n",
       "<table border=\"1\" class=\"dataframe\">\n",
       "  <thead>\n",
       "    <tr style=\"text-align: right;\">\n",
       "      <th></th>\n",
       "      <th>x1</th>\n",
       "      <th>x2</th>\n",
       "      <th>x3</th>\n",
       "      <th>residual</th>\n",
       "    </tr>\n",
       "  </thead>\n",
       "  <tbody>\n",
       "    <tr>\n",
       "      <th>0</th>\n",
       "      <td>0.000000</td>\n",
       "      <td>0.000000</td>\n",
       "      <td>0.000000</td>\n",
       "      <td>1.529706e+01</td>\n",
       "    </tr>\n",
       "    <tr>\n",
       "      <th>1</th>\n",
       "      <td>2.750000</td>\n",
       "      <td>-0.041667</td>\n",
       "      <td>0.291667</td>\n",
       "      <td>6.897061e-01</td>\n",
       "    </tr>\n",
       "    <tr>\n",
       "      <th>2</th>\n",
       "      <td>2.593750</td>\n",
       "      <td>0.085069</td>\n",
       "      <td>0.379514</td>\n",
       "      <td>1.005686e-01</td>\n",
       "    </tr>\n",
       "    <tr>\n",
       "      <th>3</th>\n",
       "      <td>2.581510</td>\n",
       "      <td>0.105830</td>\n",
       "      <td>0.388562</td>\n",
       "      <td>9.432324e-03</td>\n",
       "    </tr>\n",
       "    <tr>\n",
       "      <th>4</th>\n",
       "      <td>2.582177</td>\n",
       "      <td>0.107005</td>\n",
       "      <td>0.388530</td>\n",
       "      <td>1.238321e-03</td>\n",
       "    </tr>\n",
       "    <tr>\n",
       "      <th>5</th>\n",
       "      <td>2.582486</td>\n",
       "      <td>0.106845</td>\n",
       "      <td>0.388375</td>\n",
       "      <td>2.173700e-04</td>\n",
       "    </tr>\n",
       "    <tr>\n",
       "      <th>6</th>\n",
       "      <td>2.582524</td>\n",
       "      <td>0.106800</td>\n",
       "      <td>0.388350</td>\n",
       "      <td>2.437558e-05</td>\n",
       "    </tr>\n",
       "    <tr>\n",
       "      <th>7</th>\n",
       "      <td>2.582525</td>\n",
       "      <td>0.106796</td>\n",
       "      <td>0.388349</td>\n",
       "      <td>2.339823e-06</td>\n",
       "    </tr>\n",
       "    <tr>\n",
       "      <th>8</th>\n",
       "      <td>2.582524</td>\n",
       "      <td>0.106796</td>\n",
       "      <td>0.388349</td>\n",
       "      <td>4.260761e-07</td>\n",
       "    </tr>\n",
       "    <tr>\n",
       "      <th>9</th>\n",
       "      <td>2.582524</td>\n",
       "      <td>0.106796</td>\n",
       "      <td>0.388350</td>\n",
       "      <td>5.924110e-08</td>\n",
       "    </tr>\n",
       "    <tr>\n",
       "      <th>10</th>\n",
       "      <td>2.582524</td>\n",
       "      <td>0.106796</td>\n",
       "      <td>0.388350</td>\n",
       "      <td>5.423252e-09</td>\n",
       "    </tr>\n",
       "    <tr>\n",
       "      <th>11</th>\n",
       "      <td>2.582524</td>\n",
       "      <td>0.106796</td>\n",
       "      <td>0.388350</td>\n",
       "      <td>7.720835e-10</td>\n",
       "    </tr>\n",
       "  </tbody>\n",
       "</table>\n",
       "</div>"
      ]
     },
     "execution_count": 26,
     "metadata": {},
     "output_type": "execute_result"
    }
   ],
   "execution_count": 26
  },
  {
   "metadata": {
    "ExecuteTime": {
     "end_time": "2025-03-24T16:57:40.769977Z",
     "start_time": "2025-03-24T16:57:40.755487Z"
    }
   },
   "cell_type": "code",
   "source": [
    "compare_df = pd.DataFrame(timing_data, index=['Time (ms)']).T\n",
    "compare_df['error'] = [\n",
    "    0,\n",
    "    0,\n",
    "    jacob_solver_df.loc[len(jacob_solver_df)-1, 'residual'],\n",
    "    gauss_seidel_solver_df.loc[len(gauss_seidel_solver_df)-1,'residual']]\n",
    "compare_df['iterations'] = [\n",
    "    3+3,\n",
    "    3+3,\n",
    "    len(jacob_solver_df),\n",
    "    len(gauss_seidel_solver_df)\n",
    "]\n",
    "compare_df"
   ],
   "id": "f68f7c21d249187a",
   "outputs": [
    {
     "data": {
      "text/plain": [
       "                      Time (ms)         error  iterations\n",
       "Gauss                 13.570070  0.000000e+00           6\n",
       "LU Decomposition      21.283388  0.000000e+00           6\n",
       "jacob method          97.787380  5.554834e-08          23\n",
       "gauss-seidel  method  54.306269  7.720835e-10          12"
      ],
      "text/html": [
       "<div>\n",
       "<style scoped>\n",
       "    .dataframe tbody tr th:only-of-type {\n",
       "        vertical-align: middle;\n",
       "    }\n",
       "\n",
       "    .dataframe tbody tr th {\n",
       "        vertical-align: top;\n",
       "    }\n",
       "\n",
       "    .dataframe thead th {\n",
       "        text-align: right;\n",
       "    }\n",
       "</style>\n",
       "<table border=\"1\" class=\"dataframe\">\n",
       "  <thead>\n",
       "    <tr style=\"text-align: right;\">\n",
       "      <th></th>\n",
       "      <th>Time (ms)</th>\n",
       "      <th>error</th>\n",
       "      <th>iterations</th>\n",
       "    </tr>\n",
       "  </thead>\n",
       "  <tbody>\n",
       "    <tr>\n",
       "      <th>Gauss</th>\n",
       "      <td>13.570070</td>\n",
       "      <td>0.000000e+00</td>\n",
       "      <td>6</td>\n",
       "    </tr>\n",
       "    <tr>\n",
       "      <th>LU Decomposition</th>\n",
       "      <td>21.283388</td>\n",
       "      <td>0.000000e+00</td>\n",
       "      <td>6</td>\n",
       "    </tr>\n",
       "    <tr>\n",
       "      <th>jacob method</th>\n",
       "      <td>97.787380</td>\n",
       "      <td>5.554834e-08</td>\n",
       "      <td>23</td>\n",
       "    </tr>\n",
       "    <tr>\n",
       "      <th>gauss-seidel  method</th>\n",
       "      <td>54.306269</td>\n",
       "      <td>7.720835e-10</td>\n",
       "      <td>12</td>\n",
       "    </tr>\n",
       "  </tbody>\n",
       "</table>\n",
       "</div>"
      ]
     },
     "execution_count": 27,
     "metadata": {},
     "output_type": "execute_result"
    }
   ],
   "execution_count": 27
  },
  {
   "cell_type": "code",
   "id": "cfcb8af0c21dc395",
   "metadata": {
    "ExecuteTime": {
     "end_time": "2025-03-24T16:57:40.893861Z",
     "start_time": "2025-03-24T16:57:40.881855Z"
    }
   },
   "source": [
    "df_to_latex(\n",
    "    df=compare_df,\n",
    "    filepath=Path(Path().cwd() / 'Assignment4_latex' / 'compare_df.tex').resolve().__str__(),\n",
    "    formatting=dict(\n",
    "        Time=(dict(header='$Time (ms)$', format='0.6f')),\n",
    "        error=(dict(header=r'$Error$', format='0.6g')),\n",
    "        iterations=(dict(header='Iterations', format=str)),\n",
    "    ),\n",
    "    precision=6,\n",
    "    caption='Comparison of Methods',\n",
    "    label='tab:compare_df'\n",
    ")"
   ],
   "outputs": [
    {
     "name": "stdout",
     "output_type": "stream",
     "text": [
      "2025-03-24 19:57:40,889 - utils.LaTeXTools - INFO - LaTeXTools.py:df_to_latex:90 - LaTeX table exported to /home/hhj/PycharmProjects/NumericalMethods/Examples/Assginment4/Assignment4_latex/compare_df.tex\n"
     ]
    },
    {
     "data": {
      "text/plain": [
       "'\\\\begin{table}[h]\\n\\\\centering\\n\\\\begin{tabular}{lrll}\\n\\\\toprule\\n & Time (ms) & $Error$ & Iterations \\\\\\\\\\n\\\\midrule\\nGauss & 13.570070 & 0 & 6 \\\\\\\\\\nLU Decomposition & 21.283388 & 0 & 6 \\\\\\\\\\njacob method & 97.787380 & 5.55483e-08 & 23 \\\\\\\\\\ngauss-seidel  method & 54.306269 & 7.72084e-10 & 12 \\\\\\\\\\n\\\\bottomrule\\n\\\\end{tabular}\\n\\n\\\\caption{Comparison of Methods}\\n\\\\label{tab:compare_df}\\n\\\\end{table}'"
      ]
     },
     "execution_count": 28,
     "metadata": {},
     "output_type": "execute_result"
    }
   ],
   "execution_count": 28
  },
  {
   "metadata": {},
   "cell_type": "code",
   "outputs": [],
   "execution_count": null,
   "source": "",
   "id": "751aa777b4e5b088"
  }
 ],
 "metadata": {
  "kernelspec": {
   "display_name": "Python 3 (ipykernel)",
   "language": "python",
   "name": "python3"
  },
  "language_info": {
   "codemirror_mode": {
    "name": "ipython",
    "version": 3
   },
   "file_extension": ".py",
   "mimetype": "text/x-python",
   "name": "python",
   "nbconvert_exporter": "python",
   "pygments_lexer": "ipython3",
   "version": "3.12.9"
  }
 },
 "nbformat": 4,
 "nbformat_minor": 5
}
