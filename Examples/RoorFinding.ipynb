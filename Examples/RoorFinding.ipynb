{
 "cells": [
  {
   "cell_type": "code",
   "id": "initial_id",
   "metadata": {
    "ExecuteTime": {
     "end_time": "2025-03-15T17:44:22.884044Z",
     "start_time": "2025-03-15T17:44:22.284825Z"
    }
   },
   "source": [
    "import numpy as np\n",
    "import sympy as sp\n",
    "import matplotlib.pyplot as plt\n",
    "from IPython.display import clear_output"
   ],
   "outputs": [],
   "execution_count": 1
  },
  {
   "metadata": {
    "ExecuteTime": {
     "end_time": "2025-03-15T17:44:22.890971Z",
     "start_time": "2025-03-15T17:44:22.887943Z"
    }
   },
   "cell_type": "code",
   "source": [
    "data = dict(\n",
    "    function = lambda x:np.tanh(x**2-9),\n",
    "    xm1 = 2.7,\n",
    "    x0 = 3.2,\n",
    "    dx = 1e-3,\n",
    ")\n",
    "data['function_sympy'] = lambda x:sp.tanh(x**2-9)"
   ],
   "id": "bcfeccefcde7da6b",
   "outputs": [],
   "execution_count": 2
  },
  {
   "cell_type": "markdown",
   "id": "4c534514319a2467",
   "metadata": {},
   "source": [
    "# Three Point Method\n",
    "\n",
    "$$f(x_{n+1}) = f(x_n) + f'(a) (x_{n+1}-x_n) + 0.5 f''(x_n) (x_{n+1}-x_n)^2=0$$\n",
    "$$x_{n+1} = \\Re(t_n + \\frac{-f'(x_n)\\pm \\sqrt{f'(x_n)^2-2f''(x_n)f(x_n)}}{f''(x_n)}) $$\n",
    "$$f'(x_n) \\approx \\frac{f(x+h)-f(x-h)}{2h} $$\n",
    "$$f''(x_n) \\approx \\frac{f(x_n+h)-2f(x)+f(x_n-h)}{2h} $$\n"
   ]
  },
  {
   "metadata": {
    "ExecuteTime": {
     "end_time": "2025-03-15T17:44:23.208034Z",
     "start_time": "2025-03-15T17:44:22.979900Z"
    }
   },
   "cell_type": "code",
   "source": [
    "from FindRoots.OpenMethods.ThreePointSecantMethod import ThreePointSecantMethod\n",
    "\n",
    "\n",
    "three_point_secant_method_solver=ThreePointSecantMethod(\n",
    "    function=data['function'],\n",
    "    x0=data['x0'],\n",
    "    dx=data['dx'],\n",
    ")\n",
    "three_point_secant_method_df = three_point_secant_method_solver.run()"
   ],
   "id": "597da9b3dcbb0d40",
   "outputs": [
    {
     "name": "stdout",
     "output_type": "stream",
     "text": [
      "2025-03-15 20:44:23,192 - ThreePointSecantMethod - INFO - Numerical.py:run:124 - Starting ThreePointSecantMethod\n",
      "2025-03-15 20:44:23,192 - ThreePointSecantMethod - INFO - Numerical.py:initialize:70 - Initial state:{'x': 3.2, 'f': np.float64(0.8454555957266808), 'df_dx': np.float64(1.8253363814167423), 'd2f_dx2': np.float64(-19.182810757745195), 'det': np.float64(-35.01508237394477), 'log': 'Initial State'}\n",
      "2025-03-15 20:44:23,194 - ThreePointSecantMethod - INFO - Numerical.py:run:129 - Iteration 1 completed\n",
      "Stop condition [StopIfZero: Stop when 'f' equals 0 (abs_tol=1e-06) for 3 iterations] NOT met: Variable f:0.845456 != 0 (abs diff: 0.845456 > 1e-06)\n",
      "Stop condition [StopIfNaN: Stop if any of ['f', 'x', 'df_dx', 'd2f_dx2'] is NaN] NOT met: No NaN values found\n",
      "2025-03-15 20:44:23,195 - ThreePointSecantMethod - INFO - Numerical.py:run:134 - State: \n",
      "{'x': np.float64(2.9833830146240032), 'f': np.float64(-0.09909945425702939), 'df_dx': np.float64(1.8253363814167423), 'd2f_dx2': np.float64(-19.182810757745195), 'det': np.float64(35.76828229912685), 'log': 'det > 0, x_np1_1 is better'}\n",
      "\n",
      "2025-03-15 20:44:23,196 - ThreePointSecantMethod - INFO - Numerical.py:run:129 - Iteration 2 completed\n",
      "Stop condition [StopIfZero: Stop when 'f' equals 0 (abs_tol=1e-06) for 3 iterations] NOT met: Variable f:-0.0990995 != 0 (abs diff: 0.0990995 > 1e-06)\n",
      "Stop condition [StopIfNaN: Stop if any of ['f', 'x', 'df_dx', 'd2f_dx2'] is NaN] NOT met: No NaN values found\n",
      "2025-03-15 20:44:23,197 - ThreePointSecantMethod - INFO - Numerical.py:run:134 - State: \n",
      "{'x': np.float64(2.9999482563868796), 'f': np.float64(-0.00031045899134669777), 'df_dx': np.float64(5.908101321962067), 'd2f_dx2': np.float64(8.967165174567082), 'det': np.float64(36.6829435806344), 'log': 'det > 0, x_np1_1 is better'}\n",
      "\n",
      "2025-03-15 20:44:23,198 - ThreePointSecantMethod - INFO - Numerical.py:run:129 - Iteration 3 completed\n",
      "Stop condition [StopIfZero: Stop when 'f' equals 0 (abs_tol=1e-06) for 3 iterations] NOT met: Variable f:-0.000310459 != 0 (abs diff: 0.000310459 > 1e-06)\n",
      "Stop condition [StopIfNaN: Stop if any of ['f', 'x', 'df_dx', 'd2f_dx2'] is NaN] NOT met: No NaN values found\n",
      "2025-03-15 20:44:23,199 - ThreePointSecantMethod - INFO - Numerical.py:run:134 - State: \n",
      "{'x': np.float64(3.000000000619211), 'f': np.float64(3.7152663168171784e-09), 'df_dx': np.float64(5.999823942983895), 'd2f_dx2': np.float64(2.022279550088768), 'det': np.float64(35.99914301654149), 'log': 'det > 0, x_np1_1 is better'}\n",
      "\n",
      "2025-03-15 20:44:23,200 - ThreePointSecantMethod - INFO - Numerical.py:run:129 - Iteration 4 completed\n",
      "Stop condition [StopIfZero: Stop when 'f' equals 0 (abs_tol=1e-06) for 3 iterations] NOT met: Variable f:3.71527e-09 matches target 0 (abs diff: 3.71527e-09 ≤ 1e-06) (1/3 iterations)\n",
      "Stop condition [StopIfNaN: Stop if any of ['f', 'x', 'df_dx', 'd2f_dx2'] is NaN] NOT met: No NaN values found\n",
      "2025-03-15 20:44:23,201 - ThreePointSecantMethod - INFO - Numerical.py:run:134 - State: \n",
      "{'x': np.float64(2.9999999999999925), 'f': np.float64(-4.440892098500626e-14), 'df_dx': np.float64(5.999928002269044), 'd2f_dx2': np.float64(1.999927732737779), 'det': np.float64(35.99913601755168), 'log': 'det > 0, x_np1_1 is better'}\n",
      "\n",
      "2025-03-15 20:44:23,203 - ThreePointSecantMethod - INFO - Numerical.py:run:129 - Iteration 5 completed\n",
      "Stop condition [StopIfZero: Stop when 'f' equals 0 (abs_tol=1e-06) for 3 iterations] NOT met: Variable f:-4.44089e-14 matches target 0 (abs diff: 4.44089e-14 ≤ 1e-06) (2/3 iterations)\n",
      "Stop condition [StopIfNaN: Stop if any of ['f', 'x', 'df_dx', 'd2f_dx2'] is NaN] NOT met: No NaN values found\n",
      "2025-03-15 20:44:23,203 - ThreePointSecantMethod - INFO - Numerical.py:run:134 - State: \n",
      "{'x': np.float64(2.9999999999999996), 'f': np.float64(-1.7763568394002505e-15), 'df_dx': np.float64(5.999928001030124), 'd2f_dx2': np.float64(1.999927998458384), 'det': np.float64(35.99913601754552), 'log': 'det > 0, x_np1_1 is better'}\n",
      "\n",
      "2025-03-15 20:44:23,205 - ThreePointSecantMethod - INFO - Numerical.py:run:129 - Stop condition [StopIfZero: Stop when 'f' equals 0 (abs_tol=1e-06) for 3 iterations] MET    : Variable f:-1.77636e-15 reached target 0 (abs diff: 1.77636e-15 ≤ 1e-06) for 3 iterations\n",
      "Stop condition [StopIfNaN: Stop if any of ['f', 'x', 'df_dx', 'd2f_dx2'] is NaN] NOT met: No NaN values found\n",
      "2025-03-15 20:44:23,205 - ThreePointSecantMethod - INFO - Numerical.py:run:134 - State: \n",
      "{'x': np.float64(3.0), 'f': np.float64(0.0), 'df_dx': np.float64(5.999928001030123), 'd2f_dx2': np.float64(1.9999279984540472), 'det': np.float64(35.99913601754534), 'log': 'det > 0, x_np1_1 is better'}\n",
      "\n"
     ]
    }
   ],
   "execution_count": 3
  },
  {
   "metadata": {
    "ExecuteTime": {
     "end_time": "2025-03-15T17:44:23.296633Z",
     "start_time": "2025-03-15T17:44:23.284385Z"
    }
   },
   "cell_type": "code",
   "source": "three_point_secant_method_df",
   "id": "64f95de40c6b8692",
   "outputs": [
    {
     "data": {
      "text/plain": [
       "          x             f     df_dx    d2f_dx2        det  \\\n",
       "0  3.200000  8.454556e-01  1.825336 -19.182811 -35.015082   \n",
       "1  2.983383 -9.909945e-02  1.825336 -19.182811  35.768282   \n",
       "2  2.999948 -3.104590e-04  5.908101   8.967165  36.682944   \n",
       "3  3.000000  3.715266e-09  5.999824   2.022280  35.999143   \n",
       "4  3.000000 -4.440892e-14  5.999928   1.999928  35.999136   \n",
       "5  3.000000 -1.776357e-15  5.999928   1.999928  35.999136   \n",
       "6  3.000000  0.000000e+00  5.999928   1.999928  35.999136   \n",
       "\n",
       "                          log  \n",
       "0               Initial State  \n",
       "1  det > 0, x_np1_1 is better  \n",
       "2  det > 0, x_np1_1 is better  \n",
       "3  det > 0, x_np1_1 is better  \n",
       "4  det > 0, x_np1_1 is better  \n",
       "5  det > 0, x_np1_1 is better  \n",
       "6  det > 0, x_np1_1 is better  "
      ],
      "text/html": [
       "<div>\n",
       "<style scoped>\n",
       "    .dataframe tbody tr th:only-of-type {\n",
       "        vertical-align: middle;\n",
       "    }\n",
       "\n",
       "    .dataframe tbody tr th {\n",
       "        vertical-align: top;\n",
       "    }\n",
       "\n",
       "    .dataframe thead th {\n",
       "        text-align: right;\n",
       "    }\n",
       "</style>\n",
       "<table border=\"1\" class=\"dataframe\">\n",
       "  <thead>\n",
       "    <tr style=\"text-align: right;\">\n",
       "      <th></th>\n",
       "      <th>x</th>\n",
       "      <th>f</th>\n",
       "      <th>df_dx</th>\n",
       "      <th>d2f_dx2</th>\n",
       "      <th>det</th>\n",
       "      <th>log</th>\n",
       "    </tr>\n",
       "  </thead>\n",
       "  <tbody>\n",
       "    <tr>\n",
       "      <th>0</th>\n",
       "      <td>3.200000</td>\n",
       "      <td>8.454556e-01</td>\n",
       "      <td>1.825336</td>\n",
       "      <td>-19.182811</td>\n",
       "      <td>-35.015082</td>\n",
       "      <td>Initial State</td>\n",
       "    </tr>\n",
       "    <tr>\n",
       "      <th>1</th>\n",
       "      <td>2.983383</td>\n",
       "      <td>-9.909945e-02</td>\n",
       "      <td>1.825336</td>\n",
       "      <td>-19.182811</td>\n",
       "      <td>35.768282</td>\n",
       "      <td>det &gt; 0, x_np1_1 is better</td>\n",
       "    </tr>\n",
       "    <tr>\n",
       "      <th>2</th>\n",
       "      <td>2.999948</td>\n",
       "      <td>-3.104590e-04</td>\n",
       "      <td>5.908101</td>\n",
       "      <td>8.967165</td>\n",
       "      <td>36.682944</td>\n",
       "      <td>det &gt; 0, x_np1_1 is better</td>\n",
       "    </tr>\n",
       "    <tr>\n",
       "      <th>3</th>\n",
       "      <td>3.000000</td>\n",
       "      <td>3.715266e-09</td>\n",
       "      <td>5.999824</td>\n",
       "      <td>2.022280</td>\n",
       "      <td>35.999143</td>\n",
       "      <td>det &gt; 0, x_np1_1 is better</td>\n",
       "    </tr>\n",
       "    <tr>\n",
       "      <th>4</th>\n",
       "      <td>3.000000</td>\n",
       "      <td>-4.440892e-14</td>\n",
       "      <td>5.999928</td>\n",
       "      <td>1.999928</td>\n",
       "      <td>35.999136</td>\n",
       "      <td>det &gt; 0, x_np1_1 is better</td>\n",
       "    </tr>\n",
       "    <tr>\n",
       "      <th>5</th>\n",
       "      <td>3.000000</td>\n",
       "      <td>-1.776357e-15</td>\n",
       "      <td>5.999928</td>\n",
       "      <td>1.999928</td>\n",
       "      <td>35.999136</td>\n",
       "      <td>det &gt; 0, x_np1_1 is better</td>\n",
       "    </tr>\n",
       "    <tr>\n",
       "      <th>6</th>\n",
       "      <td>3.000000</td>\n",
       "      <td>0.000000e+00</td>\n",
       "      <td>5.999928</td>\n",
       "      <td>1.999928</td>\n",
       "      <td>35.999136</td>\n",
       "      <td>det &gt; 0, x_np1_1 is better</td>\n",
       "    </tr>\n",
       "  </tbody>\n",
       "</table>\n",
       "</div>"
      ]
     },
     "execution_count": 4,
     "metadata": {},
     "output_type": "execute_result"
    }
   ],
   "execution_count": 4
  },
  {
   "metadata": {},
   "cell_type": "markdown",
   "source": [
    "# Three Point Method_2\n",
    "\n"
   ],
   "id": "ad2f28f8b21af97b"
  },
  {
   "metadata": {},
   "cell_type": "markdown",
   "source": "# False postion",
   "id": "b09ef10b1a03b3d3"
  },
  {
   "metadata": {
    "ExecuteTime": {
     "end_time": "2025-03-15T17:44:23.380636Z",
     "start_time": "2025-03-15T17:44:23.364905Z"
    }
   },
   "cell_type": "code",
   "source": [
    "from FindRoots.BracketingMethods.FalsePositionMethod import FalsePositionMethod\n",
    "\n",
    "false_position_method_solver=FalsePositionMethod.initial_range(\n",
    "    (data['xm1'], data['x0']),\n",
    "    function=data['function'],\n",
    ")\n",
    "false_position_method_solver_df = false_position_method_solver.run()"
   ],
   "id": "232c7c7f04c03e33",
   "outputs": [
    {
     "name": "stdout",
     "output_type": "stream",
     "text": [
      "2025-03-15 20:44:23,371 - FalsePositionMethod - INFO - Numerical.py:run:124 - Starting FalsePositionMethod\n",
      "2025-03-15 20:44:23,371 - FalsePositionMethod - INFO - Numerical.py:initialize:70 - Initial state:{'a': 2.7, 'b': 3.2, 'c': np.float64(2.4627927426759357), 'fa': np.float64(-0.9366475432418871), 'fb': np.float64(0.8454555957266808), 'fc': np.float64(-0.9943662359473305), 'log': 'Initial state'}\n",
      "2025-03-15 20:44:23,372 - FalsePositionMethod - INFO - Numerical.py:run:129 - Iteration 1 completed\n",
      "\n",
      "2025-03-15 20:44:23,373 - FalsePositionMethod - INFO - FalsePositionMethod.py:step:34 - f(6.787e+00) = 1.000e+00\n",
      "2025-03-15 20:44:23,373 - FalsePositionMethod - INFO - Numerical.py:run:134 - State: \n",
      "{'a': 2.7, 'b': np.float64(6.786559770306009), 'c': np.float64(6.786559770306009), 'fa': np.float64(-0.9366475432418871), 'fb': np.float64(-0.9943662359473305), 'fc': np.float64(1.0), 'log': 'Root in [a,c]'}\n",
      "\n",
      "2025-03-15 20:44:23,374 - FalsePositionMethod - INFO - Numerical.py:run:129 - Iteration 2 completed\n",
      "\n",
      "2025-03-15 20:44:23,375 - FalsePositionMethod - INFO - FalsePositionMethod.py:step:34 - f(5.899e-01) = -1.000e+00\n",
      "2025-03-15 20:44:23,375 - FalsePositionMethod - INFO - Numerical.py:run:134 - State: \n",
      "{'a': np.float64(0.5898794545417205), 'b': np.float64(6.786559770306009), 'c': np.float64(0.5898794545417205), 'fa': np.float64(-0.9366475432418871), 'fb': np.float64(1.0), 'fc': np.float64(-0.9999999389112009), 'log': 'Root in [c,b]'}\n",
      "\n",
      "2025-03-15 20:44:23,376 - FalsePositionMethod - INFO - Numerical.py:run:129 - Iteration 3 completed\n",
      "\n",
      "2025-03-15 20:44:23,377 - FalsePositionMethod - INFO - FalsePositionMethod.py:step:34 - f(nan) = nan\n",
      "2025-03-15 20:44:23,377 - FalsePositionMethod - ERROR - Numerical.py:run:136 - Exception occurred: False position method failed to converge\n",
      "Traceback (most recent call last):\n",
      "  File \"/home/hhj/PycharmProjects/NumericalMethods/Core/Numerical.py\", line 132, in run\n",
      "    state = self.step()\n",
      "            ^^^^^^^^^^^\n",
      "  File \"/home/hhj/PycharmProjects/NumericalMethods/FindRoots/BracketingMethods/FalsePositionMethod.py\", line 59, in step\n",
      "    raise ValueError(\"False position method failed to converge\")\n",
      "ValueError: False position method failed to converge\n"
     ]
    },
    {
     "name": "stderr",
     "output_type": "stream",
     "text": [
      "/home/hhj/PycharmProjects/NumericalMethods/FindRoots/BracketingMethods/FalsePositionMethod.py:31: RuntimeWarning: invalid value encountered in scalar divide\n",
      "  c = a - fb * (a - b) / (fa - fb)\n"
     ]
    }
   ],
   "execution_count": 5
  },
  {
   "metadata": {
    "ExecuteTime": {
     "end_time": "2025-03-15T17:44:23.416274Z",
     "start_time": "2025-03-15T17:44:23.409351Z"
    }
   },
   "cell_type": "code",
   "source": "false_position_method_solver_df",
   "id": "fe65e5d8d65b2cdb",
   "outputs": [
    {
     "data": {
      "text/plain": [
       "          a        b         c        fa        fb        fc            log\n",
       "0  2.700000  3.20000  2.462793 -0.936648  0.845456 -0.994366  Initial state\n",
       "1  2.700000  6.78656  6.786560 -0.936648 -0.994366  1.000000  Root in [a,c]\n",
       "2  0.589879  6.78656  0.589879 -0.936648  1.000000 -1.000000  Root in [c,b]"
      ],
      "text/html": [
       "<div>\n",
       "<style scoped>\n",
       "    .dataframe tbody tr th:only-of-type {\n",
       "        vertical-align: middle;\n",
       "    }\n",
       "\n",
       "    .dataframe tbody tr th {\n",
       "        vertical-align: top;\n",
       "    }\n",
       "\n",
       "    .dataframe thead th {\n",
       "        text-align: right;\n",
       "    }\n",
       "</style>\n",
       "<table border=\"1\" class=\"dataframe\">\n",
       "  <thead>\n",
       "    <tr style=\"text-align: right;\">\n",
       "      <th></th>\n",
       "      <th>a</th>\n",
       "      <th>b</th>\n",
       "      <th>c</th>\n",
       "      <th>fa</th>\n",
       "      <th>fb</th>\n",
       "      <th>fc</th>\n",
       "      <th>log</th>\n",
       "    </tr>\n",
       "  </thead>\n",
       "  <tbody>\n",
       "    <tr>\n",
       "      <th>0</th>\n",
       "      <td>2.700000</td>\n",
       "      <td>3.20000</td>\n",
       "      <td>2.462793</td>\n",
       "      <td>-0.936648</td>\n",
       "      <td>0.845456</td>\n",
       "      <td>-0.994366</td>\n",
       "      <td>Initial state</td>\n",
       "    </tr>\n",
       "    <tr>\n",
       "      <th>1</th>\n",
       "      <td>2.700000</td>\n",
       "      <td>6.78656</td>\n",
       "      <td>6.786560</td>\n",
       "      <td>-0.936648</td>\n",
       "      <td>-0.994366</td>\n",
       "      <td>1.000000</td>\n",
       "      <td>Root in [a,c]</td>\n",
       "    </tr>\n",
       "    <tr>\n",
       "      <th>2</th>\n",
       "      <td>0.589879</td>\n",
       "      <td>6.78656</td>\n",
       "      <td>0.589879</td>\n",
       "      <td>-0.936648</td>\n",
       "      <td>1.000000</td>\n",
       "      <td>-1.000000</td>\n",
       "      <td>Root in [c,b]</td>\n",
       "    </tr>\n",
       "  </tbody>\n",
       "</table>\n",
       "</div>"
      ]
     },
     "execution_count": 6,
     "metadata": {},
     "output_type": "execute_result"
    }
   ],
   "execution_count": 6
  },
  {
   "metadata": {
    "ExecuteTime": {
     "end_time": "2025-03-15T17:44:23.476725Z",
     "start_time": "2025-03-15T17:44:23.474433Z"
    }
   },
   "cell_type": "code",
   "source": "",
   "id": "baec3872d135e3e3",
   "outputs": [],
   "execution_count": null
  }
 ],
 "metadata": {
  "kernelspec": {
   "display_name": "Python 3 (ipykernel)",
   "language": "python",
   "name": "python3"
  },
  "language_info": {
   "codemirror_mode": {
    "name": "ipython",
    "version": 3
   },
   "file_extension": ".py",
   "mimetype": "text/x-python",
   "name": "python",
   "nbconvert_exporter": "python",
   "pygments_lexer": "ipython3",
   "version": "3.12.9"
  }
 },
 "nbformat": 4,
 "nbformat_minor": 5
}
