{
 "cells": [
  {
   "cell_type": "code",
   "id": "initial_id",
   "metadata": {
    "ExecuteTime": {
     "end_time": "2025-03-09T09:44:09.907687Z",
     "start_time": "2025-03-09T09:44:09.360074Z"
    }
   },
   "source": [
    "import numpy as np\n",
    "import sympy as sp\n",
    "import matplotlib.pyplot as plt\n",
    "from IPython.display import clear_output"
   ],
   "outputs": [],
   "execution_count": 1
  },
  {
   "cell_type": "markdown",
   "id": "4c534514319a2467",
   "metadata": {},
   "source": [
    "# Three Point Method\n",
    "\n",
    "$$f(t_{n+1}) = f(t_n) + f'(a) (t_{n+1}-t_n) + 0.5 f''(t_n) (t_{n+1}-t_n)^2=0$$\n",
    "$$t_{n+1} = \\Re(t_n + \\frac{-f'(t_n)\\pm \\sqrt{f'(t_n)^2-2f''(t_n)f(t_n)}}{f''(t_n)}) $$\n",
    "$$f'(t_n) \\approx \\frac{f(t+\\delta t)-f(t-\\delta t)}{2\\delta t} $$\n",
    "$$f''(t_n) \\approx \\frac{f(t_n+\\delta t)-2f(t)+f(t_n-\\delta t)}{2\\delta t} $$\n"
   ]
  },
  {
   "cell_type": "code",
   "id": "8b0bbbd8574c0b41",
   "metadata": {
    "ExecuteTime": {
     "end_time": "2025-03-09T09:59:07.122029Z",
     "start_time": "2025-03-09T09:59:07.093356Z"
    }
   },
   "source": [
    "from FindRoots.OpenMethods.ThreePointSecantMethod import ThreePointSecantMethod\n",
    "\n",
    "three_point_secant_method_solver=ThreePointSecantMethod(\n",
    "    function=lambda x:np.tanh(x**2-9),\n",
    "    x0=3.2,\n",
    "    dx=1e-3,\n",
    ")\n",
    "three_point_secant_method_df = three_point_secant_method_solver.run()"
   ],
   "outputs": [
    {
     "name": "stdout",
     "output_type": "stream",
     "text": [
      "2025-03-09 12:59:07,098 - ThreePointSecantMethod - INFO - Numerical.py:run:122 - Starting ThreePointSecantMethod\n",
      "2025-03-09 12:59:07,100 - ThreePointSecantMethod - INFO - Numerical.py:initialize:68 - Initial state:{'t': 3.2, 'f': np.float64(0.8454555957266808), 'df_dt': np.float64(1.8253363814167423), 'd2f_dt2': np.float64(-19.182810757745195), 'det': np.float64(-35.01508237394477), 'log': 'Initial State'}\n",
      "2025-03-09 12:59:07,102 - ThreePointSecantMethod - INFO - Numerical.py:run:127 - Iteration 1 completed\n",
      "Stop condition [StopIfZero: Stop when 'f' equals 0 (abs_tol=1e-06) for 3 iterations] NOT met: Variable f:0.845456 != 0 (abs diff: 0.845456 > 1e-06)\n",
      "Stop condition [StopIfNaN: Stop if any of ['f', 't', 'df_dt', 'd2f_dt2'] is NaN] NOT met: No NaN values found\n",
      "2025-03-09 12:59:07,104 - ThreePointSecantMethod - INFO - Numerical.py:run:132 - State: \n",
      "{'t': np.float64(2.9833830146240032), 'f': np.float64(-0.09909945425702939), 'df_dt': np.float64(1.8253363814167423), 'd2f_dt2': np.float64(-19.182810757745195), 'det': np.float64(35.76828229912685), 'log': 'det > 0, t_np1_1 is better'}\n",
      "\n",
      "2025-03-09 12:59:07,106 - ThreePointSecantMethod - INFO - Numerical.py:run:127 - Iteration 2 completed\n",
      "Stop condition [StopIfZero: Stop when 'f' equals 0 (abs_tol=1e-06) for 3 iterations] NOT met: Variable f:-0.0990995 != 0 (abs diff: 0.0990995 > 1e-06)\n",
      "Stop condition [StopIfNaN: Stop if any of ['f', 't', 'df_dt', 'd2f_dt2'] is NaN] NOT met: No NaN values found\n",
      "2025-03-09 12:59:07,107 - ThreePointSecantMethod - INFO - Numerical.py:run:132 - State: \n",
      "{'t': np.float64(2.9999482563868796), 'f': np.float64(-0.00031045899134669777), 'df_dt': np.float64(5.908101321962067), 'd2f_dt2': np.float64(8.967165174567082), 'det': np.float64(36.6829435806344), 'log': 'det > 0, t_np1_1 is better'}\n",
      "\n",
      "2025-03-09 12:59:07,110 - ThreePointSecantMethod - INFO - Numerical.py:run:127 - Iteration 3 completed\n",
      "Stop condition [StopIfZero: Stop when 'f' equals 0 (abs_tol=1e-06) for 3 iterations] NOT met: Variable f:-0.000310459 != 0 (abs diff: 0.000310459 > 1e-06)\n",
      "Stop condition [StopIfNaN: Stop if any of ['f', 't', 'df_dt', 'd2f_dt2'] is NaN] NOT met: No NaN values found\n",
      "2025-03-09 12:59:07,112 - ThreePointSecantMethod - INFO - Numerical.py:run:132 - State: \n",
      "{'t': np.float64(3.000000000619211), 'f': np.float64(3.7152663168171784e-09), 'df_dt': np.float64(5.999823942983895), 'd2f_dt2': np.float64(2.022279550088768), 'det': np.float64(35.99914301654149), 'log': 'det > 0, t_np1_1 is better'}\n",
      "\n",
      "2025-03-09 12:59:07,114 - ThreePointSecantMethod - INFO - Numerical.py:run:127 - Iteration 4 completed\n",
      "Stop condition [StopIfZero: Stop when 'f' equals 0 (abs_tol=1e-06) for 3 iterations] NOT met: Variable f:3.71527e-09 matches target 0 (abs diff: 3.71527e-09 ≤ 1e-06) (1/3 iterations)\n",
      "Stop condition [StopIfNaN: Stop if any of ['f', 't', 'df_dt', 'd2f_dt2'] is NaN] NOT met: No NaN values found\n",
      "2025-03-09 12:59:07,114 - ThreePointSecantMethod - INFO - Numerical.py:run:132 - State: \n",
      "{'t': np.float64(2.9999999999999925), 'f': np.float64(-4.440892098500626e-14), 'df_dt': np.float64(5.999928002269044), 'd2f_dt2': np.float64(1.999927732737779), 'det': np.float64(35.99913601755168), 'log': 'det > 0, t_np1_1 is better'}\n",
      "\n",
      "2025-03-09 12:59:07,116 - ThreePointSecantMethod - INFO - Numerical.py:run:127 - Iteration 5 completed\n",
      "Stop condition [StopIfZero: Stop when 'f' equals 0 (abs_tol=1e-06) for 3 iterations] NOT met: Variable f:-4.44089e-14 matches target 0 (abs diff: 4.44089e-14 ≤ 1e-06) (2/3 iterations)\n",
      "Stop condition [StopIfNaN: Stop if any of ['f', 't', 'df_dt', 'd2f_dt2'] is NaN] NOT met: No NaN values found\n",
      "2025-03-09 12:59:07,117 - ThreePointSecantMethod - INFO - Numerical.py:run:132 - State: \n",
      "{'t': np.float64(2.9999999999999996), 'f': np.float64(-1.7763568394002505e-15), 'df_dt': np.float64(5.999928001030124), 'd2f_dt2': np.float64(1.999927998458384), 'det': np.float64(35.99913601754552), 'log': 'det > 0, t_np1_1 is better'}\n",
      "\n",
      "2025-03-09 12:59:07,119 - ThreePointSecantMethod - INFO - Numerical.py:run:127 - Stop condition [StopIfZero: Stop when 'f' equals 0 (abs_tol=1e-06) for 3 iterations] MET    : Variable f:-1.77636e-15 reached target 0 (abs diff: 1.77636e-15 ≤ 1e-06) for 3 iterations\n",
      "Stop condition [StopIfNaN: Stop if any of ['f', 't', 'df_dt', 'd2f_dt2'] is NaN] NOT met: No NaN values found\n",
      "2025-03-09 12:59:07,120 - ThreePointSecantMethod - INFO - Numerical.py:run:132 - State: \n",
      "{'t': np.float64(3.0), 'f': np.float64(0.0), 'df_dt': np.float64(5.999928001030123), 'd2f_dt2': np.float64(1.9999279984540472), 'det': np.float64(35.99913601754534), 'log': 'det > 0, t_np1_1 is better'}\n",
      "\n"
     ]
    }
   ],
   "execution_count": 23
  },
  {
   "metadata": {
    "ExecuteTime": {
     "end_time": "2025-03-09T09:59:08.255157Z",
     "start_time": "2025-03-09T09:59:08.247694Z"
    }
   },
   "cell_type": "code",
   "source": "three_point_secant_method_df",
   "id": "6c9541bacce1481e",
   "outputs": [
    {
     "data": {
      "text/plain": [
       "          t             f     df_dt    d2f_dt2        det  \\\n",
       "0  3.200000  8.454556e-01  1.825336 -19.182811 -35.015082   \n",
       "1  2.983383 -9.909945e-02  1.825336 -19.182811  35.768282   \n",
       "2  2.999948 -3.104590e-04  5.908101   8.967165  36.682944   \n",
       "3  3.000000  3.715266e-09  5.999824   2.022280  35.999143   \n",
       "4  3.000000 -4.440892e-14  5.999928   1.999928  35.999136   \n",
       "5  3.000000 -1.776357e-15  5.999928   1.999928  35.999136   \n",
       "6  3.000000  0.000000e+00  5.999928   1.999928  35.999136   \n",
       "\n",
       "                          log  \n",
       "0               Initial State  \n",
       "1  det > 0, t_np1_1 is better  \n",
       "2  det > 0, t_np1_1 is better  \n",
       "3  det > 0, t_np1_1 is better  \n",
       "4  det > 0, t_np1_1 is better  \n",
       "5  det > 0, t_np1_1 is better  \n",
       "6  det > 0, t_np1_1 is better  "
      ],
      "text/html": [
       "<div>\n",
       "<style scoped>\n",
       "    .dataframe tbody tr th:only-of-type {\n",
       "        vertical-align: middle;\n",
       "    }\n",
       "\n",
       "    .dataframe tbody tr th {\n",
       "        vertical-align: top;\n",
       "    }\n",
       "\n",
       "    .dataframe thead th {\n",
       "        text-align: right;\n",
       "    }\n",
       "</style>\n",
       "<table border=\"1\" class=\"dataframe\">\n",
       "  <thead>\n",
       "    <tr style=\"text-align: right;\">\n",
       "      <th></th>\n",
       "      <th>t</th>\n",
       "      <th>f</th>\n",
       "      <th>df_dt</th>\n",
       "      <th>d2f_dt2</th>\n",
       "      <th>det</th>\n",
       "      <th>log</th>\n",
       "    </tr>\n",
       "  </thead>\n",
       "  <tbody>\n",
       "    <tr>\n",
       "      <th>0</th>\n",
       "      <td>3.200000</td>\n",
       "      <td>8.454556e-01</td>\n",
       "      <td>1.825336</td>\n",
       "      <td>-19.182811</td>\n",
       "      <td>-35.015082</td>\n",
       "      <td>Initial State</td>\n",
       "    </tr>\n",
       "    <tr>\n",
       "      <th>1</th>\n",
       "      <td>2.983383</td>\n",
       "      <td>-9.909945e-02</td>\n",
       "      <td>1.825336</td>\n",
       "      <td>-19.182811</td>\n",
       "      <td>35.768282</td>\n",
       "      <td>det &gt; 0, t_np1_1 is better</td>\n",
       "    </tr>\n",
       "    <tr>\n",
       "      <th>2</th>\n",
       "      <td>2.999948</td>\n",
       "      <td>-3.104590e-04</td>\n",
       "      <td>5.908101</td>\n",
       "      <td>8.967165</td>\n",
       "      <td>36.682944</td>\n",
       "      <td>det &gt; 0, t_np1_1 is better</td>\n",
       "    </tr>\n",
       "    <tr>\n",
       "      <th>3</th>\n",
       "      <td>3.000000</td>\n",
       "      <td>3.715266e-09</td>\n",
       "      <td>5.999824</td>\n",
       "      <td>2.022280</td>\n",
       "      <td>35.999143</td>\n",
       "      <td>det &gt; 0, t_np1_1 is better</td>\n",
       "    </tr>\n",
       "    <tr>\n",
       "      <th>4</th>\n",
       "      <td>3.000000</td>\n",
       "      <td>-4.440892e-14</td>\n",
       "      <td>5.999928</td>\n",
       "      <td>1.999928</td>\n",
       "      <td>35.999136</td>\n",
       "      <td>det &gt; 0, t_np1_1 is better</td>\n",
       "    </tr>\n",
       "    <tr>\n",
       "      <th>5</th>\n",
       "      <td>3.000000</td>\n",
       "      <td>-1.776357e-15</td>\n",
       "      <td>5.999928</td>\n",
       "      <td>1.999928</td>\n",
       "      <td>35.999136</td>\n",
       "      <td>det &gt; 0, t_np1_1 is better</td>\n",
       "    </tr>\n",
       "    <tr>\n",
       "      <th>6</th>\n",
       "      <td>3.000000</td>\n",
       "      <td>0.000000e+00</td>\n",
       "      <td>5.999928</td>\n",
       "      <td>1.999928</td>\n",
       "      <td>35.999136</td>\n",
       "      <td>det &gt; 0, t_np1_1 is better</td>\n",
       "    </tr>\n",
       "  </tbody>\n",
       "</table>\n",
       "</div>"
      ]
     },
     "execution_count": 24,
     "metadata": {},
     "output_type": "execute_result"
    }
   ],
   "execution_count": 24
  },
  {
   "metadata": {
    "ExecuteTime": {
     "end_time": "2025-03-09T09:44:10.289814Z",
     "start_time": "2025-03-09T09:44:10.288171Z"
    }
   },
   "cell_type": "code",
   "source": "",
   "id": "232c7c7f04c03e33",
   "outputs": [],
   "execution_count": null
  }
 ],
 "metadata": {
  "kernelspec": {
   "display_name": "Python 3 (ipykernel)",
   "language": "python",
   "name": "python3"
  },
  "language_info": {
   "codemirror_mode": {
    "name": "ipython",
    "version": 3
   },
   "file_extension": ".py",
   "mimetype": "text/x-python",
   "name": "python",
   "nbconvert_exporter": "python",
   "pygments_lexer": "ipython3",
   "version": "3.12.9"
  }
 },
 "nbformat": 4,
 "nbformat_minor": 5
}
