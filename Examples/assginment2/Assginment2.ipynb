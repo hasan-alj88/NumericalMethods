{
 "cells": [
  {
   "cell_type": "code",
   "id": "initial_id",
   "metadata": {
    "ExecuteTime": {
     "end_time": "2025-03-07T19:03:49.894988Z",
     "start_time": "2025-03-07T19:03:49.327583Z"
    }
   },
   "source": [
    "import matplotlib.pyplot as plt\n",
    "import numpy as np\n",
    "import pandas as pd\n",
    "from pathlib import Path\n",
    "from IPython.display import clear_output, display\n",
    "\n",
    "from utils.ErrorCalculations import absolute_error, relative_error\n",
    "from utils.LaTeXTools import df_to_latex\n",
    "\n",
    "\n",
    "if not Path(str(Path().cwd() / 'figures')).exists():\n",
    "    Path(str(Path().cwd() / 'figures')).mkdir(exist_ok=True)\n",
    "figures_dir = Path().cwd() / 'figures'\n",
    "\n",
    "if not Path(str(Path().cwd() / 'data')).exists():\n",
    "    Path(str(Path().cwd() / 'data')).mkdir(exist_ok=True)\n",
    "data_dir = Path().cwd() / 'data'"
   ],
   "outputs": [],
   "execution_count": 1
  },
  {
   "cell_type": "markdown",
   "id": "f4c9fe82ea4f538c",
   "metadata": {},
   "source": [
    "# Q6.1\n",
    "Employ fixed-point method iteration to locate the root of\n",
    "\n",
    "$$ f(t) = \\sin(\\sqrt{t}) - t $$\n",
    "$$ f(t) = g(t) - t = 0 $$\n",
    "$$ g(t) = \\sin(\\sqrt{t}) = t $$"
   ]
  },
  {
   "cell_type": "code",
   "id": "4b83a5fb7acedd64",
   "metadata": {},
   "source": [
    "from FindRoots.OpenMethods.FixPointMethod import FixPointMethod\n",
    "from StopConditions.StopIfEqual import StopIfEqual\n",
    "\n",
    "fix_point_solver = FixPointMethod(\n",
    "    function=lambda t: np.sin(np.sqrt(t)),\n",
    "    t0=0.5,\n",
    "    max_iterations=100\n",
    ")\n",
    "fix_point_solver.stop_conditions.clear()\n",
    "fix_point_solver.add_stop_condition(StopIfEqual(tracking='t', value='g', patience=2, relative_tolerance=0.01e-2))\n",
    "\n",
    "fix_point_solver_history_df = fix_point_solver.run()\n",
    "clear_output()"
   ],
   "execution_count": 2,
   "outputs": []
  },
  {
   "cell_type": "code",
   "id": "c2a68515be48037a",
   "metadata": {
    "ExecuteTime": {
     "end_time": "2025-03-07T19:03:50.356529Z",
     "start_time": "2025-03-07T19:03:50.290858Z"
    }
   },
   "source": [
    "fix_point_solver_history_df.columns = ['t', 'g(t)']\n",
    "fix_point_solver_history_df['f(t)'] = fix_point_solver_history_df['g(t)'] - fix_point_solver_history_df['t']\n",
    "fix_point_solver_history_df[r'$\\varepsilon$'] = absolute_error(fix_point_solver_history_df['g(t)'], fix_point_solver_history_df['t'])\n",
    "fix_point_solver_history_df[r'$\\varepsilon_r$'] = relative_error(fix_point_solver_history_df['g(t)'], fix_point_solver_history_df['t'])\n",
    "\n",
    "df_to_latex(\n",
    "    fix_point_solver_history_df,\n",
    "    str(data_dir / 'Q6_1.tex'),\n",
    "    formatting={\n",
    "        't': dict(header='$t$', format='0.6f'),\n",
    "        'g(t)': dict(header='$g(t)$', format='0.6f'),\n",
    "        'f(t)': dict(header='$f(t)$', format='0.6f'),\n",
    "        r'$\\varepsilon$': dict(header=r'$|\\varepsilon|$', format='0.6f'),\n",
    "        r'$\\varepsilon_r$': dict(header=r'$|\\varepsilon_r|$ (\\%)', format='0.6f')\n",
    "    },\n",
    "    label='tab:Q6_1',\n",
    "    caption=r'Q6.1: Fixed-point method for finding the root of $f(t) = \\sin(\\sqrt{t}) - t$'\n",
    ")\n",
    "\n",
    "fix_point_solver_history_df"
   ],
   "outputs": [
    {
     "name": "stdout",
     "output_type": "stream",
     "text": [
      "2025-03-07 22:03:50,347 - utils.LaTeXTools - INFO - LaTeXTools.py:df_to_latex:85 - LaTeX table exported to /home/hhj/PycharmProjects/NumericalMethods/Examples/assginment2/data/Q6_1.tex\n"
     ]
    },
    {
     "data": {
      "text/plain": [
       "           t      g(t)      f(t)  $\\varepsilon$  $\\varepsilon_r$\n",
       "0   0.500000  0.649637  0.149637       0.149637         0.299274\n",
       "1   0.649637  0.721524  0.071887       0.071887         0.110657\n",
       "2   0.721524  0.750901  0.029377       0.029377         0.040716\n",
       "3   0.750901  0.762097  0.011196       0.011196         0.014910\n",
       "4   0.762097  0.766248  0.004151       0.004151         0.005447\n",
       "5   0.766248  0.767772  0.001524       0.001524         0.001988\n",
       "6   0.767772  0.768329  0.000557       0.000557         0.000725\n",
       "7   0.768329  0.768532  0.000203       0.000203         0.000265\n",
       "8   0.768532  0.768606  0.000074       0.000074         0.000097\n",
       "9   0.768606  0.768633  0.000027       0.000027         0.000035\n",
       "10  0.768633  0.768643  0.000010       0.000010         0.000013"
      ],
      "text/html": [
       "<div>\n",
       "<style scoped>\n",
       "    .dataframe tbody tr th:only-of-type {\n",
       "        vertical-align: middle;\n",
       "    }\n",
       "\n",
       "    .dataframe tbody tr th {\n",
       "        vertical-align: top;\n",
       "    }\n",
       "\n",
       "    .dataframe thead th {\n",
       "        text-align: right;\n",
       "    }\n",
       "</style>\n",
       "<table border=\"1\" class=\"dataframe\">\n",
       "  <thead>\n",
       "    <tr style=\"text-align: right;\">\n",
       "      <th></th>\n",
       "      <th>t</th>\n",
       "      <th>g(t)</th>\n",
       "      <th>f(t)</th>\n",
       "      <th>$\\varepsilon$</th>\n",
       "      <th>$\\varepsilon_r$</th>\n",
       "    </tr>\n",
       "  </thead>\n",
       "  <tbody>\n",
       "    <tr>\n",
       "      <th>0</th>\n",
       "      <td>0.500000</td>\n",
       "      <td>0.649637</td>\n",
       "      <td>0.149637</td>\n",
       "      <td>0.149637</td>\n",
       "      <td>0.299274</td>\n",
       "    </tr>\n",
       "    <tr>\n",
       "      <th>1</th>\n",
       "      <td>0.649637</td>\n",
       "      <td>0.721524</td>\n",
       "      <td>0.071887</td>\n",
       "      <td>0.071887</td>\n",
       "      <td>0.110657</td>\n",
       "    </tr>\n",
       "    <tr>\n",
       "      <th>2</th>\n",
       "      <td>0.721524</td>\n",
       "      <td>0.750901</td>\n",
       "      <td>0.029377</td>\n",
       "      <td>0.029377</td>\n",
       "      <td>0.040716</td>\n",
       "    </tr>\n",
       "    <tr>\n",
       "      <th>3</th>\n",
       "      <td>0.750901</td>\n",
       "      <td>0.762097</td>\n",
       "      <td>0.011196</td>\n",
       "      <td>0.011196</td>\n",
       "      <td>0.014910</td>\n",
       "    </tr>\n",
       "    <tr>\n",
       "      <th>4</th>\n",
       "      <td>0.762097</td>\n",
       "      <td>0.766248</td>\n",
       "      <td>0.004151</td>\n",
       "      <td>0.004151</td>\n",
       "      <td>0.005447</td>\n",
       "    </tr>\n",
       "    <tr>\n",
       "      <th>5</th>\n",
       "      <td>0.766248</td>\n",
       "      <td>0.767772</td>\n",
       "      <td>0.001524</td>\n",
       "      <td>0.001524</td>\n",
       "      <td>0.001988</td>\n",
       "    </tr>\n",
       "    <tr>\n",
       "      <th>6</th>\n",
       "      <td>0.767772</td>\n",
       "      <td>0.768329</td>\n",
       "      <td>0.000557</td>\n",
       "      <td>0.000557</td>\n",
       "      <td>0.000725</td>\n",
       "    </tr>\n",
       "    <tr>\n",
       "      <th>7</th>\n",
       "      <td>0.768329</td>\n",
       "      <td>0.768532</td>\n",
       "      <td>0.000203</td>\n",
       "      <td>0.000203</td>\n",
       "      <td>0.000265</td>\n",
       "    </tr>\n",
       "    <tr>\n",
       "      <th>8</th>\n",
       "      <td>0.768532</td>\n",
       "      <td>0.768606</td>\n",
       "      <td>0.000074</td>\n",
       "      <td>0.000074</td>\n",
       "      <td>0.000097</td>\n",
       "    </tr>\n",
       "    <tr>\n",
       "      <th>9</th>\n",
       "      <td>0.768606</td>\n",
       "      <td>0.768633</td>\n",
       "      <td>0.000027</td>\n",
       "      <td>0.000027</td>\n",
       "      <td>0.000035</td>\n",
       "    </tr>\n",
       "    <tr>\n",
       "      <th>10</th>\n",
       "      <td>0.768633</td>\n",
       "      <td>0.768643</td>\n",
       "      <td>0.000010</td>\n",
       "      <td>0.000010</td>\n",
       "      <td>0.000013</td>\n",
       "    </tr>\n",
       "  </tbody>\n",
       "</table>\n",
       "</div>"
      ]
     },
     "execution_count": 3,
     "metadata": {},
     "output_type": "execute_result"
    }
   ],
   "execution_count": 3
  },
  {
   "metadata": {
    "ExecuteTime": {
     "end_time": "2025-03-07T19:03:51.007376Z",
     "start_time": "2025-03-07T19:03:50.414256Z"
    }
   },
   "cell_type": "code",
   "source": [
    "ax = fix_point_solver.plot_function(t_min=0.4, t_max=0.9)\n",
    "\n",
    "plt.savefig(str(figures_dir / 'Q6_1.png'), dpi=300)\n",
    "plt.show()"
   ],
   "id": "951b3bfb8ae65f25",
   "outputs": [
    {
     "data": {
      "text/plain": [
       "<Figure size 640x480 with 1 Axes>"
      ],
      "image/png": "[encoded data removed]"
     },
     "metadata": {},
     "output_type": "display_data"
    }
   ],
   "execution_count": 4
  },
  {
   "cell_type": "markdown",
   "id": "1a1bc635ff56d49b",
   "metadata": {},
   "source": [
    "# Q6.3\n",
    "Determine The highest real root of $f(t)=t^3-6t^2+11x-6.1$\n",
    "\n",
    "## Graphically"
   ]
  },
  {
   "cell_type": "code",
   "id": "7bd7222cce773c14",
   "metadata": {
    "ExecuteTime": {
     "end_time": "2025-03-07T19:03:51.055465Z",
     "start_time": "2025-03-07T19:03:51.044808Z"
    }
   },
   "source": [
    "function_6_3 = lambda t: t**3 - 6*t**2 + 11*t - 6.1\n",
    "# Find Roots\n",
    "df_6_3= pd.DataFrame(data=dict(t=np.linspace(0,4,100)))\n",
    "df_6_3['f'] = function_6_3(df_6_3['t'])\n",
    "root_6_3_graphical = df_6_3.abs().nsmallest(10, 'f').nlargest(1, 't')\n",
    "display(root_6_3_graphical)"
   ],
   "outputs": [
    {
     "data": {
      "text/plain": [
       "           t         f\n",
       "76  3.070707  0.056766"
      ],
      "text/html": [
       "<div>\n",
       "<style scoped>\n",
       "    .dataframe tbody tr th:only-of-type {\n",
       "        vertical-align: middle;\n",
       "    }\n",
       "\n",
       "    .dataframe tbody tr th {\n",
       "        vertical-align: top;\n",
       "    }\n",
       "\n",
       "    .dataframe thead th {\n",
       "        text-align: right;\n",
       "    }\n",
       "</style>\n",
       "<table border=\"1\" class=\"dataframe\">\n",
       "  <thead>\n",
       "    <tr style=\"text-align: right;\">\n",
       "      <th></th>\n",
       "      <th>t</th>\n",
       "      <th>f</th>\n",
       "    </tr>\n",
       "  </thead>\n",
       "  <tbody>\n",
       "    <tr>\n",
       "      <th>76</th>\n",
       "      <td>3.070707</td>\n",
       "      <td>0.056766</td>\n",
       "    </tr>\n",
       "  </tbody>\n",
       "</table>\n",
       "</div>"
      ]
     },
     "metadata": {},
     "output_type": "display_data"
    }
   ],
   "execution_count": 5
  },
  {
   "cell_type": "code",
   "id": "b1ec348cd28d1038",
   "metadata": {
    "ExecuteTime": {
     "end_time": "2025-03-07T19:03:52.129839Z",
     "start_time": "2025-03-07T19:03:51.085150Z"
    }
   },
   "source": [
    "df_6_3.plot(x='t', y='f', color='r', label='f(t)')\n",
    "plt.annotate(\n",
    "    f'x={root_6_3_graphical.t.values[0]:0.3f}',\n",
    "    xy=(root_6_3_graphical.t.values[0], root_6_3_graphical.f.values[0]),\n",
    "    xytext=(root_6_3_graphical.t.values[0]+0.1, root_6_3_graphical.f.values[0] + 0.1),\n",
    "    arrowprops=dict(facecolor='black', shrink=0.05)\n",
    ")\n",
    "\n",
    "plt.axhline(y=0, color='k', linewidth=2.0) # Highlight x-Axis\n",
    "plt.title(r'$f(t)=t^3-6t^2+11x-6.1$')\n",
    "plt.xlabel(r'$t$')\n",
    "plt.ylabel(r'$f(t)$')\n",
    "plt.xlim(0, 4)\n",
    "plt.ylim(-1, 1)\n",
    "plt.grid()\n",
    "plt.savefig(str(figures_dir / 'Q6_3a.png'), dpi=300)\n",
    "plt.show()"
   ],
   "outputs": [
    {
     "data": {
      "text/plain": [
       "<Figure size 640x480 with 1 Axes>"
      ],
      "image/png": "[encoded data removed]"
     },
     "metadata": {},
     "output_type": "display_data"
    }
   ],
   "execution_count": 6
  },
  {
   "cell_type": "markdown",
   "id": "81c82a0ba02d6d60",
   "metadata": {},
   "source": [
    "## Using the Newton-Raphson three iterations, $t_0=3.5$"
   ]
  },
  {
   "cell_type": "code",
   "id": "f252c7bd62acb052",
   "metadata": {
    "ExecuteTime": {
     "end_time": "2025-03-07T19:03:52.195204Z",
     "start_time": "2025-03-07T19:03:52.148694Z"
    }
   },
   "source": [
    "from FindRoots.OpenMethods.NewtonRaphsonMethod import NewtonRaphsonMethod\n",
    "\n",
    "newton_raphson_6_3 = NewtonRaphsonMethod(\n",
    "    function=function_6_3,\n",
    "    max_iterations=3,\n",
    "    t0=3.5,\n",
    ")\n",
    "newton_raphson_6_3.stop_conditions.clear()\n",
    "newton_raphson_6_3_df = newton_raphson_6_3.run()"
   ],
   "outputs": [
    {
     "name": "stdout",
     "output_type": "stream",
     "text": [
      "2025-03-07 22:03:52,176 - NewtonRaphsonMethod - INFO - NewtonRaphsonMethod.py:__post_init__:32 - f(t) = t**3 - 6*t**2 + 11*t - 6.1\n",
      "2025-03-07 22:03:52,184 - NewtonRaphsonMethod - INFO - NewtonRaphsonMethod.py:__post_init__:35 - f'(t) = 3*t**2 - 12*t + 11\n",
      "2025-03-07 22:03:52,185 - NewtonRaphsonMethod - INFO - Numerical.py:run:122 - Starting NewtonRaphsonMethod\n",
      "2025-03-07 22:03:52,186 - NewtonRaphsonMethod - INFO - Numerical.py:initialize:68 - Initial state:{'t': 3.5, 'f': 1.7750000000000004, 'df_dt': 5.75000000000000}\n",
      "2025-03-07 22:03:52,187 - NewtonRaphsonMethod - INFO - Numerical.py:run:127 - Iteration 1 completed\n",
      "\n",
      "2025-03-07 22:03:52,188 - NewtonRaphsonMethod - INFO - NewtonRaphsonMethod.py:step:62 - t_root = 3.191e+0\n",
      "2025-03-07 22:03:52,189 - NewtonRaphsonMethod - INFO - Numerical.py:run:132 - State: \n",
      "{'t': 3.19130434782609, 'f': 0.399401988986599, 'df_dt': 5.75000000000000}\n",
      "\n",
      "2025-03-07 22:03:52,189 - NewtonRaphsonMethod - INFO - Numerical.py:run:127 - Iteration 2 completed\n",
      "\n",
      "2025-03-07 22:03:52,190 - NewtonRaphsonMethod - INFO - NewtonRaphsonMethod.py:step:62 - t_root = 3.069e+0\n",
      "2025-03-07 22:03:52,190 - NewtonRaphsonMethod - INFO - Numerical.py:run:132 - State: \n",
      "{'t': 3.06869882105510, 'f': 0.0518804521638021, 'df_dt': 3.25761814744801}\n",
      "\n",
      "2025-03-07 22:03:52,191 - NewtonRaphsonMethod - INFO - Numerical.py:run:127 - Iteration 3 completed\n",
      "\n",
      "2025-03-07 22:03:52,192 - NewtonRaphsonMethod - INFO - NewtonRaphsonMethod.py:step:62 - t_root = 3.047e+0\n",
      "2025-03-07 22:03:52,193 - NewtonRaphsonMethod - INFO - Numerical.py:run:132 - State: \n",
      "{'t': 3.04731673690859, 'f': 0.00145603078493117, 'df_dt': 2.42635151037366}\n",
      "\n",
      "2025-03-07 22:03:52,193 - NewtonRaphsonMethod - INFO - Numerical.py:_check_stop_conditions:112 - Stop condition max iterations reached (3)\n"
     ]
    }
   ],
   "execution_count": 7
  },
  {
   "cell_type": "code",
   "id": "fbb931661a8c3eff",
   "metadata": {
    "ExecuteTime": {
     "end_time": "2025-03-07T19:03:52.219643Z",
     "start_time": "2025-03-07T19:03:52.207548Z"
    }
   },
   "source": [
    "df_to_latex(\n",
    "    newton_raphson_6_3_df,\n",
    "    str( data_dir / 'Q6_3_newton_raphson.tex'),\n",
    "    formatting={\n",
    "        't': dict(header='$t$', format='0.6f'),\n",
    "        't_nm1': dict(header='$t_{n-1}$', format='0.6f'),\n",
    "        'f': dict(header='$f(t)$', format='0.6f'),\n",
    "        'f_nm1': dict(header='$f(t_{n-1})$', format='0.6f'),\n",
    "        'df_dt': dict(header=r'$\\frac{df}{dt}$', format='0.6f'),\n",
    "    },\n",
    "    label='tab:Q6_3_newton_raphson',\n",
    "    caption=r'Q6.3: Using Newton-Raphson method with $t_0=3.5$ for finding the highest real root of $f(t)=t^3-6t^2+11x-6.1$'\n",
    ")\n",
    "\n",
    "newton_raphson_6_3_df"
   ],
   "outputs": [
    {
     "name": "stdout",
     "output_type": "stream",
     "text": [
      "2025-03-07 22:03:52,213 - utils.LaTeXTools - INFO - LaTeXTools.py:df_to_latex:85 - LaTeX table exported to /home/hhj/PycharmProjects/NumericalMethods/Examples/assginment2/data/Q6_3_newton_raphson.tex\n"
     ]
    },
    {
     "data": {
      "text/plain": [
       "                  t                    f             df_dt\n",
       "0               3.5                1.775  5.75000000000000\n",
       "1  3.19130434782609    0.399401988986599  5.75000000000000\n",
       "2  3.06869882105510   0.0518804521638021  3.25761814744801\n",
       "3  3.04731673690859  0.00145603078493117  2.42635151037366"
      ],
      "text/html": [
       "<div>\n",
       "<style scoped>\n",
       "    .dataframe tbody tr th:only-of-type {\n",
       "        vertical-align: middle;\n",
       "    }\n",
       "\n",
       "    .dataframe tbody tr th {\n",
       "        vertical-align: top;\n",
       "    }\n",
       "\n",
       "    .dataframe thead th {\n",
       "        text-align: right;\n",
       "    }\n",
       "</style>\n",
       "<table border=\"1\" class=\"dataframe\">\n",
       "  <thead>\n",
       "    <tr style=\"text-align: right;\">\n",
       "      <th></th>\n",
       "      <th>t</th>\n",
       "      <th>f</th>\n",
       "      <th>df_dt</th>\n",
       "    </tr>\n",
       "  </thead>\n",
       "  <tbody>\n",
       "    <tr>\n",
       "      <th>0</th>\n",
       "      <td>3.5</td>\n",
       "      <td>1.775</td>\n",
       "      <td>5.75000000000000</td>\n",
       "    </tr>\n",
       "    <tr>\n",
       "      <th>1</th>\n",
       "      <td>3.19130434782609</td>\n",
       "      <td>0.399401988986599</td>\n",
       "      <td>5.75000000000000</td>\n",
       "    </tr>\n",
       "    <tr>\n",
       "      <th>2</th>\n",
       "      <td>3.06869882105510</td>\n",
       "      <td>0.0518804521638021</td>\n",
       "      <td>3.25761814744801</td>\n",
       "    </tr>\n",
       "    <tr>\n",
       "      <th>3</th>\n",
       "      <td>3.04731673690859</td>\n",
       "      <td>0.00145603078493117</td>\n",
       "      <td>2.42635151037366</td>\n",
       "    </tr>\n",
       "  </tbody>\n",
       "</table>\n",
       "</div>"
      ]
     },
     "execution_count": 8,
     "metadata": {},
     "output_type": "execute_result"
    }
   ],
   "execution_count": 8
  },
  {
   "cell_type": "markdown",
   "id": "2c22a9274b77ee95",
   "metadata": {},
   "source": [
    "## Using Secant Method(three iterations $x_{-1}=2.5$ and $x_0=3.5$, $\\delta=0.01$)"
   ]
  },
  {
   "cell_type": "code",
   "id": "7ab9fd1369484729",
   "metadata": {
    "ExecuteTime": {
     "end_time": "2025-03-07T19:03:52.309682Z",
     "start_time": "2025-03-07T19:03:52.298466Z"
    }
   },
   "source": [
    "from FindRoots.OpenMethods.SecantMethod import SecantMethod\n",
    "\n",
    "secant_6_3 = SecantMethod(\n",
    "    function=function_6_3,\n",
    "    t0=2.5,\n",
    "    t1=3.5,\n",
    "    max_iterations=3,\n",
    "    absolute_tolerance=0.01,\n",
    ")\n",
    "secant_6_3.stop_conditions.clear()\n",
    "secant_6_3_df = secant_6_3.run()"
   ],
   "outputs": [
    {
     "name": "stdout",
     "output_type": "stream",
     "text": [
      "2025-03-07 22:03:52,303 - SecantMethod - INFO - Numerical.py:run:122 - Starting SecantMethod\n",
      "2025-03-07 22:03:52,303 - SecantMethod - INFO - Numerical.py:initialize:68 - Initial state:{'t': 3.5, 't_nm1': 2.5, 'f': 1.7750000000000004, 'f_nm1': 1.7750000000000004, 'df_dt': 2.25}\n",
      "2025-03-07 22:03:52,304 - SecantMethod - INFO - Numerical.py:run:127 - Iteration 1 completed\n",
      "\n",
      "2025-03-07 22:03:52,304 - SecantMethod - INFO - Numerical.py:run:132 - State: \n",
      "{'t': 2.711111111111111, 't_nm1': 3.5, 'f': -0.45151714677640875, 'f_nm1': 1.7750000000000004, 'df_dt': 2.25}\n",
      "\n",
      "2025-03-07 22:03:52,305 - SecantMethod - INFO - Numerical.py:run:127 - Iteration 2 completed\n",
      "\n",
      "2025-03-07 22:03:52,305 - SecantMethod - INFO - Numerical.py:run:132 - State: \n",
      "{'t': 2.8710905034775385, 't_nm1': 2.711111111111111, 'f': -0.31010819212791496, 'f_nm1': -0.45151714677640875, 'df_dt': 2.8223456790123485}\n",
      "\n",
      "2025-03-07 22:03:52,306 - SecantMethod - INFO - Numerical.py:run:127 - Iteration 3 completed\n",
      "\n",
      "2025-03-07 22:03:52,307 - SecantMethod - INFO - Numerical.py:run:132 - State: \n",
      "{'t': 3.2219234494376807, 't_nm1': 2.8710905034775385, 'f': 0.50252668485488, 'f_nm1': -0.31010819212791496, 'df_dt': 0.883919813400723}\n",
      "\n",
      "2025-03-07 22:03:52,307 - SecantMethod - INFO - Numerical.py:_check_stop_conditions:112 - Stop condition max iterations reached (3)\n"
     ]
    }
   ],
   "execution_count": 9
  },
  {
   "cell_type": "code",
   "id": "13196c46f614e8e1",
   "metadata": {
    "ExecuteTime": {
     "end_time": "2025-03-07T19:03:52.502510Z",
     "start_time": "2025-03-07T19:03:52.489850Z"
    }
   },
   "source": [
    "df_to_latex(\n",
    "    secant_6_3_df,\n",
    "    str(data_dir / 'Q6_3_secant.tex'),\n",
    "    formatting={\n",
    "        't': dict(header='$t$', format='0.6f'),\n",
    "        't_nm1': dict(header='$t_{n-1}$', format='0.6f'),\n",
    "        'f': dict(header='$f(t)$', format='0.6f'),\n",
    "        'f_nm1': dict(header='$f(t_{n-1})$', format='0.6f'),\n",
    "        'df_dt': dict(header=r'$\\frac{df}{dt}$', format='0.6f'),\n",
    "    },\n",
    "    label='tab:Q6_3_secant',\n",
    "    caption=r'Q6.3: Secant method for finding the highest real root of $f(t)=t^3-6t^2+11x-6.1$'\n",
    ")\n",
    "secant_6_3_df"
   ],
   "outputs": [
    {
     "name": "stdout",
     "output_type": "stream",
     "text": [
      "2025-03-07 22:03:52,495 - utils.LaTeXTools - INFO - LaTeXTools.py:df_to_latex:85 - LaTeX table exported to /home/hhj/PycharmProjects/NumericalMethods/Examples/assginment2/data/Q6_3_secant.tex\n"
     ]
    },
    {
     "data": {
      "text/plain": [
       "          t     t_nm1         f     f_nm1     df_dt\n",
       "0  3.500000  2.500000  1.775000  1.775000  2.250000\n",
       "1  2.711111  3.500000 -0.451517  1.775000  2.250000\n",
       "2  2.871091  2.711111 -0.310108 -0.451517  2.822346\n",
       "3  3.221923  2.871091  0.502527 -0.310108  0.883920"
      ],
      "text/html": [
       "<div>\n",
       "<style scoped>\n",
       "    .dataframe tbody tr th:only-of-type {\n",
       "        vertical-align: middle;\n",
       "    }\n",
       "\n",
       "    .dataframe tbody tr th {\n",
       "        vertical-align: top;\n",
       "    }\n",
       "\n",
       "    .dataframe thead th {\n",
       "        text-align: right;\n",
       "    }\n",
       "</style>\n",
       "<table border=\"1\" class=\"dataframe\">\n",
       "  <thead>\n",
       "    <tr style=\"text-align: right;\">\n",
       "      <th></th>\n",
       "      <th>t</th>\n",
       "      <th>t_nm1</th>\n",
       "      <th>f</th>\n",
       "      <th>f_nm1</th>\n",
       "      <th>df_dt</th>\n",
       "    </tr>\n",
       "  </thead>\n",
       "  <tbody>\n",
       "    <tr>\n",
       "      <th>0</th>\n",
       "      <td>3.500000</td>\n",
       "      <td>2.500000</td>\n",
       "      <td>1.775000</td>\n",
       "      <td>1.775000</td>\n",
       "      <td>2.250000</td>\n",
       "    </tr>\n",
       "    <tr>\n",
       "      <th>1</th>\n",
       "      <td>2.711111</td>\n",
       "      <td>3.500000</td>\n",
       "      <td>-0.451517</td>\n",
       "      <td>1.775000</td>\n",
       "      <td>2.250000</td>\n",
       "    </tr>\n",
       "    <tr>\n",
       "      <th>2</th>\n",
       "      <td>2.871091</td>\n",
       "      <td>2.711111</td>\n",
       "      <td>-0.310108</td>\n",
       "      <td>-0.451517</td>\n",
       "      <td>2.822346</td>\n",
       "    </tr>\n",
       "    <tr>\n",
       "      <th>3</th>\n",
       "      <td>3.221923</td>\n",
       "      <td>2.871091</td>\n",
       "      <td>0.502527</td>\n",
       "      <td>-0.310108</td>\n",
       "      <td>0.883920</td>\n",
       "    </tr>\n",
       "  </tbody>\n",
       "</table>\n",
       "</div>"
      ]
     },
     "execution_count": 10,
     "metadata": {},
     "output_type": "execute_result"
    }
   ],
   "execution_count": 10
  },
  {
   "cell_type": "markdown",
   "id": "5ed55618a17ff426",
   "metadata": {},
   "source": [
    "## Determine roots with NumPy"
   ]
  },
  {
   "cell_type": "code",
   "id": "a1cdd2e0afa0d10f",
   "metadata": {
    "ExecuteTime": {
     "end_time": "2025-03-07T19:03:52.650104Z",
     "start_time": "2025-03-07T19:03:52.644030Z"
    }
   },
   "source": [
    "root_6_3_numpy = np.roots([1, -6, 11, -6.1])\n",
    "root_6_3_numpy"
   ],
   "outputs": [
    {
     "data": {
      "text/plain": [
       "array([3.04668053, 1.89896874, 1.05435073])"
      ]
     },
     "execution_count": 11,
     "metadata": {},
     "output_type": "execute_result"
    }
   ],
   "execution_count": 11
  },
  {
   "cell_type": "markdown",
   "id": "bd62494672be07be",
   "metadata": {},
   "source": [
    "# Q6.4 Determine the lowest positive root  of $f(t) = 7 \\sin(t)e^{-t}-1$\n",
    "\n",
    "## Graphically"
   ]
  },
  {
   "cell_type": "code",
   "id": "d0d55fdfdae72b1f",
   "metadata": {
    "ExecuteTime": {
     "end_time": "2025-03-07T19:03:53.206513Z",
     "start_time": "2025-03-07T19:03:52.790597Z"
    }
   },
   "source": [
    "function_6_4 = lambda t: 7 * np.sin(t) * np.exp(-t) - 1\n",
    "df_6_4 = pd.DataFrame(data=dict(t=np.linspace(0,2.5,1000)))\n",
    "df_6_4['f'] = function_6_4(df_6_4['t'])\n",
    "\n",
    "root_6_4_graphical = df_6_4.abs().nsmallest(10, 'f').nsmallest(1, 't')\n",
    "display(root_6_4_graphical)\n",
    "\n",
    "df_6_4.plot(x='t', y='f', color='r', label='f(t)')\n",
    "plt.annotate(\n",
    "    f'x={root_6_4_graphical.t.values[0]:0.3f}',\n",
    "    xy=(root_6_4_graphical.t.values[0], root_6_4_graphical.f.values[0]),\n",
    "    xytext=(root_6_4_graphical.t.values[0]+.1, root_6_4_graphical.f.values[0] + 0.1),\n",
    "    arrowprops=dict(facecolor='black', shrink=0.05)\n",
    ")\n",
    "plt.axhline(y=0, color='k', linewidth=2.0) # Highlight x-Axis\n",
    "\n",
    "plt.title(r'$f(t)=7 \\sin(t)e^{-t}-1$')\n",
    "plt.grid()\n",
    "plt.savefig(str(figures_dir / 'Q6_4a.png'), dpi=300)\n",
    "plt.show()"
   ],
   "outputs": [
    {
     "data": {
      "text/plain": [
       "          t         f\n",
       "68  0.17017  0.000047"
      ],
      "text/html": [
       "<div>\n",
       "<style scoped>\n",
       "    .dataframe tbody tr th:only-of-type {\n",
       "        vertical-align: middle;\n",
       "    }\n",
       "\n",
       "    .dataframe tbody tr th {\n",
       "        vertical-align: top;\n",
       "    }\n",
       "\n",
       "    .dataframe thead th {\n",
       "        text-align: right;\n",
       "    }\n",
       "</style>\n",
       "<table border=\"1\" class=\"dataframe\">\n",
       "  <thead>\n",
       "    <tr style=\"text-align: right;\">\n",
       "      <th></th>\n",
       "      <th>t</th>\n",
       "      <th>f</th>\n",
       "    </tr>\n",
       "  </thead>\n",
       "  <tbody>\n",
       "    <tr>\n",
       "      <th>68</th>\n",
       "      <td>0.17017</td>\n",
       "      <td>0.000047</td>\n",
       "    </tr>\n",
       "  </tbody>\n",
       "</table>\n",
       "</div>"
      ]
     },
     "metadata": {},
     "output_type": "display_data"
    },
    {
     "data": {
      "text/plain": [
       "<Figure size 640x480 with 1 Axes>"
      ],
      "image/png": "[encoded data removed]"
     },
     "metadata": {},
     "output_type": "display_data"
    }
   ],
   "execution_count": 12
  },
  {
   "cell_type": "markdown",
   "id": "b4fd83a4de70c66c",
   "metadata": {},
   "source": [
    "## Using Newton-Rasphson method (Three itrations, $x_0=0.3$)."
   ]
  },
  {
   "cell_type": "code",
   "id": "5ce46b563b3f9308",
   "metadata": {
    "ExecuteTime": {
     "end_time": "2025-03-07T19:03:53.296897Z",
     "start_time": "2025-03-07T19:03:53.256309Z"
    }
   },
   "source": [
    "import sympy as sp\n",
    "\n",
    "newton_raphson_6_4 = NewtonRaphsonMethod(\n",
    "    function=lambda t: 7 * sp.sin(t) * sp.exp(-t) - 1,\n",
    "    max_iterations=3,\n",
    "    t0=0.3,\n",
    ")\n",
    "newton_raphson_6_4.stop_conditions.clear()\n",
    "df_6_4_newton_raphson = newton_raphson_6_4.run()"
   ],
   "outputs": [
    {
     "name": "stdout",
     "output_type": "stream",
     "text": [
      "2025-03-07 22:03:53,260 - NewtonRaphsonMethod - INFO - NewtonRaphsonMethod.py:__post_init__:32 - f(t) = -1 + 7*exp(-t)*sin(t)\n",
      "2025-03-07 22:03:53,273 - NewtonRaphsonMethod - INFO - NewtonRaphsonMethod.py:__post_init__:35 - f'(t) = -7*exp(-t)*sin(t) + 7*exp(-t)*cos(t)\n",
      "2025-03-07 22:03:53,275 - NewtonRaphsonMethod - INFO - Numerical.py:run:122 - Starting NewtonRaphsonMethod\n",
      "2025-03-07 22:03:53,279 - NewtonRaphsonMethod - INFO - Numerical.py:initialize:68 - Initial state:{'t': 0.3, 'f': 0.532487275720430, 'df_dt': 3.42162747046403}\n",
      "2025-03-07 22:03:53,279 - NewtonRaphsonMethod - INFO - Numerical.py:run:127 - Iteration 1 completed\n",
      "\n",
      "2025-03-07 22:03:53,281 - NewtonRaphsonMethod - INFO - NewtonRaphsonMethod.py:step:62 - t_root = 1.444e-1\n",
      "2025-03-07 22:03:53,283 - NewtonRaphsonMethod - INFO - Numerical.py:run:132 - State: \n",
      "{'t': 0.144376022721078, 'f': -0.128270820523839, 'df_dt': 3.42162747046403}\n",
      "\n",
      "2025-03-07 22:03:53,284 - NewtonRaphsonMethod - INFO - Numerical.py:run:127 - Iteration 2 completed\n",
      "\n",
      "2025-03-07 22:03:53,286 - NewtonRaphsonMethod - INFO - NewtonRaphsonMethod.py:step:62 - t_root = 1.694e-1\n",
      "2025-03-07 22:03:53,289 - NewtonRaphsonMethod - INFO - Numerical.py:run:132 - State: \n",
      "{'t': 0.169408537377436, 'f': -0.00372134013132319, 'df_dt': 5.12416839797029}\n",
      "\n",
      "2025-03-07 22:03:53,289 - NewtonRaphsonMethod - INFO - Numerical.py:run:127 - Iteration 3 completed\n",
      "\n",
      "2025-03-07 22:03:53,291 - NewtonRaphsonMethod - INFO - NewtonRaphsonMethod.py:step:62 - t_root = 1.702e-1\n",
      "2025-03-07 22:03:53,293 - NewtonRaphsonMethod - INFO - Numerical.py:run:132 - State: \n",
      "{'t': 0.170179276021415, 'f': -3.45896717623972e-6, 'df_dt': 4.82827760148742}\n",
      "\n",
      "2025-03-07 22:03:53,294 - NewtonRaphsonMethod - INFO - Numerical.py:_check_stop_conditions:112 - Stop condition max iterations reached (3)\n"
     ]
    }
   ],
   "execution_count": 13
  },
  {
   "cell_type": "code",
   "id": "b98445cbc203f5a1",
   "metadata": {
    "ExecuteTime": {
     "end_time": "2025-03-07T19:03:53.357228Z",
     "start_time": "2025-03-07T19:03:53.344203Z"
    }
   },
   "source": [
    "df_to_latex(\n",
    "    df_6_4_newton_raphson,\n",
    "    str( data_dir / 'Q6_4_newton_raphson.tex'),\n",
    "    formatting={\n",
    "        't': dict(header='$t$', format='0.6f'),\n",
    "        'f': dict(header='$f(t)$', format='0.6f'),\n",
    "        'df_dt': dict(header=r'$\\frac{df}{dt}$', format='0.6f'),\n",
    "    },\n",
    "    label='tab:Q6_4_newton_raphson',\n",
    "    caption=r'Q6.4: Newton-Raphson method for finding the lowest positive root of $f(t) = 7 \\sin(t)e^{-t}-1$'\n",
    ")\n",
    "\n",
    "df_6_4_newton_raphson"
   ],
   "outputs": [
    {
     "name": "stdout",
     "output_type": "stream",
     "text": [
      "2025-03-07 22:03:53,350 - utils.LaTeXTools - INFO - LaTeXTools.py:df_to_latex:85 - LaTeX table exported to /home/hhj/PycharmProjects/NumericalMethods/Examples/assginment2/data/Q6_4_newton_raphson.tex\n"
     ]
    },
    {
     "data": {
      "text/plain": [
       "                   t                     f             df_dt\n",
       "0                0.3     0.532487275720430  3.42162747046403\n",
       "1  0.144376022721078    -0.128270820523839  3.42162747046403\n",
       "2  0.169408537377436  -0.00372134013132319  5.12416839797029\n",
       "3  0.170179276021415  -3.45896717623972e-6  4.82827760148742"
      ],
      "text/html": [
       "<div>\n",
       "<style scoped>\n",
       "    .dataframe tbody tr th:only-of-type {\n",
       "        vertical-align: middle;\n",
       "    }\n",
       "\n",
       "    .dataframe tbody tr th {\n",
       "        vertical-align: top;\n",
       "    }\n",
       "\n",
       "    .dataframe thead th {\n",
       "        text-align: right;\n",
       "    }\n",
       "</style>\n",
       "<table border=\"1\" class=\"dataframe\">\n",
       "  <thead>\n",
       "    <tr style=\"text-align: right;\">\n",
       "      <th></th>\n",
       "      <th>t</th>\n",
       "      <th>f</th>\n",
       "      <th>df_dt</th>\n",
       "    </tr>\n",
       "  </thead>\n",
       "  <tbody>\n",
       "    <tr>\n",
       "      <th>0</th>\n",
       "      <td>0.3</td>\n",
       "      <td>0.532487275720430</td>\n",
       "      <td>3.42162747046403</td>\n",
       "    </tr>\n",
       "    <tr>\n",
       "      <th>1</th>\n",
       "      <td>0.144376022721078</td>\n",
       "      <td>-0.128270820523839</td>\n",
       "      <td>3.42162747046403</td>\n",
       "    </tr>\n",
       "    <tr>\n",
       "      <th>2</th>\n",
       "      <td>0.169408537377436</td>\n",
       "      <td>-0.00372134013132319</td>\n",
       "      <td>5.12416839797029</td>\n",
       "    </tr>\n",
       "    <tr>\n",
       "      <th>3</th>\n",
       "      <td>0.170179276021415</td>\n",
       "      <td>-3.45896717623972e-6</td>\n",
       "      <td>4.82827760148742</td>\n",
       "    </tr>\n",
       "  </tbody>\n",
       "</table>\n",
       "</div>"
      ]
     },
     "execution_count": 14,
     "metadata": {},
     "output_type": "execute_result"
    }
   ],
   "execution_count": 14
  },
  {
   "cell_type": "markdown",
   "id": "3da03cf171fc0fcf",
   "metadata": {},
   "source": [
    "## Using the secant method (Three iterations $x_{-1}=0.5$ and $x_0=0.4$)"
   ]
  },
  {
   "cell_type": "code",
   "id": "ab9a2ba427186095",
   "metadata": {
    "ExecuteTime": {
     "end_time": "2025-03-07T19:03:53.432775Z",
     "start_time": "2025-03-07T19:03:53.423054Z"
    }
   },
   "source": [
    "secant_6_4 = SecantMethod(\n",
    "    function=function_6_4,\n",
    "    t0=0.5,\n",
    "    t1=0.4,\n",
    "    max_iterations=3,\n",
    "    absolute_tolerance=0.01,\n",
    ")\n",
    "secant_6_4.stop_conditions.clear()\n",
    "secant_6_4_df = secant_6_4.run()"
   ],
   "outputs": [
    {
     "name": "stdout",
     "output_type": "stream",
     "text": [
      "2025-03-07 22:03:53,424 - SecantMethod - INFO - Numerical.py:run:122 - Starting SecantMethod\n",
      "2025-03-07 22:03:53,426 - SecantMethod - INFO - Numerical.py:initialize:68 - Initial state:{'t': 0.4, 't_nm1': 0.5, 'f': np.float64(0.8272444480041989), 'f_nm1': np.float64(0.8272444480041989), 'df_dt': np.float64(2.082595694846439)}\n",
      "2025-03-07 22:03:53,426 - SecantMethod - INFO - Numerical.py:run:127 - Iteration 1 completed\n",
      "\n",
      "2025-03-07 22:03:53,427 - SecantMethod - INFO - Numerical.py:run:132 - State: \n",
      "{'t': np.float64(0.0027820233897121738), 't_nm1': 0.4, 'f': np.float64(-0.9805799636099427), 'f_nm1': np.float64(0.8272444480041989), 'df_dt': np.float64(2.082595694846439)}\n",
      "\n",
      "2025-03-07 22:03:53,428 - SecantMethod - INFO - Numerical.py:run:127 - Iteration 2 completed\n",
      "\n",
      "2025-03-07 22:03:53,428 - SecantMethod - INFO - Numerical.py:run:132 - State: \n",
      "{'t': np.float64(0.2182365700522152), 't_nm1': np.float64(0.0027820233897121738), 'f': np.float64(0.21841087866626174), 'f_nm1': np.float64(-0.9805799636099427), 'df_dt': np.float64(4.5512149954577845)}\n",
      "\n",
      "2025-03-07 22:03:53,429 - SecantMethod - INFO - Numerical.py:run:127 - Iteration 3 completed\n",
      "\n",
      "2025-03-07 22:03:53,429 - SecantMethod - INFO - Numerical.py:run:132 - State: \n",
      "{'t': np.float64(0.17898888342279723), 't_nm1': np.float64(0.2182365700522152), 'f': np.float64(0.042002632474862134), 'f_nm1': np.float64(0.21841087866626174), 'df_dt': np.float64(5.5649363675501995)}\n",
      "\n",
      "2025-03-07 22:03:53,430 - SecantMethod - INFO - Numerical.py:_check_stop_conditions:112 - Stop condition max iterations reached (3)\n"
     ]
    }
   ],
   "execution_count": 15
  },
  {
   "cell_type": "code",
   "id": "3319882a33394923",
   "metadata": {
    "ExecuteTime": {
     "end_time": "2025-03-07T19:03:53.548646Z",
     "start_time": "2025-03-07T19:03:53.527142Z"
    }
   },
   "source": [
    "df_to_latex(\n",
    "    secant_6_4_df,\n",
    "    str(data_dir / 'Q6_4_secant.tex'),\n",
    "    formatting={\n",
    "        't': dict(header='$t$', format='0.6f'),\n",
    "        't_nm1': dict(header='$t_{n-1}$', format='0.6f'),\n",
    "        'f': dict(header='$f(t)$', format='0.6f'),\n",
    "        'f_nm1': dict(header='$f(t_{n-1})$', format='0.6f'),\n",
    "        'df_dt': dict(header=r'$\\frac{df}{dt}$', format='0.6f'),\n",
    "    },\n",
    "    label='tab:Q6_4_secant',\n",
    "    caption=r'Q6.4: Secant method for finding the lowest positive root of $f(t) = 7 \\sin(t)e^{-t}-1$'\n",
    ")\n",
    "\n",
    "secant_6_4_df"
   ],
   "outputs": [
    {
     "name": "stdout",
     "output_type": "stream",
     "text": [
      "2025-03-07 22:03:53,540 - utils.LaTeXTools - INFO - LaTeXTools.py:df_to_latex:85 - LaTeX table exported to /home/hhj/PycharmProjects/NumericalMethods/Examples/assginment2/data/Q6_4_secant.tex\n"
     ]
    },
    {
     "data": {
      "text/plain": [
       "          t     t_nm1         f     f_nm1     df_dt\n",
       "0  0.400000  0.500000  0.827244  0.827244  2.082596\n",
       "1  0.002782  0.400000 -0.980580  0.827244  2.082596\n",
       "2  0.218237  0.002782  0.218411 -0.980580  4.551215\n",
       "3  0.178989  0.218237  0.042003  0.218411  5.564936"
      ],
      "text/html": [
       "<div>\n",
       "<style scoped>\n",
       "    .dataframe tbody tr th:only-of-type {\n",
       "        vertical-align: middle;\n",
       "    }\n",
       "\n",
       "    .dataframe tbody tr th {\n",
       "        vertical-align: top;\n",
       "    }\n",
       "\n",
       "    .dataframe thead th {\n",
       "        text-align: right;\n",
       "    }\n",
       "</style>\n",
       "<table border=\"1\" class=\"dataframe\">\n",
       "  <thead>\n",
       "    <tr style=\"text-align: right;\">\n",
       "      <th></th>\n",
       "      <th>t</th>\n",
       "      <th>t_nm1</th>\n",
       "      <th>f</th>\n",
       "      <th>f_nm1</th>\n",
       "      <th>df_dt</th>\n",
       "    </tr>\n",
       "  </thead>\n",
       "  <tbody>\n",
       "    <tr>\n",
       "      <th>0</th>\n",
       "      <td>0.400000</td>\n",
       "      <td>0.500000</td>\n",
       "      <td>0.827244</td>\n",
       "      <td>0.827244</td>\n",
       "      <td>2.082596</td>\n",
       "    </tr>\n",
       "    <tr>\n",
       "      <th>1</th>\n",
       "      <td>0.002782</td>\n",
       "      <td>0.400000</td>\n",
       "      <td>-0.980580</td>\n",
       "      <td>0.827244</td>\n",
       "      <td>2.082596</td>\n",
       "    </tr>\n",
       "    <tr>\n",
       "      <th>2</th>\n",
       "      <td>0.218237</td>\n",
       "      <td>0.002782</td>\n",
       "      <td>0.218411</td>\n",
       "      <td>-0.980580</td>\n",
       "      <td>4.551215</td>\n",
       "    </tr>\n",
       "    <tr>\n",
       "      <th>3</th>\n",
       "      <td>0.178989</td>\n",
       "      <td>0.218237</td>\n",
       "      <td>0.042003</td>\n",
       "      <td>0.218411</td>\n",
       "      <td>5.564936</td>\n",
       "    </tr>\n",
       "  </tbody>\n",
       "</table>\n",
       "</div>"
      ]
     },
     "execution_count": 16,
     "metadata": {},
     "output_type": "execute_result"
    }
   ],
   "execution_count": 16
  },
  {
   "cell_type": "markdown",
   "id": "344e4741d731951d",
   "metadata": {},
   "source": [
    "## Using Modified secant method (Five iterations $x_{0}=0.3$ and $\\delta=0.01$)"
   ]
  },
  {
   "cell_type": "code",
   "id": "e8afebdc99ef6f59",
   "metadata": {
    "ExecuteTime": {
     "end_time": "2025-03-07T19:03:53.625261Z",
     "start_time": "2025-03-07T19:03:53.611633Z"
    }
   },
   "source": [
    "from FindRoots.OpenMethods.ModifiedSecantMethod import ModifiedSecantMethod\n",
    "\n",
    "modified_secant_6_4 = ModifiedSecantMethod(\n",
    "    function=function_6_4,\n",
    "    t0=0.3,\n",
    "    dt=-0.01,\n",
    "    max_iterations=5,\n",
    "    absolute_tolerance=0.01,\n",
    ")\n",
    "modified_secant_6_4.stop_conditions.clear()\n",
    "modified_secant_6_4_df = modified_secant_6_4.run()"
   ],
   "outputs": [
    {
     "name": "stdout",
     "output_type": "stream",
     "text": [
      "2025-03-07 22:03:53,616 - ModifiedSecantMethod - INFO - Numerical.py:run:122 - Starting ModifiedSecantMethod\n",
      "2025-03-07 22:03:53,616 - ModifiedSecantMethod - INFO - Numerical.py:initialize:68 - Initial state:{'t': 0.3, 'f': np.float64(0.53248727572043)}\n",
      "2025-03-07 22:03:53,617 - ModifiedSecantMethod - INFO - Numerical.py:run:127 - Iteration 1 completed\n",
      "\n",
      "2025-03-07 22:03:53,618 - ModifiedSecantMethod - INFO - Numerical.py:run:132 - State: \n",
      "{'t': np.float64(0.1420997791778839), 'f': np.float64(-0.13996576920865722)}\n",
      "\n",
      "2025-03-07 22:03:53,618 - ModifiedSecantMethod - INFO - Numerical.py:run:127 - Iteration 2 completed\n",
      "\n",
      "2025-03-07 22:03:53,619 - ModifiedSecantMethod - INFO - Numerical.py:run:132 - State: \n",
      "{'t': np.float64(0.16958925005964157), 'f': np.float64(-0.0028489993350692133)}\n",
      "\n",
      "2025-03-07 22:03:53,619 - ModifiedSecantMethod - INFO - Numerical.py:run:127 - Iteration 3 completed\n",
      "\n",
      "2025-03-07 22:03:53,620 - ModifiedSecantMethod - INFO - Numerical.py:run:132 - State: \n",
      "{'t': np.float64(0.17018675420710475), 'f': np.float64(3.258035185504937e-05)}\n",
      "\n",
      "2025-03-07 22:03:53,620 - ModifiedSecantMethod - INFO - Numerical.py:run:127 - Iteration 4 completed\n",
      "\n",
      "2025-03-07 22:03:53,621 - ModifiedSecantMethod - INFO - Numerical.py:run:132 - State: \n",
      "{'t': np.float64(0.17017991139354968), 'f': np.float64(-3.969185414787191e-07)}\n",
      "\n",
      "2025-03-07 22:03:53,622 - ModifiedSecantMethod - INFO - Numerical.py:run:127 - Iteration 5 completed\n",
      "\n",
      "2025-03-07 22:03:53,622 - ModifiedSecantMethod - INFO - Numerical.py:run:132 - State: \n",
      "{'t': np.float64(0.1701799947565049), 'f': np.float64(4.832161115686517e-09)}\n",
      "\n",
      "2025-03-07 22:03:53,623 - ModifiedSecantMethod - INFO - Numerical.py:_check_stop_conditions:112 - Stop condition max iterations reached (5)\n"
     ]
    }
   ],
   "execution_count": 17
  },
  {
   "cell_type": "code",
   "id": "6a71c5c09605873d",
   "metadata": {
    "ExecuteTime": {
     "end_time": "2025-03-07T19:03:53.768575Z",
     "start_time": "2025-03-07T19:03:53.755356Z"
    }
   },
   "source": [
    "df_to_latex(\n",
    "    modified_secant_6_4_df,\n",
    "    str(data_dir / 'Q6_4_modified_secant.tex'),\n",
    "    formatting={\n",
    "        't': dict(header='$t$', format='0.6f'),\n",
    "        'f': dict(header='$f(t)$', format='0.6f'),\n",
    "    },\n",
    "    label='tab:Q6_4_modified_secant',\n",
    "    caption=r'Q6.4: Modified secant method for finding the lowest positive root of $f(t) = 7 \\sin(t)e^{-t}-1$'\n",
    ")\n",
    "\n",
    "modified_secant_6_4_df"
   ],
   "outputs": [
    {
     "name": "stdout",
     "output_type": "stream",
     "text": [
      "2025-03-07 22:03:53,760 - utils.LaTeXTools - INFO - LaTeXTools.py:df_to_latex:85 - LaTeX table exported to /home/hhj/PycharmProjects/NumericalMethods/Examples/assginment2/data/Q6_4_modified_secant.tex\n"
     ]
    },
    {
     "data": {
      "text/plain": [
       "          t             f\n",
       "0  0.300000  5.324873e-01\n",
       "1  0.142100 -1.399658e-01\n",
       "2  0.169589 -2.848999e-03\n",
       "3  0.170187  3.258035e-05\n",
       "4  0.170180 -3.969185e-07\n",
       "5  0.170180  4.832161e-09"
      ],
      "text/html": [
       "<div>\n",
       "<style scoped>\n",
       "    .dataframe tbody tr th:only-of-type {\n",
       "        vertical-align: middle;\n",
       "    }\n",
       "\n",
       "    .dataframe tbody tr th {\n",
       "        vertical-align: top;\n",
       "    }\n",
       "\n",
       "    .dataframe thead th {\n",
       "        text-align: right;\n",
       "    }\n",
       "</style>\n",
       "<table border=\"1\" class=\"dataframe\">\n",
       "  <thead>\n",
       "    <tr style=\"text-align: right;\">\n",
       "      <th></th>\n",
       "      <th>t</th>\n",
       "      <th>f</th>\n",
       "    </tr>\n",
       "  </thead>\n",
       "  <tbody>\n",
       "    <tr>\n",
       "      <th>0</th>\n",
       "      <td>0.300000</td>\n",
       "      <td>5.324873e-01</td>\n",
       "    </tr>\n",
       "    <tr>\n",
       "      <th>1</th>\n",
       "      <td>0.142100</td>\n",
       "      <td>-1.399658e-01</td>\n",
       "    </tr>\n",
       "    <tr>\n",
       "      <th>2</th>\n",
       "      <td>0.169589</td>\n",
       "      <td>-2.848999e-03</td>\n",
       "    </tr>\n",
       "    <tr>\n",
       "      <th>3</th>\n",
       "      <td>0.170187</td>\n",
       "      <td>3.258035e-05</td>\n",
       "    </tr>\n",
       "    <tr>\n",
       "      <th>4</th>\n",
       "      <td>0.170180</td>\n",
       "      <td>-3.969185e-07</td>\n",
       "    </tr>\n",
       "    <tr>\n",
       "      <th>5</th>\n",
       "      <td>0.170180</td>\n",
       "      <td>4.832161e-09</td>\n",
       "    </tr>\n",
       "  </tbody>\n",
       "</table>\n",
       "</div>"
      ]
     },
     "execution_count": 18,
     "metadata": {},
     "output_type": "execute_result"
    }
   ],
   "execution_count": 18
  },
  {
   "cell_type": "markdown",
   "id": "a8ca1a7418eb1f62",
   "metadata": {},
   "source": [
    "# Q6.11\n",
    "## (a) apply the Newton-Raphson method to the function $f(t)= \\tanh(t^2-9)$ to evaluate the real root at x=3. Use initial guess $t_0=3.2$ and take minimum of three iterations"
   ]
  },
  {
   "cell_type": "code",
   "id": "621a8af355e558e3",
   "metadata": {
    "ExecuteTime": {
     "end_time": "2025-03-07T19:03:54.023517Z",
     "start_time": "2025-03-07T19:03:53.908449Z"
    }
   },
   "source": [
    "newton_raphson_6_11_a = NewtonRaphsonMethod(\n",
    "    function=lambda t: sp.tanh(t**2 - 9),\n",
    "    absolute_tolerance=1e-6,\n",
    "    t0=3.2,\n",
    ")\n",
    "newton_raphson_6_11_a_df = newton_raphson_6_11_a.run().astype(float)"
   ],
   "outputs": [
    {
     "name": "stdout",
     "output_type": "stream",
     "text": [
      "2025-03-07 22:03:53,912 - NewtonRaphsonMethod - INFO - NewtonRaphsonMethod.py:__post_init__:32 - f(t) = tanh(t**2 - 9)\n",
      "2025-03-07 22:03:53,913 - NewtonRaphsonMethod - INFO - NewtonRaphsonMethod.py:__post_init__:35 - f'(t) = 2*t*(1 - tanh(t**2 - 9)**2)\n",
      "2025-03-07 22:03:53,915 - NewtonRaphsonMethod - INFO - Numerical.py:run:122 - Starting NewtonRaphsonMethod\n",
      "2025-03-07 22:03:53,919 - NewtonRaphsonMethod - INFO - Numerical.py:initialize:68 - Initial state:{'t': 3.2, 'f': 0.845455595726681, 'df_dt': 1.82531094818844}\n",
      "2025-03-07 22:03:53,921 - NewtonRaphsonMethod - INFO - Numerical.py:run:127 - Iteration 1 completed\n",
      "Stop condition [StopIfZero: Stop when 'f' equals 0 (abs_tol=1e-06) for 3 iterations] NOT met: Variable f:0.845456 != 0 (abs diff: 0.845456 > 1e-06)\n",
      "Stop condition [StopIfZero: Stop when 'df_dt' equals 0 (abs_tol=1e-06) for 0 iterations] NOT met: Variable df_dt:1.82531 != 0 (abs diff: 1.82531 > 1e-06)\n",
      "Stop condition [StopIfNaN: Stop if any of ['f', 't', 'df_dt'] is NaN] NOT met: No NaN values found\n",
      "2025-03-07 22:03:53,923 - NewtonRaphsonMethod - INFO - NewtonRaphsonMethod.py:step:62 - t_root = 2.737e+0\n",
      "2025-03-07 22:03:53,924 - NewtonRaphsonMethod - INFO - Numerical.py:run:132 - State: \n",
      "{'t': 2.73681557842746, 'f': -0.906910739924674, 'df_dt': 1.82531094818844}\n",
      "\n",
      "2025-03-07 22:03:53,927 - NewtonRaphsonMethod - INFO - Numerical.py:run:127 - Iteration 2 completed\n",
      "Stop condition [StopIfZero: Stop when 'f' equals 0 (abs_tol=1e-06) for 3 iterations] NOT met: Variable f:-0.906911 != 0 (abs diff: 0.906911 > 1e-06)\n",
      "Stop condition [StopIfZero: Stop when 'df_dt' equals 0 (abs_tol=1e-06) for 0 iterations] NOT met: Variable df_dt:1.82531 != 0 (abs diff: 1.82531 > 1e-06)\n",
      "Stop condition [StopIfNaN: Stop if any of ['f', 't', 'df_dt'] is NaN] NOT met: No NaN values found\n",
      "2025-03-07 22:03:53,931 - NewtonRaphsonMethod - INFO - NewtonRaphsonMethod.py:step:62 - t_root = 3.670e+0\n",
      "2025-03-07 22:03:53,933 - NewtonRaphsonMethod - INFO - Numerical.py:run:132 - State: \n",
      "{'t': 3.67019682967731, 'f': 0.999738132864365, 'df_dt': 0.971640193876057}\n",
      "\n",
      "2025-03-07 22:03:53,937 - NewtonRaphsonMethod - INFO - Numerical.py:run:127 - Iteration 3 completed\n",
      "Stop condition [StopIfZero: Stop when 'f' equals 0 (abs_tol=1e-06) for 3 iterations] NOT met: Variable f:0.999738 != 0 (abs diff: 0.999738 > 1e-06)\n",
      "Stop condition [StopIfZero: Stop when 'df_dt' equals 0 (abs_tol=1e-06) for 0 iterations] NOT met: Variable df_dt:0.971640 != 0 (abs diff: 0.97164 > 1e-06)\n",
      "Stop condition [StopIfNaN: Stop if any of ['f', 't', 'df_dt'] is NaN] NOT met: No NaN values found\n",
      "2025-03-07 22:03:53,944 - NewtonRaphsonMethod - INFO - NewtonRaphsonMethod.py:step:62 - t_root = -2.564e+2\n",
      "2025-03-07 22:03:53,946 - NewtonRaphsonMethod - INFO - Numerical.py:run:132 - State: \n",
      "{'t': -256.413290770314, 'f': 1.00000000000000, 'df_dt': 0.00384391236094912}\n",
      "\n",
      "2025-03-07 22:03:53,949 - NewtonRaphsonMethod - INFO - Numerical.py:run:127 - Iteration 4 completed\n",
      "Stop condition [StopIfZero: Stop when 'f' equals 0 (abs_tol=1e-06) for 3 iterations] NOT met: Variable f:1.00000 != 0 (abs diff: 1 > 1e-06)\n",
      "Stop condition [StopIfZero: Stop when 'df_dt' equals 0 (abs_tol=1e-06) for 0 iterations] NOT met: Variable df_dt:0.00384391 != 0 (abs diff: 0.00384391 > 1e-06)\n",
      "Stop condition [StopIfNaN: Stop if any of ['f', 't', 'df_dt'] is NaN] NOT met: No NaN values found\n",
      "2025-03-07 22:03:53,991 - NewtonRaphsonMethod - INFO - NewtonRaphsonMethod.py:step:62 - t_root = 5.954e+138\n",
      "2025-03-07 22:03:53,993 - NewtonRaphsonMethod - INFO - Numerical.py:run:132 - State: \n",
      "{'t': 5.95426282942961e+138, 'f': 1.00000000000000, 'df_dt': -0.e-139}\n",
      "\n",
      "2025-03-07 22:03:53,996 - NewtonRaphsonMethod - INFO - Numerical.py:run:127 - Stop condition [StopIfZero: Stop when 'df_dt' equals 0 (abs_tol=1e-06) for 0 iterations] MET    : Variable df_dt:-1.67947e-139 reached target 0 (abs diff: 1.67947e-139 ≤ 1e-06) for 0 iterations\n",
      "Stop condition [StopIfZero: Stop when 'f' equals 0 (abs_tol=1e-06) for 3 iterations] NOT met: Variable f:1.00000 != 0 (abs diff: 1 > 1e-06)\n",
      "Stop condition [StopIfNaN: Stop if any of ['f', 't', 'df_dt'] is NaN] NOT met: No NaN values found\n",
      "2025-03-07 22:03:54,018 - NewtonRaphsonMethod - INFO - NewtonRaphsonMethod.py:step:62 - t_root = 5.954e+138\n",
      "2025-03-07 22:03:54,021 - NewtonRaphsonMethod - INFO - Numerical.py:run:132 - State: \n",
      "{'t': 5.95426282942961e+138, 'f': 1.00000000000000, 'df_dt': 0.e-3}\n",
      "\n"
     ]
    }
   ],
   "execution_count": 19
  },
  {
   "cell_type": "code",
   "id": "44fdb69a3e9bc62e",
   "metadata": {
    "ExecuteTime": {
     "end_time": "2025-03-07T19:03:54.188457Z",
     "start_time": "2025-03-07T19:03:54.176698Z"
    }
   },
   "source": [
    "df_to_latex(\n",
    "    newton_raphson_6_11_a_df,\n",
    "    str(data_dir / 'Q6_11_newton_raphson.tex'),\n",
    "    formatting={\n",
    "        't': dict(header='$t$', format='0.6g'),\n",
    "        't_nm1': dict(header='$t_{n-1}$', format='0.6f'),\n",
    "        'f': dict(header='$f(t)$', format='0.6f'),\n",
    "        'f_nm1': dict(header='$f(t_{n-1})$', format='0.6f'),\n",
    "        'df_dt': dict(header=r'$\\frac{df}{dt}$', format='0.6f'),\n",
    "    },\n",
    "    label='tab:Q6_11_newton_raphson',\n",
    "    caption=r'Q6.11: Newton-Raphson method for finding the real root of $f(t)= \\tanh(t^2-9)$ with initial guess $t_0=3.2$'\n",
    ")\n",
    "\n",
    "newton_raphson_6_11_a_df"
   ],
   "outputs": [
    {
     "name": "stdout",
     "output_type": "stream",
     "text": [
      "2025-03-07 22:03:54,182 - utils.LaTeXTools - INFO - LaTeXTools.py:df_to_latex:85 - LaTeX table exported to /home/hhj/PycharmProjects/NumericalMethods/Examples/assginment2/data/Q6_11_newton_raphson.tex\n"
     ]
    },
    {
     "data": {
      "text/plain": [
       "               t         f          df_dt\n",
       "0   3.200000e+00  0.845456   1.825311e+00\n",
       "1   2.736816e+00 -0.906911   1.825311e+00\n",
       "2   3.670197e+00  0.999738   9.716402e-01\n",
       "3  -2.564133e+02  1.000000   3.843912e-03\n",
       "4  5.954263e+138  1.000000 -1.679469e-139\n",
       "5  5.954263e+138  1.000000   3.906250e-03"
      ],
      "text/html": [
       "<div>\n",
       "<style scoped>\n",
       "    .dataframe tbody tr th:only-of-type {\n",
       "        vertical-align: middle;\n",
       "    }\n",
       "\n",
       "    .dataframe tbody tr th {\n",
       "        vertical-align: top;\n",
       "    }\n",
       "\n",
       "    .dataframe thead th {\n",
       "        text-align: right;\n",
       "    }\n",
       "</style>\n",
       "<table border=\"1\" class=\"dataframe\">\n",
       "  <thead>\n",
       "    <tr style=\"text-align: right;\">\n",
       "      <th></th>\n",
       "      <th>t</th>\n",
       "      <th>f</th>\n",
       "      <th>df_dt</th>\n",
       "    </tr>\n",
       "  </thead>\n",
       "  <tbody>\n",
       "    <tr>\n",
       "      <th>0</th>\n",
       "      <td>3.200000e+00</td>\n",
       "      <td>0.845456</td>\n",
       "      <td>1.825311e+00</td>\n",
       "    </tr>\n",
       "    <tr>\n",
       "      <th>1</th>\n",
       "      <td>2.736816e+00</td>\n",
       "      <td>-0.906911</td>\n",
       "      <td>1.825311e+00</td>\n",
       "    </tr>\n",
       "    <tr>\n",
       "      <th>2</th>\n",
       "      <td>3.670197e+00</td>\n",
       "      <td>0.999738</td>\n",
       "      <td>9.716402e-01</td>\n",
       "    </tr>\n",
       "    <tr>\n",
       "      <th>3</th>\n",
       "      <td>-2.564133e+02</td>\n",
       "      <td>1.000000</td>\n",
       "      <td>3.843912e-03</td>\n",
       "    </tr>\n",
       "    <tr>\n",
       "      <th>4</th>\n",
       "      <td>5.954263e+138</td>\n",
       "      <td>1.000000</td>\n",
       "      <td>-1.679469e-139</td>\n",
       "    </tr>\n",
       "    <tr>\n",
       "      <th>5</th>\n",
       "      <td>5.954263e+138</td>\n",
       "      <td>1.000000</td>\n",
       "      <td>3.906250e-03</td>\n",
       "    </tr>\n",
       "  </tbody>\n",
       "</table>\n",
       "</div>"
      ]
     },
     "execution_count": 20,
     "metadata": {},
     "output_type": "execute_result"
    }
   ],
   "execution_count": 20
  },
  {
   "cell_type": "code",
   "id": "4710ed6d6d4636b",
   "metadata": {
    "ExecuteTime": {
     "end_time": "2025-03-07T19:03:54.985010Z",
     "start_time": "2025-03-07T19:03:54.265497Z"
    }
   },
   "source": [
    "# Create the figure and axes first\n",
    "fig, ax = plt.subplots(figsize=(10, 6))\n",
    "\n",
    "# Plot the function\n",
    "ax = newton_raphson_6_11_a.plot_function(t_min=2.5, t_max=3.75, ax=ax)\n",
    "#\n",
    "# # Plot step points and tangent lines\n",
    "ax = newton_raphson_6_11_a.plot_step_point(0, ax=ax, x_offset=0.05, y_offset=0.05)\n",
    "ax = newton_raphson_6_11_a.plot_tangent(0, ax=ax)\n",
    "ax = newton_raphson_6_11_a.plot_step_point(1, ax=ax, x_offset=0.05, y_offset=-0.05)\n",
    "ax = newton_raphson_6_11_a.plot_tangent(1, ax=ax)\n",
    "ax = newton_raphson_6_11_a.plot_step_point(2, ax=ax, x_offset=0.05, y_offset=0.05)\n",
    "\n",
    "\n",
    "# Adjust layout to prevent overlapping elements\n",
    "plt.tight_layout()\n",
    "\n",
    "# Save the figure\n",
    "\n",
    "plt.savefig( str(figures_dir / 'Q6_11_a.png'), dpi=300)\n",
    "\n",
    "# Show the plot\n",
    "plt.show()"
   ],
   "outputs": [
    {
     "data": {
      "text/plain": [
       "<Figure size 1000x600 with 1 Axes>"
      ],
      "image/png": "[encoded data removed]"
     },
     "metadata": {},
     "output_type": "display_data"
    }
   ],
   "execution_count": 21
  },
  {
   "cell_type": "markdown",
   "id": "d9fc28009011645c",
   "metadata": {},
   "source": [
    "# Q6.12 The polymonial $f(t)=0.0074t^4-0.284t^3+3.355t^2-12.183t+5$ has real root between 12 and 20. Apply Newton-Raphson Method to this function using initial guess $t_0=16.15$"
   ]
  },
  {
   "cell_type": "code",
   "id": "c7ae83992764f1fc",
   "metadata": {
    "ExecuteTime": {
     "end_time": "2025-03-07T19:03:55.081405Z",
     "start_time": "2025-03-07T19:03:55.012577Z"
    }
   },
   "source": [
    "function_6_12 = lambda t: 0.0074*t**4 - 0.284*t**3 + 3.355*t**2 - 12.183*t + 5\n",
    "newton_raphson_6_12 = NewtonRaphsonMethod(\n",
    "    function=function_6_12,\n",
    "    absolute_tolerance=1e-6,\n",
    "    t0=16.15,\n",
    ")\n",
    "newton_raphson_6_12_df = newton_raphson_6_12.run().astype(float)"
   ],
   "outputs": [
    {
     "name": "stdout",
     "output_type": "stream",
     "text": [
      "2025-03-07 22:03:55,016 - NewtonRaphsonMethod - INFO - NewtonRaphsonMethod.py:__post_init__:32 - f(t) = 0.0074*t**4 - 0.284*t**3 + 3.355*t**2 - 12.183*t + 5\n",
      "2025-03-07 22:03:55,025 - NewtonRaphsonMethod - INFO - NewtonRaphsonMethod.py:__post_init__:35 - f'(t) = 0.0296*t**3 - 0.852*t**2 + 6.71*t - 12.183\n",
      "2025-03-07 22:03:55,027 - NewtonRaphsonMethod - INFO - Numerical.py:run:122 - Starting NewtonRaphsonMethod\n",
      "2025-03-07 22:03:55,028 - NewtonRaphsonMethod - INFO - Numerical.py:initialize:68 - Initial state:{'t': 16.15, 'f': -9.574454853749984, 'df_dt': -1.35368209999996}\n",
      "2025-03-07 22:03:55,030 - NewtonRaphsonMethod - INFO - Numerical.py:run:127 - Iteration 1 completed\n",
      "Stop condition [StopIfZero: Stop when 'f' equals 0 (abs_tol=1e-06) for 3 iterations] NOT met: Variable f:-9.57445 != 0 (abs diff: 9.57445 > 1e-06)\n",
      "Stop condition [StopIfZero: Stop when 'df_dt' equals 0 (abs_tol=1e-06) for 0 iterations] NOT met: Variable df_dt:-1.35368 != 0 (abs diff: 1.35368 > 1e-06)\n",
      "Stop condition [StopIfNaN: Stop if any of ['f', 't', 'df_dt'] is NaN] NOT met: No NaN values found\n",
      "2025-03-07 22:03:55,031 - NewtonRaphsonMethod - INFO - NewtonRaphsonMethod.py:step:62 - t_root = 9.077e+0\n",
      "2025-03-07 22:03:55,032 - NewtonRaphsonMethod - INFO - Numerical.py:run:132 - State: \n",
      "{'t': 9.07710241662334, 'f': 8.67876317220427, 'df_dt': -1.35368209999996}\n",
      "\n",
      "2025-03-07 22:03:55,034 - NewtonRaphsonMethod - INFO - Numerical.py:run:127 - Iteration 2 completed\n",
      "Stop condition [StopIfZero: Stop when 'f' equals 0 (abs_tol=1e-06) for 3 iterations] NOT met: Variable f:8.67876 != 0 (abs diff: 8.67876 > 1e-06)\n",
      "Stop condition [StopIfZero: Stop when 'df_dt' equals 0 (abs_tol=1e-06) for 0 iterations] NOT met: Variable df_dt:-1.35368 != 0 (abs diff: 1.35368 > 1e-06)\n",
      "Stop condition [StopIfNaN: Stop if any of ['f', 't', 'df_dt'] is NaN] NOT met: No NaN values found\n",
      "2025-03-07 22:03:55,035 - NewtonRaphsonMethod - INFO - NewtonRaphsonMethod.py:step:62 - t_root = -4.021e+0\n",
      "2025-03-07 22:03:55,036 - NewtonRaphsonMethod - INFO - Numerical.py:run:132 - State: \n",
      "{'t': -4.02100960301926, 'f': 128.631763756434, 'df_dt': 0.662596499341978}\n",
      "\n",
      "2025-03-07 22:03:55,038 - NewtonRaphsonMethod - INFO - Numerical.py:run:127 - Iteration 3 completed\n",
      "Stop condition [StopIfZero: Stop when 'f' equals 0 (abs_tol=1e-06) for 3 iterations] NOT met: Variable f:128.632 != 0 (abs diff: 128.632 > 1e-06)\n",
      "Stop condition [StopIfZero: Stop when 'df_dt' equals 0 (abs_tol=1e-06) for 0 iterations] NOT met: Variable df_dt:0.662596 != 0 (abs diff: 0.662596 > 1e-06)\n",
      "Stop condition [StopIfNaN: Stop if any of ['f', 't', 'df_dt'] is NaN] NOT met: No NaN values found\n",
      "2025-03-07 22:03:55,039 - NewtonRaphsonMethod - INFO - NewtonRaphsonMethod.py:step:62 - t_root = -1.676e+0\n",
      "2025-03-07 22:03:55,040 - NewtonRaphsonMethod - INFO - Numerical.py:run:132 - State: \n",
      "{'t': -1.67645108051324, 'f': 36.2499504263302, 'df_dt': -54.8639594711176}\n",
      "\n",
      "2025-03-07 22:03:55,042 - NewtonRaphsonMethod - INFO - Numerical.py:run:127 - Iteration 4 completed\n",
      "Stop condition [StopIfZero: Stop when 'f' equals 0 (abs_tol=1e-06) for 3 iterations] NOT met: Variable f:36.2500 != 0 (abs diff: 36.25 > 1e-06)\n",
      "Stop condition [StopIfZero: Stop when 'df_dt' equals 0 (abs_tol=1e-06) for 0 iterations] NOT met: Variable df_dt:-54.8640 != 0 (abs diff: 54.864 > 1e-06)\n",
      "Stop condition [StopIfNaN: Stop if any of ['f', 't', 'df_dt'] is NaN] NOT met: No NaN values found\n",
      "2025-03-07 22:03:55,043 - NewtonRaphsonMethod - INFO - NewtonRaphsonMethod.py:step:62 - t_root = -2.804e-1\n",
      "2025-03-07 22:03:55,044 - NewtonRaphsonMethod - INFO - Numerical.py:run:132 - State: \n",
      "{'t': -0.280395933009481, 'f': 8.68614665156468, 'df_dt': -25.9659874405015}\n",
      "\n",
      "2025-03-07 22:03:55,046 - NewtonRaphsonMethod - INFO - Numerical.py:run:127 - Iteration 5 completed\n",
      "Stop condition [StopIfZero: Stop when 'f' equals 0 (abs_tol=1e-06) for 3 iterations] NOT met: Variable f:8.68615 != 0 (abs diff: 8.68615 > 1e-06)\n",
      "Stop condition [StopIfZero: Stop when 'df_dt' equals 0 (abs_tol=1e-06) for 0 iterations] NOT met: Variable df_dt:-25.9660 != 0 (abs diff: 25.966 > 1e-06)\n",
      "Stop condition [StopIfNaN: Stop if any of ['f', 't', 'df_dt'] is NaN] NOT met: No NaN values found\n",
      "2025-03-07 22:03:55,046 - NewtonRaphsonMethod - INFO - NewtonRaphsonMethod.py:step:62 - t_root = 3.342e-1\n",
      "2025-03-07 22:03:55,048 - NewtonRaphsonMethod - INFO - Numerical.py:run:132 - State: \n",
      "{'t': 0.334243764468497, 'f': 1.29221252574574, 'df_dt': -14.1320950911667}\n",
      "\n",
      "2025-03-07 22:03:55,050 - NewtonRaphsonMethod - INFO - Numerical.py:run:127 - Iteration 6 completed\n",
      "Stop condition [StopIfZero: Stop when 'f' equals 0 (abs_tol=1e-06) for 3 iterations] NOT met: Variable f:1.29221 != 0 (abs diff: 1.29221 > 1e-06)\n",
      "Stop condition [StopIfZero: Stop when 'df_dt' equals 0 (abs_tol=1e-06) for 0 iterations] NOT met: Variable df_dt:-14.1321 != 0 (abs diff: 14.1321 > 1e-06)\n",
      "Stop condition [StopIfNaN: Stop if any of ['f', 't', 'df_dt'] is NaN] NOT met: No NaN values found\n",
      "2025-03-07 22:03:55,050 - NewtonRaphsonMethod - INFO - NewtonRaphsonMethod.py:step:62 - t_root = 4.630e-1\n",
      "2025-03-07 22:03:55,051 - NewtonRaphsonMethod - INFO - Numerical.py:run:132 - State: \n",
      "{'t': 0.463023257864851, 'f': 0.0504159739588994, 'df_dt': -10.0343035344036}\n",
      "\n",
      "2025-03-07 22:03:55,054 - NewtonRaphsonMethod - INFO - Numerical.py:run:127 - Iteration 7 completed\n",
      "Stop condition [StopIfZero: Stop when 'f' equals 0 (abs_tol=1e-06) for 3 iterations] NOT met: Variable f:0.0504160 != 0 (abs diff: 0.050416 > 1e-06)\n",
      "Stop condition [StopIfZero: Stop when 'df_dt' equals 0 (abs_tol=1e-06) for 0 iterations] NOT met: Variable df_dt:-10.0343 != 0 (abs diff: 10.0343 > 1e-06)\n",
      "Stop condition [StopIfNaN: Stop if any of ['f', 't', 'df_dt'] is NaN] NOT met: No NaN values found\n",
      "2025-03-07 22:03:55,055 - NewtonRaphsonMethod - INFO - NewtonRaphsonMethod.py:step:62 - t_root = 4.685e-1\n",
      "2025-03-07 22:03:55,056 - NewtonRaphsonMethod - INFO - Numerical.py:run:132 - State: \n",
      "{'t': 0.468470196644855, 'f': 8.80743633304704e-5, 'df_dt': -9.25583635049732}\n",
      "\n",
      "2025-03-07 22:03:55,059 - NewtonRaphsonMethod - INFO - Numerical.py:run:127 - Iteration 8 completed\n",
      "Stop condition [StopIfZero: Stop when 'f' equals 0 (abs_tol=1e-06) for 3 iterations] NOT met: Variable f:0.0000880744 != 0 (abs diff: 8.80744e-05 > 1e-06)\n",
      "Stop condition [StopIfZero: Stop when 'df_dt' equals 0 (abs_tol=1e-06) for 0 iterations] NOT met: Variable df_dt:-9.25584 != 0 (abs diff: 9.25584 > 1e-06)\n",
      "Stop condition [StopIfNaN: Stop if any of ['f', 't', 'df_dt'] is NaN] NOT met: No NaN values found\n",
      "2025-03-07 22:03:55,060 - NewtonRaphsonMethod - INFO - NewtonRaphsonMethod.py:step:62 - t_root = 4.685e-1\n",
      "2025-03-07 22:03:55,062 - NewtonRaphsonMethod - INFO - Numerical.py:run:132 - State: \n",
      "{'t': 0.468479745548458, 'f': 2.70407696234543e-10, 'df_dt': -9.22350533566762}\n",
      "\n",
      "2025-03-07 22:03:55,064 - NewtonRaphsonMethod - INFO - Numerical.py:run:127 - Iteration 9 completed\n",
      "Stop condition [StopIfZero: Stop when 'f' equals 0 (abs_tol=1e-06) for 3 iterations] NOT met: Variable f:2.70408e-10 matches target 0 (abs diff: 2.70408e-10 ≤ 1e-06) (1/3 iterations)\n",
      "Stop condition [StopIfZero: Stop when 'df_dt' equals 0 (abs_tol=1e-06) for 0 iterations] NOT met: Variable df_dt:-9.22351 != 0 (abs diff: 9.22351 > 1e-06)\n",
      "Stop condition [StopIfNaN: Stop if any of ['f', 't', 'df_dt'] is NaN] NOT met: No NaN values found\n",
      "2025-03-07 22:03:55,065 - NewtonRaphsonMethod - INFO - NewtonRaphsonMethod.py:step:62 - t_root = 4.685e-1\n",
      "2025-03-07 22:03:55,067 - NewtonRaphsonMethod - INFO - Numerical.py:run:132 - State: \n",
      "{'t': 0.468479745577775, 'f': 0, 'df_dt': -9.22344869913916}\n",
      "\n",
      "2025-03-07 22:03:55,070 - NewtonRaphsonMethod - INFO - Numerical.py:run:127 - Iteration 10 completed\n",
      "Stop condition [StopIfZero: Stop when 'f' equals 0 (abs_tol=1e-06) for 3 iterations] NOT met: Variable f:0 matches target 0 (abs diff: 0 ≤ 1e-06) (2/3 iterations)\n",
      "Stop condition [StopIfZero: Stop when 'df_dt' equals 0 (abs_tol=1e-06) for 0 iterations] NOT met: Variable df_dt:-9.22345 != 0 (abs diff: 9.22345 > 1e-06)\n",
      "Stop condition [StopIfNaN: Stop if any of ['f', 't', 'df_dt'] is NaN] NOT met: No NaN values found\n",
      "2025-03-07 22:03:55,071 - NewtonRaphsonMethod - INFO - NewtonRaphsonMethod.py:step:62 - t_root = 4.685e-1\n",
      "2025-03-07 22:03:55,071 - NewtonRaphsonMethod - INFO - Numerical.py:run:132 - State: \n",
      "{'t': 0.468479745577775, 'f': 0, 'df_dt': -9.22344869896527}\n",
      "\n",
      "2025-03-07 22:03:55,073 - NewtonRaphsonMethod - INFO - Numerical.py:run:127 - Stop condition [StopIfZero: Stop when 'f' equals 0 (abs_tol=1e-06) for 3 iterations] MET    : Variable f:0 reached target 0 (abs diff: 0 ≤ 1e-06) for 3 iterations\n",
      "Stop condition [StopIfZero: Stop when 'df_dt' equals 0 (abs_tol=1e-06) for 0 iterations] NOT met: Variable df_dt:-9.22345 != 0 (abs diff: 9.22345 > 1e-06)\n",
      "Stop condition [StopIfNaN: Stop if any of ['f', 't', 'df_dt'] is NaN] NOT met: No NaN values found\n",
      "2025-03-07 22:03:55,078 - NewtonRaphsonMethod - INFO - NewtonRaphsonMethod.py:step:62 - t_root = 4.685e-1\n",
      "2025-03-07 22:03:55,079 - NewtonRaphsonMethod - INFO - Numerical.py:run:132 - State: \n",
      "{'t': 0.468479745577775, 'f': 0, 'df_dt': -9.22344869896527}\n",
      "\n"
     ]
    }
   ],
   "execution_count": 22
  },
  {
   "cell_type": "code",
   "id": "9c4419091b451da8",
   "metadata": {
    "ExecuteTime": {
     "end_time": "2025-03-07T19:03:55.131938Z",
     "start_time": "2025-03-07T19:03:55.118642Z"
    }
   },
   "source": [
    "df_to_latex(\n",
    "    newton_raphson_6_12_df,\n",
    "    str(data_dir / 'Q6_12_newton_raphson.tex'),\n",
    "    formatting={\n",
    "        't': dict(header='$t$', format='0.6f'),\n",
    "        'f': dict(header='$f(t)$', format='0.6f'),\n",
    "        'df_dt': dict(header=r'$\\frac{df}{dt}$', format='0.6f'),\n",
    "    },\n",
    "    label='tab:Q6_12_newton_raphson',\n",
    "    caption=r'Q6.12: Newton-Raphson method for finding the real root of $f(t)=0.0074t^4-0.284t^3+3.355t^2-12.183t+5$ with initial guess $t_0=16.15$'\n",
    ")\n",
    "\n",
    "newton_raphson_6_12_df"
   ],
   "outputs": [
    {
     "name": "stdout",
     "output_type": "stream",
     "text": [
      "2025-03-07 22:03:55,125 - utils.LaTeXTools - INFO - LaTeXTools.py:df_to_latex:85 - LaTeX table exported to /home/hhj/PycharmProjects/NumericalMethods/Examples/assginment2/data/Q6_12_newton_raphson.tex\n"
     ]
    },
    {
     "data": {
      "text/plain": [
       "            t             f      df_dt\n",
       "0   16.150000 -9.574455e+00  -1.353682\n",
       "1    9.077102  8.678763e+00  -1.353682\n",
       "2   -4.021010  1.286318e+02   0.662596\n",
       "3   -1.676451  3.624995e+01 -54.863959\n",
       "4   -0.280396  8.686147e+00 -25.965987\n",
       "5    0.334244  1.292213e+00 -14.132095\n",
       "6    0.463023  5.041597e-02 -10.034304\n",
       "7    0.468470  8.807436e-05  -9.255836\n",
       "8    0.468480  2.704077e-10  -9.223505\n",
       "9    0.468480  0.000000e+00  -9.223449\n",
       "10   0.468480  0.000000e+00  -9.223449\n",
       "11   0.468480  0.000000e+00  -9.223449"
      ],
      "text/html": [
       "<div>\n",
       "<style scoped>\n",
       "    .dataframe tbody tr th:only-of-type {\n",
       "        vertical-align: middle;\n",
       "    }\n",
       "\n",
       "    .dataframe tbody tr th {\n",
       "        vertical-align: top;\n",
       "    }\n",
       "\n",
       "    .dataframe thead th {\n",
       "        text-align: right;\n",
       "    }\n",
       "</style>\n",
       "<table border=\"1\" class=\"dataframe\">\n",
       "  <thead>\n",
       "    <tr style=\"text-align: right;\">\n",
       "      <th></th>\n",
       "      <th>t</th>\n",
       "      <th>f</th>\n",
       "      <th>df_dt</th>\n",
       "    </tr>\n",
       "  </thead>\n",
       "  <tbody>\n",
       "    <tr>\n",
       "      <th>0</th>\n",
       "      <td>16.150000</td>\n",
       "      <td>-9.574455e+00</td>\n",
       "      <td>-1.353682</td>\n",
       "    </tr>\n",
       "    <tr>\n",
       "      <th>1</th>\n",
       "      <td>9.077102</td>\n",
       "      <td>8.678763e+00</td>\n",
       "      <td>-1.353682</td>\n",
       "    </tr>\n",
       "    <tr>\n",
       "      <th>2</th>\n",
       "      <td>-4.021010</td>\n",
       "      <td>1.286318e+02</td>\n",
       "      <td>0.662596</td>\n",
       "    </tr>\n",
       "    <tr>\n",
       "      <th>3</th>\n",
       "      <td>-1.676451</td>\n",
       "      <td>3.624995e+01</td>\n",
       "      <td>-54.863959</td>\n",
       "    </tr>\n",
       "    <tr>\n",
       "      <th>4</th>\n",
       "      <td>-0.280396</td>\n",
       "      <td>8.686147e+00</td>\n",
       "      <td>-25.965987</td>\n",
       "    </tr>\n",
       "    <tr>\n",
       "      <th>5</th>\n",
       "      <td>0.334244</td>\n",
       "      <td>1.292213e+00</td>\n",
       "      <td>-14.132095</td>\n",
       "    </tr>\n",
       "    <tr>\n",
       "      <th>6</th>\n",
       "      <td>0.463023</td>\n",
       "      <td>5.041597e-02</td>\n",
       "      <td>-10.034304</td>\n",
       "    </tr>\n",
       "    <tr>\n",
       "      <th>7</th>\n",
       "      <td>0.468470</td>\n",
       "      <td>8.807436e-05</td>\n",
       "      <td>-9.255836</td>\n",
       "    </tr>\n",
       "    <tr>\n",
       "      <th>8</th>\n",
       "      <td>0.468480</td>\n",
       "      <td>2.704077e-10</td>\n",
       "      <td>-9.223505</td>\n",
       "    </tr>\n",
       "    <tr>\n",
       "      <th>9</th>\n",
       "      <td>0.468480</td>\n",
       "      <td>0.000000e+00</td>\n",
       "      <td>-9.223449</td>\n",
       "    </tr>\n",
       "    <tr>\n",
       "      <th>10</th>\n",
       "      <td>0.468480</td>\n",
       "      <td>0.000000e+00</td>\n",
       "      <td>-9.223449</td>\n",
       "    </tr>\n",
       "    <tr>\n",
       "      <th>11</th>\n",
       "      <td>0.468480</td>\n",
       "      <td>0.000000e+00</td>\n",
       "      <td>-9.223449</td>\n",
       "    </tr>\n",
       "  </tbody>\n",
       "</table>\n",
       "</div>"
      ]
     },
     "execution_count": 23,
     "metadata": {},
     "output_type": "execute_result"
    }
   ],
   "execution_count": 23
  },
  {
   "cell_type": "code",
   "id": "7ce288f73b390fd5",
   "metadata": {
    "ExecuteTime": {
     "end_time": "2025-03-07T19:03:56.094762Z",
     "start_time": "2025-03-07T19:03:55.300001Z"
    }
   },
   "source": [
    "fig, ax = plt.subplots(figsize=(10, 6))\n",
    "ax = newton_raphson_6_12.plot_function(t_min=-4.1, t_max=20, ax=ax)\n",
    "ax = newton_raphson_6_12.plot_step_point(0, ax=ax, x_offset=0.05, y_offset=0.05)\n",
    "ax = newton_raphson_6_12.plot_tangent(0, ax=ax)\n",
    "\n",
    "ax = newton_raphson_6_12.plot_step_point(1, ax=ax, x_offset=1, y_offset=1)\n",
    "ax = newton_raphson_6_12.plot_tangent(1, ax=ax)\n",
    "ax = newton_raphson_6_12.plot_step_point(2, ax=ax, x_offset=1, y_offset=1)\n",
    "\n",
    "plt.savefig(str(figures_dir / 'Q6_12_a.png'), dpi=300)"
   ],
   "outputs": [
    {
     "data": {
      "text/plain": [
       "<Figure size 1000x600 with 1 Axes>"
      ],
      "image/png": "[encoded data removed]"
     },
     "metadata": {},
     "output_type": "display_data"
    }
   ],
   "execution_count": 24
  },
  {
   "metadata": {
    "ExecuteTime": {
     "end_time": "2025-03-07T19:03:56.199599Z",
     "start_time": "2025-03-07T19:03:56.138545Z"
    }
   },
   "cell_type": "code",
   "source": [
    "newton_raphson_6_12b = NewtonRaphsonMethod(\n",
    "    function=function_6_12,\n",
    "    absolute_tolerance=1e-6,\n",
    "    t0=20,\n",
    ")\n",
    "newton_raphson_6_12b_df = newton_raphson_6_12b.run().astype(float)"
   ],
   "id": "a3eff10c4ded0f7f",
   "outputs": [
    {
     "name": "stdout",
     "output_type": "stream",
     "text": [
      "2025-03-07 22:03:56,141 - NewtonRaphsonMethod - INFO - NewtonRaphsonMethod.py:__post_init__:32 - f(t) = 0.0074*t**4 - 0.284*t**3 + 3.355*t**2 - 12.183*t + 5\n",
      "2025-03-07 22:03:56,142 - NewtonRaphsonMethod - INFO - NewtonRaphsonMethod.py:__post_init__:35 - f'(t) = 0.0296*t**3 - 0.852*t**2 + 6.71*t - 12.183\n",
      "2025-03-07 22:03:56,144 - NewtonRaphsonMethod - INFO - Numerical.py:run:122 - Starting NewtonRaphsonMethod\n",
      "2025-03-07 22:03:56,148 - NewtonRaphsonMethod - INFO - Numerical.py:initialize:68 - Initial state:{'t': 20, 'f': 15.340000000000003, 'df_dt': 18.0170000000001}\n",
      "2025-03-07 22:03:56,151 - NewtonRaphsonMethod - INFO - Numerical.py:run:127 - Iteration 1 completed\n",
      "Stop condition [StopIfZero: Stop when 'f' equals 0 (abs_tol=1e-06) for 3 iterations] NOT met: Variable f:15.34 != 0 (abs diff: 15.34 > 1e-06)\n",
      "Stop condition [StopIfZero: Stop when 'df_dt' equals 0 (abs_tol=1e-06) for 0 iterations] NOT met: Variable df_dt:18.0170 != 0 (abs diff: 18.017 > 1e-06)\n",
      "Stop condition [StopIfNaN: Stop if any of ['f', 't', 'df_dt'] is NaN] NOT met: No NaN values found\n",
      "2025-03-07 22:03:56,153 - NewtonRaphsonMethod - INFO - NewtonRaphsonMethod.py:step:62 - t_root = 1.915e+1\n",
      "2025-03-07 22:03:56,154 - NewtonRaphsonMethod - INFO - Numerical.py:run:132 - State: \n",
      "{'t': 19.1485818948771, 'f': 2.76780951431061, 'df_dt': 18.0170000000001}\n",
      "\n",
      "2025-03-07 22:03:56,157 - NewtonRaphsonMethod - INFO - Numerical.py:run:127 - Iteration 2 completed\n",
      "Stop condition [StopIfZero: Stop when 'f' equals 0 (abs_tol=1e-06) for 3 iterations] NOT met: Variable f:2.76781 != 0 (abs diff: 2.76781 > 1e-06)\n",
      "Stop condition [StopIfZero: Stop when 'df_dt' equals 0 (abs_tol=1e-06) for 0 iterations] NOT met: Variable df_dt:18.0170 != 0 (abs diff: 18.017 > 1e-06)\n",
      "Stop condition [StopIfNaN: Stop if any of ['f', 't', 'df_dt'] is NaN] NOT met: No NaN values found\n",
      "2025-03-07 22:03:56,159 - NewtonRaphsonMethod - INFO - NewtonRaphsonMethod.py:step:62 - t_root = 1.891e+1\n",
      "2025-03-07 22:03:56,161 - NewtonRaphsonMethod - INFO - Numerical.py:run:132 - State: \n",
      "{'t': 18.9126117977472, 'f': 0.181197544013855, 'df_dt': 11.7294926262949}\n",
      "\n",
      "2025-03-07 22:03:56,167 - NewtonRaphsonMethod - INFO - Numerical.py:run:127 - Iteration 3 completed\n",
      "Stop condition [StopIfZero: Stop when 'f' equals 0 (abs_tol=1e-06) for 3 iterations] NOT met: Variable f:0.181198 != 0 (abs diff: 0.181198 > 1e-06)\n",
      "Stop condition [StopIfZero: Stop when 'df_dt' equals 0 (abs_tol=1e-06) for 0 iterations] NOT met: Variable df_dt:11.7295 != 0 (abs diff: 11.7295 > 1e-06)\n",
      "Stop condition [StopIfNaN: Stop if any of ['f', 't', 'df_dt'] is NaN] NOT met: No NaN values found\n",
      "2025-03-07 22:03:56,169 - NewtonRaphsonMethod - INFO - NewtonRaphsonMethod.py:step:62 - t_root = 1.889e+1\n",
      "2025-03-07 22:03:56,171 - NewtonRaphsonMethod - INFO - Numerical.py:run:132 - State: \n",
      "{'t': 18.8948634764745, 'f': 0.000982134825108005, 'df_dt': 10.2092778933471}\n",
      "\n",
      "2025-03-07 22:03:56,175 - NewtonRaphsonMethod - INFO - Numerical.py:run:127 - Iteration 4 completed\n",
      "Stop condition [StopIfZero: Stop when 'f' equals 0 (abs_tol=1e-06) for 3 iterations] NOT met: Variable f:0.000982135 != 0 (abs diff: 0.000982135 > 1e-06)\n",
      "Stop condition [StopIfZero: Stop when 'df_dt' equals 0 (abs_tol=1e-06) for 0 iterations] NOT met: Variable df_dt:10.2093 != 0 (abs diff: 10.2093 > 1e-06)\n",
      "Stop condition [StopIfNaN: Stop if any of ['f', 't', 'df_dt'] is NaN] NOT met: No NaN values found\n",
      "2025-03-07 22:03:56,177 - NewtonRaphsonMethod - INFO - NewtonRaphsonMethod.py:step:62 - t_root = 1.889e+1\n",
      "2025-03-07 22:03:56,179 - NewtonRaphsonMethod - INFO - Numerical.py:run:132 - State: \n",
      "{'t': 18.8947662227996, 'f': 2.93966593289952e-8, 'df_dt': 10.0986911466212}\n",
      "\n",
      "2025-03-07 22:03:56,183 - NewtonRaphsonMethod - INFO - Numerical.py:run:127 - Iteration 5 completed\n",
      "Stop condition [StopIfZero: Stop when 'f' equals 0 (abs_tol=1e-06) for 3 iterations] NOT met: Variable f:2.93967e-08 matches target 0 (abs diff: 2.93967e-08 ≤ 1e-06) (1/3 iterations)\n",
      "Stop condition [StopIfZero: Stop when 'df_dt' equals 0 (abs_tol=1e-06) for 0 iterations] NOT met: Variable df_dt:10.0987 != 0 (abs diff: 10.0987 > 1e-06)\n",
      "Stop condition [StopIfNaN: Stop if any of ['f', 't', 'df_dt'] is NaN] NOT met: No NaN values found\n",
      "2025-03-07 22:03:56,184 - NewtonRaphsonMethod - INFO - NewtonRaphsonMethod.py:step:62 - t_root = 1.889e+1\n",
      "2025-03-07 22:03:56,186 - NewtonRaphsonMethod - INFO - Numerical.py:run:132 - State: \n",
      "{'t': 18.8947662198885, 'f': 2.84217094304040e-13, 'df_dt': 10.0980866098813}\n",
      "\n",
      "2025-03-07 22:03:56,189 - NewtonRaphsonMethod - INFO - Numerical.py:run:127 - Iteration 6 completed\n",
      "Stop condition [StopIfZero: Stop when 'f' equals 0 (abs_tol=1e-06) for 3 iterations] NOT met: Variable f:2.84217e-13 matches target 0 (abs diff: 2.84217e-13 ≤ 1e-06) (2/3 iterations)\n",
      "Stop condition [StopIfZero: Stop when 'df_dt' equals 0 (abs_tol=1e-06) for 0 iterations] NOT met: Variable df_dt:10.0981 != 0 (abs diff: 10.0981 > 1e-06)\n",
      "Stop condition [StopIfNaN: Stop if any of ['f', 't', 'df_dt'] is NaN] NOT met: No NaN values found\n",
      "2025-03-07 22:03:56,190 - NewtonRaphsonMethod - INFO - NewtonRaphsonMethod.py:step:62 - t_root = 1.889e+1\n",
      "2025-03-07 22:03:56,192 - NewtonRaphsonMethod - INFO - Numerical.py:run:132 - State: \n",
      "{'t': 18.8947662198885, 'f': -2.84217094304040e-13, 'df_dt': 10.0980865917859}\n",
      "\n",
      "2025-03-07 22:03:56,195 - NewtonRaphsonMethod - INFO - Numerical.py:run:127 - Stop condition [StopIfZero: Stop when 'f' equals 0 (abs_tol=1e-06) for 3 iterations] MET    : Variable f:-2.84217e-13 reached target 0 (abs diff: 2.84217e-13 ≤ 1e-06) for 3 iterations\n",
      "Stop condition [StopIfZero: Stop when 'df_dt' equals 0 (abs_tol=1e-06) for 0 iterations] NOT met: Variable df_dt:10.0981 != 0 (abs diff: 10.0981 > 1e-06)\n",
      "Stop condition [StopIfNaN: Stop if any of ['f', 't', 'df_dt'] is NaN] NOT met: No NaN values found\n",
      "2025-03-07 22:03:56,196 - NewtonRaphsonMethod - INFO - NewtonRaphsonMethod.py:step:62 - t_root = 1.889e+1\n",
      "2025-03-07 22:03:56,197 - NewtonRaphsonMethod - INFO - Numerical.py:run:132 - State: \n",
      "{'t': 18.8947662198885, 'f': 2.84217094304040e-13, 'df_dt': 10.0980865917857}\n",
      "\n"
     ]
    }
   ],
   "execution_count": 25
  },
  {
   "metadata": {
    "ExecuteTime": {
     "end_time": "2025-03-07T19:03:56.292365Z",
     "start_time": "2025-03-07T19:03:56.277893Z"
    }
   },
   "cell_type": "code",
   "source": [
    "df_to_latex(\n",
    "    newton_raphson_6_12b_df,\n",
    "    str(data_dir / 'Q6_12_newton_raphson_b.tex'),\n",
    "    formatting={\n",
    "        't': dict(header='$t$', format='0.6f'),\n",
    "        'f': dict(header='$f(t)$', format='0.6f'),\n",
    "        'df_dt': dict(header=r'$\\frac{df}{dt}$', format='0.6f'),\n",
    "    },\n",
    "    label='tab:Q6_12_newton_raphson_b',\n",
    "    caption=r'Q6.12: Newton-Raphson method for finding the real root of $f(t)=0.0074t^4-0.284t^3+3.355t^2-12.183t+5$ with initial guess $t_0=20$'\n",
    ")\n",
    "\n",
    "newton_raphson_6_12b_df"
   ],
   "id": "42315a5612195888",
   "outputs": [
    {
     "name": "stdout",
     "output_type": "stream",
     "text": [
      "2025-03-07 22:03:56,284 - utils.LaTeXTools - INFO - LaTeXTools.py:df_to_latex:85 - LaTeX table exported to /home/hhj/PycharmProjects/NumericalMethods/Examples/assginment2/data/Q6_12_newton_raphson_b.tex\n"
     ]
    },
    {
     "data": {
      "text/plain": [
       "           t             f      df_dt\n",
       "0  20.000000  1.534000e+01  18.017000\n",
       "1  19.148582  2.767810e+00  18.017000\n",
       "2  18.912612  1.811975e-01  11.729493\n",
       "3  18.894863  9.821348e-04  10.209278\n",
       "4  18.894766  2.939666e-08  10.098691\n",
       "5  18.894766  2.842171e-13  10.098087\n",
       "6  18.894766 -2.842171e-13  10.098087\n",
       "7  18.894766  2.842171e-13  10.098087"
      ],
      "text/html": [
       "<div>\n",
       "<style scoped>\n",
       "    .dataframe tbody tr th:only-of-type {\n",
       "        vertical-align: middle;\n",
       "    }\n",
       "\n",
       "    .dataframe tbody tr th {\n",
       "        vertical-align: top;\n",
       "    }\n",
       "\n",
       "    .dataframe thead th {\n",
       "        text-align: right;\n",
       "    }\n",
       "</style>\n",
       "<table border=\"1\" class=\"dataframe\">\n",
       "  <thead>\n",
       "    <tr style=\"text-align: right;\">\n",
       "      <th></th>\n",
       "      <th>t</th>\n",
       "      <th>f</th>\n",
       "      <th>df_dt</th>\n",
       "    </tr>\n",
       "  </thead>\n",
       "  <tbody>\n",
       "    <tr>\n",
       "      <th>0</th>\n",
       "      <td>20.000000</td>\n",
       "      <td>1.534000e+01</td>\n",
       "      <td>18.017000</td>\n",
       "    </tr>\n",
       "    <tr>\n",
       "      <th>1</th>\n",
       "      <td>19.148582</td>\n",
       "      <td>2.767810e+00</td>\n",
       "      <td>18.017000</td>\n",
       "    </tr>\n",
       "    <tr>\n",
       "      <th>2</th>\n",
       "      <td>18.912612</td>\n",
       "      <td>1.811975e-01</td>\n",
       "      <td>11.729493</td>\n",
       "    </tr>\n",
       "    <tr>\n",
       "      <th>3</th>\n",
       "      <td>18.894863</td>\n",
       "      <td>9.821348e-04</td>\n",
       "      <td>10.209278</td>\n",
       "    </tr>\n",
       "    <tr>\n",
       "      <th>4</th>\n",
       "      <td>18.894766</td>\n",
       "      <td>2.939666e-08</td>\n",
       "      <td>10.098691</td>\n",
       "    </tr>\n",
       "    <tr>\n",
       "      <th>5</th>\n",
       "      <td>18.894766</td>\n",
       "      <td>2.842171e-13</td>\n",
       "      <td>10.098087</td>\n",
       "    </tr>\n",
       "    <tr>\n",
       "      <th>6</th>\n",
       "      <td>18.894766</td>\n",
       "      <td>-2.842171e-13</td>\n",
       "      <td>10.098087</td>\n",
       "    </tr>\n",
       "    <tr>\n",
       "      <th>7</th>\n",
       "      <td>18.894766</td>\n",
       "      <td>2.842171e-13</td>\n",
       "      <td>10.098087</td>\n",
       "    </tr>\n",
       "  </tbody>\n",
       "</table>\n",
       "</div>"
      ]
     },
     "execution_count": 26,
     "metadata": {},
     "output_type": "execute_result"
    }
   ],
   "execution_count": 26
  },
  {
   "metadata": {
    "ExecuteTime": {
     "end_time": "2025-03-07T19:19:16.936584Z",
     "start_time": "2025-03-07T19:19:16.263371Z"
    }
   },
   "cell_type": "code",
   "source": [
    "fig, ax = plt.subplots(figsize=(10, 6))\n",
    "ax = newton_raphson_6_12b.plot_function(t_min=18.75, t_max=20, ax=ax)\n",
    "ax = newton_raphson_6_12b.plot_step_point(0, ax=ax, x_offset=0.05, y_offset=0.05)\n",
    "ax = newton_raphson_6_12b.plot_tangent(0, ax=ax)\n",
    "ax = newton_raphson_6_12b.plot_step_point(1, ax=ax, x_offset=0.1, y_offset=0.1)\n",
    "ax = newton_raphson_6_12b.plot_tangent(1, ax=ax)\n",
    "ax = newton_raphson_6_12b.plot_step_point(2, ax=ax, x_offset=0.1, y_offset=0.1)\n",
    "\n",
    "plt.tight_layout()\n",
    "plt.savefig(str(figures_dir / 'Q6_12_b.png'), dpi=300)"
   ],
   "id": "2dfac519cd24e3ca",
   "outputs": [
    {
     "data": {
      "text/plain": [
       "<Figure size 1000x600 with 1 Axes>"
      ],
      "image/png": "[encoded data removed]"
     },
     "metadata": {},
     "output_type": "display_data"
    }
   ],
   "execution_count": 28
  },
  {
   "metadata": {
    "ExecuteTime": {
     "end_time": "2025-03-07T19:03:57.204746Z",
     "start_time": "2025-03-07T19:03:57.202685Z"
    }
   },
   "cell_type": "code",
   "source": "",
   "id": "cdcf4aad7af6ed49",
   "outputs": [],
   "execution_count": null
  }
 ],
 "metadata": {
  "kernelspec": {
   "display_name": "Python 3 (ipykernel)",
   "language": "python",
   "name": "python3"
  },
  "language_info": {
   "codemirror_mode": {
    "name": "ipython",
    "version": 3
   },
   "file_extension": ".py",
   "mimetype": "text/x-python",
   "name": "python",
   "nbconvert_exporter": "python",
   "pygments_lexer": "ipython3",
   "version": "3.12.9"
  }
 },
 "nbformat": 4,
 "nbformat_minor": 5
}
